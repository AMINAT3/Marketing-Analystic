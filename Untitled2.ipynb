{
 "cells": [
  {
   "cell_type": "code",
   "execution_count": 71,
   "id": "0bbb012a-d7ae-41d6-8c3d-88142a80d0d5",
   "metadata": {},
   "outputs": [],
   "source": [
    "# Import packages into the workspace for this program\n",
    "\n",
    "# future__ module is a built-in module in Python that is used to inherit new features that will be available in the new Python versions.. This module \n",
    "# includes all the latest functions which were not present in the previous version in Python.\n",
    "from __future__ import division,print_function\n",
    "\n",
    "import numpy as np\n",
    "import pandas as pd\n",
    "import statsmodels.api as sm"
   ]
  },
  {
   "cell_type": "code",
   "execution_count": 72,
   "id": "b30572b2-8bf3-4103-a763-d21859a7df8e",
   "metadata": {},
   "outputs": [],
   "source": [
    "# load our dataset\n",
    "dataset = pd.read_csv(r\"C:\\Users\\Zachary_B\\Desktop\\dataset\\DatasetNexusTech_ Customer Data.csv\")"
   ]
  },
  {
   "cell_type": "code",
   "execution_count": 73,
   "id": "6b28a87b-9cf7-4fd8-8844-dd8670d0b059",
   "metadata": {},
   "outputs": [],
   "source": [
    "# Use df.columns command to drop columns via indexing\n",
    "dataset = dataset.drop(dataset.columns[[0,3,9,12,13,14,15,16,17,23,24,25,27,28,29,30]], axis=1)"
   ]
  },
  {
   "cell_type": "code",
   "execution_count": 74,
   "id": "727d130f-ea18-4e63-b233-ec9bcff2f918",
   "metadata": {},
   "outputs": [
    {
     "data": {
      "text/plain": [
       "Index(['First Name', 'Last Name', 'Gender', 'Marital Status', 'Converted',\n",
       "       'Sponsored/Self Sponsored', 'Location', 'Employment Status',\n",
       "       'Personal Interests', 'Date of Birth', 'Education', 'Profession',\n",
       "       'Programme of Interest', 'Level of IT Experience',\n",
       "       'Employment Preferences'],\n",
       "      dtype='object')"
      ]
     },
     "execution_count": 74,
     "metadata": {},
     "output_type": "execute_result"
    }
   ],
   "source": [
    "dataset.columns"
   ]
  },
  {
   "cell_type": "code",
   "execution_count": 75,
   "id": "ab9b201f-0616-493a-9c61-2c708ef18940",
   "metadata": {},
   "outputs": [
    {
     "data": {
      "text/html": [
       "<div>\n",
       "<style scoped>\n",
       "    .dataframe tbody tr th:only-of-type {\n",
       "        vertical-align: middle;\n",
       "    }\n",
       "\n",
       "    .dataframe tbody tr th {\n",
       "        vertical-align: top;\n",
       "    }\n",
       "\n",
       "    .dataframe thead th {\n",
       "        text-align: right;\n",
       "    }\n",
       "</style>\n",
       "<table border=\"1\" class=\"dataframe\">\n",
       "  <thead>\n",
       "    <tr style=\"text-align: right;\">\n",
       "      <th></th>\n",
       "      <th>First Name</th>\n",
       "      <th>Last Name</th>\n",
       "      <th>Gender</th>\n",
       "      <th>Marital Status</th>\n",
       "      <th>Converted</th>\n",
       "      <th>Sponsored/Self Sponsored</th>\n",
       "      <th>Location</th>\n",
       "      <th>Employment Status</th>\n",
       "      <th>Personal Interests</th>\n",
       "      <th>Date of Birth</th>\n",
       "      <th>Education</th>\n",
       "      <th>Profession</th>\n",
       "      <th>Programme of Interest</th>\n",
       "      <th>Level of IT Experience</th>\n",
       "      <th>Employment Preferences</th>\n",
       "    </tr>\n",
       "  </thead>\n",
       "  <tbody>\n",
       "    <tr>\n",
       "      <th>0</th>\n",
       "      <td>Miracle</td>\n",
       "      <td>Obiekwe</td>\n",
       "      <td>Male</td>\n",
       "      <td>Single</td>\n",
       "      <td>NO</td>\n",
       "      <td>NaN</td>\n",
       "      <td>Enugu State</td>\n",
       "      <td>Self employed / Business Owner</td>\n",
       "      <td>&lt;p&gt;Data science&lt;/p&gt;\\n</td>\n",
       "      <td>22/06/1995</td>\n",
       "      <td>Bachelor&amp;#039;s Degree</td>\n",
       "      <td>Computer science</td>\n",
       "      <td>Data Science</td>\n",
       "      <td>Intermediate ( 2 - 5 years )</td>\n",
       "      <td>Foreign Employment</td>\n",
       "    </tr>\n",
       "    <tr>\n",
       "      <th>1</th>\n",
       "      <td>Ibilola</td>\n",
       "      <td>Shobanke</td>\n",
       "      <td>Female</td>\n",
       "      <td>Married</td>\n",
       "      <td>NO</td>\n",
       "      <td>NaN</td>\n",
       "      <td>Oyo State</td>\n",
       "      <td>Employed</td>\n",
       "      <td>&lt;p&gt;Technology, Business &lt;/p&gt;\\n</td>\n",
       "      <td>09/07/1984</td>\n",
       "      <td>Masters</td>\n",
       "      <td>Lecturing</td>\n",
       "      <td>Data Analytics</td>\n",
       "      <td>Beginner ( 0 - 2 years )</td>\n",
       "      <td>Foreign Employment</td>\n",
       "    </tr>\n",
       "    <tr>\n",
       "      <th>2</th>\n",
       "      <td>Damilola</td>\n",
       "      <td>Oseni</td>\n",
       "      <td>Female</td>\n",
       "      <td>Married</td>\n",
       "      <td>Yes</td>\n",
       "      <td>Sponsored</td>\n",
       "      <td>FCT</td>\n",
       "      <td>Employed</td>\n",
       "      <td>&lt;p&gt;Business&lt;/p&gt;\\n</td>\n",
       "      <td>21/08/1990</td>\n",
       "      <td>Bachelor&amp;#039;s Degree</td>\n",
       "      <td>Biochemist</td>\n",
       "      <td>Data Analytics</td>\n",
       "      <td>Beginner ( 0 - 2 years )</td>\n",
       "      <td>Local Employment</td>\n",
       "    </tr>\n",
       "    <tr>\n",
       "      <th>3</th>\n",
       "      <td>Kabir</td>\n",
       "      <td>Salawudeen</td>\n",
       "      <td>Male</td>\n",
       "      <td>Married</td>\n",
       "      <td>NO</td>\n",
       "      <td>NaN</td>\n",
       "      <td>FCT</td>\n",
       "      <td>Employed</td>\n",
       "      <td>&lt;p&gt;Technology&lt;/p&gt;\\n</td>\n",
       "      <td>01/01/1990</td>\n",
       "      <td>HND</td>\n",
       "      <td>Computer Science</td>\n",
       "      <td>Full-Stack Software Development</td>\n",
       "      <td>Advanced ( 5 years and above )</td>\n",
       "      <td>Foreign Employment</td>\n",
       "    </tr>\n",
       "    <tr>\n",
       "      <th>4</th>\n",
       "      <td>Bashir</td>\n",
       "      <td>Hussain</td>\n",
       "      <td>Male</td>\n",
       "      <td>Married</td>\n",
       "      <td>NO</td>\n",
       "      <td>NaN</td>\n",
       "      <td>FCT</td>\n",
       "      <td>Employed</td>\n",
       "      <td>&lt;p&gt;Technology, Sports and Travels&lt;/p&gt;\\n</td>\n",
       "      <td>14/05/1980</td>\n",
       "      <td>Bachelor&amp;#039;s Degree</td>\n",
       "      <td>Banking</td>\n",
       "      <td>Data Analytics</td>\n",
       "      <td>Advanced ( 5 years and above )</td>\n",
       "      <td>Foreign Employment</td>\n",
       "    </tr>\n",
       "  </tbody>\n",
       "</table>\n",
       "</div>"
      ],
      "text/plain": [
       "  First Name   Last Name  Gender Marital Status Converted  \\\n",
       "0    Miracle     Obiekwe    Male         Single        NO   \n",
       "1   Ibilola    Shobanke   Female        Married        NO   \n",
       "2   Damilola       Oseni  Female        Married       Yes   \n",
       "3      Kabir  Salawudeen    Male        Married        NO   \n",
       "4    Bashir      Hussain    Male        Married        NO   \n",
       "\n",
       "  Sponsored/Self Sponsored     Location               Employment Status  \\\n",
       "0                      NaN  Enugu State  Self employed / Business Owner   \n",
       "1                      NaN    Oyo State                        Employed   \n",
       "2                Sponsored          FCT                        Employed   \n",
       "3                      NaN          FCT                        Employed   \n",
       "4                      NaN          FCT                        Employed   \n",
       "\n",
       "                        Personal Interests Date of Birth  \\\n",
       "0                    <p>Data science</p>\\n    22/06/1995   \n",
       "1           <p>Technology, Business </p>\\n    09/07/1984   \n",
       "2                        <p>Business</p>\\n    21/08/1990   \n",
       "3                      <p>Technology</p>\\n    01/01/1990   \n",
       "4  <p>Technology, Sports and Travels</p>\\n    14/05/1980   \n",
       "\n",
       "                Education        Profession            Programme of Interest  \\\n",
       "0  Bachelor&#039;s Degree  Computer science                     Data Science   \n",
       "1                 Masters        Lecturing                    Data Analytics   \n",
       "2  Bachelor&#039;s Degree        Biochemist                   Data Analytics   \n",
       "3                     HND  Computer Science  Full-Stack Software Development   \n",
       "4  Bachelor&#039;s Degree          Banking                    Data Analytics   \n",
       "\n",
       "           Level of IT Experience Employment Preferences  \n",
       "0    Intermediate ( 2 - 5 years )     Foreign Employment  \n",
       "1        Beginner ( 0 - 2 years )     Foreign Employment  \n",
       "2        Beginner ( 0 - 2 years )       Local Employment  \n",
       "3  Advanced ( 5 years and above )     Foreign Employment  \n",
       "4  Advanced ( 5 years and above )     Foreign Employment  "
      ]
     },
     "execution_count": 75,
     "metadata": {},
     "output_type": "execute_result"
    }
   ],
   "source": [
    "dataset.head()"
   ]
  },
  {
   "cell_type": "code",
   "execution_count": 76,
   "id": "e8313d3c-18eb-47b2-89d6-9425e9f715bb",
   "metadata": {},
   "outputs": [
    {
     "data": {
      "text/plain": [
       "0       Male\n",
       "1     Female\n",
       "2     Female\n",
       "3       Male\n",
       "4       Male\n",
       "5       Male\n",
       "6       Male\n",
       "7     Female\n",
       "8       Male\n",
       "9     Female\n",
       "10    Female\n",
       "11    Female\n",
       "12    Female\n",
       "13    Female\n",
       "14      Male\n",
       "15      Male\n",
       "16    Female\n",
       "17    Female\n",
       "18    Female\n",
       "19    Female\n",
       "20    Female\n",
       "21      Male\n",
       "22      Male\n",
       "23      Male\n",
       "24    Female\n",
       "25      Male\n",
       "Name: Gender, dtype: object"
      ]
     },
     "execution_count": 76,
     "metadata": {},
     "output_type": "execute_result"
    }
   ],
   "source": [
    "dataset['Gender']"
   ]
  },
  {
   "cell_type": "code",
   "execution_count": 77,
   "id": "5e535af1-69ba-4f17-bea2-d458596880ad",
   "metadata": {},
   "outputs": [
    {
     "name": "stdout",
     "output_type": "stream",
     "text": [
      "(0, 15)\n"
     ]
    }
   ],
   "source": [
    "dataset_2 = dataset[dataset['Converted'] == 1]\n",
    "print(dataset_2.shape)"
   ]
  },
  {
   "cell_type": "code",
   "execution_count": 78,
   "id": "cb84cde8-496c-4257-ace3-4b581ebb8310",
   "metadata": {},
   "outputs": [],
   "source": [
    "# select subset of variables needed for cluster analysis and post-analysis\n",
    "new_dataset = pd.DataFrame(dataset_2, \\\n",
    "columns = ['First Name', 'Last Name', 'Gender', 'Marital Status', 'Sponsored/Self Sponsored', 'Location', 'Employment Status', 'Personal Interests', 'Date of Birth',\n",
    "       'Education', 'Profession', 'Programme of Interest','Level of IT Experience', 'Employment Preferences'])"
   ]
  },
  {
   "cell_type": "code",
   "execution_count": 79,
   "id": "e7cf9f51-d533-4a4c-9747-04fd51831bbe",
   "metadata": {},
   "outputs": [],
   "source": [
    "new_dataset['Personal Interests'] = new_dataset['Personal Interests'].str.replace(r'</p>|<p>|\\n', '',regex = True)"
   ]
  },
  {
   "cell_type": "code",
   "execution_count": 80,
   "id": "4d4e1806-8b97-404c-8725-2127e8a2c68e",
   "metadata": {},
   "outputs": [],
   "source": [
    "new_dataset['Education'] = new_dataset['Education'].replace('Bachelor&#039;s Degree', 'Bachelors')"
   ]
  },
  {
   "cell_type": "code",
   "execution_count": 81,
   "id": "9f894a57-05b5-4a2c-b30a-8cd1a3adb42d",
   "metadata": {},
   "outputs": [],
   "source": [
    "new_dataset['Programme of Interest'] = new_dataset['Programme of Interest'].replace('Data Analytics', 'Data Science')"
   ]
  },
  {
   "cell_type": "code",
   "execution_count": 82,
   "id": "1baecbea-e138-449a-b7ab-f0e59cdd9317",
   "metadata": {},
   "outputs": [],
   "source": [
    "from datetime import date,datetime\n",
    "\n",
    "def age(born):\n",
    "    born = datetime.strptime(born, \"%d/%m/%Y\").date()\n",
    "    today = date.today()\n",
    "    return today.year - born.year - ((today.month, today.day) < (born.month, born.day))\n",
    "  \n",
    "new_dataset['Age'] = new_dataset['Date of Birth'].apply(age)\n",
    "  \n"
   ]
  },
  {
   "cell_type": "code",
   "execution_count": 83,
   "id": "29678366-5b1b-4c2d-8b4d-91654353691d",
   "metadata": {},
   "outputs": [],
   "source": [
    "new_dataset['Prospect_ID'] = [ 'DS1', 'DS2', 'DS3','DS4','DS5','DS6','DS7','DS8','DS9','DS10','DS11','DS12','DS13','DS14','DS15','DS16','DS17','DS18',\n",
    "                     'DS19','DS20','DS21','DS22','DS23','DS24','DS25','DS26']"
   ]
  },
  {
   "cell_type": "code",
   "execution_count": 66,
   "id": "6af7cecd-a13f-4671-8a55-0d5bc9ec8673",
   "metadata": {},
   "outputs": [
    {
     "data": {
      "text/plain": [
       "0     0\n",
       "1     0\n",
       "2     0\n",
       "3     0\n",
       "4     0\n",
       "5     0\n",
       "6     0\n",
       "7     0\n",
       "8     0\n",
       "9     0\n",
       "10    0\n",
       "11    0\n",
       "12    0\n",
       "13    0\n",
       "14    0\n",
       "15    0\n",
       "16    0\n",
       "17    0\n",
       "18    0\n",
       "19    0\n",
       "20    0\n",
       "21    0\n",
       "22    0\n",
       "23    0\n",
       "24    0\n",
       "25    0\n",
       "Name: Is.Female, dtype: int64"
      ]
     },
     "execution_count": 66,
     "metadata": {},
     "output_type": "execute_result"
    }
   ],
   "source": [
    "new_dataset['Is.Female']"
   ]
  },
  {
   "cell_type": "code",
   "execution_count": null,
   "id": "fdb41228-d800-4696-8397-c63c43ec6f6d",
   "metadata": {},
   "outputs": [],
   "source": []
  }
 ],
 "metadata": {
  "kernelspec": {
   "display_name": "Python 3",
   "language": "python",
   "name": "python3"
  },
  "language_info": {
   "codemirror_mode": {
    "name": "ipython",
    "version": 3
   },
   "file_extension": ".py",
   "mimetype": "text/x-python",
   "name": "python",
   "nbconvert_exporter": "python",
   "pygments_lexer": "ipython3",
   "version": "3.8.8"
  }
 },
 "nbformat": 4,
 "nbformat_minor": 5
}
