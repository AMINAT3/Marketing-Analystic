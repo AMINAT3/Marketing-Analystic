<<<<<<< HEAD
{
 "cells": [
  {
   "cell_type": "code",
   "execution_count": 1,
   "id": "GNLwi_fiGQKX",
   "metadata": {
    "id": "GNLwi_fiGQKX"
   },
   "outputs": [],
   "source": [
    "# importing neccessary packages\n",
    "import pandas as pd\n",
    "import numpy as np\n",
    "from datetime import date,datetime\n",
    "import matplotlib.pyplot as plt"
   ]
  },
  {
   "cell_type": "code",
   "execution_count": 2,
   "id": "Fhqhi2SsGQKu",
   "metadata": {
    "id": "Fhqhi2SsGQKu"
   },
   "outputs": [],
   "source": [
    "# importing dataset\n",
    "df=pd.read_csv('C:\\\\Users\\\\Zachary_B\\\\Desktop\\\\dataset\\\\Datasetnexustech Education_ Customer_Data_Details .csv')"
   ]
  },
  {
   "cell_type": "code",
   "execution_count": 3,
   "id": "gUr-jbsNGQKz",
   "metadata": {
    "id": "gUr-jbsNGQKz",
    "outputId": "7a81b4d0-3211-4e9f-a7fd-72dde7680045"
   },
   "outputs": [
    {
     "data": {
      "text/html": [
       "<div>\n",
       "<style scoped>\n",
       "    .dataframe tbody tr th:only-of-type {\n",
       "        vertical-align: middle;\n",
       "    }\n",
       "\n",
       "    .dataframe tbody tr th {\n",
       "        vertical-align: top;\n",
       "    }\n",
       "\n",
       "    .dataframe thead th {\n",
       "        text-align: right;\n",
       "    }\n",
       "</style>\n",
       "<table border=\"1\" class=\"dataframe\">\n",
       "  <thead>\n",
       "    <tr style=\"text-align: right;\">\n",
       "      <th></th>\n",
       "      <th>Submitted</th>\n",
       "      <th>First Name</th>\n",
       "      <th>Last Name</th>\n",
       "      <th>Email Address</th>\n",
       "      <th>Gender</th>\n",
       "      <th>Marital Status</th>\n",
       "      <th>Converted</th>\n",
       "      <th>Location</th>\n",
       "      <th>Postal Address</th>\n",
       "      <th>Employment Status</th>\n",
       "      <th>...</th>\n",
       "      <th>Programme of Interest</th>\n",
       "      <th>Level of IT Experience</th>\n",
       "      <th>What is your main motivation for enrolling in the programme?</th>\n",
       "      <th>What are the challenges you've experienced while trying to meet the above stated goal(s)?</th>\n",
       "      <th>What can we do to help you overcome these challenges?</th>\n",
       "      <th>Employment Preferences</th>\n",
       "      <th>Monthly Salary Expectations (in Naira)</th>\n",
       "      <th>What is your short term (2 years) career goal?</th>\n",
       "      <th>What is your mid-term (2 - 5 years) career goal?</th>\n",
       "      <th>What is your long term (5+ years) career goal?</th>\n",
       "    </tr>\n",
       "  </thead>\n",
       "  <tbody>\n",
       "    <tr>\n",
       "      <th>0</th>\n",
       "      <td>2022-05-12 15:06:53</td>\n",
       "      <td>Miracle</td>\n",
       "      <td>Obiekwe</td>\n",
       "      <td>miracleobiekwe@yahoo.com</td>\n",
       "      <td>Male</td>\n",
       "      <td>Single</td>\n",
       "      <td>NO</td>\n",
       "      <td>Enugu State</td>\n",
       "      <td>&lt;p&gt;Nigeria prisons barracks enugu state comman...</td>\n",
       "      <td>Self employed / Business Owner</td>\n",
       "      <td>...</td>\n",
       "      <td>Data Science</td>\n",
       "      <td>Intermediate ( 2 - 5 years )</td>\n",
       "      <td>&lt;p&gt;That I can do all things through Christ tha...</td>\n",
       "      <td>&lt;p&gt;Coding is my challenge.. I have tried it be...</td>\n",
       "      <td>&lt;p&gt;I need maximum attention and guidance&lt;/p&gt;\\n</td>\n",
       "      <td>Foreign Employment</td>\n",
       "      <td>2.5million</td>\n",
       "      <td>&lt;p&gt;To be a consultant in the field of data sci...</td>\n",
       "      <td>&lt;p&gt;Empowering children from the street to stud...</td>\n",
       "      <td>&lt;p&gt;To be the best across the globe&lt;/p&gt;\\n</td>\n",
       "    </tr>\n",
       "    <tr>\n",
       "      <th>1</th>\n",
       "      <td>2022-04-06 20:41:29</td>\n",
       "      <td>Ibilola</td>\n",
       "      <td>Shobanke</td>\n",
       "      <td>lolashobanke@gmail.com</td>\n",
       "      <td>Female</td>\n",
       "      <td>Married</td>\n",
       "      <td>NO</td>\n",
       "      <td>Oyo State</td>\n",
       "      <td>&lt;p&gt;3 Fafunlayo Layout, Iwo Road, Ibadan &lt;/p&gt;\\n</td>\n",
       "      <td>Employed</td>\n",
       "      <td>...</td>\n",
       "      <td>Data Analytics</td>\n",
       "      <td>Beginner ( 0 - 2 years )</td>\n",
       "      <td>&lt;p&gt;For self development and to increase my cha...</td>\n",
       "      <td>&lt;p&gt;N/A&lt;/p&gt;\\n</td>\n",
       "      <td>&lt;p&gt;N/A&lt;/p&gt;\\n</td>\n",
       "      <td>Foreign Employment</td>\n",
       "      <td>N2,000,000</td>\n",
       "      <td>&lt;p&gt;Becoming a genius in data analytics and hav...</td>\n",
       "      <td>&lt;p&gt;To become diverse in the other aspects of t...</td>\n",
       "      <td>NaN</td>\n",
       "    </tr>\n",
       "    <tr>\n",
       "      <th>2</th>\n",
       "      <td>2022-04-06 12:22:57</td>\n",
       "      <td>Damilola</td>\n",
       "      <td>Oseni</td>\n",
       "      <td>dammygeorge5050@gmail.com</td>\n",
       "      <td>Female</td>\n",
       "      <td>Married</td>\n",
       "      <td>NO</td>\n",
       "      <td>FCT</td>\n",
       "      <td>&lt;p&gt;1 EMMANUEL NTUK, GOSHEN VILLA ESTATE, LUGBE...</td>\n",
       "      <td>Employed</td>\n",
       "      <td>...</td>\n",
       "      <td>Data Analytics</td>\n",
       "      <td>Beginner ( 0 - 2 years )</td>\n",
       "      <td>&lt;p&gt;Knowledge &lt;/p&gt;\\n</td>\n",
       "      <td>&lt;p&gt;Fear of failing&lt;br /&gt;\\nBudget&lt;br /&gt;\\nLack o...</td>\n",
       "      <td>&lt;p&gt;Give Feedbacks on how I can improve&lt;/p&gt;\\n</td>\n",
       "      <td>Local Employment</td>\n",
       "      <td>100,000</td>\n",
       "      <td>&lt;p&gt;Successful implementation of what I have le...</td>\n",
       "      <td>&lt;p&gt;To work in an organization&lt;/p&gt;\\n</td>\n",
       "      <td>NaN</td>\n",
       "    </tr>\n",
       "    <tr>\n",
       "      <th>3</th>\n",
       "      <td>2022-04-06 9:30:50</td>\n",
       "      <td>Kabir</td>\n",
       "      <td>Salawudeen</td>\n",
       "      <td>salawudeenkabeer@gmail.com</td>\n",
       "      <td>Male</td>\n",
       "      <td>Married</td>\n",
       "      <td>NO</td>\n",
       "      <td>FCT</td>\n",
       "      <td>&lt;p&gt;23, Angwar Siyawa Abuja Nigeria&lt;/p&gt;\\n</td>\n",
       "      <td>Employed</td>\n",
       "      <td>...</td>\n",
       "      <td>Full-Stack Software Development</td>\n",
       "      <td>Advanced ( 5 years and above )</td>\n",
       "      <td>&lt;p&gt;One of your student got a good and well pay...</td>\n",
       "      <td>&lt;p&gt;Network challenges and at times work relate...</td>\n",
       "      <td>&lt;p&gt;If I can have a full knowledge in becoming ...</td>\n",
       "      <td>Foreign Employment</td>\n",
       "      <td>300,000.00</td>\n",
       "      <td>&lt;p&gt;1.Earn a new certificate or degree.&lt;br /&gt;\\n...</td>\n",
       "      <td>&lt;p&gt;Start a personal project.&lt;/p&gt;\\n</td>\n",
       "      <td>&lt;p&gt;1. Get familiar with new technology.&lt;br /&gt;\\...</td>\n",
       "    </tr>\n",
       "    <tr>\n",
       "      <th>4</th>\n",
       "      <td>2022-04-05 14:40:24</td>\n",
       "      <td>Bashir</td>\n",
       "      <td>Hussain</td>\n",
       "      <td>uniquebash@gmail.com</td>\n",
       "      <td>Male</td>\n",
       "      <td>Married</td>\n",
       "      <td>NO</td>\n",
       "      <td>FCT</td>\n",
       "      <td>&lt;p&gt;Plot 785 Herbert Macaulay Way, CBD Abuja&lt;/p&gt;\\n</td>\n",
       "      <td>Employed</td>\n",
       "      <td>...</td>\n",
       "      <td>Data Analytics</td>\n",
       "      <td>Advanced ( 5 years and above )</td>\n",
       "      <td>&lt;p&gt;To start a career path on technology &lt;/p&gt;\\n</td>\n",
       "      <td>&lt;p&gt;Interest &lt;/p&gt;\\n</td>\n",
       "      <td>&lt;p&gt;Enrolment &lt;/p&gt;\\n</td>\n",
       "      <td>Foreign Employment</td>\n",
       "      <td>500,000.00</td>\n",
       "      <td>&lt;p&gt;To obtain basic certification on technology...</td>\n",
       "      <td>&lt;p&gt;To obtain multiple certifications on techno...</td>\n",
       "      <td>&lt;p&gt;To be a reference point in technology &lt;/p&gt;\\n</td>\n",
       "    </tr>\n",
       "  </tbody>\n",
       "</table>\n",
       "<p>5 rows × 30 columns</p>\n",
       "</div>"
      ],
      "text/plain": [
       "             Submitted First Name   Last Name               Email Address  \\\n",
       "0  2022-05-12 15:06:53    Miracle     Obiekwe    miracleobiekwe@yahoo.com   \n",
       "1  2022-04-06 20:41:29   Ibilola    Shobanke       lolashobanke@gmail.com   \n",
       "2  2022-04-06 12:22:57   Damilola       Oseni   dammygeorge5050@gmail.com   \n",
       "3   2022-04-06 9:30:50      Kabir  Salawudeen  salawudeenkabeer@gmail.com   \n",
       "4  2022-04-05 14:40:24    Bashir      Hussain        uniquebash@gmail.com   \n",
       "\n",
       "   Gender Marital Status Converted     Location  \\\n",
       "0    Male         Single        NO  Enugu State   \n",
       "1  Female        Married        NO    Oyo State   \n",
       "2  Female        Married        NO          FCT   \n",
       "3    Male        Married        NO          FCT   \n",
       "4    Male        Married        NO          FCT   \n",
       "\n",
       "                                      Postal Address  \\\n",
       "0  <p>Nigeria prisons barracks enugu state comman...   \n",
       "1     <p>3 Fafunlayo Layout, Iwo Road, Ibadan </p>\\n   \n",
       "2  <p>1 EMMANUEL NTUK, GOSHEN VILLA ESTATE, LUGBE...   \n",
       "3           <p>23, Angwar Siyawa Abuja Nigeria</p>\\n   \n",
       "4  <p>Plot 785 Herbert Macaulay Way, CBD Abuja</p>\\n   \n",
       "\n",
       "                Employment Status  ...            Programme of Interest  \\\n",
       "0  Self employed / Business Owner  ...                     Data Science   \n",
       "1                        Employed  ...                   Data Analytics   \n",
       "2                        Employed  ...                   Data Analytics   \n",
       "3                        Employed  ...  Full-Stack Software Development   \n",
       "4                        Employed  ...                   Data Analytics   \n",
       "\n",
       "           Level of IT Experience  \\\n",
       "0    Intermediate ( 2 - 5 years )   \n",
       "1        Beginner ( 0 - 2 years )   \n",
       "2        Beginner ( 0 - 2 years )   \n",
       "3  Advanced ( 5 years and above )   \n",
       "4  Advanced ( 5 years and above )   \n",
       "\n",
       "  What is your main motivation for enrolling in the programme?  \\\n",
       "0  <p>That I can do all things through Christ tha...             \n",
       "1  <p>For self development and to increase my cha...             \n",
       "2                                <p>Knowledge </p>\\n             \n",
       "3  <p>One of your student got a good and well pay...             \n",
       "4     <p>To start a career path on technology </p>\\n             \n",
       "\n",
       "  What are the challenges you've experienced while trying to meet the above stated goal(s)?  \\\n",
       "0  <p>Coding is my challenge.. I have tried it be...                                          \n",
       "1                                       <p>N/A</p>\\n                                          \n",
       "2  <p>Fear of failing<br />\\nBudget<br />\\nLack o...                                          \n",
       "3  <p>Network challenges and at times work relate...                                          \n",
       "4                                 <p>Interest </p>\\n                                          \n",
       "\n",
       "  What can we do to help you overcome these challenges?  \\\n",
       "0     <p>I need maximum attention and guidance</p>\\n      \n",
       "1                                       <p>N/A</p>\\n      \n",
       "2       <p>Give Feedbacks on how I can improve</p>\\n      \n",
       "3  <p>If I can have a full knowledge in becoming ...      \n",
       "4                                <p>Enrolment </p>\\n      \n",
       "\n",
       "  Employment Preferences  Monthly Salary Expectations (in Naira)  \\\n",
       "0     Foreign Employment                              2.5million   \n",
       "1     Foreign Employment                              N2,000,000   \n",
       "2       Local Employment                                 100,000   \n",
       "3     Foreign Employment                              300,000.00   \n",
       "4     Foreign Employment                              500,000.00   \n",
       "\n",
       "      What is your short term (2 years) career goal?  \\\n",
       "0  <p>To be a consultant in the field of data sci...   \n",
       "1  <p>Becoming a genius in data analytics and hav...   \n",
       "2  <p>Successful implementation of what I have le...   \n",
       "3  <p>1.Earn a new certificate or degree.<br />\\n...   \n",
       "4  <p>To obtain basic certification on technology...   \n",
       "\n",
       "    What is your mid-term (2 - 5 years) career goal?  \\\n",
       "0  <p>Empowering children from the street to stud...   \n",
       "1  <p>To become diverse in the other aspects of t...   \n",
       "2                <p>To work in an organization</p>\\n   \n",
       "3                 <p>Start a personal project.</p>\\n   \n",
       "4  <p>To obtain multiple certifications on techno...   \n",
       "\n",
       "      What is your long term (5+ years) career goal?  \n",
       "0           <p>To be the best across the globe</p>\\n  \n",
       "1                                                NaN  \n",
       "2                                                NaN  \n",
       "3  <p>1. Get familiar with new technology.<br />\\...  \n",
       "4    <p>To be a reference point in technology </p>\\n  \n",
       "\n",
       "[5 rows x 30 columns]"
      ]
     },
     "execution_count": 3,
     "metadata": {},
     "output_type": "execute_result"
    }
   ],
   "source": [
    "# Return the first five number of rows.\n",
    "df.head()"
   ]
  },
  {
   "cell_type": "code",
   "execution_count": 4,
   "id": "GPfXrOkhGQK5",
   "metadata": {
    "id": "GPfXrOkhGQK5",
    "outputId": "14e81da6-4ce0-4d72-c60c-48b01f679a3b"
   },
   "outputs": [
    {
     "data": {
      "text/plain": [
       "Index(['Submitted', 'First Name', 'Last Name', 'Email Address', 'Gender',\n",
       "       'Marital Status', 'Converted', 'Location', 'Postal Address',\n",
       "       'Employment Status', 'Personal Interests',\n",
       "       'What Social Media do you use?',\n",
       "       'What is your primary objective/goal for enrolling in this programme?',\n",
       "       'What is your secondary objective/goal for enrolling in this programme?',\n",
       "       'What can we do to help you achieve the above stated goal(s)?',\n",
       "       'How you determine the achievement of above stated goal(s)?',\n",
       "       'Phone Number', 'Date of Birth', 'Education', 'Profession',\n",
       "       'Programme of Interest', 'Level of IT Experience',\n",
       "       'What is your main motivation for enrolling in the programme?',\n",
       "       'What are the challenges you've experienced while trying to meet the above stated goal(s)?',\n",
       "       'What can we do to help you overcome these challenges?',\n",
       "       'Employment Preferences', 'Monthly Salary Expectations (in Naira)',\n",
       "       'What is your short term (2 years) career goal?',\n",
       "       'What is your mid-term (2 - 5 years) career goal?',\n",
       "       'What is your long term (5+ years) career goal?'],\n",
       "      dtype='object')"
      ]
     },
     "execution_count": 4,
     "metadata": {},
     "output_type": "execute_result"
    }
   ],
   "source": [
    "# returns the list of column names in the dataset\n",
    "df.columns"
   ]
  },
  {
   "cell_type": "code",
   "execution_count": 5,
   "id": "8pcGA8O5GQK_",
   "metadata": {
    "id": "8pcGA8O5GQK_",
    "outputId": "00f12045-fdfe-4320-8b8a-8ea96d5e3bb5"
   },
   "outputs": [
    {
     "data": {
      "text/plain": [
       "(24, 30)"
      ]
     },
     "execution_count": 5,
     "metadata": {},
     "output_type": "execute_result"
    }
   ],
   "source": [
    "df.shape"
   ]
  },
  {
   "cell_type": "code",
   "execution_count": 6,
   "id": "om9mXT3LGQLD",
   "metadata": {
    "id": "om9mXT3LGQLD",
    "outputId": "ceab84f5-06fa-4be9-bd59-1b6ef2ef71f1"
   },
   "outputs": [
    {
     "name": "stdout",
     "output_type": "stream",
     "text": [
      "<class 'pandas.core.frame.DataFrame'>\n",
      "RangeIndex: 24 entries, 0 to 23\n",
      "Data columns (total 30 columns):\n",
      " #   Column                                                                                     Non-Null Count  Dtype \n",
      "---  ------                                                                                     --------------  ----- \n",
      " 0   Submitted                                                                                  24 non-null     object\n",
      " 1   First Name                                                                                 24 non-null     object\n",
      " 2   Last Name                                                                                  24 non-null     object\n",
      " 3   Email Address                                                                              24 non-null     object\n",
      " 4   Gender                                                                                     24 non-null     object\n",
      " 5   Marital Status                                                                             24 non-null     object\n",
      " 6   Converted                                                                                  23 non-null     object\n",
      " 7   Location                                                                                   24 non-null     object\n",
      " 8   Postal Address                                                                             13 non-null     object\n",
      " 9   Employment Status                                                                          24 non-null     object\n",
      " 10  Personal Interests                                                                         24 non-null     object\n",
      " 11  What Social Media do you use?                                                              24 non-null     object\n",
      " 12  What is your primary objective/goal for enrolling in this programme?                       24 non-null     object\n",
      " 13  What is your secondary objective/goal for enrolling in this programme?                     20 non-null     object\n",
      " 14  What can we do to help you achieve the above stated goal(s)?                               24 non-null     object\n",
      " 15  How you determine the achievement of above stated goal(s)?                                 24 non-null     object\n",
      " 16  Phone Number                                                                               24 non-null     int64 \n",
      " 17  Date of Birth                                                                              24 non-null     object\n",
      " 18  Education                                                                                  24 non-null     object\n",
      " 19  Profession                                                                                 23 non-null     object\n",
      " 20  Programme of Interest                                                                      24 non-null     object\n",
      " 21  Level of IT Experience                                                                     22 non-null     object\n",
      " 22  What is your main motivation for enrolling in the programme?                               24 non-null     object\n",
      " 23  What are the challenges you've experienced while trying to meet the above stated goal(s)?  24 non-null     object\n",
      " 24  What can we do to help you overcome these challenges?                                      24 non-null     object\n",
      " 25  Employment Preferences                                                                     22 non-null     object\n",
      " 26  Monthly Salary Expectations (in Naira)                                                     22 non-null     object\n",
      " 27  What is your short term (2 years) career goal?                                             22 non-null     object\n",
      " 28  What is your mid-term (2 - 5 years) career goal?                                           22 non-null     object\n",
      " 29  What is your long term (5+ years) career goal?                                             19 non-null     object\n",
      "dtypes: int64(1), object(29)\n",
      "memory usage: 5.8+ KB\n"
     ]
    }
   ],
   "source": [
    "df.info()"
   ]
  },
  {
   "cell_type": "code",
   "execution_count": 7,
   "id": "amdNFg4AGQLG",
   "metadata": {
    "id": "amdNFg4AGQLG",
    "outputId": "0a7e073f-6bf4-4d37-d982-f53014eccad2"
   },
   "outputs": [
    {
     "data": {
      "text/plain": [
       "Submitted                                                                                     0\n",
       "First Name                                                                                    0\n",
       "Last Name                                                                                     0\n",
       "Email Address                                                                                 0\n",
       "Gender                                                                                        0\n",
       "Marital Status                                                                                0\n",
       "Converted                                                                                     1\n",
       "Location                                                                                      0\n",
       "Postal Address                                                                               11\n",
       "Employment Status                                                                             0\n",
       "Personal Interests                                                                            0\n",
       "What Social Media do you use?                                                                 0\n",
       "What is your primary objective/goal for enrolling in this programme?                          0\n",
       "What is your secondary objective/goal for enrolling in this programme?                        4\n",
       "What can we do to help you achieve the above stated goal(s)?                                  0\n",
       "How you determine the achievement of above stated goal(s)?                                    0\n",
       "Phone Number                                                                                  0\n",
       "Date of Birth                                                                                 0\n",
       "Education                                                                                     0\n",
       "Profession                                                                                    1\n",
       "Programme of Interest                                                                         0\n",
       "Level of IT Experience                                                                        2\n",
       "What is your main motivation for enrolling in the programme?                                  0\n",
       "What are the challenges you've experienced while trying to meet the above stated goal(s)?     0\n",
       "What can we do to help you overcome these challenges?                                         0\n",
       "Employment Preferences                                                                        2\n",
       "Monthly Salary Expectations (in Naira)                                                        2\n",
       "What is your short term (2 years) career goal?                                                2\n",
       "What is your mid-term (2 - 5 years) career goal?                                              2\n",
       "What is your long term (5+ years) career goal?                                                5\n",
       "dtype: int64"
      ]
     },
     "execution_count": 7,
     "metadata": {},
     "output_type": "execute_result"
    }
   ],
   "source": [
    "df.isnull().sum()"
   ]
  },
  {
   "cell_type": "code",
   "execution_count": 8,
   "id": "AmOJdfcVGQLK",
   "metadata": {
    "id": "AmOJdfcVGQLK"
   },
   "outputs": [],
   "source": [
    "# Use df.columns command to drop columns via indexing\n",
    "df2 = df.drop(df.columns[[0,3,8,11,12,13,14,15,16,22,23,24,27,28,29]], axis=1)"
   ]
  },
  {
   "cell_type": "code",
   "execution_count": 14,
   "id": "BYrurKTLGQLN",
   "metadata": {
    "id": "BYrurKTLGQLN",
    "outputId": "51c2b415-1832-490f-d95f-ab732cef20f1"
   },
   "outputs": [
    {
     "data": {
      "text/plain": [
       "Index(['First Name', 'Last Name', 'Gender', 'Marital Status', 'Converted',\n",
       "       'Location', 'Employment Status', 'Personal Interests', 'Date of Birth',\n",
       "       'Education', 'Profession', 'Programme of Interest',\n",
       "       'Level of IT Experience', 'Employment Preferences',\n",
       "       'Monthly Salary Expectations (in Naira)'],\n",
       "      dtype='object')"
      ]
     },
     "execution_count": 14,
     "metadata": {},
     "output_type": "execute_result"
    }
   ],
   "source": [
    "df2.columns"
   ]
  },
  {
   "cell_type": "code",
   "execution_count": 15,
   "id": "CwrV-wO2GQLR",
   "metadata": {
    "id": "CwrV-wO2GQLR"
   },
   "outputs": [],
   "source": [
    "# filling missing values in the converted column\n",
    "df2['Converted'] = df2['Converted'].replace(np.NaN, 'No') "
   ]
  },
  {
   "cell_type": "code",
   "execution_count": 16,
   "id": "ocvRpFAwGQLU",
   "metadata": {
    "id": "ocvRpFAwGQLU"
   },
   "outputs": [],
   "source": [
    "# filling missing values in the converted column\n",
    "df2['Converted'] = df2['Converted'].replace(np.NaN, 'No') "
   ]
  },
  {
   "cell_type": "code",
   "execution_count": 17,
   "id": "6g7IPh6VGQLW",
   "metadata": {
    "id": "6g7IPh6VGQLW"
   },
   "outputs": [],
   "source": [
    "df2['Personal Interests'] = df2['Personal Interests'].str.replace(r'</p>|<p>|\\n', '',regex = True)"
   ]
  },
  {
   "cell_type": "code",
   "execution_count": 18,
   "id": "cEs0UXzdGQLY",
   "metadata": {
    "id": "cEs0UXzdGQLY"
   },
   "outputs": [],
   "source": [
    "df2['Education'] = df2['Education'].replace('Bachelor&#039;s Degree', 'Bachelors')"
   ]
  },
  {
   "cell_type": "code",
   "execution_count": 19,
   "id": "S-jHMe46GQLZ",
   "metadata": {
    "id": "S-jHMe46GQLZ"
   },
   "outputs": [],
   "source": [
    "\n",
    " \n",
    "def age(born):\n",
    "    born = datetime.strptime(born, \"%Y-%m-%d\").date()\n",
    "    today = date.today()\n",
    "    return today.year - born.year - ((today.month, today.day) < (born.month, born.day))\n",
    "  \n",
    "df2['Age'] = df2['Date of Birth'].apply(age)\n",
    "  \n",
    "# display(df2)"
   ]
  },
  {
   "cell_type": "code",
   "execution_count": 20,
   "id": "2JQt6iQAGQLc",
   "metadata": {
    "id": "2JQt6iQAGQLc",
    "outputId": "e0550227-bfbb-4168-ed01-c8e497b39864"
   },
   "outputs": [
    {
     "data": {
      "text/plain": [
       "First Name                                0\n",
       "Last Name                                 0\n",
       "Gender                                    0\n",
       "Marital Status                            0\n",
       "Converted                                 0\n",
       "Location                                  0\n",
       "Employment Status                         0\n",
       "Personal Interests                        0\n",
       "Date of Birth                             0\n",
       "Education                                 0\n",
       "Profession                                1\n",
       "Programme of Interest                     0\n",
       "Level of IT Experience                    2\n",
       "Employment Preferences                    2\n",
       "Monthly Salary Expectations (in Naira)    2\n",
       "Age                                       0\n",
       "dtype: int64"
      ]
     },
     "execution_count": 20,
     "metadata": {},
     "output_type": "execute_result"
    }
   ],
   "source": [
    "df2.isnull().sum()"
   ]
  },
  {
   "cell_type": "code",
   "execution_count": 21,
   "id": "4Powk5IUGQLe",
   "metadata": {
    "id": "4Powk5IUGQLe",
    "outputId": "20715aaa-4018-446f-a1a4-c2e5419db5e7"
   },
   "outputs": [
    {
     "data": {
      "text/html": [
       "<div>\n",
       "<style scoped>\n",
       "    .dataframe tbody tr th:only-of-type {\n",
       "        vertical-align: middle;\n",
       "    }\n",
       "\n",
       "    .dataframe tbody tr th {\n",
       "        vertical-align: top;\n",
       "    }\n",
       "\n",
       "    .dataframe thead th {\n",
       "        text-align: right;\n",
       "    }\n",
       "</style>\n",
       "<table border=\"1\" class=\"dataframe\">\n",
       "  <thead>\n",
       "    <tr style=\"text-align: right;\">\n",
       "      <th></th>\n",
       "      <th>First Name</th>\n",
       "      <th>Last Name</th>\n",
       "      <th>Gender</th>\n",
       "      <th>Marital Status</th>\n",
       "      <th>Converted</th>\n",
       "      <th>Location</th>\n",
       "      <th>Employment Status</th>\n",
       "      <th>Personal Interests</th>\n",
       "      <th>Date of Birth</th>\n",
       "      <th>Education</th>\n",
       "      <th>Profession</th>\n",
       "      <th>Programme of Interest</th>\n",
       "      <th>Level of IT Experience</th>\n",
       "      <th>Employment Preferences</th>\n",
       "      <th>Monthly Salary Expectations (in Naira)</th>\n",
       "      <th>Age</th>\n",
       "    </tr>\n",
       "  </thead>\n",
       "  <tbody>\n",
       "    <tr>\n",
       "      <th>0</th>\n",
       "      <td>Miracle</td>\n",
       "      <td>Obiekwe</td>\n",
       "      <td>Male</td>\n",
       "      <td>Single</td>\n",
       "      <td>NO</td>\n",
       "      <td>Enugu State</td>\n",
       "      <td>Self employed / Business Owner</td>\n",
       "      <td>Data science</td>\n",
       "      <td>1995-06-22</td>\n",
       "      <td>Bachelors</td>\n",
       "      <td>Computer science</td>\n",
       "      <td>Data Science</td>\n",
       "      <td>Intermediate ( 2 - 5 years )</td>\n",
       "      <td>Foreign Employment</td>\n",
       "      <td>2.5million</td>\n",
       "      <td>26</td>\n",
       "    </tr>\n",
       "    <tr>\n",
       "      <th>1</th>\n",
       "      <td>Ibilola</td>\n",
       "      <td>Shobanke</td>\n",
       "      <td>Female</td>\n",
       "      <td>Married</td>\n",
       "      <td>NO</td>\n",
       "      <td>Oyo State</td>\n",
       "      <td>Employed</td>\n",
       "      <td>Technology, Business</td>\n",
       "      <td>1984-07-09</td>\n",
       "      <td>Masters</td>\n",
       "      <td>Lecturing</td>\n",
       "      <td>Data Analytics</td>\n",
       "      <td>Beginner ( 0 - 2 years )</td>\n",
       "      <td>Foreign Employment</td>\n",
       "      <td>N2,000,000</td>\n",
       "      <td>37</td>\n",
       "    </tr>\n",
       "    <tr>\n",
       "      <th>2</th>\n",
       "      <td>Damilola</td>\n",
       "      <td>Oseni</td>\n",
       "      <td>Female</td>\n",
       "      <td>Married</td>\n",
       "      <td>NO</td>\n",
       "      <td>FCT</td>\n",
       "      <td>Employed</td>\n",
       "      <td>Business</td>\n",
       "      <td>1990-08-21</td>\n",
       "      <td>Bachelors</td>\n",
       "      <td>Biochemist</td>\n",
       "      <td>Data Analytics</td>\n",
       "      <td>Beginner ( 0 - 2 years )</td>\n",
       "      <td>Local Employment</td>\n",
       "      <td>100,000</td>\n",
       "      <td>31</td>\n",
       "    </tr>\n",
       "    <tr>\n",
       "      <th>3</th>\n",
       "      <td>Kabir</td>\n",
       "      <td>Salawudeen</td>\n",
       "      <td>Male</td>\n",
       "      <td>Married</td>\n",
       "      <td>NO</td>\n",
       "      <td>FCT</td>\n",
       "      <td>Employed</td>\n",
       "      <td>Technology</td>\n",
       "      <td>1990-01-01</td>\n",
       "      <td>HND</td>\n",
       "      <td>Computer Science</td>\n",
       "      <td>Full-Stack Software Development</td>\n",
       "      <td>Advanced ( 5 years and above )</td>\n",
       "      <td>Foreign Employment</td>\n",
       "      <td>300,000.00</td>\n",
       "      <td>32</td>\n",
       "    </tr>\n",
       "    <tr>\n",
       "      <th>4</th>\n",
       "      <td>Bashir</td>\n",
       "      <td>Hussain</td>\n",
       "      <td>Male</td>\n",
       "      <td>Married</td>\n",
       "      <td>NO</td>\n",
       "      <td>FCT</td>\n",
       "      <td>Employed</td>\n",
       "      <td>Technology, Sports and Travels</td>\n",
       "      <td>1980-05-14</td>\n",
       "      <td>Bachelors</td>\n",
       "      <td>Banking</td>\n",
       "      <td>Data Analytics</td>\n",
       "      <td>Advanced ( 5 years and above )</td>\n",
       "      <td>Foreign Employment</td>\n",
       "      <td>500,000.00</td>\n",
       "      <td>42</td>\n",
       "    </tr>\n",
       "    <tr>\n",
       "      <th>5</th>\n",
       "      <td>Adekunle</td>\n",
       "      <td>Olusanya</td>\n",
       "      <td>Male</td>\n",
       "      <td>Married</td>\n",
       "      <td>Yes</td>\n",
       "      <td>Lagos State</td>\n",
       "      <td>Employed</td>\n",
       "      <td>Business Governance, Technology</td>\n",
       "      <td>1978-05-01</td>\n",
       "      <td>Bachelors</td>\n",
       "      <td>Project Manager/ IT Audit</td>\n",
       "      <td>Data Science</td>\n",
       "      <td>Advanced ( 5 years and above )</td>\n",
       "      <td>Foreign Employment</td>\n",
       "      <td>N2000000</td>\n",
       "      <td>44</td>\n",
       "    </tr>\n",
       "    <tr>\n",
       "      <th>6</th>\n",
       "      <td>Idowu</td>\n",
       "      <td>Ismail</td>\n",
       "      <td>Male</td>\n",
       "      <td>Single</td>\n",
       "      <td>NO</td>\n",
       "      <td>Lagos State</td>\n",
       "      <td>Unemployed</td>\n",
       "      <td>Travel</td>\n",
       "      <td>1997-07-07</td>\n",
       "      <td>NCE</td>\n",
       "      <td>Engineering</td>\n",
       "      <td>Full-Stack Software Development</td>\n",
       "      <td>Beginner ( 0 - 2 years )</td>\n",
       "      <td>Foreign Employment</td>\n",
       "      <td>5,000,000 Naira</td>\n",
       "      <td>24</td>\n",
       "    </tr>\n",
       "    <tr>\n",
       "      <th>7</th>\n",
       "      <td>Toyyibat</td>\n",
       "      <td>Abdulkareem</td>\n",
       "      <td>Female</td>\n",
       "      <td>Married</td>\n",
       "      <td>NO</td>\n",
       "      <td>Oyo State</td>\n",
       "      <td>Employed</td>\n",
       "      <td>Tech Savy</td>\n",
       "      <td>1995-10-21</td>\n",
       "      <td>Bachelors</td>\n",
       "      <td>Software engineer</td>\n",
       "      <td>Full-Stack Software Development</td>\n",
       "      <td>Intermediate ( 2 - 5 years )</td>\n",
       "      <td>Remote Employment</td>\n",
       "      <td>800,000</td>\n",
       "      <td>26</td>\n",
       "    </tr>\n",
       "    <tr>\n",
       "      <th>8</th>\n",
       "      <td>Tolulope</td>\n",
       "      <td>Obatusin</td>\n",
       "      <td>Male</td>\n",
       "      <td>Married</td>\n",
       "      <td>NO</td>\n",
       "      <td>FCT</td>\n",
       "      <td>Employed</td>\n",
       "      <td>Technology</td>\n",
       "      <td>1983-02-02</td>\n",
       "      <td>Masters</td>\n",
       "      <td>Clinical Administrator</td>\n",
       "      <td>Data Science</td>\n",
       "      <td>Advanced ( 5 years and above )</td>\n",
       "      <td>Foreign Employment</td>\n",
       "      <td>N1, 500.000</td>\n",
       "      <td>39</td>\n",
       "    </tr>\n",
       "    <tr>\n",
       "      <th>9</th>\n",
       "      <td>Olubusayo</td>\n",
       "      <td>Ikotun</td>\n",
       "      <td>Female</td>\n",
       "      <td>Single</td>\n",
       "      <td>No</td>\n",
       "      <td>FCT</td>\n",
       "      <td>Self employed / Business Owner</td>\n",
       "      <td>Law, Reading and Technology</td>\n",
       "      <td>1996-02-01</td>\n",
       "      <td>Bachelors</td>\n",
       "      <td>Lawyer</td>\n",
       "      <td>Data Science</td>\n",
       "      <td>Beginner ( 0 - 2 years )</td>\n",
       "      <td>Remote Employment</td>\n",
       "      <td>1 million naira</td>\n",
       "      <td>26</td>\n",
       "    </tr>\n",
       "    <tr>\n",
       "      <th>10</th>\n",
       "      <td>Isoken</td>\n",
       "      <td>Igbinovia</td>\n",
       "      <td>Female</td>\n",
       "      <td>Married</td>\n",
       "      <td>Yes</td>\n",
       "      <td>FCT</td>\n",
       "      <td>Employed</td>\n",
       "      <td>Travelling, Technology,</td>\n",
       "      <td>1982-11-17</td>\n",
       "      <td>Masters</td>\n",
       "      <td>Administrative and Finance Officer</td>\n",
       "      <td>Data Science</td>\n",
       "      <td>Beginner ( 0 - 2 years )</td>\n",
       "      <td>Foreign Employment</td>\n",
       "      <td>3,000,000</td>\n",
       "      <td>39</td>\n",
       "    </tr>\n",
       "    <tr>\n",
       "      <th>11</th>\n",
       "      <td>Ifeyinwa</td>\n",
       "      <td>Bello</td>\n",
       "      <td>Female</td>\n",
       "      <td>Married</td>\n",
       "      <td>Yes</td>\n",
       "      <td>FCT</td>\n",
       "      <td>Unemployed</td>\n",
       "      <td>Travel</td>\n",
       "      <td>1975-06-18</td>\n",
       "      <td>Masters</td>\n",
       "      <td>Administrator</td>\n",
       "      <td>Data Science</td>\n",
       "      <td>Beginner ( 0 - 2 years )</td>\n",
       "      <td>Foreign Employment</td>\n",
       "      <td>1,500,000</td>\n",
       "      <td>46</td>\n",
       "    </tr>\n",
       "    <tr>\n",
       "      <th>12</th>\n",
       "      <td>Udodirim Lynda</td>\n",
       "      <td>Attudume</td>\n",
       "      <td>Female</td>\n",
       "      <td>Married</td>\n",
       "      <td>Yes</td>\n",
       "      <td>FCT</td>\n",
       "      <td>Self employed / Business Owner</td>\n",
       "      <td>Business and Travels</td>\n",
       "      <td>1973-08-26</td>\n",
       "      <td>Masters</td>\n",
       "      <td>Self employed/ business</td>\n",
       "      <td>Data Science</td>\n",
       "      <td>Beginner ( 0 - 2 years )</td>\n",
       "      <td>Foreign Employment</td>\n",
       "      <td>#4,000,000 and above</td>\n",
       "      <td>48</td>\n",
       "    </tr>\n",
       "    <tr>\n",
       "      <th>13</th>\n",
       "      <td>Amaka</td>\n",
       "      <td>Jaja</td>\n",
       "      <td>Female</td>\n",
       "      <td>Married</td>\n",
       "      <td>Yes</td>\n",
       "      <td>FCT</td>\n",
       "      <td>Employed</td>\n",
       "      <td>Reading/research, and networking</td>\n",
       "      <td>1976-11-28</td>\n",
       "      <td>Masters</td>\n",
       "      <td>Accountant/Financial Economist</td>\n",
       "      <td>Data Science</td>\n",
       "      <td>Advanced ( 5 years and above )</td>\n",
       "      <td>Foreign Employment</td>\n",
       "      <td>6,000,000 (Naira) pa.</td>\n",
       "      <td>45</td>\n",
       "    </tr>\n",
       "    <tr>\n",
       "      <th>14</th>\n",
       "      <td>Olumide</td>\n",
       "      <td>Adu</td>\n",
       "      <td>Male</td>\n",
       "      <td>Married</td>\n",
       "      <td>Yes</td>\n",
       "      <td>Lagos State</td>\n",
       "      <td>Self employed / Business Owner</td>\n",
       "      <td>Politics</td>\n",
       "      <td>1982-09-18</td>\n",
       "      <td>Masters</td>\n",
       "      <td>Entrepreneur</td>\n",
       "      <td>Data Science</td>\n",
       "      <td>NaN</td>\n",
       "      <td>NaN</td>\n",
       "      <td>NaN</td>\n",
       "      <td>39</td>\n",
       "    </tr>\n",
       "    <tr>\n",
       "      <th>15</th>\n",
       "      <td>Aramide</td>\n",
       "      <td>Olalere</td>\n",
       "      <td>Male</td>\n",
       "      <td>Married</td>\n",
       "      <td>Yes</td>\n",
       "      <td>FCT</td>\n",
       "      <td>Employed</td>\n",
       "      <td>Travelling,</td>\n",
       "      <td>1971-09-24</td>\n",
       "      <td>Masters</td>\n",
       "      <td>Public officer</td>\n",
       "      <td>Data Analytics</td>\n",
       "      <td>NaN</td>\n",
       "      <td>NaN</td>\n",
       "      <td>NaN</td>\n",
       "      <td>50</td>\n",
       "    </tr>\n",
       "    <tr>\n",
       "      <th>16</th>\n",
       "      <td>Omotayo</td>\n",
       "      <td>Mercy</td>\n",
       "      <td>Female</td>\n",
       "      <td>Single</td>\n",
       "      <td>Yes</td>\n",
       "      <td>Lagos State</td>\n",
       "      <td>Unemployed</td>\n",
       "      <td>Traveling&lt;br /&gt;Editing videos&lt;br /&gt;Reading&lt;br ...</td>\n",
       "      <td>2007-03-20</td>\n",
       "      <td>SSCE</td>\n",
       "      <td>Data science</td>\n",
       "      <td>Data Analytics</td>\n",
       "      <td>Beginner ( 0 - 2 years )</td>\n",
       "      <td>Remote Employment</td>\n",
       "      <td>Ranges of 3.5m to 4.5m per month.</td>\n",
       "      <td>15</td>\n",
       "    </tr>\n",
       "    <tr>\n",
       "      <th>17</th>\n",
       "      <td>Aminat</td>\n",
       "      <td>Badiru</td>\n",
       "      <td>Female</td>\n",
       "      <td>Married</td>\n",
       "      <td>Yes</td>\n",
       "      <td>FCT</td>\n",
       "      <td>Unemployed</td>\n",
       "      <td>travel, business, technology</td>\n",
       "      <td>1995-12-12</td>\n",
       "      <td>Bachelors</td>\n",
       "      <td>Mass communication</td>\n",
       "      <td>Data Analytics</td>\n",
       "      <td>Beginner ( 0 - 2 years )</td>\n",
       "      <td>Remote Employment</td>\n",
       "      <td>2,000,000 - 3,000,000</td>\n",
       "      <td>26</td>\n",
       "    </tr>\n",
       "    <tr>\n",
       "      <th>18</th>\n",
       "      <td>Oluwatimilehin</td>\n",
       "      <td>Aramide</td>\n",
       "      <td>Female</td>\n",
       "      <td>Single</td>\n",
       "      <td>Yes</td>\n",
       "      <td>FCT</td>\n",
       "      <td>Unemployed</td>\n",
       "      <td>Technology,Travel</td>\n",
       "      <td>2004-11-11</td>\n",
       "      <td>SSCE</td>\n",
       "      <td>NaN</td>\n",
       "      <td>Data Science</td>\n",
       "      <td>Beginner ( 0 - 2 years )</td>\n",
       "      <td>Remote Employment</td>\n",
       "      <td>3,500,000</td>\n",
       "      <td>17</td>\n",
       "    </tr>\n",
       "    <tr>\n",
       "      <th>19</th>\n",
       "      <td>OluFeranmi</td>\n",
       "      <td>Olusanya</td>\n",
       "      <td>Female</td>\n",
       "      <td>Single</td>\n",
       "      <td>Yes</td>\n",
       "      <td>Lagos State</td>\n",
       "      <td>Unemployed</td>\n",
       "      <td>Business</td>\n",
       "      <td>2003-07-15</td>\n",
       "      <td>SSCE</td>\n",
       "      <td>Data science</td>\n",
       "      <td>Data Science</td>\n",
       "      <td>Beginner ( 0 - 2 years )</td>\n",
       "      <td>Remote Employment</td>\n",
       "      <td>Four Million Naira</td>\n",
       "      <td>18</td>\n",
       "    </tr>\n",
       "  </tbody>\n",
       "</table>\n",
       "</div>"
      ],
      "text/plain": [
       "        First Name    Last Name  Gender Marital Status Converted     Location  \\\n",
       "0          Miracle      Obiekwe    Male         Single        NO  Enugu State   \n",
       "1         Ibilola     Shobanke   Female        Married        NO    Oyo State   \n",
       "2         Damilola        Oseni  Female        Married        NO          FCT   \n",
       "3            Kabir   Salawudeen    Male        Married        NO          FCT   \n",
       "4          Bashir       Hussain    Male        Married        NO          FCT   \n",
       "5         Adekunle     Olusanya    Male        Married       Yes  Lagos State   \n",
       "6            Idowu       Ismail    Male         Single        NO  Lagos State   \n",
       "7         Toyyibat  Abdulkareem  Female        Married        NO    Oyo State   \n",
       "8         Tolulope     Obatusin    Male        Married        NO          FCT   \n",
       "9       Olubusayo        Ikotun  Female         Single        No          FCT   \n",
       "10          Isoken   Igbinovia   Female        Married       Yes          FCT   \n",
       "11        Ifeyinwa        Bello  Female        Married       Yes          FCT   \n",
       "12  Udodirim Lynda     Attudume  Female        Married       Yes          FCT   \n",
       "13          Amaka          Jaja  Female        Married       Yes          FCT   \n",
       "14         Olumide          Adu    Male        Married       Yes  Lagos State   \n",
       "15        Aramide       Olalere    Male        Married       Yes          FCT   \n",
       "16         Omotayo        Mercy  Female         Single       Yes  Lagos State   \n",
       "17          Aminat       Badiru  Female        Married       Yes          FCT   \n",
       "18  Oluwatimilehin      Aramide  Female         Single       Yes          FCT   \n",
       "19      OluFeranmi     Olusanya  Female         Single       Yes  Lagos State   \n",
       "\n",
       "                 Employment Status  \\\n",
       "0   Self employed / Business Owner   \n",
       "1                         Employed   \n",
       "2                         Employed   \n",
       "3                         Employed   \n",
       "4                         Employed   \n",
       "5                         Employed   \n",
       "6                       Unemployed   \n",
       "7                         Employed   \n",
       "8                         Employed   \n",
       "9   Self employed / Business Owner   \n",
       "10                        Employed   \n",
       "11                      Unemployed   \n",
       "12  Self employed / Business Owner   \n",
       "13                        Employed   \n",
       "14  Self employed / Business Owner   \n",
       "15                        Employed   \n",
       "16                      Unemployed   \n",
       "17                      Unemployed   \n",
       "18                      Unemployed   \n",
       "19                      Unemployed   \n",
       "\n",
       "                                   Personal Interests Date of Birth  \\\n",
       "0                                        Data science    1995-06-22   \n",
       "1                               Technology, Business     1984-07-09   \n",
       "2                                            Business    1990-08-21   \n",
       "3                                          Technology    1990-01-01   \n",
       "4                      Technology, Sports and Travels    1980-05-14   \n",
       "5                     Business Governance, Technology    1978-05-01   \n",
       "6                                              Travel    1997-07-07   \n",
       "7                                           Tech Savy    1995-10-21   \n",
       "8                                          Technology    1983-02-02   \n",
       "9                        Law, Reading and Technology     1996-02-01   \n",
       "10                           Travelling, Technology,     1982-11-17   \n",
       "11                                             Travel    1975-06-18   \n",
       "12                               Business and Travels    1973-08-26   \n",
       "13                  Reading/research, and networking     1976-11-28   \n",
       "14                                           Politics    1982-09-18   \n",
       "15                                       Travelling,     1971-09-24   \n",
       "16  Traveling<br />Editing videos<br />Reading<br ...    2007-03-20   \n",
       "17                       travel, business, technology    1995-12-12   \n",
       "18                                  Technology,Travel    2004-11-11   \n",
       "19                                           Business    2003-07-15   \n",
       "\n",
       "    Education                          Profession  \\\n",
       "0   Bachelors                    Computer science   \n",
       "1     Masters                          Lecturing    \n",
       "2   Bachelors                          Biochemist   \n",
       "3         HND                    Computer Science   \n",
       "4   Bachelors                            Banking    \n",
       "5   Bachelors           Project Manager/ IT Audit   \n",
       "6         NCE                        Engineering    \n",
       "7   Bachelors                   Software engineer   \n",
       "8     Masters              Clinical Administrator   \n",
       "9   Bachelors                              Lawyer   \n",
       "10    Masters  Administrative and Finance Officer   \n",
       "11    Masters                       Administrator   \n",
       "12    Masters             Self employed/ business   \n",
       "13    Masters     Accountant/Financial Economist    \n",
       "14    Masters                        Entrepreneur   \n",
       "15    Masters                      Public officer   \n",
       "16       SSCE                        Data science   \n",
       "17  Bachelors                  Mass communication   \n",
       "18       SSCE                                 NaN   \n",
       "19       SSCE                       Data science    \n",
       "\n",
       "              Programme of Interest          Level of IT Experience  \\\n",
       "0                      Data Science    Intermediate ( 2 - 5 years )   \n",
       "1                    Data Analytics        Beginner ( 0 - 2 years )   \n",
       "2                    Data Analytics        Beginner ( 0 - 2 years )   \n",
       "3   Full-Stack Software Development  Advanced ( 5 years and above )   \n",
       "4                    Data Analytics  Advanced ( 5 years and above )   \n",
       "5                      Data Science  Advanced ( 5 years and above )   \n",
       "6   Full-Stack Software Development        Beginner ( 0 - 2 years )   \n",
       "7   Full-Stack Software Development    Intermediate ( 2 - 5 years )   \n",
       "8                      Data Science  Advanced ( 5 years and above )   \n",
       "9                      Data Science        Beginner ( 0 - 2 years )   \n",
       "10                     Data Science        Beginner ( 0 - 2 years )   \n",
       "11                     Data Science        Beginner ( 0 - 2 years )   \n",
       "12                     Data Science        Beginner ( 0 - 2 years )   \n",
       "13                     Data Science  Advanced ( 5 years and above )   \n",
       "14                     Data Science                             NaN   \n",
       "15                   Data Analytics                             NaN   \n",
       "16                   Data Analytics        Beginner ( 0 - 2 years )   \n",
       "17                   Data Analytics        Beginner ( 0 - 2 years )   \n",
       "18                     Data Science        Beginner ( 0 - 2 years )   \n",
       "19                     Data Science        Beginner ( 0 - 2 years )   \n",
       "\n",
       "   Employment Preferences Monthly Salary Expectations (in Naira)  Age  \n",
       "0      Foreign Employment                             2.5million   26  \n",
       "1      Foreign Employment                             N2,000,000   37  \n",
       "2        Local Employment                                100,000   31  \n",
       "3      Foreign Employment                             300,000.00   32  \n",
       "4      Foreign Employment                             500,000.00   42  \n",
       "5      Foreign Employment                               N2000000   44  \n",
       "6      Foreign Employment                        5,000,000 Naira   24  \n",
       "7       Remote Employment                                800,000   26  \n",
       "8      Foreign Employment                            N1, 500.000   39  \n",
       "9       Remote Employment                        1 million naira   26  \n",
       "10     Foreign Employment                              3,000,000   39  \n",
       "11     Foreign Employment                              1,500,000   46  \n",
       "12     Foreign Employment                   #4,000,000 and above   48  \n",
       "13     Foreign Employment                  6,000,000 (Naira) pa.   45  \n",
       "14                    NaN                                    NaN   39  \n",
       "15                    NaN                                    NaN   50  \n",
       "16      Remote Employment      Ranges of 3.5m to 4.5m per month.   15  \n",
       "17      Remote Employment                  2,000,000 - 3,000,000   26  \n",
       "18      Remote Employment                              3,500,000   17  \n",
       "19      Remote Employment                     Four Million Naira   18  "
      ]
     },
     "execution_count": 21,
     "metadata": {},
     "output_type": "execute_result"
    }
   ],
   "source": [
    "df2.head(20)"
   ]
  },
  {
   "cell_type": "code",
   "execution_count": 22,
   "id": "cLKnHZ5sGQLh",
   "metadata": {
    "id": "cLKnHZ5sGQLh"
   },
   "outputs": [],
   "source": [
    "## Encoding the converted column"
   ]
  },
  {
   "cell_type": "code",
   "execution_count": 23,
   "id": "Vd80tX6rGQLk",
   "metadata": {
    "id": "Vd80tX6rGQLk",
    "outputId": "1066792d-4d25-4b75-8c9b-cc950172a25b"
   },
   "outputs": [
    {
     "data": {
      "text/plain": [
       "array(['NO', 'Yes', 'No'], dtype=object)"
      ]
     },
     "execution_count": 23,
     "metadata": {},
     "output_type": "execute_result"
    }
   ],
   "source": [
    "df2.Converted.unique()"
   ]
  },
  {
   "cell_type": "code",
   "execution_count": 24,
   "id": "8bQWy75zGQLp",
   "metadata": {
    "id": "8bQWy75zGQLp"
   },
   "outputs": [],
   "source": [
    "df2['Conversion'] = df2['Converted'].apply(lambda x: 1 if x == 'Yes' else 0)"
   ]
  },
  {
   "cell_type": "code",
   "execution_count": 25,
   "id": "jImYQLfOGQLr",
   "metadata": {
    "id": "jImYQLfOGQLr",
    "outputId": "dbcc83b2-94e3-4fc1-fb45-93af63e7dbf9"
   },
   "outputs": [
    {
     "data": {
      "text/html": [
       "<div>\n",
       "<style scoped>\n",
       "    .dataframe tbody tr th:only-of-type {\n",
       "        vertical-align: middle;\n",
       "    }\n",
       "\n",
       "    .dataframe tbody tr th {\n",
       "        vertical-align: top;\n",
       "    }\n",
       "\n",
       "    .dataframe thead th {\n",
       "        text-align: right;\n",
       "    }\n",
       "</style>\n",
       "<table border=\"1\" class=\"dataframe\">\n",
       "  <thead>\n",
       "    <tr style=\"text-align: right;\">\n",
       "      <th></th>\n",
       "      <th>First Name</th>\n",
       "      <th>Last Name</th>\n",
       "      <th>Gender</th>\n",
       "      <th>Marital Status</th>\n",
       "      <th>Converted</th>\n",
       "      <th>Location</th>\n",
       "      <th>Employment Status</th>\n",
       "      <th>Personal Interests</th>\n",
       "      <th>Date of Birth</th>\n",
       "      <th>Education</th>\n",
       "      <th>Profession</th>\n",
       "      <th>Programme of Interest</th>\n",
       "      <th>Level of IT Experience</th>\n",
       "      <th>Employment Preferences</th>\n",
       "      <th>Monthly Salary Expectations (in Naira)</th>\n",
       "      <th>Age</th>\n",
       "      <th>Conversion</th>\n",
       "    </tr>\n",
       "  </thead>\n",
       "  <tbody>\n",
       "    <tr>\n",
       "      <th>0</th>\n",
       "      <td>Miracle</td>\n",
       "      <td>Obiekwe</td>\n",
       "      <td>Male</td>\n",
       "      <td>Single</td>\n",
       "      <td>NO</td>\n",
       "      <td>Enugu State</td>\n",
       "      <td>Self employed / Business Owner</td>\n",
       "      <td>Data science</td>\n",
       "      <td>1995-06-22</td>\n",
       "      <td>Bachelors</td>\n",
       "      <td>Computer science</td>\n",
       "      <td>Data Science</td>\n",
       "      <td>Intermediate ( 2 - 5 years )</td>\n",
       "      <td>Foreign Employment</td>\n",
       "      <td>2.5million</td>\n",
       "      <td>26</td>\n",
       "      <td>0</td>\n",
       "    </tr>\n",
       "    <tr>\n",
       "      <th>1</th>\n",
       "      <td>Ibilola</td>\n",
       "      <td>Shobanke</td>\n",
       "      <td>Female</td>\n",
       "      <td>Married</td>\n",
       "      <td>NO</td>\n",
       "      <td>Oyo State</td>\n",
       "      <td>Employed</td>\n",
       "      <td>Technology, Business</td>\n",
       "      <td>1984-07-09</td>\n",
       "      <td>Masters</td>\n",
       "      <td>Lecturing</td>\n",
       "      <td>Data Analytics</td>\n",
       "      <td>Beginner ( 0 - 2 years )</td>\n",
       "      <td>Foreign Employment</td>\n",
       "      <td>N2,000,000</td>\n",
       "      <td>37</td>\n",
       "      <td>0</td>\n",
       "    </tr>\n",
       "    <tr>\n",
       "      <th>2</th>\n",
       "      <td>Damilola</td>\n",
       "      <td>Oseni</td>\n",
       "      <td>Female</td>\n",
       "      <td>Married</td>\n",
       "      <td>NO</td>\n",
       "      <td>FCT</td>\n",
       "      <td>Employed</td>\n",
       "      <td>Business</td>\n",
       "      <td>1990-08-21</td>\n",
       "      <td>Bachelors</td>\n",
       "      <td>Biochemist</td>\n",
       "      <td>Data Analytics</td>\n",
       "      <td>Beginner ( 0 - 2 years )</td>\n",
       "      <td>Local Employment</td>\n",
       "      <td>100,000</td>\n",
       "      <td>31</td>\n",
       "      <td>0</td>\n",
       "    </tr>\n",
       "    <tr>\n",
       "      <th>3</th>\n",
       "      <td>Kabir</td>\n",
       "      <td>Salawudeen</td>\n",
       "      <td>Male</td>\n",
       "      <td>Married</td>\n",
       "      <td>NO</td>\n",
       "      <td>FCT</td>\n",
       "      <td>Employed</td>\n",
       "      <td>Technology</td>\n",
       "      <td>1990-01-01</td>\n",
       "      <td>HND</td>\n",
       "      <td>Computer Science</td>\n",
       "      <td>Full-Stack Software Development</td>\n",
       "      <td>Advanced ( 5 years and above )</td>\n",
       "      <td>Foreign Employment</td>\n",
       "      <td>300,000.00</td>\n",
       "      <td>32</td>\n",
       "      <td>0</td>\n",
       "    </tr>\n",
       "    <tr>\n",
       "      <th>4</th>\n",
       "      <td>Bashir</td>\n",
       "      <td>Hussain</td>\n",
       "      <td>Male</td>\n",
       "      <td>Married</td>\n",
       "      <td>NO</td>\n",
       "      <td>FCT</td>\n",
       "      <td>Employed</td>\n",
       "      <td>Technology, Sports and Travels</td>\n",
       "      <td>1980-05-14</td>\n",
       "      <td>Bachelors</td>\n",
       "      <td>Banking</td>\n",
       "      <td>Data Analytics</td>\n",
       "      <td>Advanced ( 5 years and above )</td>\n",
       "      <td>Foreign Employment</td>\n",
       "      <td>500,000.00</td>\n",
       "      <td>42</td>\n",
       "      <td>0</td>\n",
       "    </tr>\n",
       "  </tbody>\n",
       "</table>\n",
       "</div>"
      ],
      "text/plain": [
       "  First Name   Last Name  Gender Marital Status Converted     Location  \\\n",
       "0    Miracle     Obiekwe    Male         Single        NO  Enugu State   \n",
       "1   Ibilola    Shobanke   Female        Married        NO    Oyo State   \n",
       "2   Damilola       Oseni  Female        Married        NO          FCT   \n",
       "3      Kabir  Salawudeen    Male        Married        NO          FCT   \n",
       "4    Bashir      Hussain    Male        Married        NO          FCT   \n",
       "\n",
       "                Employment Status              Personal Interests  \\\n",
       "0  Self employed / Business Owner                    Data science   \n",
       "1                        Employed           Technology, Business    \n",
       "2                        Employed                        Business   \n",
       "3                        Employed                      Technology   \n",
       "4                        Employed  Technology, Sports and Travels   \n",
       "\n",
       "  Date of Birth  Education        Profession            Programme of Interest  \\\n",
       "0    1995-06-22  Bachelors  Computer science                     Data Science   \n",
       "1    1984-07-09    Masters        Lecturing                    Data Analytics   \n",
       "2    1990-08-21  Bachelors        Biochemist                   Data Analytics   \n",
       "3    1990-01-01        HND  Computer Science  Full-Stack Software Development   \n",
       "4    1980-05-14  Bachelors          Banking                    Data Analytics   \n",
       "\n",
       "           Level of IT Experience Employment Preferences  \\\n",
       "0    Intermediate ( 2 - 5 years )     Foreign Employment   \n",
       "1        Beginner ( 0 - 2 years )     Foreign Employment   \n",
       "2        Beginner ( 0 - 2 years )       Local Employment   \n",
       "3  Advanced ( 5 years and above )     Foreign Employment   \n",
       "4  Advanced ( 5 years and above )     Foreign Employment   \n",
       "\n",
       "  Monthly Salary Expectations (in Naira)  Age  Conversion  \n",
       "0                             2.5million   26           0  \n",
       "1                             N2,000,000   37           0  \n",
       "2                                100,000   31           0  \n",
       "3                             300,000.00   32           0  \n",
       "4                             500,000.00   42           0  "
      ]
     },
     "execution_count": 25,
     "metadata": {},
     "output_type": "execute_result"
    }
   ],
   "source": [
    "df2.head(5)"
   ]
  },
  {
   "cell_type": "markdown",
   "id": "Yys97mqZGQLt",
   "metadata": {
    "id": "Yys97mqZGQLt"
   },
   "source": [
    "### Aggregates conversion rates\n",
    "\n",
    "Aggregate conversion rate tells us the overall performance of our marketing campaign."
   ]
  },
  {
   "cell_type": "code",
   "execution_count": 26,
   "id": "alFVcY9aGQLz",
   "metadata": {
    "id": "alFVcY9aGQLz",
    "outputId": "f360e9ed-fb9e-4584-ad8c-97852b921ef3"
   },
   "outputs": [
    {
     "data": {
      "text/plain": [
       "15"
      ]
     },
     "execution_count": 26,
     "metadata": {},
     "output_type": "execute_result"
    }
   ],
   "source": [
    "# total number of conversions\n",
    "df2.Conversion.sum()\n"
   ]
  },
  {
   "cell_type": "code",
   "execution_count": 27,
   "id": "eX-hI7dxGQL1",
   "metadata": {
    "id": "eX-hI7dxGQL1",
    "outputId": "107fcaeb-a923-4b9c-ec7e-06e8f428f119"
   },
   "outputs": [
    {
     "data": {
      "text/plain": [
       "24"
      ]
     },
     "execution_count": 27,
     "metadata": {},
     "output_type": "execute_result"
    }
   ],
   "source": [
    "# total number of clients in the data (= number of rows in the data)\n",
    "df2.shape[0]"
   ]
  },
  {
   "cell_type": "code",
   "execution_count": 28,
   "id": "Gpk7x_S_GQL4",
   "metadata": {
    "id": "Gpk7x_S_GQL4",
    "outputId": "51c6c7bd-fa92-409b-d397-8184e40d7e73"
   },
   "outputs": [
    {
     "name": "stdout",
     "output_type": "stream",
     "text": [
      "conversion rates: 62.50%\n"
     ]
    }
   ],
   "source": [
    "print('conversion rates: %0.2f%%' % (df2.Conversion.sum() / df2.shape[0]* 100.0))"
   ]
  },
  {
   "cell_type": "markdown",
   "id": "KyxhPZpoGQL5",
   "metadata": {
    "id": "KyxhPZpoGQL5"
   },
   "source": [
    "### Conversion rates by age"
   ]
  },
  {
   "cell_type": "code",
   "execution_count": 29,
   "id": "pWPjsck0GQL6",
   "metadata": {
    "id": "pWPjsck0GQL6",
    "outputId": "397fc6c9-ffea-430f-ccee-f20d81c3c783"
   },
   "outputs": [
    {
     "data": {
      "text/plain": [
       "Age\n",
       "15    1\n",
       "17    2\n",
       "18    1\n",
       "22    2\n",
       "24    1\n",
       "26    4\n",
       "27    1\n",
       "31    1\n",
       "32    1\n",
       "37    1\n",
       "39    3\n",
       "42    1\n",
       "44    1\n",
       "45    1\n",
       "46    1\n",
       "48    1\n",
       "50    1\n",
       "Name: Conversion, dtype: int64"
      ]
     },
     "execution_count": 29,
     "metadata": {},
     "output_type": "execute_result"
    }
   ],
   "source": [
    "df2.groupby(by='Age')['Conversion'].count() "
   ]
  },
  {
   "cell_type": "code",
   "execution_count": 30,
   "id": "_kKDNiXLGQL7",
   "metadata": {
    "id": "_kKDNiXLGQL7",
    "outputId": "c24f8123-06a0-4996-c915-74eaf7aa5af2"
   },
   "outputs": [
    {
     "data": {
      "text/plain": [
       "Age\n",
       "15    1\n",
       "17    2\n",
       "18    1\n",
       "22    2\n",
       "24    0\n",
       "26    1\n",
       "27    1\n",
       "31    0\n",
       "32    0\n",
       "37    0\n",
       "39    2\n",
       "42    0\n",
       "44    1\n",
       "45    1\n",
       "46    1\n",
       "48    1\n",
       "50    1\n",
       "Name: Conversion, dtype: int64"
      ]
     },
     "execution_count": 30,
     "metadata": {},
     "output_type": "execute_result"
    }
   ],
   "source": [
    "df2.groupby(by='Age')['Conversion'].sum() "
   ]
  },
  {
   "cell_type": "code",
   "execution_count": 31,
   "id": "7nq9Jf5MGQL8",
   "metadata": {
    "id": "7nq9Jf5MGQL8",
    "outputId": "5ad5f0cf-35c8-49c3-d889-bc0d3b814235"
   },
   "outputs": [
    {
     "name": "stdout",
     "output_type": "stream",
     "text": [
      "Age\n",
      "15    100.000000\n",
      "17    100.000000\n",
      "18    100.000000\n",
      "22    100.000000\n",
      "24      0.000000\n",
      "26     25.000000\n",
      "27    100.000000\n",
      "31      0.000000\n",
      "32      0.000000\n",
      "37      0.000000\n",
      "39     66.666667\n",
      "42      0.000000\n",
      "44    100.000000\n",
      "45    100.000000\n",
      "46    100.000000\n",
      "48    100.000000\n",
      "50    100.000000\n",
      "Name: Conversion, dtype: float64\n"
     ]
    }
   ],
   "source": [
    "conversions_by_age = df2.groupby(by='Age')['Conversion'].sum() / df2.groupby(by='Age')['Conversion'].count() * 100.0\n",
    "print(conversions_by_age)"
   ]
  },
  {
   "cell_type": "code",
   "execution_count": 32,
   "id": "b4BWL0d3GQL-",
   "metadata": {
    "id": "b4BWL0d3GQL-",
    "outputId": "3ca283ff-dabe-4842-dfb5-1aca028428cb"
   },
   "outputs": [
    {
     "data": {
      "image/png": "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\n",
      "text/plain": [
       "<Figure size 720x504 with 1 Axes>"
      ]
     },
     "metadata": {
      "needs_background": "light"
     },
     "output_type": "display_data"
    }
   ],
   "source": [
    "#Ploting to visualize conversion rates\n",
    "#import matplotlib.pyplot as plt\n",
    "\n",
    "\n",
    "ax = conversions_by_age.plot( \n",
    "kind = 'bar',\n",
    "grid= False,\n",
    "figsize=(10, 7),\n",
    "title='Conversion Rates by Age'\n",
    ")\n",
    "ax.set_xlabel('age')\n",
    "ax.set_ylabel('conversion rate (%)')\n",
    "plt.show()\n"
   ]
  },
  {
   "cell_type": "code",
   "execution_count": 33,
   "id": "kkXnAXelGQMA",
   "metadata": {
    "id": "kkXnAXelGQMA"
   },
   "outputs": [],
   "source": [
    "# we group bank clients into six different groups, based on their age\n",
    "\n",
    "df2['age_group'] = df2['Age'].apply(\n",
    "lambda x: '[10, 20)' if x < 20 else '[20, 30)' if x < 30 \\\n",
    "else '[30, 40)' if x < 40 else '[40, 50)' if x < 50 \\\n",
    "else '[50, 60)' if x < 50 else '50+'\n",
    ")"
   ]
  },
  {
   "cell_type": "code",
   "execution_count": 34,
   "id": "ntiyULgdGQMB",
   "metadata": {
    "id": "ntiyULgdGQMB",
    "outputId": "aac4c5d5-49d1-4252-c2ec-73ebe5ebc579"
   },
   "outputs": [
    {
     "data": {
      "text/html": [
       "<div>\n",
       "<style scoped>\n",
       "    .dataframe tbody tr th:only-of-type {\n",
       "        vertical-align: middle;\n",
       "    }\n",
       "\n",
       "    .dataframe tbody tr th {\n",
       "        vertical-align: top;\n",
       "    }\n",
       "\n",
       "    .dataframe thead th {\n",
       "        text-align: right;\n",
       "    }\n",
       "</style>\n",
       "<table border=\"1\" class=\"dataframe\">\n",
       "  <thead>\n",
       "    <tr style=\"text-align: right;\">\n",
       "      <th></th>\n",
       "      <th>First Name</th>\n",
       "      <th>Last Name</th>\n",
       "      <th>Gender</th>\n",
       "      <th>Marital Status</th>\n",
       "      <th>Converted</th>\n",
       "      <th>Location</th>\n",
       "      <th>Employment Status</th>\n",
       "      <th>Personal Interests</th>\n",
       "      <th>Date of Birth</th>\n",
       "      <th>Education</th>\n",
       "      <th>Profession</th>\n",
       "      <th>Programme of Interest</th>\n",
       "      <th>Level of IT Experience</th>\n",
       "      <th>Employment Preferences</th>\n",
       "      <th>Monthly Salary Expectations (in Naira)</th>\n",
       "      <th>Age</th>\n",
       "      <th>Conversion</th>\n",
       "      <th>age_group</th>\n",
       "    </tr>\n",
       "  </thead>\n",
       "  <tbody>\n",
       "    <tr>\n",
       "      <th>0</th>\n",
       "      <td>Miracle</td>\n",
       "      <td>Obiekwe</td>\n",
       "      <td>Male</td>\n",
       "      <td>Single</td>\n",
       "      <td>NO</td>\n",
       "      <td>Enugu State</td>\n",
       "      <td>Self employed / Business Owner</td>\n",
       "      <td>Data science</td>\n",
       "      <td>1995-06-22</td>\n",
       "      <td>Bachelors</td>\n",
       "      <td>Computer science</td>\n",
       "      <td>Data Science</td>\n",
       "      <td>Intermediate ( 2 - 5 years )</td>\n",
       "      <td>Foreign Employment</td>\n",
       "      <td>2.5million</td>\n",
       "      <td>26</td>\n",
       "      <td>0</td>\n",
       "      <td>[20, 30)</td>\n",
       "    </tr>\n",
       "    <tr>\n",
       "      <th>1</th>\n",
       "      <td>Ibilola</td>\n",
       "      <td>Shobanke</td>\n",
       "      <td>Female</td>\n",
       "      <td>Married</td>\n",
       "      <td>NO</td>\n",
       "      <td>Oyo State</td>\n",
       "      <td>Employed</td>\n",
       "      <td>Technology, Business</td>\n",
       "      <td>1984-07-09</td>\n",
       "      <td>Masters</td>\n",
       "      <td>Lecturing</td>\n",
       "      <td>Data Analytics</td>\n",
       "      <td>Beginner ( 0 - 2 years )</td>\n",
       "      <td>Foreign Employment</td>\n",
       "      <td>N2,000,000</td>\n",
       "      <td>37</td>\n",
       "      <td>0</td>\n",
       "      <td>[30, 40)</td>\n",
       "    </tr>\n",
       "    <tr>\n",
       "      <th>2</th>\n",
       "      <td>Damilola</td>\n",
       "      <td>Oseni</td>\n",
       "      <td>Female</td>\n",
       "      <td>Married</td>\n",
       "      <td>NO</td>\n",
       "      <td>FCT</td>\n",
       "      <td>Employed</td>\n",
       "      <td>Business</td>\n",
       "      <td>1990-08-21</td>\n",
       "      <td>Bachelors</td>\n",
       "      <td>Biochemist</td>\n",
       "      <td>Data Analytics</td>\n",
       "      <td>Beginner ( 0 - 2 years )</td>\n",
       "      <td>Local Employment</td>\n",
       "      <td>100,000</td>\n",
       "      <td>31</td>\n",
       "      <td>0</td>\n",
       "      <td>[30, 40)</td>\n",
       "    </tr>\n",
       "    <tr>\n",
       "      <th>3</th>\n",
       "      <td>Kabir</td>\n",
       "      <td>Salawudeen</td>\n",
       "      <td>Male</td>\n",
       "      <td>Married</td>\n",
       "      <td>NO</td>\n",
       "      <td>FCT</td>\n",
       "      <td>Employed</td>\n",
       "      <td>Technology</td>\n",
       "      <td>1990-01-01</td>\n",
       "      <td>HND</td>\n",
       "      <td>Computer Science</td>\n",
       "      <td>Full-Stack Software Development</td>\n",
       "      <td>Advanced ( 5 years and above )</td>\n",
       "      <td>Foreign Employment</td>\n",
       "      <td>300,000.00</td>\n",
       "      <td>32</td>\n",
       "      <td>0</td>\n",
       "      <td>[30, 40)</td>\n",
       "    </tr>\n",
       "    <tr>\n",
       "      <th>4</th>\n",
       "      <td>Bashir</td>\n",
       "      <td>Hussain</td>\n",
       "      <td>Male</td>\n",
       "      <td>Married</td>\n",
       "      <td>NO</td>\n",
       "      <td>FCT</td>\n",
       "      <td>Employed</td>\n",
       "      <td>Technology, Sports and Travels</td>\n",
       "      <td>1980-05-14</td>\n",
       "      <td>Bachelors</td>\n",
       "      <td>Banking</td>\n",
       "      <td>Data Analytics</td>\n",
       "      <td>Advanced ( 5 years and above )</td>\n",
       "      <td>Foreign Employment</td>\n",
       "      <td>500,000.00</td>\n",
       "      <td>42</td>\n",
       "      <td>0</td>\n",
       "      <td>[40, 50)</td>\n",
       "    </tr>\n",
       "  </tbody>\n",
       "</table>\n",
       "</div>"
      ],
      "text/plain": [
       "  First Name   Last Name  Gender Marital Status Converted     Location  \\\n",
       "0    Miracle     Obiekwe    Male         Single        NO  Enugu State   \n",
       "1   Ibilola    Shobanke   Female        Married        NO    Oyo State   \n",
       "2   Damilola       Oseni  Female        Married        NO          FCT   \n",
       "3      Kabir  Salawudeen    Male        Married        NO          FCT   \n",
       "4    Bashir      Hussain    Male        Married        NO          FCT   \n",
       "\n",
       "                Employment Status              Personal Interests  \\\n",
       "0  Self employed / Business Owner                    Data science   \n",
       "1                        Employed           Technology, Business    \n",
       "2                        Employed                        Business   \n",
       "3                        Employed                      Technology   \n",
       "4                        Employed  Technology, Sports and Travels   \n",
       "\n",
       "  Date of Birth  Education        Profession            Programme of Interest  \\\n",
       "0    1995-06-22  Bachelors  Computer science                     Data Science   \n",
       "1    1984-07-09    Masters        Lecturing                    Data Analytics   \n",
       "2    1990-08-21  Bachelors        Biochemist                   Data Analytics   \n",
       "3    1990-01-01        HND  Computer Science  Full-Stack Software Development   \n",
       "4    1980-05-14  Bachelors          Banking                    Data Analytics   \n",
       "\n",
       "           Level of IT Experience Employment Preferences  \\\n",
       "0    Intermediate ( 2 - 5 years )     Foreign Employment   \n",
       "1        Beginner ( 0 - 2 years )     Foreign Employment   \n",
       "2        Beginner ( 0 - 2 years )       Local Employment   \n",
       "3  Advanced ( 5 years and above )     Foreign Employment   \n",
       "4  Advanced ( 5 years and above )     Foreign Employment   \n",
       "\n",
       "  Monthly Salary Expectations (in Naira)  Age  Conversion age_group  \n",
       "0                             2.5million   26           0  [20, 30)  \n",
       "1                             N2,000,000   37           0  [30, 40)  \n",
       "2                                100,000   31           0  [30, 40)  \n",
       "3                             300,000.00   32           0  [30, 40)  \n",
       "4                             500,000.00   42           0  [40, 50)  "
      ]
     },
     "execution_count": 34,
     "metadata": {},
     "output_type": "execute_result"
    }
   ],
   "source": [
    "df2.head()"
   ]
  },
  {
   "cell_type": "code",
   "execution_count": 35,
   "id": "NQekd3KDGQMC",
   "metadata": {
    "id": "NQekd3KDGQMC"
   },
   "outputs": [],
   "source": [
    "# To calculate the conversion rates for these newly created age groups\n",
    "conversions_by_age_group = df2.groupby(\n",
    "by='age_group'\n",
    ")['Conversion'].sum() / df2.groupby(\n",
    "by='age_group'\n",
    ")['Conversion'].count() * 100.0"
   ]
  },
  {
   "cell_type": "code",
   "execution_count": 36,
   "id": "1a906575-4c36-4b9a-9295-c2c3eb67476c",
   "metadata": {},
   "outputs": [
    {
     "data": {
      "text/html": [
       "<div>\n",
       "<style scoped>\n",
       "    .dataframe tbody tr th:only-of-type {\n",
       "        vertical-align: middle;\n",
       "    }\n",
       "\n",
       "    .dataframe tbody tr th {\n",
       "        vertical-align: top;\n",
       "    }\n",
       "\n",
       "    .dataframe thead th {\n",
       "        text-align: right;\n",
       "    }\n",
       "</style>\n",
       "<table border=\"1\" class=\"dataframe\">\n",
       "  <thead>\n",
       "    <tr style=\"text-align: right;\">\n",
       "      <th></th>\n",
       "      <th>Conversion</th>\n",
       "    </tr>\n",
       "    <tr>\n",
       "      <th>age_group</th>\n",
       "      <th></th>\n",
       "    </tr>\n",
       "  </thead>\n",
       "  <tbody>\n",
       "    <tr>\n",
       "      <th>50+</th>\n",
       "      <td>1</td>\n",
       "    </tr>\n",
       "    <tr>\n",
       "      <th>[10, 20)</th>\n",
       "      <td>4</td>\n",
       "    </tr>\n",
       "    <tr>\n",
       "      <th>[20, 30)</th>\n",
       "      <td>4</td>\n",
       "    </tr>\n",
       "    <tr>\n",
       "      <th>[30, 40)</th>\n",
       "      <td>2</td>\n",
       "    </tr>\n",
       "    <tr>\n",
       "      <th>[40, 50)</th>\n",
       "      <td>4</td>\n",
       "    </tr>\n",
       "  </tbody>\n",
       "</table>\n",
       "</div>"
      ],
      "text/plain": [
       "           Conversion\n",
       "age_group            \n",
       "50+                 1\n",
       "[10, 20)            4\n",
       "[20, 30)            4\n",
       "[30, 40)            2\n",
       "[40, 50)            4"
      ]
     },
     "execution_count": 36,
     "metadata": {},
     "output_type": "execute_result"
    }
   ],
   "source": [
    "age_con = pd.DataFrame(df2.groupby(by='age_group')['Conversion'].sum())\n",
    "age_con\n"
   ]
  },
  {
   "cell_type": "code",
   "execution_count": 37,
   "id": "c2a6e3c2-420c-4cb6-9055-ebd02b991755",
   "metadata": {},
   "outputs": [
    {
     "data": {
      "text/html": [
       "<div>\n",
       "<style scoped>\n",
       "    .dataframe tbody tr th:only-of-type {\n",
       "        vertical-align: middle;\n",
       "    }\n",
       "\n",
       "    .dataframe tbody tr th {\n",
       "        vertical-align: top;\n",
       "    }\n",
       "\n",
       "    .dataframe thead th {\n",
       "        text-align: right;\n",
       "    }\n",
       "</style>\n",
       "<table border=\"1\" class=\"dataframe\">\n",
       "  <thead>\n",
       "    <tr style=\"text-align: right;\">\n",
       "      <th></th>\n",
       "      <th>Conversion</th>\n",
       "    </tr>\n",
       "    <tr>\n",
       "      <th>age_group</th>\n",
       "      <th></th>\n",
       "    </tr>\n",
       "  </thead>\n",
       "  <tbody>\n",
       "    <tr>\n",
       "      <th>50+</th>\n",
       "      <td>1</td>\n",
       "    </tr>\n",
       "    <tr>\n",
       "      <th>[10, 20)</th>\n",
       "      <td>4</td>\n",
       "    </tr>\n",
       "    <tr>\n",
       "      <th>[20, 30)</th>\n",
       "      <td>8</td>\n",
       "    </tr>\n",
       "    <tr>\n",
       "      <th>[30, 40)</th>\n",
       "      <td>6</td>\n",
       "    </tr>\n",
       "    <tr>\n",
       "      <th>[40, 50)</th>\n",
       "      <td>5</td>\n",
       "    </tr>\n",
       "  </tbody>\n",
       "</table>\n",
       "</div>"
      ],
      "text/plain": [
       "           Conversion\n",
       "age_group            \n",
       "50+                 1\n",
       "[10, 20)            4\n",
       "[20, 30)            8\n",
       "[30, 40)            6\n",
       "[40, 50)            5"
      ]
     },
     "execution_count": 37,
     "metadata": {},
     "output_type": "execute_result"
    }
   ],
   "source": [
    "age_count = pd.DataFrame(df2.groupby(by='age_group')['Conversion'].count())\n",
    "age_count"
   ]
  },
  {
   "cell_type": "code",
   "execution_count": 38,
   "id": "LYgS91c0GQMD",
   "metadata": {
    "id": "LYgS91c0GQMD",
    "outputId": "ea21c2a7-1dce-4fb7-dd6d-c50359546324"
   },
   "outputs": [
    {
     "name": "stdout",
     "output_type": "stream",
     "text": [
      "age_group\n",
      "50+         100.000000\n",
      "[10, 20)    100.000000\n",
      "[20, 30)     50.000000\n",
      "[30, 40)     33.333333\n",
      "[40, 50)     80.000000\n",
      "Name: Conversion, dtype: float64\n"
     ]
    }
   ],
   "source": [
    "print(conversions_by_age_group)"
   ]
  },
  {
   "cell_type": "code",
   "execution_count": 39,
   "id": "HhirJ6ROGQME",
   "metadata": {
    "id": "HhirJ6ROGQME",
    "outputId": "39ec56f1-93fc-41c0-f1af-4a0121d578e7"
   },
   "outputs": [
    {
     "data": {
      "image/png": "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\n",
      "text/plain": [
       "<Figure size 864x648 with 2 Axes>"
      ]
     },
     "metadata": {
      "needs_background": "light"
     },
     "output_type": "display_data"
    }
   ],
   "source": [
    "#The code to build this bar plot looks like the following:\n",
    "def addlabels(x,y):\n",
    "    for i in range(len(x)):\n",
    "        plt.text(i,y[i],y[i])\n",
    "if __name__ == '__main__':\n",
    "    # creating data on which bar chart will be plot\n",
    "    x = [\"50+\", \"[10, 20)\", \"[20, 30)\",\n",
    "         \"[30, 40) \", \"[40, 50)\"]\n",
    "    y = [100, 50, 33,\n",
    "         80, 100]\n",
    "addlabels(x, y)    \n",
    "ax = conversions_by_age_group.loc[\n",
    "['[10, 20)', '[20, 30)', '[30, 40)', '[40, 50)', '50+']\n",
    "].plot(\n",
    "kind='bar',\n",
    "color='skyblue',\n",
    "grid=True,\n",
    "figsize=(12, 9),\n",
    "title='Conversion Rates by Age Groups'\n",
    ")\n",
    "\n",
    "\n",
    "ax2 = age_con.plot(ax=ax,\n",
    "kind = 'line',\n",
    "grid=True,secondary_y=True,\n",
    "color='red',\n",
    "alpha=2\n",
    ")\n",
    "ax.set_xlabel('age')\n",
    "ax.set_ylabel('conversion rate (%)')\n",
    "#ax.set_title()\n",
    "ax.legend(['Convertion rate'])\n",
    "ax2.legend(['num_converted'], loc='upper center')\n",
    "ax2.set_ylabel('age_con ')\n",
    "ax.set_ylim([20, 110])\n",
    "ax2.set_ylim([0,10          \n",
    "])\n",
    "\n",
    "plt.show()"
   ]
  },
  {
   "cell_type": "markdown",
   "id": "QFSWwSXNGQMH",
   "metadata": {
    "id": "QFSWwSXNGQMH"
   },
   "source": [
    "### Conversion by employment status"
   ]
  },
  {
   "cell_type": "code",
   "execution_count": 40,
   "id": "_KyF_rMiGQMI",
   "metadata": {
    "id": "_KyF_rMiGQMI",
    "outputId": "93f92635-2d59-4d5a-8010-be74fca1b063"
   },
   "outputs": [
    {
     "data": {
      "text/plain": [
       "array(['Self employed / Business Owner', 'Employed', 'Unemployed'],\n",
       "      dtype=object)"
      ]
     },
     "execution_count": 40,
     "metadata": {},
     "output_type": "execute_result"
    }
   ],
   "source": [
    "# returns the unique values in the employment status column\n",
    "df2['Employment Status'].unique()"
   ]
  },
  {
   "cell_type": "code",
   "execution_count": 41,
   "id": "SpHzF8ZCGQMK",
   "metadata": {
    "id": "SpHzF8ZCGQMK"
   },
   "outputs": [],
   "source": [
    "# We are going to use the pivot_table function in the pandas library to analyze the default rates by conversions.\n",
    "employment_status_conversion= pd.pivot_table(\n",
    "df2,\n",
    "values='Converted',\n",
    "index='Employment Status',\n",
    "columns='Conversion',\n",
    "aggfunc=len\n",
    ")\n"
   ]
  },
  {
   "cell_type": "code",
   "execution_count": 42,
   "id": "0fylwsSsGQML",
   "metadata": {
    "id": "0fylwsSsGQML",
    "outputId": "e1e49cea-8048-4b9d-b255-dda5c9a66e28"
   },
   "outputs": [
    {
     "data": {
      "text/html": [
       "<div>\n",
       "<style scoped>\n",
       "    .dataframe tbody tr th:only-of-type {\n",
       "        vertical-align: middle;\n",
       "    }\n",
       "\n",
       "    .dataframe tbody tr th {\n",
       "        vertical-align: top;\n",
       "    }\n",
       "\n",
       "    .dataframe thead th {\n",
       "        text-align: right;\n",
       "    }\n",
       "</style>\n",
       "<table border=\"1\" class=\"dataframe\">\n",
       "  <thead>\n",
       "    <tr style=\"text-align: right;\">\n",
       "      <th>Conversion</th>\n",
       "      <th>0</th>\n",
       "      <th>1</th>\n",
       "    </tr>\n",
       "    <tr>\n",
       "      <th>Employment Status</th>\n",
       "      <th></th>\n",
       "      <th></th>\n",
       "    </tr>\n",
       "  </thead>\n",
       "  <tbody>\n",
       "    <tr>\n",
       "      <th>Employed</th>\n",
       "      <td>6</td>\n",
       "      <td>4</td>\n",
       "    </tr>\n",
       "    <tr>\n",
       "      <th>Self employed / Business Owner</th>\n",
       "      <td>2</td>\n",
       "      <td>3</td>\n",
       "    </tr>\n",
       "    <tr>\n",
       "      <th>Unemployed</th>\n",
       "      <td>1</td>\n",
       "      <td>8</td>\n",
       "    </tr>\n",
       "  </tbody>\n",
       "</table>\n",
       "</div>"
      ],
      "text/plain": [
       "Conversion                      0  1\n",
       "Employment Status                   \n",
       "Employed                        6  4\n",
       "Self employed / Business Owner  2  3\n",
       "Unemployed                      1  8"
      ]
     },
     "execution_count": 42,
     "metadata": {},
     "output_type": "execute_result"
    }
   ],
   "source": [
    "employment_status_conversion"
   ]
  },
  {
   "cell_type": "code",
   "execution_count": 43,
   "id": "iAqibFBGGQMM",
   "metadata": {
    "id": "iAqibFBGGQMM",
    "outputId": "70c6552a-94a8-4218-ea7a-99a4292b122e"
   },
   "outputs": [
    {
     "data": {
      "image/png": "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\n",
      "text/plain": [
       "<Figure size 1080x504 with 2 Axes>"
      ]
     },
     "metadata": {},
     "output_type": "display_data"
    }
   ],
   "source": [
    "#One way to visualize the data above is through a pie chart.\n",
    "employment_status_conversion.plot(\n",
    "kind='pie',\n",
    "figsize=(15, 7),\n",
    "startangle=90,\n",
    "subplots=True,\n",
    "legend=False,\n",
    "fontsize=12,\n",
    "autopct=lambda x: '%0.1f%%' % x\n",
    ")\n",
    "for ax in plt.gcf().axes:\n",
    "    ax.legend(bbox_to_anchor=(0,1),loc=6)\n",
    "plt.show()\n"
   ]
  },
  {
   "cell_type": "markdown",
   "id": "1Ht0Zp0YGQMN",
   "metadata": {
    "id": "1Ht0Zp0YGQMN"
   },
   "source": [
    "### Conversion rate across Gender"
   ]
  },
  {
   "cell_type": "code",
   "execution_count": 39,
   "id": "Pr5zVgBPGQMO",
   "metadata": {
    "id": "Pr5zVgBPGQMO"
   },
   "outputs": [],
   "source": [
    "# Let's take a look at the conversion rates across different job categories. \n",
    "#conversion_rate_by_gender = df2.groupby(by='Gender')['Conversion'].sum() / df2.groupby(by='Gender')['Conversion'].count() * 100.0"
   ]
  },
  {
   "cell_type": "code",
   "execution_count": 40,
   "id": "2MKxN2EoGQMP",
   "metadata": {
    "id": "2MKxN2EoGQMP"
   },
   "outputs": [],
   "source": [
    "#conversion_rate_by_gender"
   ]
  },
  {
   "cell_type": "code",
   "execution_count": 41,
   "id": "mBA9HK34GQMQ",
   "metadata": {
    "id": "mBA9HK34GQMQ"
   },
   "outputs": [],
   "source": [
    "# df2.groupby(by='Gender')['Conversion'].count()"
   ]
  },
  {
   "cell_type": "code",
   "execution_count": 42,
   "id": "i2_MiKIfGQMR",
   "metadata": {
    "id": "i2_MiKIfGQMR"
   },
   "outputs": [],
   "source": [
    "# df2.groupby(by='Gender')['Conversion'].sum()"
   ]
  },
  {
   "cell_type": "code",
   "execution_count": 43,
   "id": "-xlJ3Z2EGQMR",
   "metadata": {
    "id": "-xlJ3Z2EGQMR"
   },
   "outputs": [],
   "source": [
    " # We can build a horizontal bar chart by using the following code\n",
    "# ax = conversion_rate_by_gender.plot(\n",
    "# kind='bar',\n",
    "# color='skyblue',\n",
    "# grid= False,\n",
    "# fontsize = 15,\n",
    "# figsize=(10, 7),\n",
    "# title='Conversion Rates by Gender'\n",
    "# )\n",
    "# ax.set_ylabel('conversion rate (%)', fontsize = 15)\n",
    "# ax.set_xlabel('Gender',fontsize = 15)\n",
    "# plt.show() "
   ]
  },
  {
   "cell_type": "code",
   "execution_count": 44,
   "id": "E9bqfYWSGQMT",
   "metadata": {
    "id": "E9bqfYWSGQMT",
    "outputId": "f6cbd7ed-d5bd-4034-b98f-87d5fe64a88f"
   },
   "outputs": [
    {
     "data": {
      "text/html": [
       "<div>\n",
       "<style scoped>\n",
       "    .dataframe tbody tr th:only-of-type {\n",
       "        vertical-align: middle;\n",
       "    }\n",
       "\n",
       "    .dataframe tbody tr th {\n",
       "        vertical-align: top;\n",
       "    }\n",
       "\n",
       "    .dataframe thead th {\n",
       "        text-align: right;\n",
       "    }\n",
       "</style>\n",
       "<table border=\"1\" class=\"dataframe\">\n",
       "  <thead>\n",
       "    <tr style=\"text-align: right;\">\n",
       "      <th></th>\n",
       "      <th>First Name</th>\n",
       "      <th>Last Name</th>\n",
       "      <th>Gender</th>\n",
       "      <th>Marital Status</th>\n",
       "      <th>Converted</th>\n",
       "      <th>Location</th>\n",
       "      <th>Employment Status</th>\n",
       "      <th>Personal Interests</th>\n",
       "      <th>Date of Birth</th>\n",
       "      <th>Education</th>\n",
       "      <th>Profession</th>\n",
       "      <th>Programme of Interest</th>\n",
       "      <th>Level of IT Experience</th>\n",
       "      <th>Employment Preferences</th>\n",
       "      <th>Monthly Salary Expectations (in Naira)</th>\n",
       "      <th>Age</th>\n",
       "      <th>Conversion</th>\n",
       "      <th>age_group</th>\n",
       "    </tr>\n",
       "  </thead>\n",
       "  <tbody>\n",
       "    <tr>\n",
       "      <th>0</th>\n",
       "      <td>Miracle</td>\n",
       "      <td>Obiekwe</td>\n",
       "      <td>Male</td>\n",
       "      <td>Single</td>\n",
       "      <td>NO</td>\n",
       "      <td>Enugu State</td>\n",
       "      <td>Self employed / Business Owner</td>\n",
       "      <td>Data science</td>\n",
       "      <td>1995-06-22</td>\n",
       "      <td>Bachelors</td>\n",
       "      <td>Computer science</td>\n",
       "      <td>Data Science</td>\n",
       "      <td>Intermediate ( 2 - 5 years )</td>\n",
       "      <td>Foreign Employment</td>\n",
       "      <td>2.5million</td>\n",
       "      <td>26</td>\n",
       "      <td>0</td>\n",
       "      <td>[20, 30)</td>\n",
       "    </tr>\n",
       "    <tr>\n",
       "      <th>1</th>\n",
       "      <td>Ibilola</td>\n",
       "      <td>Shobanke</td>\n",
       "      <td>Female</td>\n",
       "      <td>Married</td>\n",
       "      <td>NO</td>\n",
       "      <td>Oyo State</td>\n",
       "      <td>Employed</td>\n",
       "      <td>Technology, Business</td>\n",
       "      <td>1984-07-09</td>\n",
       "      <td>Masters</td>\n",
       "      <td>Lecturing</td>\n",
       "      <td>Data Analytics</td>\n",
       "      <td>Beginner ( 0 - 2 years )</td>\n",
       "      <td>Foreign Employment</td>\n",
       "      <td>N2,000,000</td>\n",
       "      <td>37</td>\n",
       "      <td>0</td>\n",
       "      <td>[30, 40)</td>\n",
       "    </tr>\n",
       "    <tr>\n",
       "      <th>2</th>\n",
       "      <td>Damilola</td>\n",
       "      <td>Oseni</td>\n",
       "      <td>Female</td>\n",
       "      <td>Married</td>\n",
       "      <td>NO</td>\n",
       "      <td>FCT</td>\n",
       "      <td>Employed</td>\n",
       "      <td>Business</td>\n",
       "      <td>1990-08-21</td>\n",
       "      <td>Bachelors</td>\n",
       "      <td>Biochemist</td>\n",
       "      <td>Data Analytics</td>\n",
       "      <td>Beginner ( 0 - 2 years )</td>\n",
       "      <td>Local Employment</td>\n",
       "      <td>100,000</td>\n",
       "      <td>31</td>\n",
       "      <td>0</td>\n",
       "      <td>[30, 40)</td>\n",
       "    </tr>\n",
       "    <tr>\n",
       "      <th>3</th>\n",
       "      <td>Kabir</td>\n",
       "      <td>Salawudeen</td>\n",
       "      <td>Male</td>\n",
       "      <td>Married</td>\n",
       "      <td>NO</td>\n",
       "      <td>FCT</td>\n",
       "      <td>Employed</td>\n",
       "      <td>Technology</td>\n",
       "      <td>1990-01-01</td>\n",
       "      <td>HND</td>\n",
       "      <td>Computer Science</td>\n",
       "      <td>Full-Stack Software Development</td>\n",
       "      <td>Advanced ( 5 years and above )</td>\n",
       "      <td>Foreign Employment</td>\n",
       "      <td>300,000.00</td>\n",
       "      <td>32</td>\n",
       "      <td>0</td>\n",
       "      <td>[30, 40)</td>\n",
       "    </tr>\n",
       "    <tr>\n",
       "      <th>4</th>\n",
       "      <td>Bashir</td>\n",
       "      <td>Hussain</td>\n",
       "      <td>Male</td>\n",
       "      <td>Married</td>\n",
       "      <td>NO</td>\n",
       "      <td>FCT</td>\n",
       "      <td>Employed</td>\n",
       "      <td>Technology, Sports and Travels</td>\n",
       "      <td>1980-05-14</td>\n",
       "      <td>Bachelors</td>\n",
       "      <td>Banking</td>\n",
       "      <td>Data Analytics</td>\n",
       "      <td>Advanced ( 5 years and above )</td>\n",
       "      <td>Foreign Employment</td>\n",
       "      <td>500,000.00</td>\n",
       "      <td>42</td>\n",
       "      <td>0</td>\n",
       "      <td>[40, 50)</td>\n",
       "    </tr>\n",
       "  </tbody>\n",
       "</table>\n",
       "</div>"
      ],
      "text/plain": [
       "  First Name   Last Name  Gender Marital Status Converted     Location  \\\n",
       "0    Miracle     Obiekwe    Male         Single        NO  Enugu State   \n",
       "1   Ibilola    Shobanke   Female        Married        NO    Oyo State   \n",
       "2   Damilola       Oseni  Female        Married        NO          FCT   \n",
       "3      Kabir  Salawudeen    Male        Married        NO          FCT   \n",
       "4    Bashir      Hussain    Male        Married        NO          FCT   \n",
       "\n",
       "                Employment Status              Personal Interests  \\\n",
       "0  Self employed / Business Owner                    Data science   \n",
       "1                        Employed           Technology, Business    \n",
       "2                        Employed                        Business   \n",
       "3                        Employed                      Technology   \n",
       "4                        Employed  Technology, Sports and Travels   \n",
       "\n",
       "  Date of Birth  Education        Profession            Programme of Interest  \\\n",
       "0    1995-06-22  Bachelors  Computer science                     Data Science   \n",
       "1    1984-07-09    Masters        Lecturing                    Data Analytics   \n",
       "2    1990-08-21  Bachelors        Biochemist                   Data Analytics   \n",
       "3    1990-01-01        HND  Computer Science  Full-Stack Software Development   \n",
       "4    1980-05-14  Bachelors          Banking                    Data Analytics   \n",
       "\n",
       "           Level of IT Experience Employment Preferences  \\\n",
       "0    Intermediate ( 2 - 5 years )     Foreign Employment   \n",
       "1        Beginner ( 0 - 2 years )     Foreign Employment   \n",
       "2        Beginner ( 0 - 2 years )       Local Employment   \n",
       "3  Advanced ( 5 years and above )     Foreign Employment   \n",
       "4  Advanced ( 5 years and above )     Foreign Employment   \n",
       "\n",
       "  Monthly Salary Expectations (in Naira)  Age  Conversion age_group  \n",
       "0                             2.5million   26           0  [20, 30)  \n",
       "1                             N2,000,000   37           0  [30, 40)  \n",
       "2                                100,000   31           0  [30, 40)  \n",
       "3                             300,000.00   32           0  [30, 40)  \n",
       "4                             500,000.00   42           0  [40, 50)  "
      ]
     },
     "execution_count": 44,
     "metadata": {},
     "output_type": "execute_result"
    }
   ],
   "source": [
    "df2.head()"
   ]
  },
  {
   "cell_type": "code",
   "execution_count": 45,
   "id": "MvpvxzeKGQMU",
   "metadata": {
    "id": "MvpvxzeKGQMU",
    "outputId": "e5afc1bd-34d4-4e21-93fe-848d3d310596"
   },
   "outputs": [
    {
     "data": {
      "text/html": [
       "<div>\n",
       "<style scoped>\n",
       "    .dataframe tbody tr th:only-of-type {\n",
       "        vertical-align: middle;\n",
       "    }\n",
       "\n",
       "    .dataframe tbody tr th {\n",
       "        vertical-align: top;\n",
       "    }\n",
       "\n",
       "    .dataframe thead th {\n",
       "        text-align: right;\n",
       "    }\n",
       "</style>\n",
       "<table border=\"1\" class=\"dataframe\">\n",
       "  <thead>\n",
       "    <tr style=\"text-align: right;\">\n",
       "      <th>Gender</th>\n",
       "      <th>Female</th>\n",
       "      <th>Male</th>\n",
       "    </tr>\n",
       "    <tr>\n",
       "      <th>Conversion</th>\n",
       "      <th></th>\n",
       "      <th></th>\n",
       "    </tr>\n",
       "  </thead>\n",
       "  <tbody>\n",
       "    <tr>\n",
       "      <th>0</th>\n",
       "      <td>4</td>\n",
       "      <td>5</td>\n",
       "    </tr>\n",
       "    <tr>\n",
       "      <th>1</th>\n",
       "      <td>9</td>\n",
       "      <td>6</td>\n",
       "    </tr>\n",
       "  </tbody>\n",
       "</table>\n",
       "</div>"
      ],
      "text/plain": [
       "Gender      Female  Male\n",
       "Conversion              \n",
       "0                4     5\n",
       "1                9     6"
      ]
     },
     "execution_count": 45,
     "metadata": {},
     "output_type": "execute_result"
    }
   ],
   "source": [
    "conversions_by_gender_df = pd.pivot_table(df2, values='Converted', index='Gender', columns='Conversion', aggfunc=len)\n",
    "conversions_by_gender_df.T"
   ]
  },
  {
   "cell_type": "code",
   "execution_count": 46,
   "id": "4IUSjs2wGQMV",
   "metadata": {
    "id": "4IUSjs2wGQMV",
    "outputId": "12c39467-07b3-4e26-c6fa-d3b4e3a64a4b"
   },
   "outputs": [
    {
     "data": {
      "image/png": "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\n",
      "text/plain": [
       "<Figure size 1080x504 with 2 Axes>"
      ]
     },
     "metadata": {},
     "output_type": "display_data"
    }
   ],
   "source": [
    "#representing the above pivot table using a pie chart\n",
    "\n",
    "conversions_by_gender_df.plot(\n",
    "kind='pie',\n",
    "figsize=(15, 7),\n",
    "startangle=90,\n",
    "subplots=True,\n",
    "autopct=lambda x: '%0.1f%%' % x\n",
    ")\n",
    "plt.show()"
   ]
  },
  {
   "cell_type": "markdown",
   "id": "d--3-ac-GQMX",
   "metadata": {
    "id": "d--3-ac-GQMX"
   },
   "source": [
    "## Conversion by marital status"
   ]
  },
  {
   "cell_type": "code",
   "execution_count": 47,
   "id": "5DB2QNFHGQMX",
   "metadata": {
    "id": "5DB2QNFHGQMX",
    "outputId": "46526103-63df-4d80-991b-374f35377950"
   },
   "outputs": [
    {
     "data": {
      "text/html": [
       "<div>\n",
       "<style scoped>\n",
       "    .dataframe tbody tr th:only-of-type {\n",
       "        vertical-align: middle;\n",
       "    }\n",
       "\n",
       "    .dataframe tbody tr th {\n",
       "        vertical-align: top;\n",
       "    }\n",
       "\n",
       "    .dataframe thead th {\n",
       "        text-align: right;\n",
       "    }\n",
       "</style>\n",
       "<table border=\"1\" class=\"dataframe\">\n",
       "  <thead>\n",
       "    <tr style=\"text-align: right;\">\n",
       "      <th>Marital Status</th>\n",
       "      <th>Married</th>\n",
       "      <th>Single</th>\n",
       "    </tr>\n",
       "    <tr>\n",
       "      <th>Conversion</th>\n",
       "      <th></th>\n",
       "      <th></th>\n",
       "    </tr>\n",
       "  </thead>\n",
       "  <tbody>\n",
       "    <tr>\n",
       "      <th>0</th>\n",
       "      <td>6</td>\n",
       "      <td>3</td>\n",
       "    </tr>\n",
       "    <tr>\n",
       "      <th>1</th>\n",
       "      <td>8</td>\n",
       "      <td>7</td>\n",
       "    </tr>\n",
       "  </tbody>\n",
       "</table>\n",
       "</div>"
      ],
      "text/plain": [
       "Marital Status  Married  Single\n",
       "Conversion                     \n",
       "0                     6       3\n",
       "1                     8       7"
      ]
     },
     "execution_count": 47,
     "metadata": {},
     "output_type": "execute_result"
    }
   ],
   "source": [
    "conversions_by_marital_status_df = pd.pivot_table(df2, values='Converted', index='Marital Status', columns='Conversion', aggfunc=len)\n",
    "conversions_by_marital_status_df.T"
   ]
  },
  {
   "cell_type": "code",
   "execution_count": 48,
   "id": "YDrEPAkZGQMZ",
   "metadata": {
    "id": "YDrEPAkZGQMZ",
    "outputId": "39736320-1a0c-49df-8846-4ea761ac1f7d"
   },
   "outputs": [
    {
     "data": {
      "image/png": "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\n",
      "text/plain": [
       "<Figure size 1080x504 with 2 Axes>"
      ]
     },
     "metadata": {},
     "output_type": "display_data"
    }
   ],
   "source": [
    "conversions_by_marital_status_df.plot(\n",
    "kind='pie',\n",
    "figsize=(15, 7),\n",
    "startangle=90,\n",
    "subplots=True,\n",
    "autopct=lambda x: '%0.1f%%' % x\n",
    ")\n",
    "plt.show()"
   ]
  },
  {
   "cell_type": "markdown",
   "id": "uGMTX_O2GQMc",
   "metadata": {
    "id": "uGMTX_O2GQMc"
   },
   "source": [
    "### Conversion rate by education"
   ]
  },
  {
   "cell_type": "code",
   "execution_count": 49,
   "id": "h0fUFbboGQMd",
   "metadata": {
    "id": "h0fUFbboGQMd",
    "outputId": "bd68b7c3-8e7c-4af2-bbff-6c6e3fcae4cd"
   },
   "outputs": [
    {
     "data": {
      "text/plain": [
       "array(['Bachelors', 'Masters', 'HND', 'NCE', 'SSCE'], dtype=object)"
      ]
     },
     "execution_count": 49,
     "metadata": {},
     "output_type": "execute_result"
    }
   ],
   "source": [
    "df2['Education'].unique()"
   ]
  },
  {
   "cell_type": "code",
   "execution_count": 50,
   "id": "FiJWDjFgGQMe",
   "metadata": {
    "id": "FiJWDjFgGQMe"
   },
   "outputs": [],
   "source": [
    "# Let's take a look at the conversion rates across different educational qualification categories. \n",
    "conversion_rate_by_education = df2.groupby(by='Education')['Conversion'].sum() / df2.groupby(by='Education')['Conversion'].count() * 100.0"
   ]
  },
  {
   "cell_type": "code",
   "execution_count": 51,
   "id": "sVZ0ojHkGQMf",
   "metadata": {
    "id": "sVZ0ojHkGQMf",
    "outputId": "1327e153-4610-48df-b471-1755d2a017eb"
   },
   "outputs": [
    {
     "data": {
      "text/plain": [
       "Education\n",
       "Bachelors     44.444444\n",
       "HND            0.000000\n",
       "Masters       75.000000\n",
       "NCE           50.000000\n",
       "SSCE         100.000000\n",
       "Name: Conversion, dtype: float64"
      ]
     },
     "execution_count": 51,
     "metadata": {},
     "output_type": "execute_result"
    }
   ],
   "source": [
    "conversion_rate_by_education "
   ]
  },
  {
   "cell_type": "code",
   "execution_count": 52,
   "id": "J6VE9oDEGQMg",
   "metadata": {
    "id": "J6VE9oDEGQMg",
    "outputId": "fbf7d66d-f1ee-4aa1-f1c0-492229927a86"
   },
   "outputs": [
    {
     "data": {
      "text/plain": [
       "Education\n",
       "Bachelors    4\n",
       "HND          0\n",
       "Masters      6\n",
       "NCE          1\n",
       "SSCE         4\n",
       "Name: Conversion, dtype: int64"
      ]
     },
     "execution_count": 52,
     "metadata": {},
     "output_type": "execute_result"
    }
   ],
   "source": [
    "df2.groupby(by='Education')['Conversion'].sum()"
   ]
  },
  {
   "cell_type": "code",
   "execution_count": 53,
   "id": "kYoq8dTAGQMh",
   "metadata": {
    "id": "kYoq8dTAGQMh",
    "outputId": "bb9a8c20-ef8a-470f-c8f2-34a282ca922d"
   },
   "outputs": [
    {
     "data": {
      "image/png": "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\n",
      "text/plain": [
       "<Figure size 720x504 with 1 Axes>"
      ]
     },
     "metadata": {
      "needs_background": "light"
     },
     "output_type": "display_data"
    }
   ],
   "source": [
    "# We can build a horizontal bar chart by using the following code\n",
    "ax = conversion_rate_by_education.plot(\n",
    "kind='bar',\n",
    "color='skyblue',\n",
    "grid= False,\n",
    "fontsize = 15,\n",
    "figsize=(10, 7),\n",
    "title='Conversion Rates by education'\n",
    ")\n",
    "ax.set_ylabel('conversion rate (%)', fontsize = 15)\n",
    "ax.set_xlabel('Gender',fontsize = 15)\n",
    "plt.show()"
   ]
  },
  {
   "cell_type": "code",
   "execution_count": 54,
   "id": "3u2cgZY_GQMi",
   "metadata": {
    "id": "3u2cgZY_GQMi"
   },
   "outputs": [],
   "source": [
    "# replicating our data\n",
    "df3=pd.concat([df2]*500, ignore_index=True)\n"
   ]
  },
  {
   "cell_type": "code",
   "execution_count": 55,
   "id": "dbf9d74e-2038-4fa9-ae92-4a4525422ab0",
   "metadata": {},
   "outputs": [
    {
     "data": {
      "text/plain": [
       "(12000, 18)"
      ]
     },
     "execution_count": 55,
     "metadata": {},
     "output_type": "execute_result"
    }
   ],
   "source": [
    "df3.shape"
   ]
  },
  {
   "cell_type": "code",
   "execution_count": 106,
   "id": "bf37709d-dc2e-4035-801e-3fbf77414a36",
   "metadata": {},
   "outputs": [
    {
     "data": {
      "text/html": [
       "<div>\n",
       "<style scoped>\n",
       "    .dataframe tbody tr th:only-of-type {\n",
       "        vertical-align: middle;\n",
       "    }\n",
       "\n",
       "    .dataframe tbody tr th {\n",
       "        vertical-align: top;\n",
       "    }\n",
       "\n",
       "    .dataframe thead th {\n",
       "        text-align: right;\n",
       "    }\n",
       "</style>\n",
       "<table border=\"1\" class=\"dataframe\">\n",
       "  <thead>\n",
       "    <tr style=\"text-align: right;\">\n",
       "      <th></th>\n",
       "      <th></th>\n",
       "      <th>Conversion</th>\n",
       "      <th>0</th>\n",
       "      <th>1</th>\n",
       "    </tr>\n",
       "    <tr>\n",
       "      <th>Gender</th>\n",
       "      <th>Marital Status</th>\n",
       "      <th>Employment Status</th>\n",
       "      <th></th>\n",
       "      <th></th>\n",
       "    </tr>\n",
       "  </thead>\n",
       "  <tbody>\n",
       "    <tr>\n",
       "      <th rowspan=\"5\" valign=\"top\">Female</th>\n",
       "      <th rowspan=\"3\" valign=\"top\">Married</th>\n",
       "      <th>Employed</th>\n",
       "      <td>3</td>\n",
       "      <td>2</td>\n",
       "    </tr>\n",
       "    <tr>\n",
       "      <th>Self employed / Business Owner</th>\n",
       "      <td>0</td>\n",
       "      <td>1</td>\n",
       "    </tr>\n",
       "    <tr>\n",
       "      <th>Unemployed</th>\n",
       "      <td>0</td>\n",
       "      <td>2</td>\n",
       "    </tr>\n",
       "    <tr>\n",
       "      <th rowspan=\"2\" valign=\"top\">Single</th>\n",
       "      <th>Self employed / Business Owner</th>\n",
       "      <td>1</td>\n",
       "      <td>0</td>\n",
       "    </tr>\n",
       "    <tr>\n",
       "      <th>Unemployed</th>\n",
       "      <td>0</td>\n",
       "      <td>4</td>\n",
       "    </tr>\n",
       "    <tr>\n",
       "      <th rowspan=\"4\" valign=\"top\">Male</th>\n",
       "      <th rowspan=\"2\" valign=\"top\">Married</th>\n",
       "      <th>Employed</th>\n",
       "      <td>3</td>\n",
       "      <td>2</td>\n",
       "    </tr>\n",
       "    <tr>\n",
       "      <th>Self employed / Business Owner</th>\n",
       "      <td>0</td>\n",
       "      <td>1</td>\n",
       "    </tr>\n",
       "    <tr>\n",
       "      <th rowspan=\"2\" valign=\"top\">Single</th>\n",
       "      <th>Self employed / Business Owner</th>\n",
       "      <td>1</td>\n",
       "      <td>1</td>\n",
       "    </tr>\n",
       "    <tr>\n",
       "      <th>Unemployed</th>\n",
       "      <td>1</td>\n",
       "      <td>2</td>\n",
       "    </tr>\n",
       "  </tbody>\n",
       "</table>\n",
       "</div>"
      ],
      "text/plain": [
       "Conversion                                            0  1\n",
       "Gender Marital Status Employment Status                   \n",
       "Female Married        Employed                        3  2\n",
       "                      Self employed / Business Owner  0  1\n",
       "                      Unemployed                      0  2\n",
       "       Single         Self employed / Business Owner  1  0\n",
       "                      Unemployed                      0  4\n",
       "Male   Married        Employed                        3  2\n",
       "                      Self employed / Business Owner  0  1\n",
       "       Single         Self employed / Business Owner  1  1\n",
       "                      Unemployed                      1  2"
      ]
     },
     "execution_count": 106,
     "metadata": {},
     "output_type": "execute_result"
    }
   ],
   "source": [
    "#df2[['Gender', 'Marital Status', 'Employment Status']].hist(figsize=(16,20),xlabelsize=12,ylabelsize=12)\n",
    "\n",
    "correlation_df = pd.pivot_table(df2, values='Converted',  index=['Gender', 'Marital Status', 'Employment Status'], columns='Conversion', aggfunc=len, fill_value=0)\n",
    "correlation_df\n",
    "\n",
    "#age_count = pd.DataFrame(df2.groupby(by='age_group')['Conversion'].count())\n",
    "#age_count"
   ]
  },
  {
   "cell_type": "code",
   "execution_count": null,
   "id": "4084bd73-b23a-4f8f-80e9-276389769a0b",
   "metadata": {},
   "outputs": [],
   "source": []
  },
  {
   "cell_type": "code",
   "execution_count": null,
   "id": "c9d4ac2c-ffee-4b13-9ed8-62495addede1",
   "metadata": {},
   "outputs": [],
   "source": [
    "# #The code to build this bar plot looks like the following:\n",
    "# def addlabels(x,y):\n",
    "#     for i in range(len(x)):\n",
    "#         plt.text(i,y[i],y[i])\n",
    "# if __name__ == '__main__':\n",
    "#     # creating data on which bar chart will be plot\n",
    "#     x = [\"50+\", \"[10, 20)\", \"[20, 30)\",\n",
    "#          \"[30, 40) \", \"[40, 50)\"]\n",
    "#     y = [100, 50, 33,\n",
    "#          80, 100]\n",
    "# addlabels(x, y)    \n",
    "# ax = conversions_by_age_group.loc[\n",
    "# ['[10, 20)', '[20, 30)', '[30, 40)', '[40, 50)', '50+']\n",
    "# ].plot(\n",
    "# kind='bar',\n",
    "# color='skyblue',\n",
    "# grid=True,\n",
    "# figsize=(12, 9),\n",
    "# title='Conversion Rates by Age Groups'\n",
    "# )\n",
    "\n",
    "\n",
    "# ax2 = age_con.plot(ax=ax,\n",
    "# kind = 'line',\n",
    "# grid=True,secondary_y=True,\n",
    "# color='red',\n",
    "# alpha=2\n",
    "# )\n",
    "# ax.set_xlabel('age')\n",
    "# ax.set_ylabel('conversion rate (%)')\n",
    "# #ax.set_title()\n",
    "# ax.legend(['Convertion rate'])\n",
    "# ax2.legend(['num_converted'], loc='upper center')\n",
    "# ax2.set_ylabel('age_con ')\n",
    "# ax.set_ylim([20, 110])\n",
    "# ax2.set_ylim([0,10          \n",
    "# ])\n",
    "\n",
    "# plt.show()"
   ]
  },
  {
   "cell_type": "code",
   "execution_count": 95,
   "id": "6aab2749-e99e-4735-bfc0-d733b070d12d",
   "metadata": {},
   "outputs": [
    {
     "data": {
      "image/png": "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\n",
      "text/plain": [
       "<Figure size 720x504 with 1 Axes>"
      ]
     },
     "metadata": {
      "needs_background": "light"
     },
     "output_type": "display_data"
    }
   ],
   "source": [
    "ax = correlation_df.plot(\n",
    "kind='bar',\n",
    "color='rg',\n",
    "grid= False,\n",
    "fontsize = 15,\n",
    "figsize=(10, 7),\n",
    "title='Relationship Between G, MS, ES and Conversion'\n",
    ")    \n",
    "\n",
    "\n",
    "ax.set_ylabel('conversion count', fontsize = 15)\n",
    "ax.set_xlabel('Gender',fontsize = 15)\n",
    "plt.show()"
   ]
  },
  {
   "cell_type": "markdown",
   "id": "FLVcU0rNGQMj",
   "metadata": {
    "id": "FLVcU0rNGQMj"
   },
   "source": [
    "## Encoding categorical variables"
   ]
  },
  {
   "cell_type": "code",
   "execution_count": 56,
   "id": "rRXm_UycGQMl",
   "metadata": {
    "id": "rRXm_UycGQMl"
   },
   "outputs": [],
   "source": [
    "# In Python, there are multiple ways to handle categorical variables`\n",
    "# when using the pandas package. Let's first look at factorizing categorical\n",
    "# variables, as shown in the following code\n",
    "\n",
    "gender_values, gender_labels = df3['Gender'].factorize()"
   ]
  },
  {
   "cell_type": "code",
   "execution_count": 57,
   "id": "ReKCI1fjGQMm",
   "metadata": {
    "id": "ReKCI1fjGQMm",
    "outputId": "c4fe004f-0178-4a76-f117-121e7375cbb7"
   },
   "outputs": [
    {
     "data": {
      "text/plain": [
       "array([0, 1, 1, ..., 0, 0, 0], dtype=int64)"
      ]
     },
     "execution_count": 57,
     "metadata": {},
     "output_type": "execute_result"
    }
   ],
   "source": [
    "gender_values"
   ]
  },
  {
   "cell_type": "code",
   "execution_count": 58,
   "id": "8KQ_u04MGQMo",
   "metadata": {
    "id": "8KQ_u04MGQMo",
    "outputId": "fc9cf278-b750-4afc-8c52-5993acf7142c"
   },
   "outputs": [
    {
     "data": {
      "text/plain": [
       "Index(['Male', 'Female'], dtype='object')"
      ]
     },
     "execution_count": 58,
     "metadata": {},
     "output_type": "execute_result"
    }
   ],
   "source": [
    "gender_labels"
   ]
  },
  {
   "cell_type": "code",
   "execution_count": 59,
   "id": "bcRex0RuGQMp",
   "metadata": {
    "id": "bcRex0RuGQMp"
   },
   "outputs": [],
   "source": [
    "categories = pd.Categorical(\n",
    "df3['Employment Status'],\n",
    "categories=['Self employed / Business Owner', 'Employed', 'Unemployed']\n",
    ")"
   ]
  },
  {
   "cell_type": "code",
   "execution_count": 60,
   "id": "nsVpIrnCGQMr",
   "metadata": {
    "id": "nsVpIrnCGQMr"
   },
   "outputs": [],
   "source": [
    "marital_values, marital_labels = df3['Marital Status'].factorize()"
   ]
  },
  {
   "cell_type": "code",
   "execution_count": 61,
   "id": "b5f3dd91-e491-40ac-9437-b720e5e9d096",
   "metadata": {},
   "outputs": [
    {
     "data": {
      "text/plain": [
       "array([0, 1, 1, ..., 0, 0, 0], dtype=int64)"
      ]
     },
     "execution_count": 61,
     "metadata": {},
     "output_type": "execute_result"
    }
   ],
   "source": [
    "marital_values"
   ]
  },
  {
   "cell_type": "code",
   "execution_count": 62,
   "id": "018de239-2fe8-4c2b-92dd-1a4413dc8a78",
   "metadata": {},
   "outputs": [
    {
     "data": {
      "text/plain": [
       "Index(['Single', 'Married'], dtype='object')"
      ]
     },
     "execution_count": 62,
     "metadata": {},
     "output_type": "execute_result"
    }
   ],
   "source": [
    "marital_labels"
   ]
  },
  {
   "cell_type": "code",
   "execution_count": 63,
   "id": "S1prmIzwGQMr",
   "metadata": {
    "id": "S1prmIzwGQMr",
    "outputId": "49ef28ea-b460-4a64-c880-b6250edb3f49"
   },
   "outputs": [
    {
     "data": {
      "text/plain": [
       "array([0, 1, 1, ..., 0, 2, 2], dtype=int8)"
      ]
     },
     "execution_count": 63,
     "metadata": {},
     "output_type": "execute_result"
    }
   ],
   "source": [
    "categories.codes"
   ]
  },
  {
   "cell_type": "code",
   "execution_count": 64,
   "id": "TNTeZvlZGQMs",
   "metadata": {
    "id": "TNTeZvlZGQMs"
   },
   "outputs": [],
   "source": [
    "categories2 = pd.Categorical(\n",
    "df3['Education'],\n",
    "categories=['SSCE','NCE','HND', 'Bachelors','Masters']\n",
    ")"
   ]
  },
  {
   "cell_type": "code",
   "execution_count": 65,
   "id": "JRDYp-MjGQMu",
   "metadata": {
    "id": "JRDYp-MjGQMu",
    "outputId": "58909ccd-1b91-4e2f-865c-b89adacf2562"
   },
   "outputs": [
    {
     "data": {
      "text/plain": [
       "array([3, 4, 3, ..., 3, 3, 1], dtype=int8)"
      ]
     },
     "execution_count": 65,
     "metadata": {},
     "output_type": "execute_result"
    }
   ],
   "source": [
    "categories2.codes"
   ]
  },
  {
   "cell_type": "code",
   "execution_count": 66,
   "id": "KdrWichGGQMw",
   "metadata": {
    "id": "KdrWichGGQMw"
   },
   "outputs": [],
   "source": [
    "# We will now add these encoded variables to the pandas DataFrame, df, as\n",
    "# shown in the following code\n",
    "\n",
    "df3['GenderFactorized'] = gender_values\n",
    "df3['EducationFactorized'] = categories2.codes\n",
    "df3['Employment_StatusFactorized'] = categories.codes\n",
    "df3['MaritalFactorized'] = marital_values"
   ]
  },
  {
   "cell_type": "code",
   "execution_count": 67,
   "id": "2FIS8bieGQMx",
   "metadata": {
    "id": "2FIS8bieGQMx",
    "outputId": "54f252a3-7338-459f-e50e-b2af55251ad1"
   },
   "outputs": [
    {
     "data": {
      "text/plain": [
       "Index(['First Name', 'Last Name', 'Gender', 'Marital Status', 'Converted',\n",
       "       'Location', 'Employment Status', 'Personal Interests', 'Date of Birth',\n",
       "       'Education', 'Profession', 'Programme of Interest',\n",
       "       'Level of IT Experience', 'Employment Preferences',\n",
       "       'Monthly Salary Expectations (in Naira)', 'Age', 'Conversion',\n",
       "       'age_group', 'GenderFactorized', 'EducationFactorized',\n",
       "       'Employment_StatusFactorized', 'MaritalFactorized'],\n",
       "      dtype='object')"
      ]
     },
     "execution_count": 67,
     "metadata": {},
     "output_type": "execute_result"
    }
   ],
   "source": [
    "df3.columns"
   ]
  },
  {
   "cell_type": "code",
   "execution_count": 68,
   "id": "FH7IBWopGQMz",
   "metadata": {
    "id": "FH7IBWopGQMz"
   },
   "outputs": [],
   "source": [
    "input_variable=['Age', 'GenderFactorized', 'EducationFactorized', 'Employment_StatusFactorized','MaritalFactorized']"
   ]
  },
  {
   "cell_type": "markdown",
   "id": "954e004a-9776-4c81-9405-1a9254727a34",
   "metadata": {},
   "source": [
    "### Building our model"
   ]
  },
  {
   "cell_type": "code",
   "execution_count": 72,
   "id": "67f4aefe-b34c-4da0-aff8-4d0a983407c2",
   "metadata": {},
   "outputs": [],
   "source": [
    "# importing the statsmodel package\n",
    "\n",
    "import statsmodels.api as sm"
   ]
  },
  {
   "cell_type": "code",
   "execution_count": 73,
   "id": "M-a9sHnGGQM0",
   "metadata": {
    "id": "M-a9sHnGGQM0",
    "outputId": "10991caf-d238-4465-9b1f-c35332cfbd53"
   },
   "outputs": [
    {
     "name": "stdout",
     "output_type": "stream",
     "text": [
      "Optimization terminated successfully.\n",
      "         Current function value: 0.596265\n",
      "         Iterations 6\n"
     ]
    }
   ],
   "source": [
    "# code to initiate a logistic regression model\n",
    "\n",
    "logit = sm.Logit(\n",
    "df3['Conversion'],\n",
    "df3[input_variable]\n",
    ")\n",
    "logit_fit = logit.fit()"
   ]
  },
  {
   "cell_type": "code",
   "execution_count": 74,
   "id": "PRZtKs8cGQM2",
   "metadata": {
    "id": "PRZtKs8cGQM2"
   },
   "outputs": [
    {
     "data": {
      "text/html": [
       "<table class=\"simpletable\">\n",
       "<caption>Logit Regression Results</caption>\n",
       "<tr>\n",
       "  <th>Dep. Variable:</th>      <td>Conversion</td>    <th>  No. Observations:  </th>  <td> 12000</td> \n",
       "</tr>\n",
       "<tr>\n",
       "  <th>Model:</th>                 <td>Logit</td>      <th>  Df Residuals:      </th>  <td> 11995</td> \n",
       "</tr>\n",
       "<tr>\n",
       "  <th>Method:</th>                 <td>MLE</td>       <th>  Df Model:          </th>  <td>     4</td> \n",
       "</tr>\n",
       "<tr>\n",
       "  <th>Date:</th>            <td>Thu, 02 Jun 2022</td> <th>  Pseudo R-squ.:     </th>  <td>0.09870</td>\n",
       "</tr>\n",
       "<tr>\n",
       "  <th>Time:</th>                <td>11:14:02</td>     <th>  Log-Likelihood:    </th> <td> -7155.2</td>\n",
       "</tr>\n",
       "<tr>\n",
       "  <th>converged:</th>             <td>True</td>       <th>  LL-Null:           </th> <td> -7938.8</td>\n",
       "</tr>\n",
       "<tr>\n",
       "  <th>Covariance Type:</th>     <td>nonrobust</td>    <th>  LLR p-value:       </th>  <td> 0.000</td> \n",
       "</tr>\n",
       "</table>\n",
       "<table class=\"simpletable\">\n",
       "<tr>\n",
       "               <td></td>                  <th>coef</th>     <th>std err</th>      <th>z</th>      <th>P>|z|</th>  <th>[0.025</th>    <th>0.975]</th>  \n",
       "</tr>\n",
       "<tr>\n",
       "  <th>Age</th>                         <td>    0.0629</td> <td>    0.003</td> <td>   19.579</td> <td> 0.000</td> <td>    0.057</td> <td>    0.069</td>\n",
       "</tr>\n",
       "<tr>\n",
       "  <th>GenderFactorized</th>            <td>    0.5283</td> <td>    0.042</td> <td>   12.546</td> <td> 0.000</td> <td>    0.446</td> <td>    0.611</td>\n",
       "</tr>\n",
       "<tr>\n",
       "  <th>EducationFactorized</th>         <td>   -0.4603</td> <td>    0.030</td> <td>  -15.531</td> <td> 0.000</td> <td>   -0.518</td> <td>   -0.402</td>\n",
       "</tr>\n",
       "<tr>\n",
       "  <th>Employment_StatusFactorized</th> <td>    0.2487</td> <td>    0.029</td> <td>    8.623</td> <td> 0.000</td> <td>    0.192</td> <td>    0.305</td>\n",
       "</tr>\n",
       "<tr>\n",
       "  <th>MaritalFactorized</th>           <td>   -1.0884</td> <td>    0.061</td> <td>  -17.974</td> <td> 0.000</td> <td>   -1.207</td> <td>   -0.970</td>\n",
       "</tr>\n",
       "</table>"
      ],
      "text/plain": [
       "<class 'statsmodels.iolib.summary.Summary'>\n",
       "\"\"\"\n",
       "                           Logit Regression Results                           \n",
       "==============================================================================\n",
       "Dep. Variable:             Conversion   No. Observations:                12000\n",
       "Model:                          Logit   Df Residuals:                    11995\n",
       "Method:                           MLE   Df Model:                            4\n",
       "Date:                Thu, 02 Jun 2022   Pseudo R-squ.:                 0.09870\n",
       "Time:                        11:14:02   Log-Likelihood:                -7155.2\n",
       "converged:                       True   LL-Null:                       -7938.8\n",
       "Covariance Type:            nonrobust   LLR p-value:                     0.000\n",
       "===============================================================================================\n",
       "                                  coef    std err          z      P>|z|      [0.025      0.975]\n",
       "-----------------------------------------------------------------------------------------------\n",
       "Age                             0.0629      0.003     19.579      0.000       0.057       0.069\n",
       "GenderFactorized                0.5283      0.042     12.546      0.000       0.446       0.611\n",
       "EducationFactorized            -0.4603      0.030    -15.531      0.000      -0.518      -0.402\n",
       "Employment_StatusFactorized     0.2487      0.029      8.623      0.000       0.192       0.305\n",
       "MaritalFactorized              -1.0884      0.061    -17.974      0.000      -1.207      -0.970\n",
       "===============================================================================================\n",
       "\"\"\""
      ]
     },
     "execution_count": 74,
     "metadata": {},
     "output_type": "execute_result"
    }
   ],
   "source": [
    "logit_fit.summary()"
   ]
  },
  {
   "cell_type": "code",
   "execution_count": null,
   "id": "RnoK9f1fGQM4",
   "metadata": {
    "id": "RnoK9f1fGQM4"
   },
   "outputs": [],
   "source": []
  },
  {
   "cell_type": "code",
   "execution_count": null,
   "id": "cXQ-GUsxGQM7",
   "metadata": {
    "id": "cXQ-GUsxGQM7"
   },
   "outputs": [],
   "source": []
  }
 ],
 "metadata": {
  "colab": {
   "name": "Data science campaign data.ipynb",
   "provenance": []
  },
  "kernelspec": {
   "display_name": "Python 3",
   "language": "python",
   "name": "python3"
  },
  "language_info": {
   "codemirror_mode": {
    "name": "ipython",
    "version": 3
   },
   "file_extension": ".py",
   "mimetype": "text/x-python",
   "name": "python",
   "nbconvert_exporter": "python",
   "pygments_lexer": "ipython3",
   "version": "3.8.8"
  }
 },
 "nbformat": 4,
 "nbformat_minor": 5
}
=======
{"cells":[{"cell_type":"code","execution_count":null,"id":"GNLwi_fiGQKX","metadata":{"id":"GNLwi_fiGQKX"},"outputs":[],"source":["# importing neccessary packages\n","import pandas as pd\n","import numpy as np\n","from datetime import date,datetime\n","import matplotlib.pyplot as plt"]},{"cell_type":"code","source":["from google.colab import drive\n","drive.mount('/content/drive')"],"metadata":{"colab":{"base_uri":"https://localhost:8080/"},"id":"7YPLEvjX9NJi","executionInfo":{"status":"ok","timestamp":1655373656416,"user_tz":-60,"elapsed":37152,"user":{"displayName":"Dataset NexusTech","userId":"07175580999036037068"}},"outputId":"9a08c78c-ed9c-43c0-9610-3d20f971d383"},"id":"7YPLEvjX9NJi","execution_count":null,"outputs":[{"output_type":"stream","name":"stdout","text":["Mounted at /content/drive\n"]}]},{"cell_type":"code","execution_count":null,"id":"Fhqhi2SsGQKu","metadata":{"id":"Fhqhi2SsGQKu"},"outputs":[],"source":["# importing dataset\n","df=pd.read_csv('/content/drive/MyDrive/Marketing Analytics Script Files/Customer Marketing Data/DatasetNexusTech_Customer_Data_Details.csv')"]},{"cell_type":"code","execution_count":null,"id":"gUr-jbsNGQKz","metadata":{"id":"gUr-jbsNGQKz","outputId":"4c2410c5-102b-46cb-e830-16df96b93080","colab":{"base_uri":"https://localhost:8080/","height":855},"executionInfo":{"status":"ok","timestamp":1655373866552,"user_tz":-60,"elapsed":460,"user":{"displayName":"Dataset NexusTech","userId":"07175580999036037068"}}},"outputs":[{"output_type":"execute_result","data":{"text/plain":["             Submitted First Name   Last Name               Email Address  \\\n","0  2022-05-12 15:06:53    Miracle     Obiekwe    miracleobiekwe@yahoo.com   \n","1  2022-04-06 20:41:29   Ibilola    Shobanke       lolashobanke@gmail.com   \n","2  2022-04-06 12:22:57   Damilola       Oseni   dammygeorge5050@gmail.com   \n","3   2022-04-06 9:30:50      Kabir  Salawudeen  salawudeenkabeer@gmail.com   \n","4  2022-04-05 14:40:24    Bashir      Hussain        uniquebash@gmail.com   \n","\n","   Gender Marital Status Converted Sponsored/Self Sponsored     Location  \\\n","0    Male         Single        NO                      NaN  Enugu State   \n","1  Female        Married        NO                      NaN    Oyo State   \n","2  Female        Married        NO                      NaN          FCT   \n","3    Male        Married        NO                      NaN          FCT   \n","4    Male        Married        NO                      NaN          FCT   \n","\n","                                      Postal Address  ...  \\\n","0  <p>Nigeria prisons barracks enugu state comman...  ...   \n","1     <p>3 Fafunlayo Layout, Iwo Road, Ibadan </p>\\n  ...   \n","2  <p>1 EMMANUEL NTUK, GOSHEN VILLA ESTATE, LUGBE...  ...   \n","3           <p>23, Angwar Siyawa Abuja Nigeria</p>\\n  ...   \n","4  <p>Plot 785 Herbert Macaulay Way, CBD Abuja</p>\\n  ...   \n","\n","             Programme of Interest          Level of IT Experience  \\\n","0                     Data Science    Intermediate ( 2 - 5 years )   \n","1                   Data Analytics        Beginner ( 0 - 2 years )   \n","2                   Data Analytics        Beginner ( 0 - 2 years )   \n","3  Full-Stack Software Development  Advanced ( 5 years and above )   \n","4                   Data Analytics  Advanced ( 5 years and above )   \n","\n","  What is your main motivation for enrolling in the programme?  \\\n","0  <p>That I can do all things through Christ tha...             \n","1  <p>For self development and to increase my cha...             \n","2                                <p>Knowledge </p>\\n             \n","3  <p>One of your student got a good and well pay...             \n","4     <p>To start a career path on technology </p>\\n             \n","\n","  What are the challenges you've experienced while trying to meet the above stated goal(s)?  \\\n","0  <p>Coding is my challenge.. I have tried it be...                                          \n","1                                       <p>N/A</p>\\n                                          \n","2  <p>Fear of failing<br />\\nBudget<br />\\nLack o...                                          \n","3  <p>Network challenges and at times work relate...                                          \n","4                                 <p>Interest </p>\\n                                          \n","\n","  What can we do to help you overcome these challenges?  \\\n","0     <p>I need maximum attention and guidance</p>\\n      \n","1                                       <p>N/A</p>\\n      \n","2       <p>Give Feedbacks on how I can improve</p>\\n      \n","3  <p>If I can have a full knowledge in becoming ...      \n","4                                <p>Enrolment </p>\\n      \n","\n","  Employment Preferences Monthly Salary Expectations (in Naira)  \\\n","0     Foreign Employment                             2.5million   \n","1     Foreign Employment                             N2,000,000   \n","2       Local Employment                                100,000   \n","3     Foreign Employment                             300,000.00   \n","4     Foreign Employment                             500,000.00   \n","\n","      What is your short term (2 years) career goal?  \\\n","0  <p>To be a consultant in the field of data sci...   \n","1  <p>Becoming a genius in data analytics and hav...   \n","2  <p>Successful implementation of what I have le...   \n","3  <p>1.Earn a new certificate or degree.<br />\\n...   \n","4  <p>To obtain basic certification on technology...   \n","\n","    What is your mid-term (2 - 5 years) career goal?  \\\n","0  <p>Empowering children from the street to stud...   \n","1  <p>To become diverse in the other aspects of t...   \n","2                <p>To work in an organization</p>\\n   \n","3                 <p>Start a personal project.</p>\\n   \n","4  <p>To obtain multiple certifications on techno...   \n","\n","      What is your long term (5+ years) career goal?  \n","0           <p>To be the best across the globe</p>\\n  \n","1                                                NaN  \n","2                                                NaN  \n","3  <p>1. Get familiar with new technology.<br />\\...  \n","4    <p>To be a reference point in technology </p>\\n  \n","\n","[5 rows x 31 columns]"],"text/html":["\n","  <div id=\"df-ad9ce50b-b6b4-40bc-9ca3-51fbb280ac05\">\n","    <div class=\"colab-df-container\">\n","      <div>\n","<style scoped>\n","    .dataframe tbody tr th:only-of-type {\n","        vertical-align: middle;\n","    }\n","\n","    .dataframe tbody tr th {\n","        vertical-align: top;\n","    }\n","\n","    .dataframe thead th {\n","        text-align: right;\n","    }\n","</style>\n","<table border=\"1\" class=\"dataframe\">\n","  <thead>\n","    <tr style=\"text-align: right;\">\n","      <th></th>\n","      <th>Submitted</th>\n","      <th>First Name</th>\n","      <th>Last Name</th>\n","      <th>Email Address</th>\n","      <th>Gender</th>\n","      <th>Marital Status</th>\n","      <th>Converted</th>\n","      <th>Sponsored/Self Sponsored</th>\n","      <th>Location</th>\n","      <th>Postal Address</th>\n","      <th>...</th>\n","      <th>Programme of Interest</th>\n","      <th>Level of IT Experience</th>\n","      <th>What is your main motivation for enrolling in the programme?</th>\n","      <th>What are the challenges you've experienced while trying to meet the above stated goal(s)?</th>\n","      <th>What can we do to help you overcome these challenges?</th>\n","      <th>Employment Preferences</th>\n","      <th>Monthly Salary Expectations (in Naira)</th>\n","      <th>What is your short term (2 years) career goal?</th>\n","      <th>What is your mid-term (2 - 5 years) career goal?</th>\n","      <th>What is your long term (5+ years) career goal?</th>\n","    </tr>\n","  </thead>\n","  <tbody>\n","    <tr>\n","      <th>0</th>\n","      <td>2022-05-12 15:06:53</td>\n","      <td>Miracle</td>\n","      <td>Obiekwe</td>\n","      <td>miracleobiekwe@yahoo.com</td>\n","      <td>Male</td>\n","      <td>Single</td>\n","      <td>NO</td>\n","      <td>NaN</td>\n","      <td>Enugu State</td>\n","      <td>&lt;p&gt;Nigeria prisons barracks enugu state comman...</td>\n","      <td>...</td>\n","      <td>Data Science</td>\n","      <td>Intermediate ( 2 - 5 years )</td>\n","      <td>&lt;p&gt;That I can do all things through Christ tha...</td>\n","      <td>&lt;p&gt;Coding is my challenge.. I have tried it be...</td>\n","      <td>&lt;p&gt;I need maximum attention and guidance&lt;/p&gt;\\n</td>\n","      <td>Foreign Employment</td>\n","      <td>2.5million</td>\n","      <td>&lt;p&gt;To be a consultant in the field of data sci...</td>\n","      <td>&lt;p&gt;Empowering children from the street to stud...</td>\n","      <td>&lt;p&gt;To be the best across the globe&lt;/p&gt;\\n</td>\n","    </tr>\n","    <tr>\n","      <th>1</th>\n","      <td>2022-04-06 20:41:29</td>\n","      <td>Ibilola</td>\n","      <td>Shobanke</td>\n","      <td>lolashobanke@gmail.com</td>\n","      <td>Female</td>\n","      <td>Married</td>\n","      <td>NO</td>\n","      <td>NaN</td>\n","      <td>Oyo State</td>\n","      <td>&lt;p&gt;3 Fafunlayo Layout, Iwo Road, Ibadan &lt;/p&gt;\\n</td>\n","      <td>...</td>\n","      <td>Data Analytics</td>\n","      <td>Beginner ( 0 - 2 years )</td>\n","      <td>&lt;p&gt;For self development and to increase my cha...</td>\n","      <td>&lt;p&gt;N/A&lt;/p&gt;\\n</td>\n","      <td>&lt;p&gt;N/A&lt;/p&gt;\\n</td>\n","      <td>Foreign Employment</td>\n","      <td>N2,000,000</td>\n","      <td>&lt;p&gt;Becoming a genius in data analytics and hav...</td>\n","      <td>&lt;p&gt;To become diverse in the other aspects of t...</td>\n","      <td>NaN</td>\n","    </tr>\n","    <tr>\n","      <th>2</th>\n","      <td>2022-04-06 12:22:57</td>\n","      <td>Damilola</td>\n","      <td>Oseni</td>\n","      <td>dammygeorge5050@gmail.com</td>\n","      <td>Female</td>\n","      <td>Married</td>\n","      <td>NO</td>\n","      <td>NaN</td>\n","      <td>FCT</td>\n","      <td>&lt;p&gt;1 EMMANUEL NTUK, GOSHEN VILLA ESTATE, LUGBE...</td>\n","      <td>...</td>\n","      <td>Data Analytics</td>\n","      <td>Beginner ( 0 - 2 years )</td>\n","      <td>&lt;p&gt;Knowledge &lt;/p&gt;\\n</td>\n","      <td>&lt;p&gt;Fear of failing&lt;br /&gt;\\nBudget&lt;br /&gt;\\nLack o...</td>\n","      <td>&lt;p&gt;Give Feedbacks on how I can improve&lt;/p&gt;\\n</td>\n","      <td>Local Employment</td>\n","      <td>100,000</td>\n","      <td>&lt;p&gt;Successful implementation of what I have le...</td>\n","      <td>&lt;p&gt;To work in an organization&lt;/p&gt;\\n</td>\n","      <td>NaN</td>\n","    </tr>\n","    <tr>\n","      <th>3</th>\n","      <td>2022-04-06 9:30:50</td>\n","      <td>Kabir</td>\n","      <td>Salawudeen</td>\n","      <td>salawudeenkabeer@gmail.com</td>\n","      <td>Male</td>\n","      <td>Married</td>\n","      <td>NO</td>\n","      <td>NaN</td>\n","      <td>FCT</td>\n","      <td>&lt;p&gt;23, Angwar Siyawa Abuja Nigeria&lt;/p&gt;\\n</td>\n","      <td>...</td>\n","      <td>Full-Stack Software Development</td>\n","      <td>Advanced ( 5 years and above )</td>\n","      <td>&lt;p&gt;One of your student got a good and well pay...</td>\n","      <td>&lt;p&gt;Network challenges and at times work relate...</td>\n","      <td>&lt;p&gt;If I can have a full knowledge in becoming ...</td>\n","      <td>Foreign Employment</td>\n","      <td>300,000.00</td>\n","      <td>&lt;p&gt;1.Earn a new certificate or degree.&lt;br /&gt;\\n...</td>\n","      <td>&lt;p&gt;Start a personal project.&lt;/p&gt;\\n</td>\n","      <td>&lt;p&gt;1. Get familiar with new technology.&lt;br /&gt;\\...</td>\n","    </tr>\n","    <tr>\n","      <th>4</th>\n","      <td>2022-04-05 14:40:24</td>\n","      <td>Bashir</td>\n","      <td>Hussain</td>\n","      <td>uniquebash@gmail.com</td>\n","      <td>Male</td>\n","      <td>Married</td>\n","      <td>NO</td>\n","      <td>NaN</td>\n","      <td>FCT</td>\n","      <td>&lt;p&gt;Plot 785 Herbert Macaulay Way, CBD Abuja&lt;/p&gt;\\n</td>\n","      <td>...</td>\n","      <td>Data Analytics</td>\n","      <td>Advanced ( 5 years and above )</td>\n","      <td>&lt;p&gt;To start a career path on technology &lt;/p&gt;\\n</td>\n","      <td>&lt;p&gt;Interest &lt;/p&gt;\\n</td>\n","      <td>&lt;p&gt;Enrolment &lt;/p&gt;\\n</td>\n","      <td>Foreign Employment</td>\n","      <td>500,000.00</td>\n","      <td>&lt;p&gt;To obtain basic certification on technology...</td>\n","      <td>&lt;p&gt;To obtain multiple certifications on techno...</td>\n","      <td>&lt;p&gt;To be a reference point in technology &lt;/p&gt;\\n</td>\n","    </tr>\n","  </tbody>\n","</table>\n","<p>5 rows × 31 columns</p>\n","</div>\n","      <button class=\"colab-df-convert\" onclick=\"convertToInteractive('df-ad9ce50b-b6b4-40bc-9ca3-51fbb280ac05')\"\n","              title=\"Convert this dataframe to an interactive table.\"\n","              style=\"display:none;\">\n","        \n","  <svg xmlns=\"http://www.w3.org/2000/svg\" height=\"24px\"viewBox=\"0 0 24 24\"\n","       width=\"24px\">\n","    <path d=\"M0 0h24v24H0V0z\" fill=\"none\"/>\n","    <path d=\"M18.56 5.44l.94 2.06.94-2.06 2.06-.94-2.06-.94-.94-2.06-.94 2.06-2.06.94zm-11 1L8.5 8.5l.94-2.06 2.06-.94-2.06-.94L8.5 2.5l-.94 2.06-2.06.94zm10 10l.94 2.06.94-2.06 2.06-.94-2.06-.94-.94-2.06-.94 2.06-2.06.94z\"/><path d=\"M17.41 7.96l-1.37-1.37c-.4-.4-.92-.59-1.43-.59-.52 0-1.04.2-1.43.59L10.3 9.45l-7.72 7.72c-.78.78-.78 2.05 0 2.83L4 21.41c.39.39.9.59 1.41.59.51 0 1.02-.2 1.41-.59l7.78-7.78 2.81-2.81c.8-.78.8-2.07 0-2.86zM5.41 20L4 18.59l7.72-7.72 1.47 1.35L5.41 20z\"/>\n","  </svg>\n","      </button>\n","      \n","  <style>\n","    .colab-df-container {\n","      display:flex;\n","      flex-wrap:wrap;\n","      gap: 12px;\n","    }\n","\n","    .colab-df-convert {\n","      background-color: #E8F0FE;\n","      border: none;\n","      border-radius: 50%;\n","      cursor: pointer;\n","      display: none;\n","      fill: #1967D2;\n","      height: 32px;\n","      padding: 0 0 0 0;\n","      width: 32px;\n","    }\n","\n","    .colab-df-convert:hover {\n","      background-color: #E2EBFA;\n","      box-shadow: 0px 1px 2px rgba(60, 64, 67, 0.3), 0px 1px 3px 1px rgba(60, 64, 67, 0.15);\n","      fill: #174EA6;\n","    }\n","\n","    [theme=dark] .colab-df-convert {\n","      background-color: #3B4455;\n","      fill: #D2E3FC;\n","    }\n","\n","    [theme=dark] .colab-df-convert:hover {\n","      background-color: #434B5C;\n","      box-shadow: 0px 1px 3px 1px rgba(0, 0, 0, 0.15);\n","      filter: drop-shadow(0px 1px 2px rgba(0, 0, 0, 0.3));\n","      fill: #FFFFFF;\n","    }\n","  </style>\n","\n","      <script>\n","        const buttonEl =\n","          document.querySelector('#df-ad9ce50b-b6b4-40bc-9ca3-51fbb280ac05 button.colab-df-convert');\n","        buttonEl.style.display =\n","          google.colab.kernel.accessAllowed ? 'block' : 'none';\n","\n","        async function convertToInteractive(key) {\n","          const element = document.querySelector('#df-ad9ce50b-b6b4-40bc-9ca3-51fbb280ac05');\n","          const dataTable =\n","            await google.colab.kernel.invokeFunction('convertToInteractive',\n","                                                     [key], {});\n","          if (!dataTable) return;\n","\n","          const docLinkHtml = 'Like what you see? Visit the ' +\n","            '<a target=\"_blank\" href=https://colab.research.google.com/notebooks/data_table.ipynb>data table notebook</a>'\n","            + ' to learn more about interactive tables.';\n","          element.innerHTML = '';\n","          dataTable['output_type'] = 'display_data';\n","          await google.colab.output.renderOutput(dataTable, element);\n","          const docLink = document.createElement('div');\n","          docLink.innerHTML = docLinkHtml;\n","          element.appendChild(docLink);\n","        }\n","      </script>\n","    </div>\n","  </div>\n","  "]},"metadata":{},"execution_count":4}],"source":["# Return the first five number of rows.\n","df.head()"]},{"cell_type":"code","execution_count":null,"id":"GPfXrOkhGQK5","metadata":{"id":"GPfXrOkhGQK5","outputId":"b57571c0-ac4d-4e0d-c8f4-c3a050e74ef0","colab":{"base_uri":"https://localhost:8080/"},"executionInfo":{"status":"ok","timestamp":1655373873619,"user_tz":-60,"elapsed":361,"user":{"displayName":"Dataset NexusTech","userId":"07175580999036037068"}}},"outputs":[{"output_type":"execute_result","data":{"text/plain":["Index(['Submitted', 'First Name', 'Last Name', 'Email Address', 'Gender',\n","       'Marital Status', 'Converted', 'Sponsored/Self Sponsored', 'Location',\n","       'Postal Address', 'Employment Status', 'Personal Interests',\n","       'What Social Media do you use?',\n","       'What is your primary objective/goal for enrolling in this programme?',\n","       'What is your secondary objective/goal for enrolling in this programme?',\n","       'What can we do to help you achieve the above stated goal(s)?',\n","       'How you determine the achievement of above stated goal(s)?',\n","       'Phone Number', 'Date of Birth', 'Education', 'Profession',\n","       'Programme of Interest', 'Level of IT Experience',\n","       'What is your main motivation for enrolling in the programme?',\n","       'What are the challenges you've experienced while trying to meet the above stated goal(s)?',\n","       'What can we do to help you overcome these challenges?',\n","       'Employment Preferences', 'Monthly Salary Expectations (in Naira)',\n","       'What is your short term (2 years) career goal?',\n","       'What is your mid-term (2 - 5 years) career goal?',\n","       'What is your long term (5+ years) career goal?'],\n","      dtype='object')"]},"metadata":{},"execution_count":5}],"source":["# returns the list of column names in the dataset\n","df.columns"]},{"cell_type":"code","execution_count":null,"id":"8pcGA8O5GQK_","metadata":{"id":"8pcGA8O5GQK_","outputId":"00f12045-fdfe-4320-8b8a-8ea96d5e3bb5"},"outputs":[{"data":{"text/plain":["(26, 31)"]},"execution_count":5,"metadata":{},"output_type":"execute_result"}],"source":["df.shape"]},{"cell_type":"code","execution_count":null,"id":"om9mXT3LGQLD","metadata":{"id":"om9mXT3LGQLD","outputId":"36645c1e-77c3-4df8-acf9-a7bfc4f36fad","colab":{"base_uri":"https://localhost:8080/"},"executionInfo":{"status":"ok","timestamp":1655373878069,"user_tz":-60,"elapsed":719,"user":{"displayName":"Dataset NexusTech","userId":"07175580999036037068"}}},"outputs":[{"output_type":"stream","name":"stdout","text":["<class 'pandas.core.frame.DataFrame'>\n","RangeIndex: 26 entries, 0 to 25\n","Data columns (total 31 columns):\n"," #   Column                                                                                     Non-Null Count  Dtype \n","---  ------                                                                                     --------------  ----- \n"," 0   Submitted                                                                                  26 non-null     object\n"," 1   First Name                                                                                 26 non-null     object\n"," 2   Last Name                                                                                  26 non-null     object\n"," 3   Email Address                                                                              26 non-null     object\n"," 4   Gender                                                                                     26 non-null     object\n"," 5   Marital Status                                                                             26 non-null     object\n"," 6   Converted                                                                                  26 non-null     object\n"," 7   Sponsored/Self Sponsored                                                                   17 non-null     object\n"," 8   Location                                                                                   26 non-null     object\n"," 9   Postal Address                                                                             15 non-null     object\n"," 10  Employment Status                                                                          26 non-null     object\n"," 11  Personal Interests                                                                         26 non-null     object\n"," 12  What Social Media do you use?                                                              26 non-null     object\n"," 13  What is your primary objective/goal for enrolling in this programme?                       26 non-null     object\n"," 14  What is your secondary objective/goal for enrolling in this programme?                     22 non-null     object\n"," 15  What can we do to help you achieve the above stated goal(s)?                               26 non-null     object\n"," 16  How you determine the achievement of above stated goal(s)?                                 26 non-null     object\n"," 17  Phone Number                                                                               26 non-null     int64 \n"," 18  Date of Birth                                                                              26 non-null     object\n"," 19  Education                                                                                  26 non-null     object\n"," 20  Profession                                                                                 25 non-null     object\n"," 21  Programme of Interest                                                                      26 non-null     object\n"," 22  Level of IT Experience                                                                     24 non-null     object\n"," 23  What is your main motivation for enrolling in the programme?                               24 non-null     object\n"," 24  What are the challenges you've experienced while trying to meet the above stated goal(s)?  24 non-null     object\n"," 25  What can we do to help you overcome these challenges?                                      24 non-null     object\n"," 26  Employment Preferences                                                                     22 non-null     object\n"," 27  Monthly Salary Expectations (in Naira)                                                     22 non-null     object\n"," 28  What is your short term (2 years) career goal?                                             22 non-null     object\n"," 29  What is your mid-term (2 - 5 years) career goal?                                           22 non-null     object\n"," 30  What is your long term (5+ years) career goal?                                             19 non-null     object\n","dtypes: int64(1), object(30)\n","memory usage: 6.4+ KB\n"]}],"source":["df.info()"]},{"cell_type":"code","execution_count":null,"id":"amdNFg4AGQLG","metadata":{"id":"amdNFg4AGQLG","outputId":"f9eb2a82-f881-4a2f-eb65-c50e3471822b","colab":{"base_uri":"https://localhost:8080/"},"executionInfo":{"status":"ok","timestamp":1655373884925,"user_tz":-60,"elapsed":396,"user":{"displayName":"Dataset NexusTech","userId":"07175580999036037068"}}},"outputs":[{"output_type":"execute_result","data":{"text/plain":["Submitted                                                                                     0\n","First Name                                                                                    0\n","Last Name                                                                                     0\n","Email Address                                                                                 0\n","Gender                                                                                        0\n","Marital Status                                                                                0\n","Converted                                                                                     0\n","Sponsored/Self Sponsored                                                                      9\n","Location                                                                                      0\n","Postal Address                                                                               11\n","Employment Status                                                                             0\n","Personal Interests                                                                            0\n","What Social Media do you use?                                                                 0\n","What is your primary objective/goal for enrolling in this programme?                          0\n","What is your secondary objective/goal for enrolling in this programme?                        4\n","What can we do to help you achieve the above stated goal(s)?                                  0\n","How you determine the achievement of above stated goal(s)?                                    0\n","Phone Number                                                                                  0\n","Date of Birth                                                                                 0\n","Education                                                                                     0\n","Profession                                                                                    1\n","Programme of Interest                                                                         0\n","Level of IT Experience                                                                        2\n","What is your main motivation for enrolling in the programme?                                  2\n","What are the challenges you've experienced while trying to meet the above stated goal(s)?     2\n","What can we do to help you overcome these challenges?                                         2\n","Employment Preferences                                                                        4\n","Monthly Salary Expectations (in Naira)                                                        4\n","What is your short term (2 years) career goal?                                                4\n","What is your mid-term (2 - 5 years) career goal?                                              4\n","What is your long term (5+ years) career goal?                                                7\n","dtype: int64"]},"metadata":{},"execution_count":7}],"source":["df.isnull().sum()"]},{"cell_type":"code","execution_count":null,"id":"AmOJdfcVGQLK","metadata":{"id":"AmOJdfcVGQLK"},"outputs":[],"source":["# Use df.columns command to drop columns via indexing\n","df2 = df.drop(df.columns[[0,3,8,9,12,13,14,15,16,17,22,23,24,25,28,29,30]], axis=1)"]},{"cell_type":"code","execution_count":null,"id":"BYrurKTLGQLN","metadata":{"id":"BYrurKTLGQLN","outputId":"c3a9f177-d94b-418f-d53f-46e22abc2e46","colab":{"base_uri":"https://localhost:8080/"},"executionInfo":{"status":"ok","timestamp":1655373940167,"user_tz":-60,"elapsed":327,"user":{"displayName":"Dataset NexusTech","userId":"07175580999036037068"}}},"outputs":[{"output_type":"execute_result","data":{"text/plain":["Index(['First Name', 'Last Name', 'Gender', 'Marital Status', 'Converted',\n","       'Sponsored/Self Sponsored', 'Employment Status', 'Personal Interests',\n","       'Date of Birth', 'Education', 'Profession', 'Programme of Interest',\n","       'Employment Preferences', 'Monthly Salary Expectations (in Naira)'],\n","      dtype='object')"]},"metadata":{},"execution_count":9}],"source":["df2.columns"]},{"cell_type":"code","execution_count":null,"id":"CwrV-wO2GQLR","metadata":{"id":"CwrV-wO2GQLR"},"outputs":[],"source":["# filling missing values in the converted column\n","df2['Converted'] = df2['Converted'].replace(np.NaN, 'No') "]},{"cell_type":"code","execution_count":null,"id":"ocvRpFAwGQLU","metadata":{"id":"ocvRpFAwGQLU"},"outputs":[],"source":["# filling missing values in the converted column\n","df2['Converted'] = df2['Converted'].replace(np.NaN, 'No') "]},{"cell_type":"code","execution_count":null,"id":"6g7IPh6VGQLW","metadata":{"id":"6g7IPh6VGQLW"},"outputs":[],"source":["df2['Personal Interests'] = df2['Personal Interests'].str.replace(r'</p>|<p>|\\n', '',regex = True)"]},{"cell_type":"code","execution_count":null,"id":"cEs0UXzdGQLY","metadata":{"id":"cEs0UXzdGQLY"},"outputs":[],"source":["df2['Education'] = df2['Education'].replace('Bachelor&#039;s Degree', 'Bachelors')"]},{"cell_type":"code","execution_count":null,"id":"S-jHMe46GQLZ","metadata":{"id":"S-jHMe46GQLZ"},"outputs":[],"source":["# creating an 'Age' column\n","def age(born):\n","    born = datetime.strptime(born, \"%Y-%m-%d\").date()\n","    today = date.today()\n","    return today.year - born.year - ((today.month, today.day) < (born.month, born.day))\n","  \n","df2['Age'] = df2['Date of Birth'].apply(age)\n","  \n","# display(df2)"]},{"cell_type":"code","execution_count":null,"id":"2JQt6iQAGQLc","metadata":{"id":"2JQt6iQAGQLc","outputId":"7d3818e1-b792-4e2b-a5b0-c1299e652047","colab":{"base_uri":"https://localhost:8080/"},"executionInfo":{"status":"ok","timestamp":1655374039076,"user_tz":-60,"elapsed":356,"user":{"displayName":"Dataset NexusTech","userId":"07175580999036037068"}}},"outputs":[{"output_type":"execute_result","data":{"text/plain":["First Name                                0\n","Last Name                                 0\n","Gender                                    0\n","Marital Status                            0\n","Converted                                 0\n","Sponsored/Self Sponsored                  9\n","Employment Status                         0\n","Personal Interests                        0\n","Date of Birth                             0\n","Education                                 0\n","Profession                                1\n","Programme of Interest                     0\n","Employment Preferences                    4\n","Monthly Salary Expectations (in Naira)    4\n","Age                                       0\n","dtype: int64"]},"metadata":{},"execution_count":15}],"source":["df2.isnull().sum()"]},{"cell_type":"code","execution_count":null,"id":"4Powk5IUGQLe","metadata":{"id":"4Powk5IUGQLe","outputId":"0928d427-1a3d-4052-fb5c-b0f273c0ddeb","colab":{"base_uri":"https://localhost:8080/","height":1000},"executionInfo":{"status":"ok","timestamp":1655374049627,"user_tz":-60,"elapsed":905,"user":{"displayName":"Dataset NexusTech","userId":"07175580999036037068"}}},"outputs":[{"output_type":"execute_result","data":{"text/plain":["        First Name    Last Name  Gender Marital Status Converted  \\\n","0          Miracle      Obiekwe    Male         Single        NO   \n","1         Ibilola     Shobanke   Female        Married        NO   \n","2         Damilola        Oseni  Female        Married        NO   \n","3            Kabir   Salawudeen    Male        Married        NO   \n","4          Bashir       Hussain    Male        Married        NO   \n","5         Adekunle     Olusanya    Male        Married       Yes   \n","6            Idowu       Ismail    Male         Single        NO   \n","7         Toyyibat  Abdulkareem  Female        Married        NO   \n","8         Tolulope     Obatusin    Male        Married        NO   \n","9       Olubusayo        Ikotun  Female         Single        NO   \n","10          Isoken   Igbinovia   Female        Married       Yes   \n","11        Ifeyinwa        Bello  Female        Married       Yes   \n","12  Udodirim Lynda     Attudume  Female        Married       Yes   \n","13          Amaka          Jaja  Female        Married       Yes   \n","14         Olumide          Adu    Male        Married       Yes   \n","15        Aramide       Olalere    Male        Married       Yes   \n","16         Omotayo        Mercy  Female         Single       Yes   \n","17          Aminat       Badiru  Female        Married       Yes   \n","18  Oluwatimilehin      Aramide  Female         Single       Yes   \n","19      OluFeranmi     Olusanya  Female         Single       Yes   \n","\n","   Sponsored/Self Sponsored               Employment Status  \\\n","0                       NaN  Self employed / Business Owner   \n","1                       NaN                        Employed   \n","2                       NaN                        Employed   \n","3                       NaN                        Employed   \n","4                       NaN                        Employed   \n","5            Self Sponsored                        Employed   \n","6                       NaN                      Unemployed   \n","7                       NaN                        Employed   \n","8                       NaN                        Employed   \n","9                       NaN  Self employed / Business Owner   \n","10           Self Sponsored                        Employed   \n","11           Self Sponsored                      Unemployed   \n","12           Self Sponsored  Self employed / Business Owner   \n","13                Sponsored                        Employed   \n","14           Self Sponsored  Self employed / Business Owner   \n","15           Self Sponsored                        Employed   \n","16                Sponsored                      Unemployed   \n","17                Sponsored                      Unemployed   \n","18                Sponsored                      Unemployed   \n","19                Sponsored                      Unemployed   \n","\n","                                   Personal Interests Date of Birth  \\\n","0                                        Data science    1995-06-22   \n","1                               Technology, Business     1984-07-09   \n","2                                            Business    1990-08-21   \n","3                                          Technology    1990-01-01   \n","4                      Technology, Sports and Travels    1980-05-14   \n","5                     Business Governance, Technology    1978-05-01   \n","6                                              Travel    1997-07-07   \n","7                                           Tech Savy    1995-10-21   \n","8                                          Technology    1983-02-02   \n","9                        Law, Reading and Technology     1996-02-01   \n","10                           Travelling, Technology,     1982-11-17   \n","11                                             Travel    1975-06-18   \n","12                               Business and Travels    1973-08-26   \n","13                  Reading/research, and networking     1976-11-28   \n","14                                           Politics    1982-09-18   \n","15                                       Travelling,     1971-09-24   \n","16  Traveling<br />Editing videos<br />Reading<br ...    2007-03-20   \n","17                       travel, business, technology    1995-12-12   \n","18                                  Technology,Travel    2004-11-11   \n","19                                           Business    2003-07-15   \n","\n","    Education                          Profession  \\\n","0   Bachelors                    Computer science   \n","1     Masters                          Lecturing    \n","2   Bachelors                          Biochemist   \n","3         HND                    Computer Science   \n","4   Bachelors                            Banking    \n","5   Bachelors           Project Manager/ IT Audit   \n","6         NCE                        Engineering    \n","7   Bachelors                   Software engineer   \n","8     Masters              Clinical Administrator   \n","9   Bachelors                              Lawyer   \n","10    Masters  Administrative and Finance Officer   \n","11    Masters                       Administrator   \n","12    Masters             Self employed/ business   \n","13    Masters     Accountant/Financial Economist    \n","14    Masters                        Entrepreneur   \n","15    Masters                      Public officer   \n","16       SSCE                        Data science   \n","17  Bachelors                  Mass communication   \n","18       SSCE                                 NaN   \n","19       SSCE                       Data science    \n","\n","              Programme of Interest Employment Preferences  \\\n","0                      Data Science     Foreign Employment   \n","1                    Data Analytics     Foreign Employment   \n","2                    Data Analytics       Local Employment   \n","3   Full-Stack Software Development     Foreign Employment   \n","4                    Data Analytics     Foreign Employment   \n","5                      Data Science     Foreign Employment   \n","6   Full-Stack Software Development     Foreign Employment   \n","7   Full-Stack Software Development      Remote Employment   \n","8                      Data Science     Foreign Employment   \n","9                      Data Science      Remote Employment   \n","10                     Data Science     Foreign Employment   \n","11                     Data Science     Foreign Employment   \n","12                     Data Science     Foreign Employment   \n","13                     Data Science     Foreign Employment   \n","14                     Data Science                    NaN   \n","15                   Data Analytics                    NaN   \n","16                   Data Analytics      Remote Employment   \n","17                   Data Analytics      Remote Employment   \n","18                     Data Science      Remote Employment   \n","19                     Data Science      Remote Employment   \n","\n","   Monthly Salary Expectations (in Naira)  Age  \n","0                              2.5million   26  \n","1                              N2,000,000   37  \n","2                                 100,000   31  \n","3                              300,000.00   32  \n","4                              500,000.00   42  \n","5                                N2000000   44  \n","6                         5,000,000 Naira   24  \n","7                                 800,000   26  \n","8                             N1, 500.000   39  \n","9                         1 million naira   26  \n","10                              3,000,000   39  \n","11                              1,500,000   46  \n","12                   #4,000,000 and above   48  \n","13                  6,000,000 (Naira) pa.   45  \n","14                                    NaN   39  \n","15                                    NaN   50  \n","16      Ranges of 3.5m to 4.5m per month.   15  \n","17                  2,000,000 - 3,000,000   26  \n","18                              3,500,000   17  \n","19                     Four Million Naira   18  "],"text/html":["\n","  <div id=\"df-bca2264b-a31f-413a-b12a-59965cdf5309\">\n","    <div class=\"colab-df-container\">\n","      <div>\n","<style scoped>\n","    .dataframe tbody tr th:only-of-type {\n","        vertical-align: middle;\n","    }\n","\n","    .dataframe tbody tr th {\n","        vertical-align: top;\n","    }\n","\n","    .dataframe thead th {\n","        text-align: right;\n","    }\n","</style>\n","<table border=\"1\" class=\"dataframe\">\n","  <thead>\n","    <tr style=\"text-align: right;\">\n","      <th></th>\n","      <th>First Name</th>\n","      <th>Last Name</th>\n","      <th>Gender</th>\n","      <th>Marital Status</th>\n","      <th>Converted</th>\n","      <th>Sponsored/Self Sponsored</th>\n","      <th>Employment Status</th>\n","      <th>Personal Interests</th>\n","      <th>Date of Birth</th>\n","      <th>Education</th>\n","      <th>Profession</th>\n","      <th>Programme of Interest</th>\n","      <th>Employment Preferences</th>\n","      <th>Monthly Salary Expectations (in Naira)</th>\n","      <th>Age</th>\n","    </tr>\n","  </thead>\n","  <tbody>\n","    <tr>\n","      <th>0</th>\n","      <td>Miracle</td>\n","      <td>Obiekwe</td>\n","      <td>Male</td>\n","      <td>Single</td>\n","      <td>NO</td>\n","      <td>NaN</td>\n","      <td>Self employed / Business Owner</td>\n","      <td>Data science</td>\n","      <td>1995-06-22</td>\n","      <td>Bachelors</td>\n","      <td>Computer science</td>\n","      <td>Data Science</td>\n","      <td>Foreign Employment</td>\n","      <td>2.5million</td>\n","      <td>26</td>\n","    </tr>\n","    <tr>\n","      <th>1</th>\n","      <td>Ibilola</td>\n","      <td>Shobanke</td>\n","      <td>Female</td>\n","      <td>Married</td>\n","      <td>NO</td>\n","      <td>NaN</td>\n","      <td>Employed</td>\n","      <td>Technology, Business</td>\n","      <td>1984-07-09</td>\n","      <td>Masters</td>\n","      <td>Lecturing</td>\n","      <td>Data Analytics</td>\n","      <td>Foreign Employment</td>\n","      <td>N2,000,000</td>\n","      <td>37</td>\n","    </tr>\n","    <tr>\n","      <th>2</th>\n","      <td>Damilola</td>\n","      <td>Oseni</td>\n","      <td>Female</td>\n","      <td>Married</td>\n","      <td>NO</td>\n","      <td>NaN</td>\n","      <td>Employed</td>\n","      <td>Business</td>\n","      <td>1990-08-21</td>\n","      <td>Bachelors</td>\n","      <td>Biochemist</td>\n","      <td>Data Analytics</td>\n","      <td>Local Employment</td>\n","      <td>100,000</td>\n","      <td>31</td>\n","    </tr>\n","    <tr>\n","      <th>3</th>\n","      <td>Kabir</td>\n","      <td>Salawudeen</td>\n","      <td>Male</td>\n","      <td>Married</td>\n","      <td>NO</td>\n","      <td>NaN</td>\n","      <td>Employed</td>\n","      <td>Technology</td>\n","      <td>1990-01-01</td>\n","      <td>HND</td>\n","      <td>Computer Science</td>\n","      <td>Full-Stack Software Development</td>\n","      <td>Foreign Employment</td>\n","      <td>300,000.00</td>\n","      <td>32</td>\n","    </tr>\n","    <tr>\n","      <th>4</th>\n","      <td>Bashir</td>\n","      <td>Hussain</td>\n","      <td>Male</td>\n","      <td>Married</td>\n","      <td>NO</td>\n","      <td>NaN</td>\n","      <td>Employed</td>\n","      <td>Technology, Sports and Travels</td>\n","      <td>1980-05-14</td>\n","      <td>Bachelors</td>\n","      <td>Banking</td>\n","      <td>Data Analytics</td>\n","      <td>Foreign Employment</td>\n","      <td>500,000.00</td>\n","      <td>42</td>\n","    </tr>\n","    <tr>\n","      <th>5</th>\n","      <td>Adekunle</td>\n","      <td>Olusanya</td>\n","      <td>Male</td>\n","      <td>Married</td>\n","      <td>Yes</td>\n","      <td>Self Sponsored</td>\n","      <td>Employed</td>\n","      <td>Business Governance, Technology</td>\n","      <td>1978-05-01</td>\n","      <td>Bachelors</td>\n","      <td>Project Manager/ IT Audit</td>\n","      <td>Data Science</td>\n","      <td>Foreign Employment</td>\n","      <td>N2000000</td>\n","      <td>44</td>\n","    </tr>\n","    <tr>\n","      <th>6</th>\n","      <td>Idowu</td>\n","      <td>Ismail</td>\n","      <td>Male</td>\n","      <td>Single</td>\n","      <td>NO</td>\n","      <td>NaN</td>\n","      <td>Unemployed</td>\n","      <td>Travel</td>\n","      <td>1997-07-07</td>\n","      <td>NCE</td>\n","      <td>Engineering</td>\n","      <td>Full-Stack Software Development</td>\n","      <td>Foreign Employment</td>\n","      <td>5,000,000 Naira</td>\n","      <td>24</td>\n","    </tr>\n","    <tr>\n","      <th>7</th>\n","      <td>Toyyibat</td>\n","      <td>Abdulkareem</td>\n","      <td>Female</td>\n","      <td>Married</td>\n","      <td>NO</td>\n","      <td>NaN</td>\n","      <td>Employed</td>\n","      <td>Tech Savy</td>\n","      <td>1995-10-21</td>\n","      <td>Bachelors</td>\n","      <td>Software engineer</td>\n","      <td>Full-Stack Software Development</td>\n","      <td>Remote Employment</td>\n","      <td>800,000</td>\n","      <td>26</td>\n","    </tr>\n","    <tr>\n","      <th>8</th>\n","      <td>Tolulope</td>\n","      <td>Obatusin</td>\n","      <td>Male</td>\n","      <td>Married</td>\n","      <td>NO</td>\n","      <td>NaN</td>\n","      <td>Employed</td>\n","      <td>Technology</td>\n","      <td>1983-02-02</td>\n","      <td>Masters</td>\n","      <td>Clinical Administrator</td>\n","      <td>Data Science</td>\n","      <td>Foreign Employment</td>\n","      <td>N1, 500.000</td>\n","      <td>39</td>\n","    </tr>\n","    <tr>\n","      <th>9</th>\n","      <td>Olubusayo</td>\n","      <td>Ikotun</td>\n","      <td>Female</td>\n","      <td>Single</td>\n","      <td>NO</td>\n","      <td>NaN</td>\n","      <td>Self employed / Business Owner</td>\n","      <td>Law, Reading and Technology</td>\n","      <td>1996-02-01</td>\n","      <td>Bachelors</td>\n","      <td>Lawyer</td>\n","      <td>Data Science</td>\n","      <td>Remote Employment</td>\n","      <td>1 million naira</td>\n","      <td>26</td>\n","    </tr>\n","    <tr>\n","      <th>10</th>\n","      <td>Isoken</td>\n","      <td>Igbinovia</td>\n","      <td>Female</td>\n","      <td>Married</td>\n","      <td>Yes</td>\n","      <td>Self Sponsored</td>\n","      <td>Employed</td>\n","      <td>Travelling, Technology,</td>\n","      <td>1982-11-17</td>\n","      <td>Masters</td>\n","      <td>Administrative and Finance Officer</td>\n","      <td>Data Science</td>\n","      <td>Foreign Employment</td>\n","      <td>3,000,000</td>\n","      <td>39</td>\n","    </tr>\n","    <tr>\n","      <th>11</th>\n","      <td>Ifeyinwa</td>\n","      <td>Bello</td>\n","      <td>Female</td>\n","      <td>Married</td>\n","      <td>Yes</td>\n","      <td>Self Sponsored</td>\n","      <td>Unemployed</td>\n","      <td>Travel</td>\n","      <td>1975-06-18</td>\n","      <td>Masters</td>\n","      <td>Administrator</td>\n","      <td>Data Science</td>\n","      <td>Foreign Employment</td>\n","      <td>1,500,000</td>\n","      <td>46</td>\n","    </tr>\n","    <tr>\n","      <th>12</th>\n","      <td>Udodirim Lynda</td>\n","      <td>Attudume</td>\n","      <td>Female</td>\n","      <td>Married</td>\n","      <td>Yes</td>\n","      <td>Self Sponsored</td>\n","      <td>Self employed / Business Owner</td>\n","      <td>Business and Travels</td>\n","      <td>1973-08-26</td>\n","      <td>Masters</td>\n","      <td>Self employed/ business</td>\n","      <td>Data Science</td>\n","      <td>Foreign Employment</td>\n","      <td>#4,000,000 and above</td>\n","      <td>48</td>\n","    </tr>\n","    <tr>\n","      <th>13</th>\n","      <td>Amaka</td>\n","      <td>Jaja</td>\n","      <td>Female</td>\n","      <td>Married</td>\n","      <td>Yes</td>\n","      <td>Sponsored</td>\n","      <td>Employed</td>\n","      <td>Reading/research, and networking</td>\n","      <td>1976-11-28</td>\n","      <td>Masters</td>\n","      <td>Accountant/Financial Economist</td>\n","      <td>Data Science</td>\n","      <td>Foreign Employment</td>\n","      <td>6,000,000 (Naira) pa.</td>\n","      <td>45</td>\n","    </tr>\n","    <tr>\n","      <th>14</th>\n","      <td>Olumide</td>\n","      <td>Adu</td>\n","      <td>Male</td>\n","      <td>Married</td>\n","      <td>Yes</td>\n","      <td>Self Sponsored</td>\n","      <td>Self employed / Business Owner</td>\n","      <td>Politics</td>\n","      <td>1982-09-18</td>\n","      <td>Masters</td>\n","      <td>Entrepreneur</td>\n","      <td>Data Science</td>\n","      <td>NaN</td>\n","      <td>NaN</td>\n","      <td>39</td>\n","    </tr>\n","    <tr>\n","      <th>15</th>\n","      <td>Aramide</td>\n","      <td>Olalere</td>\n","      <td>Male</td>\n","      <td>Married</td>\n","      <td>Yes</td>\n","      <td>Self Sponsored</td>\n","      <td>Employed</td>\n","      <td>Travelling,</td>\n","      <td>1971-09-24</td>\n","      <td>Masters</td>\n","      <td>Public officer</td>\n","      <td>Data Analytics</td>\n","      <td>NaN</td>\n","      <td>NaN</td>\n","      <td>50</td>\n","    </tr>\n","    <tr>\n","      <th>16</th>\n","      <td>Omotayo</td>\n","      <td>Mercy</td>\n","      <td>Female</td>\n","      <td>Single</td>\n","      <td>Yes</td>\n","      <td>Sponsored</td>\n","      <td>Unemployed</td>\n","      <td>Traveling&lt;br /&gt;Editing videos&lt;br /&gt;Reading&lt;br ...</td>\n","      <td>2007-03-20</td>\n","      <td>SSCE</td>\n","      <td>Data science</td>\n","      <td>Data Analytics</td>\n","      <td>Remote Employment</td>\n","      <td>Ranges of 3.5m to 4.5m per month.</td>\n","      <td>15</td>\n","    </tr>\n","    <tr>\n","      <th>17</th>\n","      <td>Aminat</td>\n","      <td>Badiru</td>\n","      <td>Female</td>\n","      <td>Married</td>\n","      <td>Yes</td>\n","      <td>Sponsored</td>\n","      <td>Unemployed</td>\n","      <td>travel, business, technology</td>\n","      <td>1995-12-12</td>\n","      <td>Bachelors</td>\n","      <td>Mass communication</td>\n","      <td>Data Analytics</td>\n","      <td>Remote Employment</td>\n","      <td>2,000,000 - 3,000,000</td>\n","      <td>26</td>\n","    </tr>\n","    <tr>\n","      <th>18</th>\n","      <td>Oluwatimilehin</td>\n","      <td>Aramide</td>\n","      <td>Female</td>\n","      <td>Single</td>\n","      <td>Yes</td>\n","      <td>Sponsored</td>\n","      <td>Unemployed</td>\n","      <td>Technology,Travel</td>\n","      <td>2004-11-11</td>\n","      <td>SSCE</td>\n","      <td>NaN</td>\n","      <td>Data Science</td>\n","      <td>Remote Employment</td>\n","      <td>3,500,000</td>\n","      <td>17</td>\n","    </tr>\n","    <tr>\n","      <th>19</th>\n","      <td>OluFeranmi</td>\n","      <td>Olusanya</td>\n","      <td>Female</td>\n","      <td>Single</td>\n","      <td>Yes</td>\n","      <td>Sponsored</td>\n","      <td>Unemployed</td>\n","      <td>Business</td>\n","      <td>2003-07-15</td>\n","      <td>SSCE</td>\n","      <td>Data science</td>\n","      <td>Data Science</td>\n","      <td>Remote Employment</td>\n","      <td>Four Million Naira</td>\n","      <td>18</td>\n","    </tr>\n","  </tbody>\n","</table>\n","</div>\n","      <button class=\"colab-df-convert\" onclick=\"convertToInteractive('df-bca2264b-a31f-413a-b12a-59965cdf5309')\"\n","              title=\"Convert this dataframe to an interactive table.\"\n","              style=\"display:none;\">\n","        \n","  <svg xmlns=\"http://www.w3.org/2000/svg\" height=\"24px\"viewBox=\"0 0 24 24\"\n","       width=\"24px\">\n","    <path d=\"M0 0h24v24H0V0z\" fill=\"none\"/>\n","    <path d=\"M18.56 5.44l.94 2.06.94-2.06 2.06-.94-2.06-.94-.94-2.06-.94 2.06-2.06.94zm-11 1L8.5 8.5l.94-2.06 2.06-.94-2.06-.94L8.5 2.5l-.94 2.06-2.06.94zm10 10l.94 2.06.94-2.06 2.06-.94-2.06-.94-.94-2.06-.94 2.06-2.06.94z\"/><path d=\"M17.41 7.96l-1.37-1.37c-.4-.4-.92-.59-1.43-.59-.52 0-1.04.2-1.43.59L10.3 9.45l-7.72 7.72c-.78.78-.78 2.05 0 2.83L4 21.41c.39.39.9.59 1.41.59.51 0 1.02-.2 1.41-.59l7.78-7.78 2.81-2.81c.8-.78.8-2.07 0-2.86zM5.41 20L4 18.59l7.72-7.72 1.47 1.35L5.41 20z\"/>\n","  </svg>\n","      </button>\n","      \n","  <style>\n","    .colab-df-container {\n","      display:flex;\n","      flex-wrap:wrap;\n","      gap: 12px;\n","    }\n","\n","    .colab-df-convert {\n","      background-color: #E8F0FE;\n","      border: none;\n","      border-radius: 50%;\n","      cursor: pointer;\n","      display: none;\n","      fill: #1967D2;\n","      height: 32px;\n","      padding: 0 0 0 0;\n","      width: 32px;\n","    }\n","\n","    .colab-df-convert:hover {\n","      background-color: #E2EBFA;\n","      box-shadow: 0px 1px 2px rgba(60, 64, 67, 0.3), 0px 1px 3px 1px rgba(60, 64, 67, 0.15);\n","      fill: #174EA6;\n","    }\n","\n","    [theme=dark] .colab-df-convert {\n","      background-color: #3B4455;\n","      fill: #D2E3FC;\n","    }\n","\n","    [theme=dark] .colab-df-convert:hover {\n","      background-color: #434B5C;\n","      box-shadow: 0px 1px 3px 1px rgba(0, 0, 0, 0.15);\n","      filter: drop-shadow(0px 1px 2px rgba(0, 0, 0, 0.3));\n","      fill: #FFFFFF;\n","    }\n","  </style>\n","\n","      <script>\n","        const buttonEl =\n","          document.querySelector('#df-bca2264b-a31f-413a-b12a-59965cdf5309 button.colab-df-convert');\n","        buttonEl.style.display =\n","          google.colab.kernel.accessAllowed ? 'block' : 'none';\n","\n","        async function convertToInteractive(key) {\n","          const element = document.querySelector('#df-bca2264b-a31f-413a-b12a-59965cdf5309');\n","          const dataTable =\n","            await google.colab.kernel.invokeFunction('convertToInteractive',\n","                                                     [key], {});\n","          if (!dataTable) return;\n","\n","          const docLinkHtml = 'Like what you see? Visit the ' +\n","            '<a target=\"_blank\" href=https://colab.research.google.com/notebooks/data_table.ipynb>data table notebook</a>'\n","            + ' to learn more about interactive tables.';\n","          element.innerHTML = '';\n","          dataTable['output_type'] = 'display_data';\n","          await google.colab.output.renderOutput(dataTable, element);\n","          const docLink = document.createElement('div');\n","          docLink.innerHTML = docLinkHtml;\n","          element.appendChild(docLink);\n","        }\n","      </script>\n","    </div>\n","  </div>\n","  "]},"metadata":{},"execution_count":16}],"source":["df2.head(20)"]},{"cell_type":"code","source":["df2['Prospect_ID'] = [ 'DS1', 'DS2', 'DS3','DS4','DS5','DS6','DS7','DS8','DS9','DS10','DS11','DS12','DS13','DS14','DS15','DS16','DS17','DS18',\n","                     'DS19','DS20','DS21','DS22','DS23','DS24','DS25','DS26']"],"metadata":{"id":"ueU8M6NVB01N"},"id":"ueU8M6NVB01N","execution_count":null,"outputs":[]},{"cell_type":"code","execution_count":null,"id":"cLKnHZ5sGQLh","metadata":{"id":"cLKnHZ5sGQLh"},"outputs":[],"source":["## Encoding the converted column"]},{"cell_type":"code","execution_count":null,"id":"Vd80tX6rGQLk","metadata":{"id":"Vd80tX6rGQLk","outputId":"9d3341f1-7bdb-4e56-eef5-a42fcf00200c","colab":{"base_uri":"https://localhost:8080/"},"executionInfo":{"status":"ok","timestamp":1655374065508,"user_tz":-60,"elapsed":9,"user":{"displayName":"Dataset NexusTech","userId":"07175580999036037068"}}},"outputs":[{"output_type":"execute_result","data":{"text/plain":["array(['NO', 'Yes'], dtype=object)"]},"metadata":{},"execution_count":17}],"source":["df2.Converted.unique()"]},{"cell_type":"code","execution_count":null,"id":"8bQWy75zGQLp","metadata":{"id":"8bQWy75zGQLp"},"outputs":[],"source":["df2['Conversion'] = df2['Converted'].apply(lambda x: 1 if x == 'Yes' else 0)"]},{"cell_type":"code","execution_count":null,"id":"jImYQLfOGQLr","metadata":{"id":"jImYQLfOGQLr","outputId":"1c3ab710-fff5-46c9-c32e-cffcd55b0ddd","colab":{"base_uri":"https://localhost:8080/","height":478},"executionInfo":{"status":"ok","timestamp":1655374279978,"user_tz":-60,"elapsed":534,"user":{"displayName":"Dataset NexusTech","userId":"07175580999036037068"}}},"outputs":[{"output_type":"execute_result","data":{"text/plain":["  First Name   Last Name  Gender Marital Status Converted  \\\n","0    Miracle     Obiekwe    Male         Single        NO   \n","1   Ibilola    Shobanke   Female        Married        NO   \n","2   Damilola       Oseni  Female        Married        NO   \n","3      Kabir  Salawudeen    Male        Married        NO   \n","4    Bashir      Hussain    Male        Married        NO   \n","\n","  Sponsored/Self Sponsored               Employment Status  \\\n","0                      NaN  Self employed / Business Owner   \n","1                      NaN                        Employed   \n","2                      NaN                        Employed   \n","3                      NaN                        Employed   \n","4                      NaN                        Employed   \n","\n","               Personal Interests Date of Birth  Education        Profession  \\\n","0                    Data science    1995-06-22  Bachelors  Computer science   \n","1           Technology, Business     1984-07-09    Masters        Lecturing    \n","2                        Business    1990-08-21  Bachelors        Biochemist   \n","3                      Technology    1990-01-01        HND  Computer Science   \n","4  Technology, Sports and Travels    1980-05-14  Bachelors          Banking    \n","\n","             Programme of Interest Employment Preferences  \\\n","0                     Data Science     Foreign Employment   \n","1                   Data Analytics     Foreign Employment   \n","2                   Data Analytics       Local Employment   \n","3  Full-Stack Software Development     Foreign Employment   \n","4                   Data Analytics     Foreign Employment   \n","\n","  Monthly Salary Expectations (in Naira)  Age  Conversion Prospect_ID  \n","0                             2.5million   26           0         DS1  \n","1                             N2,000,000   37           0         DS2  \n","2                                100,000   31           0         DS3  \n","3                             300,000.00   32           0         DS4  \n","4                             500,000.00   42           0         DS5  "],"text/html":["\n","  <div id=\"df-a395d2a4-a072-4dc0-ae1c-a6a671acb290\">\n","    <div class=\"colab-df-container\">\n","      <div>\n","<style scoped>\n","    .dataframe tbody tr th:only-of-type {\n","        vertical-align: middle;\n","    }\n","\n","    .dataframe tbody tr th {\n","        vertical-align: top;\n","    }\n","\n","    .dataframe thead th {\n","        text-align: right;\n","    }\n","</style>\n","<table border=\"1\" class=\"dataframe\">\n","  <thead>\n","    <tr style=\"text-align: right;\">\n","      <th></th>\n","      <th>First Name</th>\n","      <th>Last Name</th>\n","      <th>Gender</th>\n","      <th>Marital Status</th>\n","      <th>Converted</th>\n","      <th>Sponsored/Self Sponsored</th>\n","      <th>Employment Status</th>\n","      <th>Personal Interests</th>\n","      <th>Date of Birth</th>\n","      <th>Education</th>\n","      <th>Profession</th>\n","      <th>Programme of Interest</th>\n","      <th>Employment Preferences</th>\n","      <th>Monthly Salary Expectations (in Naira)</th>\n","      <th>Age</th>\n","      <th>Conversion</th>\n","      <th>Prospect_ID</th>\n","    </tr>\n","  </thead>\n","  <tbody>\n","    <tr>\n","      <th>0</th>\n","      <td>Miracle</td>\n","      <td>Obiekwe</td>\n","      <td>Male</td>\n","      <td>Single</td>\n","      <td>NO</td>\n","      <td>NaN</td>\n","      <td>Self employed / Business Owner</td>\n","      <td>Data science</td>\n","      <td>1995-06-22</td>\n","      <td>Bachelors</td>\n","      <td>Computer science</td>\n","      <td>Data Science</td>\n","      <td>Foreign Employment</td>\n","      <td>2.5million</td>\n","      <td>26</td>\n","      <td>0</td>\n","      <td>DS1</td>\n","    </tr>\n","    <tr>\n","      <th>1</th>\n","      <td>Ibilola</td>\n","      <td>Shobanke</td>\n","      <td>Female</td>\n","      <td>Married</td>\n","      <td>NO</td>\n","      <td>NaN</td>\n","      <td>Employed</td>\n","      <td>Technology, Business</td>\n","      <td>1984-07-09</td>\n","      <td>Masters</td>\n","      <td>Lecturing</td>\n","      <td>Data Analytics</td>\n","      <td>Foreign Employment</td>\n","      <td>N2,000,000</td>\n","      <td>37</td>\n","      <td>0</td>\n","      <td>DS2</td>\n","    </tr>\n","    <tr>\n","      <th>2</th>\n","      <td>Damilola</td>\n","      <td>Oseni</td>\n","      <td>Female</td>\n","      <td>Married</td>\n","      <td>NO</td>\n","      <td>NaN</td>\n","      <td>Employed</td>\n","      <td>Business</td>\n","      <td>1990-08-21</td>\n","      <td>Bachelors</td>\n","      <td>Biochemist</td>\n","      <td>Data Analytics</td>\n","      <td>Local Employment</td>\n","      <td>100,000</td>\n","      <td>31</td>\n","      <td>0</td>\n","      <td>DS3</td>\n","    </tr>\n","    <tr>\n","      <th>3</th>\n","      <td>Kabir</td>\n","      <td>Salawudeen</td>\n","      <td>Male</td>\n","      <td>Married</td>\n","      <td>NO</td>\n","      <td>NaN</td>\n","      <td>Employed</td>\n","      <td>Technology</td>\n","      <td>1990-01-01</td>\n","      <td>HND</td>\n","      <td>Computer Science</td>\n","      <td>Full-Stack Software Development</td>\n","      <td>Foreign Employment</td>\n","      <td>300,000.00</td>\n","      <td>32</td>\n","      <td>0</td>\n","      <td>DS4</td>\n","    </tr>\n","    <tr>\n","      <th>4</th>\n","      <td>Bashir</td>\n","      <td>Hussain</td>\n","      <td>Male</td>\n","      <td>Married</td>\n","      <td>NO</td>\n","      <td>NaN</td>\n","      <td>Employed</td>\n","      <td>Technology, Sports and Travels</td>\n","      <td>1980-05-14</td>\n","      <td>Bachelors</td>\n","      <td>Banking</td>\n","      <td>Data Analytics</td>\n","      <td>Foreign Employment</td>\n","      <td>500,000.00</td>\n","      <td>42</td>\n","      <td>0</td>\n","      <td>DS5</td>\n","    </tr>\n","  </tbody>\n","</table>\n","</div>\n","      <button class=\"colab-df-convert\" onclick=\"convertToInteractive('df-a395d2a4-a072-4dc0-ae1c-a6a671acb290')\"\n","              title=\"Convert this dataframe to an interactive table.\"\n","              style=\"display:none;\">\n","        \n","  <svg xmlns=\"http://www.w3.org/2000/svg\" height=\"24px\"viewBox=\"0 0 24 24\"\n","       width=\"24px\">\n","    <path d=\"M0 0h24v24H0V0z\" fill=\"none\"/>\n","    <path d=\"M18.56 5.44l.94 2.06.94-2.06 2.06-.94-2.06-.94-.94-2.06-.94 2.06-2.06.94zm-11 1L8.5 8.5l.94-2.06 2.06-.94-2.06-.94L8.5 2.5l-.94 2.06-2.06.94zm10 10l.94 2.06.94-2.06 2.06-.94-2.06-.94-.94-2.06-.94 2.06-2.06.94z\"/><path d=\"M17.41 7.96l-1.37-1.37c-.4-.4-.92-.59-1.43-.59-.52 0-1.04.2-1.43.59L10.3 9.45l-7.72 7.72c-.78.78-.78 2.05 0 2.83L4 21.41c.39.39.9.59 1.41.59.51 0 1.02-.2 1.41-.59l7.78-7.78 2.81-2.81c.8-.78.8-2.07 0-2.86zM5.41 20L4 18.59l7.72-7.72 1.47 1.35L5.41 20z\"/>\n","  </svg>\n","      </button>\n","      \n","  <style>\n","    .colab-df-container {\n","      display:flex;\n","      flex-wrap:wrap;\n","      gap: 12px;\n","    }\n","\n","    .colab-df-convert {\n","      background-color: #E8F0FE;\n","      border: none;\n","      border-radius: 50%;\n","      cursor: pointer;\n","      display: none;\n","      fill: #1967D2;\n","      height: 32px;\n","      padding: 0 0 0 0;\n","      width: 32px;\n","    }\n","\n","    .colab-df-convert:hover {\n","      background-color: #E2EBFA;\n","      box-shadow: 0px 1px 2px rgba(60, 64, 67, 0.3), 0px 1px 3px 1px rgba(60, 64, 67, 0.15);\n","      fill: #174EA6;\n","    }\n","\n","    [theme=dark] .colab-df-convert {\n","      background-color: #3B4455;\n","      fill: #D2E3FC;\n","    }\n","\n","    [theme=dark] .colab-df-convert:hover {\n","      background-color: #434B5C;\n","      box-shadow: 0px 1px 3px 1px rgba(0, 0, 0, 0.15);\n","      filter: drop-shadow(0px 1px 2px rgba(0, 0, 0, 0.3));\n","      fill: #FFFFFF;\n","    }\n","  </style>\n","\n","      <script>\n","        const buttonEl =\n","          document.querySelector('#df-a395d2a4-a072-4dc0-ae1c-a6a671acb290 button.colab-df-convert');\n","        buttonEl.style.display =\n","          google.colab.kernel.accessAllowed ? 'block' : 'none';\n","\n","        async function convertToInteractive(key) {\n","          const element = document.querySelector('#df-a395d2a4-a072-4dc0-ae1c-a6a671acb290');\n","          const dataTable =\n","            await google.colab.kernel.invokeFunction('convertToInteractive',\n","                                                     [key], {});\n","          if (!dataTable) return;\n","\n","          const docLinkHtml = 'Like what you see? Visit the ' +\n","            '<a target=\"_blank\" href=https://colab.research.google.com/notebooks/data_table.ipynb>data table notebook</a>'\n","            + ' to learn more about interactive tables.';\n","          element.innerHTML = '';\n","          dataTable['output_type'] = 'display_data';\n","          await google.colab.output.renderOutput(dataTable, element);\n","          const docLink = document.createElement('div');\n","          docLink.innerHTML = docLinkHtml;\n","          element.appendChild(docLink);\n","        }\n","      </script>\n","    </div>\n","  </div>\n","  "]},"metadata":{},"execution_count":22}],"source":["df2.head()"]},{"cell_type":"code","execution_count":null,"id":"56a8fda5-0dca-467a-b08e-294886365f8e","metadata":{"id":"56a8fda5-0dca-467a-b08e-294886365f8e","outputId":"19910501-9896-412d-88e8-70ae1d7e0a89"},"outputs":[{"data":{"text/plain":["0                        Data Science\n","1                      Data Analytics\n","2                      Data Analytics\n","3     Full-Stack Software Development\n","4                      Data Analytics\n","5                        Data Science\n","6     Full-Stack Software Development\n","7     Full-Stack Software Development\n","8                        Data Science\n","9                        Data Science\n","10                       Data Science\n","11                       Data Science\n","12                       Data Science\n","13                       Data Science\n","14                       Data Science\n","15                     Data Analytics\n","16                     Data Analytics\n","17                     Data Analytics\n","18                       Data Science\n","19                       Data Science\n","20                       Data Science\n","21    Full-Stack Software Development\n","22    Full-Stack Software Development\n","23    Full-Stack Software Development\n","24                     Data Analytics\n","25                       Data Science\n","Name: Programme of Interest, dtype: object"]},"execution_count":23,"metadata":{},"output_type":"execute_result"}],"source":["df2['Programme of Interest']"]},{"cell_type":"markdown","source":["## Overall Conversion rate"],"metadata":{"id":"HUCl97D2AFzO"},"id":"HUCl97D2AFzO"},{"cell_type":"code","execution_count":null,"id":"f146e0c1-0a57-4e3e-92c2-0e631e9419b0","metadata":{"id":"f146e0c1-0a57-4e3e-92c2-0e631e9419b0","colab":{"base_uri":"https://localhost:8080/"},"executionInfo":{"status":"ok","timestamp":1655374678963,"user_tz":-60,"elapsed":446,"user":{"displayName":"Dataset NexusTech","userId":"07175580999036037068"}},"outputId":"f5c8a60f-99bd-468a-f340-c1c17947f0f0"},"outputs":[{"output_type":"execute_result","data":{"text/plain":["Converted\n","NO      9\n","Yes    17\n","Name: Prospect_ID, dtype: int64"]},"metadata":{},"execution_count":24}],"source":["df2.groupby('Converted').count()['Prospect_ID']"]},{"cell_type":"code","execution_count":null,"id":"9f58f7e6-0d5c-4882-9e7d-5a5c140304c6","metadata":{"id":"9f58f7e6-0d5c-4882-9e7d-5a5c140304c6","colab":{"base_uri":"https://localhost:8080/","height":464},"executionInfo":{"status":"ok","timestamp":1655374917549,"user_tz":-60,"elapsed":766,"user":{"displayName":"Dataset NexusTech","userId":"07175580999036037068"}},"outputId":"58a3510c-be20-41fa-f1a7-d0fcf0d79048"},"outputs":[{"output_type":"display_data","data":{"text/plain":["<Figure size 720x504 with 1 Axes>"],"image/png":"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\n"},"metadata":{"needs_background":"light"}}],"source":["# In order to visualize the above in a plot, you can use the following code:\n","ax = df2.groupby('Converted').count()['Prospect_ID'].plot(\n","kind='bar',\n","color='skyblue',\n","grid=True,\n","figsize=(10, 7),\n","title='Conversion Count'\n",")\n","ax.set_xlabel('Converted')\n","ax.set_ylabel('Count')\n","plt.show()\n"]},{"cell_type":"code","execution_count":null,"id":"99292b79-690a-490c-bce1-a5ee666ec2c4","metadata":{"id":"99292b79-690a-490c-bce1-a5ee666ec2c4","colab":{"base_uri":"https://localhost:8080/"},"executionInfo":{"status":"ok","timestamp":1655375120313,"user_tz":-60,"elapsed":364,"user":{"displayName":"Dataset NexusTech","userId":"07175580999036037068"}},"outputId":"82a76a8b-2456-4f68-c988-f9da1cf59d51"},"outputs":[{"output_type":"execute_result","data":{"text/plain":["Converted\n","NO     34.615385\n","Yes    65.384615\n","Name: Prospect_ID, dtype: float64"]},"metadata":{},"execution_count":29}],"source":["# We can use the following code to get the percentage of customers who bought our course offerings\n","Percentage_Convtd = df2.groupby('Converted').count()['Prospect_ID']/df2.shape[0]*100\n","\n","Percentage_Convtd"]},{"cell_type":"code","execution_count":null,"id":"a479a714-3cb6-42f7-8b86-c2fad31b2454","metadata":{"id":"a479a714-3cb6-42f7-8b86-c2fad31b2454","colab":{"base_uri":"https://localhost:8080/","height":411},"executionInfo":{"status":"ok","timestamp":1655375302805,"user_tz":-60,"elapsed":496,"user":{"displayName":"Dataset NexusTech","userId":"07175580999036037068"}},"outputId":"2a3a6a76-f5c8-4a9b-f2db-49129b00935b"},"outputs":[{"output_type":"display_data","data":{"text/plain":["<Figure size 1080x504 with 1 Axes>"],"image/png":"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\n"},"metadata":{}}],"source":["#representing the above pivot table using a pie chart\n","\n","Percentage_Convtd.plot(\n","kind='pie',\n","figsize=(15, 7),\n","startangle=90,\n","#subplots=True,\n","autopct=lambda x: '%0.1f%%' % x\n",")\n","plt.show()\n"]},{"cell_type":"markdown","source":["## Conversion by programme of interest"],"metadata":{"id":"q-vw7fUyEQXL"},"id":"q-vw7fUyEQXL"},{"cell_type":"code","execution_count":null,"id":"d981e491-2e1a-4a82-9193-f0f509603e92","metadata":{"id":"d981e491-2e1a-4a82-9193-f0f509603e92"},"outputs":[],"source":["programme_conversion = pd.pivot_table(df2, values='Converted', index='Programme of Interest', columns='Conversion', aggfunc=len)"]},{"cell_type":"code","execution_count":null,"id":"204db151-e139-45f4-810a-46804f979cf3","metadata":{"id":"204db151-e139-45f4-810a-46804f979cf3","colab":{"base_uri":"https://localhost:8080/","height":175},"executionInfo":{"status":"ok","timestamp":1655375607420,"user_tz":-60,"elapsed":348,"user":{"displayName":"Dataset NexusTech","userId":"07175580999036037068"}},"outputId":"e01b946d-4201-4839-8641-e637c1164d4b"},"outputs":[{"output_type":"execute_result","data":{"text/plain":["Conversion                       0   1\n","Programme of Interest                 \n","Data Analytics                   3   4\n","Data Science                     3  10\n","Full-Stack Software Development  3   3"],"text/html":["\n","  <div id=\"df-e1f21ebf-ebde-41c5-9341-198f39b3aa20\">\n","    <div class=\"colab-df-container\">\n","      <div>\n","<style scoped>\n","    .dataframe tbody tr th:only-of-type {\n","        vertical-align: middle;\n","    }\n","\n","    .dataframe tbody tr th {\n","        vertical-align: top;\n","    }\n","\n","    .dataframe thead th {\n","        text-align: right;\n","    }\n","</style>\n","<table border=\"1\" class=\"dataframe\">\n","  <thead>\n","    <tr style=\"text-align: right;\">\n","      <th>Conversion</th>\n","      <th>0</th>\n","      <th>1</th>\n","    </tr>\n","    <tr>\n","      <th>Programme of Interest</th>\n","      <th></th>\n","      <th></th>\n","    </tr>\n","  </thead>\n","  <tbody>\n","    <tr>\n","      <th>Data Analytics</th>\n","      <td>3</td>\n","      <td>4</td>\n","    </tr>\n","    <tr>\n","      <th>Data Science</th>\n","      <td>3</td>\n","      <td>10</td>\n","    </tr>\n","    <tr>\n","      <th>Full-Stack Software Development</th>\n","      <td>3</td>\n","      <td>3</td>\n","    </tr>\n","  </tbody>\n","</table>\n","</div>\n","      <button class=\"colab-df-convert\" onclick=\"convertToInteractive('df-e1f21ebf-ebde-41c5-9341-198f39b3aa20')\"\n","              title=\"Convert this dataframe to an interactive table.\"\n","              style=\"display:none;\">\n","        \n","  <svg xmlns=\"http://www.w3.org/2000/svg\" height=\"24px\"viewBox=\"0 0 24 24\"\n","       width=\"24px\">\n","    <path d=\"M0 0h24v24H0V0z\" fill=\"none\"/>\n","    <path d=\"M18.56 5.44l.94 2.06.94-2.06 2.06-.94-2.06-.94-.94-2.06-.94 2.06-2.06.94zm-11 1L8.5 8.5l.94-2.06 2.06-.94-2.06-.94L8.5 2.5l-.94 2.06-2.06.94zm10 10l.94 2.06.94-2.06 2.06-.94-2.06-.94-.94-2.06-.94 2.06-2.06.94z\"/><path d=\"M17.41 7.96l-1.37-1.37c-.4-.4-.92-.59-1.43-.59-.52 0-1.04.2-1.43.59L10.3 9.45l-7.72 7.72c-.78.78-.78 2.05 0 2.83L4 21.41c.39.39.9.59 1.41.59.51 0 1.02-.2 1.41-.59l7.78-7.78 2.81-2.81c.8-.78.8-2.07 0-2.86zM5.41 20L4 18.59l7.72-7.72 1.47 1.35L5.41 20z\"/>\n","  </svg>\n","      </button>\n","      \n","  <style>\n","    .colab-df-container {\n","      display:flex;\n","      flex-wrap:wrap;\n","      gap: 12px;\n","    }\n","\n","    .colab-df-convert {\n","      background-color: #E8F0FE;\n","      border: none;\n","      border-radius: 50%;\n","      cursor: pointer;\n","      display: none;\n","      fill: #1967D2;\n","      height: 32px;\n","      padding: 0 0 0 0;\n","      width: 32px;\n","    }\n","\n","    .colab-df-convert:hover {\n","      background-color: #E2EBFA;\n","      box-shadow: 0px 1px 2px rgba(60, 64, 67, 0.3), 0px 1px 3px 1px rgba(60, 64, 67, 0.15);\n","      fill: #174EA6;\n","    }\n","\n","    [theme=dark] .colab-df-convert {\n","      background-color: #3B4455;\n","      fill: #D2E3FC;\n","    }\n","\n","    [theme=dark] .colab-df-convert:hover {\n","      background-color: #434B5C;\n","      box-shadow: 0px 1px 3px 1px rgba(0, 0, 0, 0.15);\n","      filter: drop-shadow(0px 1px 2px rgba(0, 0, 0, 0.3));\n","      fill: #FFFFFF;\n","    }\n","  </style>\n","\n","      <script>\n","        const buttonEl =\n","          document.querySelector('#df-e1f21ebf-ebde-41c5-9341-198f39b3aa20 button.colab-df-convert');\n","        buttonEl.style.display =\n","          google.colab.kernel.accessAllowed ? 'block' : 'none';\n","\n","        async function convertToInteractive(key) {\n","          const element = document.querySelector('#df-e1f21ebf-ebde-41c5-9341-198f39b3aa20');\n","          const dataTable =\n","            await google.colab.kernel.invokeFunction('convertToInteractive',\n","                                                     [key], {});\n","          if (!dataTable) return;\n","\n","          const docLinkHtml = 'Like what you see? Visit the ' +\n","            '<a target=\"_blank\" href=https://colab.research.google.com/notebooks/data_table.ipynb>data table notebook</a>'\n","            + ' to learn more about interactive tables.';\n","          element.innerHTML = '';\n","          dataTable['output_type'] = 'display_data';\n","          await google.colab.output.renderOutput(dataTable, element);\n","          const docLink = document.createElement('div');\n","          docLink.innerHTML = docLinkHtml;\n","          element.appendChild(docLink);\n","        }\n","      </script>\n","    </div>\n","  </div>\n","  "]},"metadata":{},"execution_count":32}],"source":["programme_conversion"]},{"cell_type":"code","execution_count":null,"id":"2c258acc-8787-4136-b9cd-8581e3975168","metadata":{"id":"2c258acc-8787-4136-b9cd-8581e3975168","colab":{"base_uri":"https://localhost:8080/","height":435},"executionInfo":{"status":"ok","timestamp":1655375734863,"user_tz":-60,"elapsed":599,"user":{"displayName":"Dataset NexusTech","userId":"07175580999036037068"}},"outputId":"19bb2c06-c43c-4dc9-bdad-c0554e229cc0"},"outputs":[{"output_type":"display_data","data":{"text/plain":["<Figure size 1080x504 with 2 Axes>"],"image/png":"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\n"},"metadata":{}}],"source":["# Visualizing the data above using a pie chart.\n","programme_conversion.plot(\n","kind='pie',\n","figsize=(15, 7),\n","startangle=90,\n","subplots=True,\n","legend=False,\n","fontsize=12,\n","autopct=lambda x: '%0.1f%%' % x\n",")\n","for ax in plt.gcf().axes:\n","    ax.legend(bbox_to_anchor=(0,1),loc=6)\n","plt.show()"]},{"cell_type":"code","execution_count":null,"id":"0df34a2e-247c-4d2d-aa80-615635c35e57","metadata":{"id":"0df34a2e-247c-4d2d-aa80-615635c35e57"},"outputs":[],"source":["sponsored_self = pd.pivot_table(df2, values='Converted', index='Sponsored/Self Sponsored', columns='Conversion', aggfunc=len)"]},{"cell_type":"code","source":["df2.groupby('Sponsored/Self Sponsored').count()['Converted']"],"metadata":{"colab":{"base_uri":"https://localhost:8080/"},"id":"Dh5OnISFG80s","executionInfo":{"status":"ok","timestamp":1655376419468,"user_tz":-60,"elapsed":355,"user":{"displayName":"Dataset NexusTech","userId":"07175580999036037068"}},"outputId":"127978d4-f3c6-49c4-f42e-6879e89e3be5"},"id":"Dh5OnISFG80s","execution_count":null,"outputs":[{"output_type":"execute_result","data":{"text/plain":["Sponsored/Self Sponsored\n","Self Sponsored    8\n","Sponsored         9\n","Name: Converted, dtype: int64"]},"metadata":{},"execution_count":38}]},{"cell_type":"code","source":["\n","ax = sponsored_self.plot(\n","kind='bar',\n","color='skyblue',\n","grid=True,\n","figsize=(10, 7),\n","title='Sponsored/Self_sponsored Count'\n",")\n","ax.set_xlabel('Sponsored/Self_sponsored')\n","ax.set_ylabel('Count')\n","plt.show()\n"],"metadata":{"colab":{"base_uri":"https://localhost:8080/","height":524},"id":"MpUhfe_QHxy4","executionInfo":{"status":"ok","timestamp":1655376725422,"user_tz":-60,"elapsed":464,"user":{"displayName":"Dataset NexusTech","userId":"07175580999036037068"}},"outputId":"4ee13165-fb49-4c9e-eddb-7943fb58c744"},"id":"MpUhfe_QHxy4","execution_count":null,"outputs":[{"output_type":"display_data","data":{"text/plain":["<Figure size 720x504 with 1 Axes>"],"image/png":"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\n"},"metadata":{"needs_background":"light"}}]},{"cell_type":"markdown","source":["## Conversion by programme of interest and gender"],"metadata":{"id":"AfFqEQF3Lu8a"},"id":"AfFqEQF3Lu8a"},{"cell_type":"code","source":["POI_Gender = df2.loc[df['Converted'] == 'Yes'].groupby(['Programme of Interest', 'Gender']).count()['Prospect_ID']\n","\n","POI_Gender"],"metadata":{"colab":{"base_uri":"https://localhost:8080/"},"id":"HnkASA5sLLur","executionInfo":{"status":"ok","timestamp":1655377655887,"user_tz":-60,"elapsed":346,"user":{"displayName":"Dataset NexusTech","userId":"07175580999036037068"}},"outputId":"e6c66c6a-4213-4c5c-8d34-33708a9f397c"},"id":"HnkASA5sLLur","execution_count":null,"outputs":[{"output_type":"execute_result","data":{"text/plain":["Programme of Interest            Gender\n","Data Analytics                   Female    3\n","                                 Male      1\n","Data Science                     Female    7\n","                                 Male      3\n","Full-Stack Software Development  Male      3\n","Name: Prospect_ID, dtype: int64"]},"metadata":{},"execution_count":49}]},{"cell_type":"code","source":["POI_Gender = POI_Gender.unstack().fillna(0)"],"metadata":{"id":"X-qggPsxMijR"},"id":"X-qggPsxMijR","execution_count":null,"outputs":[]},{"cell_type":"code","source":["POI_Gender"],"metadata":{"colab":{"base_uri":"https://localhost:8080/","height":175},"id":"rEMW4snYMxL6","executionInfo":{"status":"ok","timestamp":1655377699359,"user_tz":-60,"elapsed":446,"user":{"displayName":"Dataset NexusTech","userId":"07175580999036037068"}},"outputId":"1c9602b4-c60c-4014-d307-82a0fd52d5f0"},"id":"rEMW4snYMxL6","execution_count":null,"outputs":[{"output_type":"execute_result","data":{"text/plain":["Gender                           Female  Male\n","Programme of Interest                        \n","Data Analytics                      3.0   1.0\n","Data Science                        7.0   3.0\n","Full-Stack Software Development     0.0   3.0"],"text/html":["\n","  <div id=\"df-0df29954-0263-40b9-ad28-9ce22b9179f9\">\n","    <div class=\"colab-df-container\">\n","      <div>\n","<style scoped>\n","    .dataframe tbody tr th:only-of-type {\n","        vertical-align: middle;\n","    }\n","\n","    .dataframe tbody tr th {\n","        vertical-align: top;\n","    }\n","\n","    .dataframe thead th {\n","        text-align: right;\n","    }\n","</style>\n","<table border=\"1\" class=\"dataframe\">\n","  <thead>\n","    <tr style=\"text-align: right;\">\n","      <th>Gender</th>\n","      <th>Female</th>\n","      <th>Male</th>\n","    </tr>\n","    <tr>\n","      <th>Programme of Interest</th>\n","      <th></th>\n","      <th></th>\n","    </tr>\n","  </thead>\n","  <tbody>\n","    <tr>\n","      <th>Data Analytics</th>\n","      <td>3.0</td>\n","      <td>1.0</td>\n","    </tr>\n","    <tr>\n","      <th>Data Science</th>\n","      <td>7.0</td>\n","      <td>3.0</td>\n","    </tr>\n","    <tr>\n","      <th>Full-Stack Software Development</th>\n","      <td>0.0</td>\n","      <td>3.0</td>\n","    </tr>\n","  </tbody>\n","</table>\n","</div>\n","      <button class=\"colab-df-convert\" onclick=\"convertToInteractive('df-0df29954-0263-40b9-ad28-9ce22b9179f9')\"\n","              title=\"Convert this dataframe to an interactive table.\"\n","              style=\"display:none;\">\n","        \n","  <svg xmlns=\"http://www.w3.org/2000/svg\" height=\"24px\"viewBox=\"0 0 24 24\"\n","       width=\"24px\">\n","    <path d=\"M0 0h24v24H0V0z\" fill=\"none\"/>\n","    <path d=\"M18.56 5.44l.94 2.06.94-2.06 2.06-.94-2.06-.94-.94-2.06-.94 2.06-2.06.94zm-11 1L8.5 8.5l.94-2.06 2.06-.94-2.06-.94L8.5 2.5l-.94 2.06-2.06.94zm10 10l.94 2.06.94-2.06 2.06-.94-2.06-.94-.94-2.06-.94 2.06-2.06.94z\"/><path d=\"M17.41 7.96l-1.37-1.37c-.4-.4-.92-.59-1.43-.59-.52 0-1.04.2-1.43.59L10.3 9.45l-7.72 7.72c-.78.78-.78 2.05 0 2.83L4 21.41c.39.39.9.59 1.41.59.51 0 1.02-.2 1.41-.59l7.78-7.78 2.81-2.81c.8-.78.8-2.07 0-2.86zM5.41 20L4 18.59l7.72-7.72 1.47 1.35L5.41 20z\"/>\n","  </svg>\n","      </button>\n","      \n","  <style>\n","    .colab-df-container {\n","      display:flex;\n","      flex-wrap:wrap;\n","      gap: 12px;\n","    }\n","\n","    .colab-df-convert {\n","      background-color: #E8F0FE;\n","      border: none;\n","      border-radius: 50%;\n","      cursor: pointer;\n","      display: none;\n","      fill: #1967D2;\n","      height: 32px;\n","      padding: 0 0 0 0;\n","      width: 32px;\n","    }\n","\n","    .colab-df-convert:hover {\n","      background-color: #E2EBFA;\n","      box-shadow: 0px 1px 2px rgba(60, 64, 67, 0.3), 0px 1px 3px 1px rgba(60, 64, 67, 0.15);\n","      fill: #174EA6;\n","    }\n","\n","    [theme=dark] .colab-df-convert {\n","      background-color: #3B4455;\n","      fill: #D2E3FC;\n","    }\n","\n","    [theme=dark] .colab-df-convert:hover {\n","      background-color: #434B5C;\n","      box-shadow: 0px 1px 3px 1px rgba(0, 0, 0, 0.15);\n","      filter: drop-shadow(0px 1px 2px rgba(0, 0, 0, 0.3));\n","      fill: #FFFFFF;\n","    }\n","  </style>\n","\n","      <script>\n","        const buttonEl =\n","          document.querySelector('#df-0df29954-0263-40b9-ad28-9ce22b9179f9 button.colab-df-convert');\n","        buttonEl.style.display =\n","          google.colab.kernel.accessAllowed ? 'block' : 'none';\n","\n","        async function convertToInteractive(key) {\n","          const element = document.querySelector('#df-0df29954-0263-40b9-ad28-9ce22b9179f9');\n","          const dataTable =\n","            await google.colab.kernel.invokeFunction('convertToInteractive',\n","                                                     [key], {});\n","          if (!dataTable) return;\n","\n","          const docLinkHtml = 'Like what you see? Visit the ' +\n","            '<a target=\"_blank\" href=https://colab.research.google.com/notebooks/data_table.ipynb>data table notebook</a>'\n","            + ' to learn more about interactive tables.';\n","          element.innerHTML = '';\n","          dataTable['output_type'] = 'display_data';\n","          await google.colab.output.renderOutput(dataTable, element);\n","          const docLink = document.createElement('div');\n","          docLink.innerHTML = docLinkHtml;\n","          element.appendChild(docLink);\n","        }\n","      </script>\n","    </div>\n","  </div>\n","  "]},"metadata":{},"execution_count":51}]},{"cell_type":"code","source":["#We can visualize the above results into a bar chart, using the following code:\n","\n","ax = POI_Gender.plot(\n","kind='bar',\n","figsize=(10, 7),\n","grid=True\n",")\n","ax.set_ylabel('Conversion Count')\n","plt.show()"],"metadata":{"colab":{"base_uri":"https://localhost:8080/","height":598},"id":"5dwXNi62M6px","executionInfo":{"status":"ok","timestamp":1655377920277,"user_tz":-60,"elapsed":458,"user":{"displayName":"Dataset NexusTech","userId":"07175580999036037068"}},"outputId":"d72d9d62-51f7-4a98-e556-5984f7492b49"},"id":"5dwXNi62M6px","execution_count":null,"outputs":[{"output_type":"display_data","data":{"text/plain":["<Figure size 720x504 with 1 Axes>"],"image/png":"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\n"},"metadata":{"needs_background":"light"}}]},{"cell_type":"markdown","source":["## Conversion by programme of interest and employment status"],"metadata":{"id":"K7jpy3GZV-rO"},"id":"K7jpy3GZV-rO"},{"cell_type":"code","source":["POI_Employ = df2.loc[df['Converted'] == 'Yes'].groupby(['Programme of Interest', 'Employment Status']).count()['Prospect_ID']\n","\n","POI_Employ"],"metadata":{"colab":{"base_uri":"https://localhost:8080/"},"id":"zio2CaKeOWzx","executionInfo":{"status":"ok","timestamp":1655379134115,"user_tz":-60,"elapsed":428,"user":{"displayName":"Dataset NexusTech","userId":"07175580999036037068"}},"outputId":"21cfe299-b5ea-4a37-e349-abf6c3478afc"},"id":"zio2CaKeOWzx","execution_count":null,"outputs":[{"output_type":"execute_result","data":{"text/plain":["Programme of Interest            Employment Status             \n","Data Analytics                   Employed                          2\n","                                 Unemployed                        2\n","Data Science                     Employed                          4\n","                                 Self employed / Business Owner    2\n","                                 Unemployed                        4\n","Full-Stack Software Development  Self employed / Business Owner    1\n","                                 Unemployed                        2\n","Name: Prospect_ID, dtype: int64"]},"metadata":{},"execution_count":74}]},{"cell_type":"code","source":["POI_Employ = POI_Employ.unstack().fillna(0)"],"metadata":{"id":"SK0FM_hWO9xZ"},"id":"SK0FM_hWO9xZ","execution_count":null,"outputs":[]},{"cell_type":"code","source":["POI_Employ"],"metadata":{"colab":{"base_uri":"https://localhost:8080/","height":175},"id":"DDlgIEh9PuWC","executionInfo":{"status":"ok","timestamp":1655380015596,"user_tz":-60,"elapsed":9,"user":{"displayName":"Dataset NexusTech","userId":"07175580999036037068"}},"outputId":"8c2af9fc-84e5-491d-d18f-bf1a8306af40"},"id":"DDlgIEh9PuWC","execution_count":null,"outputs":[{"output_type":"execute_result","data":{"text/plain":["Employment Status                Employed  Self employed / Business Owner  \\\n","Programme of Interest                                                       \n","Data Analytics                        2.0                             0.0   \n","Data Science                          4.0                             2.0   \n","Full-Stack Software Development       0.0                             1.0   \n","\n","Employment Status                Unemployed  \n","Programme of Interest                        \n","Data Analytics                          2.0  \n","Data Science                            4.0  \n","Full-Stack Software Development         2.0  "],"text/html":["\n","  <div id=\"df-eaea7c45-8bd4-4838-b794-dcc6633b7dfa\">\n","    <div class=\"colab-df-container\">\n","      <div>\n","<style scoped>\n","    .dataframe tbody tr th:only-of-type {\n","        vertical-align: middle;\n","    }\n","\n","    .dataframe tbody tr th {\n","        vertical-align: top;\n","    }\n","\n","    .dataframe thead th {\n","        text-align: right;\n","    }\n","</style>\n","<table border=\"1\" class=\"dataframe\">\n","  <thead>\n","    <tr style=\"text-align: right;\">\n","      <th>Employment Status</th>\n","      <th>Employed</th>\n","      <th>Self employed / Business Owner</th>\n","      <th>Unemployed</th>\n","    </tr>\n","    <tr>\n","      <th>Programme of Interest</th>\n","      <th></th>\n","      <th></th>\n","      <th></th>\n","    </tr>\n","  </thead>\n","  <tbody>\n","    <tr>\n","      <th>Data Analytics</th>\n","      <td>2.0</td>\n","      <td>0.0</td>\n","      <td>2.0</td>\n","    </tr>\n","    <tr>\n","      <th>Data Science</th>\n","      <td>4.0</td>\n","      <td>2.0</td>\n","      <td>4.0</td>\n","    </tr>\n","    <tr>\n","      <th>Full-Stack Software Development</th>\n","      <td>0.0</td>\n","      <td>1.0</td>\n","      <td>2.0</td>\n","    </tr>\n","  </tbody>\n","</table>\n","</div>\n","      <button class=\"colab-df-convert\" onclick=\"convertToInteractive('df-eaea7c45-8bd4-4838-b794-dcc6633b7dfa')\"\n","              title=\"Convert this dataframe to an interactive table.\"\n","              style=\"display:none;\">\n","        \n","  <svg xmlns=\"http://www.w3.org/2000/svg\" height=\"24px\"viewBox=\"0 0 24 24\"\n","       width=\"24px\">\n","    <path d=\"M0 0h24v24H0V0z\" fill=\"none\"/>\n","    <path d=\"M18.56 5.44l.94 2.06.94-2.06 2.06-.94-2.06-.94-.94-2.06-.94 2.06-2.06.94zm-11 1L8.5 8.5l.94-2.06 2.06-.94-2.06-.94L8.5 2.5l-.94 2.06-2.06.94zm10 10l.94 2.06.94-2.06 2.06-.94-2.06-.94-.94-2.06-.94 2.06-2.06.94z\"/><path d=\"M17.41 7.96l-1.37-1.37c-.4-.4-.92-.59-1.43-.59-.52 0-1.04.2-1.43.59L10.3 9.45l-7.72 7.72c-.78.78-.78 2.05 0 2.83L4 21.41c.39.39.9.59 1.41.59.51 0 1.02-.2 1.41-.59l7.78-7.78 2.81-2.81c.8-.78.8-2.07 0-2.86zM5.41 20L4 18.59l7.72-7.72 1.47 1.35L5.41 20z\"/>\n","  </svg>\n","      </button>\n","      \n","  <style>\n","    .colab-df-container {\n","      display:flex;\n","      flex-wrap:wrap;\n","      gap: 12px;\n","    }\n","\n","    .colab-df-convert {\n","      background-color: #E8F0FE;\n","      border: none;\n","      border-radius: 50%;\n","      cursor: pointer;\n","      display: none;\n","      fill: #1967D2;\n","      height: 32px;\n","      padding: 0 0 0 0;\n","      width: 32px;\n","    }\n","\n","    .colab-df-convert:hover {\n","      background-color: #E2EBFA;\n","      box-shadow: 0px 1px 2px rgba(60, 64, 67, 0.3), 0px 1px 3px 1px rgba(60, 64, 67, 0.15);\n","      fill: #174EA6;\n","    }\n","\n","    [theme=dark] .colab-df-convert {\n","      background-color: #3B4455;\n","      fill: #D2E3FC;\n","    }\n","\n","    [theme=dark] .colab-df-convert:hover {\n","      background-color: #434B5C;\n","      box-shadow: 0px 1px 3px 1px rgba(0, 0, 0, 0.15);\n","      filter: drop-shadow(0px 1px 2px rgba(0, 0, 0, 0.3));\n","      fill: #FFFFFF;\n","    }\n","  </style>\n","\n","      <script>\n","        const buttonEl =\n","          document.querySelector('#df-eaea7c45-8bd4-4838-b794-dcc6633b7dfa button.colab-df-convert');\n","        buttonEl.style.display =\n","          google.colab.kernel.accessAllowed ? 'block' : 'none';\n","\n","        async function convertToInteractive(key) {\n","          const element = document.querySelector('#df-eaea7c45-8bd4-4838-b794-dcc6633b7dfa');\n","          const dataTable =\n","            await google.colab.kernel.invokeFunction('convertToInteractive',\n","                                                     [key], {});\n","          if (!dataTable) return;\n","\n","          const docLinkHtml = 'Like what you see? Visit the ' +\n","            '<a target=\"_blank\" href=https://colab.research.google.com/notebooks/data_table.ipynb>data table notebook</a>'\n","            + ' to learn more about interactive tables.';\n","          element.innerHTML = '';\n","          dataTable['output_type'] = 'display_data';\n","          await google.colab.output.renderOutput(dataTable, element);\n","          const docLink = document.createElement('div');\n","          docLink.innerHTML = docLinkHtml;\n","          element.appendChild(docLink);\n","        }\n","      </script>\n","    </div>\n","  </div>\n","  "]},"metadata":{},"execution_count":100}]},{"cell_type":"code","source":["ax = POI_Employ.plot(\n","kind='bar',\n","figsize=(10, 7),\n","grid=True\n",")\n","ax.set_ylabel('Conversion Count')\n","plt.show()"],"metadata":{"colab":{"base_uri":"https://localhost:8080/","height":598},"id":"QZRIMUyyVoTZ","executionInfo":{"status":"ok","timestamp":1655380053825,"user_tz":-60,"elapsed":460,"user":{"displayName":"Dataset NexusTech","userId":"07175580999036037068"}},"outputId":"f7a3fff9-5207-4a80-f13f-e5bed1f19f19"},"id":"QZRIMUyyVoTZ","execution_count":null,"outputs":[{"output_type":"display_data","data":{"text/plain":["<Figure size 720x504 with 1 Axes>"],"image/png":"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\n"},"metadata":{"needs_background":"light"}}]},{"cell_type":"code","source":["df2.groupby(['Programme of Interest', 'Employment Status']).count()['Prospect_ID']"],"metadata":{"colab":{"base_uri":"https://localhost:8080/"},"id":"9bWq-NbRQN_Q","executionInfo":{"status":"ok","timestamp":1655378981859,"user_tz":-60,"elapsed":488,"user":{"displayName":"Dataset NexusTech","userId":"07175580999036037068"}},"outputId":"6c83a43a-42bc-4d71-efa8-997ec841bd1d"},"id":"9bWq-NbRQN_Q","execution_count":null,"outputs":[{"output_type":"execute_result","data":{"text/plain":["Programme of Interest            Employment Status             \n","Data Analytics                   Employed                          5\n","                                 Unemployed                        2\n","Data Science                     Employed                          5\n","                                 Self employed / Business Owner    4\n","                                 Unemployed                        4\n","Full-Stack Software Development  Employed                          2\n","                                 Self employed / Business Owner    1\n","                                 Unemployed                        3\n","Name: Prospect_ID, dtype: int64"]},"metadata":{},"execution_count":68}]},{"cell_type":"code","source":["df2.loc[df['Converted'] == 'Yes'].groupby(['Programme of Interest', 'Employment Status']).count()['Prospect_ID']"],"metadata":{"colab":{"base_uri":"https://localhost:8080/"},"id":"61mICciTQWb5","executionInfo":{"status":"ok","timestamp":1655379029988,"user_tz":-60,"elapsed":8,"user":{"displayName":"Dataset NexusTech","userId":"07175580999036037068"}},"outputId":"fd9bf290-7a19-411e-bde0-95f0e1f4a1b4"},"id":"61mICciTQWb5","execution_count":null,"outputs":[{"output_type":"execute_result","data":{"text/plain":["Programme of Interest            Employment Status             \n","Data Analytics                   Employed                          2\n","                                 Unemployed                        2\n","Data Science                     Employed                          4\n","                                 Self employed / Business Owner    2\n","                                 Unemployed                        4\n","Full-Stack Software Development  Self employed / Business Owner    1\n","                                 Unemployed                        2\n","Name: Prospect_ID, dtype: int64"]},"metadata":{},"execution_count":70}]},{"cell_type":"code","source":["Perct_POI_Employ = df2.loc[df['Converted'] == 'Yes'].groupby(['Programme of Interest', 'Employment Status']).count()['Prospect_ID'] / df2.shape[0] * 100"],"metadata":{"id":"XJHkOOGNSD2g"},"id":"XJHkOOGNSD2g","execution_count":null,"outputs":[]},{"cell_type":"code","source":["Perct_POI_Employ"],"metadata":{"colab":{"base_uri":"https://localhost:8080/"},"id":"AdwP5MwcTDbQ","executionInfo":{"status":"ok","timestamp":1655379665524,"user_tz":-60,"elapsed":4,"user":{"displayName":"Dataset NexusTech","userId":"07175580999036037068"}},"outputId":"5f213442-bf59-4be7-a1b3-45f607709f3d"},"id":"AdwP5MwcTDbQ","execution_count":null,"outputs":[{"output_type":"execute_result","data":{"text/plain":["Programme of Interest            Employment Status             \n","Data Analytics                   Employed                           7.692308\n","                                 Unemployed                         7.692308\n","Data Science                     Employed                          15.384615\n","                                 Self employed / Business Owner     7.692308\n","                                 Unemployed                        15.384615\n","Full-Stack Software Development  Self employed / Business Owner     3.846154\n","                                 Unemployed                         7.692308\n","Name: Prospect_ID, dtype: float64"]},"metadata":{},"execution_count":92}]},{"cell_type":"code","source":["Perct_POI_Employ = Perct_POI_Employ.unstack().fillna(0)"],"metadata":{"id":"pMp0RX0QTRI_"},"id":"pMp0RX0QTRI_","execution_count":null,"outputs":[]},{"cell_type":"code","source":["Perct_POI_Employ"],"metadata":{"colab":{"base_uri":"https://localhost:8080/","height":175},"id":"JdSjECiPTWyw","executionInfo":{"status":"ok","timestamp":1655379670708,"user_tz":-60,"elapsed":15,"user":{"displayName":"Dataset NexusTech","userId":"07175580999036037068"}},"outputId":"986cc96b-d334-4af5-e8fb-825bc0988fa9"},"id":"JdSjECiPTWyw","execution_count":null,"outputs":[{"output_type":"execute_result","data":{"text/plain":["Employment Status                 Employed  Self employed / Business Owner  \\\n","Programme of Interest                                                        \n","Data Analytics                    7.692308                        0.000000   \n","Data Science                     15.384615                        7.692308   \n","Full-Stack Software Development   0.000000                        3.846154   \n","\n","Employment Status                Unemployed  \n","Programme of Interest                        \n","Data Analytics                     7.692308  \n","Data Science                      15.384615  \n","Full-Stack Software Development    7.692308  "],"text/html":["\n","  <div id=\"df-02835df6-1127-4c60-8feb-0c93d3c88c77\">\n","    <div class=\"colab-df-container\">\n","      <div>\n","<style scoped>\n","    .dataframe tbody tr th:only-of-type {\n","        vertical-align: middle;\n","    }\n","\n","    .dataframe tbody tr th {\n","        vertical-align: top;\n","    }\n","\n","    .dataframe thead th {\n","        text-align: right;\n","    }\n","</style>\n","<table border=\"1\" class=\"dataframe\">\n","  <thead>\n","    <tr style=\"text-align: right;\">\n","      <th>Employment Status</th>\n","      <th>Employed</th>\n","      <th>Self employed / Business Owner</th>\n","      <th>Unemployed</th>\n","    </tr>\n","    <tr>\n","      <th>Programme of Interest</th>\n","      <th></th>\n","      <th></th>\n","      <th></th>\n","    </tr>\n","  </thead>\n","  <tbody>\n","    <tr>\n","      <th>Data Analytics</th>\n","      <td>7.692308</td>\n","      <td>0.000000</td>\n","      <td>7.692308</td>\n","    </tr>\n","    <tr>\n","      <th>Data Science</th>\n","      <td>15.384615</td>\n","      <td>7.692308</td>\n","      <td>15.384615</td>\n","    </tr>\n","    <tr>\n","      <th>Full-Stack Software Development</th>\n","      <td>0.000000</td>\n","      <td>3.846154</td>\n","      <td>7.692308</td>\n","    </tr>\n","  </tbody>\n","</table>\n","</div>\n","      <button class=\"colab-df-convert\" onclick=\"convertToInteractive('df-02835df6-1127-4c60-8feb-0c93d3c88c77')\"\n","              title=\"Convert this dataframe to an interactive table.\"\n","              style=\"display:none;\">\n","        \n","  <svg xmlns=\"http://www.w3.org/2000/svg\" height=\"24px\"viewBox=\"0 0 24 24\"\n","       width=\"24px\">\n","    <path d=\"M0 0h24v24H0V0z\" fill=\"none\"/>\n","    <path d=\"M18.56 5.44l.94 2.06.94-2.06 2.06-.94-2.06-.94-.94-2.06-.94 2.06-2.06.94zm-11 1L8.5 8.5l.94-2.06 2.06-.94-2.06-.94L8.5 2.5l-.94 2.06-2.06.94zm10 10l.94 2.06.94-2.06 2.06-.94-2.06-.94-.94-2.06-.94 2.06-2.06.94z\"/><path d=\"M17.41 7.96l-1.37-1.37c-.4-.4-.92-.59-1.43-.59-.52 0-1.04.2-1.43.59L10.3 9.45l-7.72 7.72c-.78.78-.78 2.05 0 2.83L4 21.41c.39.39.9.59 1.41.59.51 0 1.02-.2 1.41-.59l7.78-7.78 2.81-2.81c.8-.78.8-2.07 0-2.86zM5.41 20L4 18.59l7.72-7.72 1.47 1.35L5.41 20z\"/>\n","  </svg>\n","      </button>\n","      \n","  <style>\n","    .colab-df-container {\n","      display:flex;\n","      flex-wrap:wrap;\n","      gap: 12px;\n","    }\n","\n","    .colab-df-convert {\n","      background-color: #E8F0FE;\n","      border: none;\n","      border-radius: 50%;\n","      cursor: pointer;\n","      display: none;\n","      fill: #1967D2;\n","      height: 32px;\n","      padding: 0 0 0 0;\n","      width: 32px;\n","    }\n","\n","    .colab-df-convert:hover {\n","      background-color: #E2EBFA;\n","      box-shadow: 0px 1px 2px rgba(60, 64, 67, 0.3), 0px 1px 3px 1px rgba(60, 64, 67, 0.15);\n","      fill: #174EA6;\n","    }\n","\n","    [theme=dark] .colab-df-convert {\n","      background-color: #3B4455;\n","      fill: #D2E3FC;\n","    }\n","\n","    [theme=dark] .colab-df-convert:hover {\n","      background-color: #434B5C;\n","      box-shadow: 0px 1px 3px 1px rgba(0, 0, 0, 0.15);\n","      filter: drop-shadow(0px 1px 2px rgba(0, 0, 0, 0.3));\n","      fill: #FFFFFF;\n","    }\n","  </style>\n","\n","      <script>\n","        const buttonEl =\n","          document.querySelector('#df-02835df6-1127-4c60-8feb-0c93d3c88c77 button.colab-df-convert');\n","        buttonEl.style.display =\n","          google.colab.kernel.accessAllowed ? 'block' : 'none';\n","\n","        async function convertToInteractive(key) {\n","          const element = document.querySelector('#df-02835df6-1127-4c60-8feb-0c93d3c88c77');\n","          const dataTable =\n","            await google.colab.kernel.invokeFunction('convertToInteractive',\n","                                                     [key], {});\n","          if (!dataTable) return;\n","\n","          const docLinkHtml = 'Like what you see? Visit the ' +\n","            '<a target=\"_blank\" href=https://colab.research.google.com/notebooks/data_table.ipynb>data table notebook</a>'\n","            + ' to learn more about interactive tables.';\n","          element.innerHTML = '';\n","          dataTable['output_type'] = 'display_data';\n","          await google.colab.output.renderOutput(dataTable, element);\n","          const docLink = document.createElement('div');\n","          docLink.innerHTML = docLinkHtml;\n","          element.appendChild(docLink);\n","        }\n","      </script>\n","    </div>\n","  </div>\n","  "]},"metadata":{},"execution_count":94}]},{"cell_type":"code","source":["2/26*100"],"metadata":{"colab":{"base_uri":"https://localhost:8080/"},"id":"4Kg8k2mwUsRQ","executionInfo":{"status":"ok","timestamp":1655379789369,"user_tz":-60,"elapsed":332,"user":{"displayName":"Dataset NexusTech","userId":"07175580999036037068"}},"outputId":"36ed4542-3575-4d17-bc5f-1e596758cde1"},"id":"4Kg8k2mwUsRQ","execution_count":null,"outputs":[{"output_type":"execute_result","data":{"text/plain":["7.6923076923076925"]},"metadata":{},"execution_count":96}]},{"cell_type":"code","source":["ax = Perct_POI_Employ.plot(\n","kind='bar',\n","figsize=(10, 7),\n","grid=True\n",")\n","ax.set_ylabel('Conversion (%)')\n","plt.show()"],"metadata":{"colab":{"base_uri":"https://localhost:8080/","height":598},"id":"pjV4JbEQUt7Q","executionInfo":{"status":"ok","timestamp":1655379977738,"user_tz":-60,"elapsed":823,"user":{"displayName":"Dataset NexusTech","userId":"07175580999036037068"}},"outputId":"9f71bbdb-3b46-4726-b427-bf49920dbede"},"id":"pjV4JbEQUt7Q","execution_count":null,"outputs":[{"output_type":"display_data","data":{"text/plain":["<Figure size 720x504 with 1 Axes>"],"image/png":"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\n"},"metadata":{"needs_background":"light"}}]}],"metadata":{"colab":{"name":"Implementation Session 16-06-2022, Customer_Data.ipynb","provenance":[]},"kernelspec":{"display_name":"Python 3","language":"python","name":"python3"},"language_info":{"codemirror_mode":{"name":"ipython","version":3},"file_extension":".py","mimetype":"text/x-python","name":"python","nbconvert_exporter":"python","pygments_lexer":"ipython3","version":"3.8.8"}},"nbformat":4,"nbformat_minor":5}
>>>>>>> 0421d7a53308a8712ed0d3a52bc0b702d33182c7
