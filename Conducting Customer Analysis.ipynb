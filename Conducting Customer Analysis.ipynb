{
 "cells": [
  {
   "cell_type": "code",
   "execution_count": 22,
   "id": "a18952c8-2d71-426b-8913-d33dbb975227",
   "metadata": {},
   "outputs": [],
   "source": [
    "# importing neccessary packages\n",
    "import pandas as pd\n",
    "import numpy as np\n",
    "from datetime import date,datetime\n",
    "import matplotlib.pyplot as plt"
   ]
  },
  {
   "cell_type": "code",
   "execution_count": 23,
   "id": "8c3ecc55-14ac-45e0-854e-57e5430e7bd9",
   "metadata": {},
   "outputs": [],
   "source": [
    "# importing dataset\n",
    "df=pd.read_csv(r\"C:\\Users\\Zachary_B\\Desktop\\dataset\\DatasetNexusTech_ Customer Data.csv\")"
   ]
  },
  {
   "cell_type": "code",
   "execution_count": 24,
   "id": "5bd832ad-7c21-49f5-9472-44ffcf96d0a2",
   "metadata": {},
   "outputs": [
    {
     "data": {
      "text/html": [
       "<div>\n",
       "<style scoped>\n",
       "    .dataframe tbody tr th:only-of-type {\n",
       "        vertical-align: middle;\n",
       "    }\n",
       "\n",
       "    .dataframe tbody tr th {\n",
       "        vertical-align: top;\n",
       "    }\n",
       "\n",
       "    .dataframe thead th {\n",
       "        text-align: right;\n",
       "    }\n",
       "</style>\n",
       "<table border=\"1\" class=\"dataframe\">\n",
       "  <thead>\n",
       "    <tr style=\"text-align: right;\">\n",
       "      <th></th>\n",
       "      <th>Submitted</th>\n",
       "      <th>First Name</th>\n",
       "      <th>Last Name</th>\n",
       "      <th>Email Address</th>\n",
       "      <th>Gender</th>\n",
       "      <th>Marital Status</th>\n",
       "      <th>Converted</th>\n",
       "      <th>Sponsored/Self Sponsored</th>\n",
       "      <th>Location</th>\n",
       "      <th>Postal Address</th>\n",
       "      <th>...</th>\n",
       "      <th>Programme of Interest</th>\n",
       "      <th>Level of IT Experience</th>\n",
       "      <th>What is your main motivation for enrolling in the programme?</th>\n",
       "      <th>What are the challenges you've experienced while trying to meet the above stated goal(s)?</th>\n",
       "      <th>What can we do to help you overcome these challenges?</th>\n",
       "      <th>Employment Preferences</th>\n",
       "      <th>Monthly Salary Expectations (in Naira)</th>\n",
       "      <th>What is your short term (2 years) career goal?</th>\n",
       "      <th>What is your mid-term (2 - 5 years) career goal?</th>\n",
       "      <th>What is your long term (5+ years) career goal?</th>\n",
       "    </tr>\n",
       "  </thead>\n",
       "  <tbody>\n",
       "    <tr>\n",
       "      <th>0</th>\n",
       "      <td>12/05/2022 15:06</td>\n",
       "      <td>Miracle</td>\n",
       "      <td>Obiekwe</td>\n",
       "      <td>miracleobiekwe@yahoo.com</td>\n",
       "      <td>Male</td>\n",
       "      <td>Single</td>\n",
       "      <td>NO</td>\n",
       "      <td>NaN</td>\n",
       "      <td>Enugu State</td>\n",
       "      <td>&lt;p&gt;Nigeria prisons barracks enugu state comman...</td>\n",
       "      <td>...</td>\n",
       "      <td>Data Science</td>\n",
       "      <td>Intermediate ( 2 - 5 years )</td>\n",
       "      <td>&lt;p&gt;That I can do all things through Christ tha...</td>\n",
       "      <td>&lt;p&gt;Coding is my challenge.. I have tried it be...</td>\n",
       "      <td>&lt;p&gt;I need maximum attention and guidance&lt;/p&gt;\\n</td>\n",
       "      <td>Foreign Employment</td>\n",
       "      <td>2.5million</td>\n",
       "      <td>&lt;p&gt;To be a consultant in the field of data sci...</td>\n",
       "      <td>&lt;p&gt;Empowering children from the street to stud...</td>\n",
       "      <td>&lt;p&gt;To be the best across the globe&lt;/p&gt;\\n</td>\n",
       "    </tr>\n",
       "    <tr>\n",
       "      <th>1</th>\n",
       "      <td>06/04/2022 20:41</td>\n",
       "      <td>Ibilola</td>\n",
       "      <td>Shobanke</td>\n",
       "      <td>lolashobanke@gmail.com</td>\n",
       "      <td>Female</td>\n",
       "      <td>Married</td>\n",
       "      <td>NO</td>\n",
       "      <td>NaN</td>\n",
       "      <td>Oyo State</td>\n",
       "      <td>&lt;p&gt;3 Fafunlayo Layout, Iwo Road, Ibadan &lt;/p&gt;\\n</td>\n",
       "      <td>...</td>\n",
       "      <td>Data Analytics</td>\n",
       "      <td>Beginner ( 0 - 2 years )</td>\n",
       "      <td>&lt;p&gt;For self development and to increase my cha...</td>\n",
       "      <td>&lt;p&gt;N/A&lt;/p&gt;\\n</td>\n",
       "      <td>&lt;p&gt;N/A&lt;/p&gt;\\n</td>\n",
       "      <td>Foreign Employment</td>\n",
       "      <td>N2,000,000</td>\n",
       "      <td>&lt;p&gt;Becoming a genius in data analytics and hav...</td>\n",
       "      <td>&lt;p&gt;To become diverse in the other aspects of t...</td>\n",
       "      <td>NaN</td>\n",
       "    </tr>\n",
       "    <tr>\n",
       "      <th>2</th>\n",
       "      <td>06/04/2022 12:22</td>\n",
       "      <td>Damilola</td>\n",
       "      <td>Oseni</td>\n",
       "      <td>dammygeorge5050@gmail.com</td>\n",
       "      <td>Female</td>\n",
       "      <td>Married</td>\n",
       "      <td>Yes</td>\n",
       "      <td>Sponsored</td>\n",
       "      <td>FCT</td>\n",
       "      <td>&lt;p&gt;1 EMMANUEL NTUK, GOSHEN VILLA ESTATE, LUGBE...</td>\n",
       "      <td>...</td>\n",
       "      <td>Data Analytics</td>\n",
       "      <td>Beginner ( 0 - 2 years )</td>\n",
       "      <td>&lt;p&gt;Knowledge &lt;/p&gt;\\n</td>\n",
       "      <td>&lt;p&gt;Fear of failing&lt;br /&gt;\\nBudget&lt;br /&gt;\\nLack o...</td>\n",
       "      <td>&lt;p&gt;Give Feedbacks on how I can improve&lt;/p&gt;\\n</td>\n",
       "      <td>Local Employment</td>\n",
       "      <td>100,000</td>\n",
       "      <td>&lt;p&gt;Successful implementation of what I have le...</td>\n",
       "      <td>&lt;p&gt;To work in an organization&lt;/p&gt;\\n</td>\n",
       "      <td>NaN</td>\n",
       "    </tr>\n",
       "    <tr>\n",
       "      <th>3</th>\n",
       "      <td>06/04/2022 09:30</td>\n",
       "      <td>Kabir</td>\n",
       "      <td>Salawudeen</td>\n",
       "      <td>salawudeenkabeer@gmail.com</td>\n",
       "      <td>Male</td>\n",
       "      <td>Married</td>\n",
       "      <td>NO</td>\n",
       "      <td>NaN</td>\n",
       "      <td>FCT</td>\n",
       "      <td>&lt;p&gt;23, Angwar Siyawa Abuja Nigeria&lt;/p&gt;\\n</td>\n",
       "      <td>...</td>\n",
       "      <td>Full-Stack Software Development</td>\n",
       "      <td>Advanced ( 5 years and above )</td>\n",
       "      <td>&lt;p&gt;One of your student got a good and well pay...</td>\n",
       "      <td>&lt;p&gt;Network challenges and at times work relate...</td>\n",
       "      <td>&lt;p&gt;If I can have a full knowledge in becoming ...</td>\n",
       "      <td>Foreign Employment</td>\n",
       "      <td>300,000.00</td>\n",
       "      <td>&lt;p&gt;1.Earn a new certificate or degree.&lt;br /&gt;\\n...</td>\n",
       "      <td>&lt;p&gt;Start a personal project.&lt;/p&gt;\\n</td>\n",
       "      <td>&lt;p&gt;1. Get familiar with new technology.&lt;br /&gt;\\...</td>\n",
       "    </tr>\n",
       "    <tr>\n",
       "      <th>4</th>\n",
       "      <td>05/04/2022 14:40</td>\n",
       "      <td>Bashir</td>\n",
       "      <td>Hussain</td>\n",
       "      <td>uniquebash@gmail.com</td>\n",
       "      <td>Male</td>\n",
       "      <td>Married</td>\n",
       "      <td>NO</td>\n",
       "      <td>NaN</td>\n",
       "      <td>FCT</td>\n",
       "      <td>&lt;p&gt;Plot 785 Herbert Macaulay Way, CBD Abuja&lt;/p&gt;\\n</td>\n",
       "      <td>...</td>\n",
       "      <td>Data Analytics</td>\n",
       "      <td>Advanced ( 5 years and above )</td>\n",
       "      <td>&lt;p&gt;To start a career path on technology &lt;/p&gt;\\n</td>\n",
       "      <td>&lt;p&gt;Interest &lt;/p&gt;\\n</td>\n",
       "      <td>&lt;p&gt;Enrolment &lt;/p&gt;\\n</td>\n",
       "      <td>Foreign Employment</td>\n",
       "      <td>500,000.00</td>\n",
       "      <td>&lt;p&gt;To obtain basic certification on technology...</td>\n",
       "      <td>&lt;p&gt;To obtain multiple certifications on techno...</td>\n",
       "      <td>&lt;p&gt;To be a reference point in technology &lt;/p&gt;\\n</td>\n",
       "    </tr>\n",
       "  </tbody>\n",
       "</table>\n",
       "<p>5 rows × 31 columns</p>\n",
       "</div>"
      ],
      "text/plain": [
       "          Submitted First Name   Last Name               Email Address  \\\n",
       "0  12/05/2022 15:06    Miracle     Obiekwe    miracleobiekwe@yahoo.com   \n",
       "1  06/04/2022 20:41   Ibilola    Shobanke       lolashobanke@gmail.com   \n",
       "2  06/04/2022 12:22   Damilola       Oseni   dammygeorge5050@gmail.com   \n",
       "3  06/04/2022 09:30      Kabir  Salawudeen  salawudeenkabeer@gmail.com   \n",
       "4  05/04/2022 14:40    Bashir      Hussain        uniquebash@gmail.com   \n",
       "\n",
       "   Gender Marital Status Converted Sponsored/Self Sponsored     Location  \\\n",
       "0    Male         Single        NO                      NaN  Enugu State   \n",
       "1  Female        Married        NO                      NaN    Oyo State   \n",
       "2  Female        Married       Yes                Sponsored          FCT   \n",
       "3    Male        Married        NO                      NaN          FCT   \n",
       "4    Male        Married        NO                      NaN          FCT   \n",
       "\n",
       "                                      Postal Address  ...  \\\n",
       "0  <p>Nigeria prisons barracks enugu state comman...  ...   \n",
       "1     <p>3 Fafunlayo Layout, Iwo Road, Ibadan </p>\\n  ...   \n",
       "2  <p>1 EMMANUEL NTUK, GOSHEN VILLA ESTATE, LUGBE...  ...   \n",
       "3           <p>23, Angwar Siyawa Abuja Nigeria</p>\\n  ...   \n",
       "4  <p>Plot 785 Herbert Macaulay Way, CBD Abuja</p>\\n  ...   \n",
       "\n",
       "             Programme of Interest          Level of IT Experience  \\\n",
       "0                     Data Science    Intermediate ( 2 - 5 years )   \n",
       "1                   Data Analytics        Beginner ( 0 - 2 years )   \n",
       "2                   Data Analytics        Beginner ( 0 - 2 years )   \n",
       "3  Full-Stack Software Development  Advanced ( 5 years and above )   \n",
       "4                   Data Analytics  Advanced ( 5 years and above )   \n",
       "\n",
       "  What is your main motivation for enrolling in the programme?  \\\n",
       "0  <p>That I can do all things through Christ tha...             \n",
       "1  <p>For self development and to increase my cha...             \n",
       "2                                <p>Knowledge </p>\\n             \n",
       "3  <p>One of your student got a good and well pay...             \n",
       "4     <p>To start a career path on technology </p>\\n             \n",
       "\n",
       "  What are the challenges you've experienced while trying to meet the above stated goal(s)?  \\\n",
       "0  <p>Coding is my challenge.. I have tried it be...                                          \n",
       "1                                       <p>N/A</p>\\n                                          \n",
       "2  <p>Fear of failing<br />\\nBudget<br />\\nLack o...                                          \n",
       "3  <p>Network challenges and at times work relate...                                          \n",
       "4                                 <p>Interest </p>\\n                                          \n",
       "\n",
       "  What can we do to help you overcome these challenges?  \\\n",
       "0     <p>I need maximum attention and guidance</p>\\n      \n",
       "1                                       <p>N/A</p>\\n      \n",
       "2       <p>Give Feedbacks on how I can improve</p>\\n      \n",
       "3  <p>If I can have a full knowledge in becoming ...      \n",
       "4                                <p>Enrolment </p>\\n      \n",
       "\n",
       "  Employment Preferences Monthly Salary Expectations (in Naira)  \\\n",
       "0     Foreign Employment                             2.5million   \n",
       "1     Foreign Employment                             N2,000,000   \n",
       "2       Local Employment                                100,000   \n",
       "3     Foreign Employment                             300,000.00   \n",
       "4     Foreign Employment                             500,000.00   \n",
       "\n",
       "      What is your short term (2 years) career goal?  \\\n",
       "0  <p>To be a consultant in the field of data sci...   \n",
       "1  <p>Becoming a genius in data analytics and hav...   \n",
       "2  <p>Successful implementation of what I have le...   \n",
       "3  <p>1.Earn a new certificate or degree.<br />\\n...   \n",
       "4  <p>To obtain basic certification on technology...   \n",
       "\n",
       "    What is your mid-term (2 - 5 years) career goal?  \\\n",
       "0  <p>Empowering children from the street to stud...   \n",
       "1  <p>To become diverse in the other aspects of t...   \n",
       "2                <p>To work in an organization</p>\\n   \n",
       "3                 <p>Start a personal project.</p>\\n   \n",
       "4  <p>To obtain multiple certifications on techno...   \n",
       "\n",
       "      What is your long term (5+ years) career goal?  \n",
       "0           <p>To be the best across the globe</p>\\n  \n",
       "1                                                NaN  \n",
       "2                                                NaN  \n",
       "3  <p>1. Get familiar with new technology.<br />\\...  \n",
       "4    <p>To be a reference point in technology </p>\\n  \n",
       "\n",
       "[5 rows x 31 columns]"
      ]
     },
     "execution_count": 24,
     "metadata": {},
     "output_type": "execute_result"
    }
   ],
   "source": [
    "# Return the first five number of rows.\n",
    "df.head()"
   ]
  },
  {
   "cell_type": "code",
   "execution_count": 25,
   "id": "b476ee61-39c6-4572-991d-abb1f0feddc0",
   "metadata": {
    "tags": []
   },
   "outputs": [],
   "source": [
    "# Use df.columns command to drop columns via indexing\n",
    "df = df.drop(df.columns[[0,3,9,12,13,14,15,16,17,23,24,25,27,28,29,30]], axis=1)"
   ]
  },
  {
   "cell_type": "code",
   "execution_count": 26,
   "id": "14bf0709-9ff1-4ddc-b07b-143320b29fa2",
   "metadata": {},
   "outputs": [
    {
     "data": {
      "text/plain": [
       "First Name                  0\n",
       "Last Name                   0\n",
       "Gender                      0\n",
       "Marital Status              0\n",
       "Converted                   0\n",
       "Sponsored/Self Sponsored    8\n",
       "Location                    0\n",
       "Employment Status           0\n",
       "Personal Interests          0\n",
       "Date of Birth               0\n",
       "Education                   0\n",
       "Profession                  1\n",
       "Programme of Interest       0\n",
       "Level of IT Experience      0\n",
       "Employment Preferences      4\n",
       "dtype: int64"
      ]
     },
     "execution_count": 26,
     "metadata": {},
     "output_type": "execute_result"
    }
   ],
   "source": [
    "df.isnull().sum()"
   ]
  },
  {
   "cell_type": "code",
   "execution_count": 27,
   "id": "42b2d756-7484-4173-9f09-a5d30cfe7f70",
   "metadata": {},
   "outputs": [
    {
     "data": {
      "text/plain": [
       "Index(['First Name', 'Last Name', 'Gender', 'Marital Status', 'Converted',\n",
       "       'Sponsored/Self Sponsored', 'Location', 'Employment Status',\n",
       "       'Personal Interests', 'Date of Birth', 'Education', 'Profession',\n",
       "       'Programme of Interest', 'Level of IT Experience',\n",
       "       'Employment Preferences'],\n",
       "      dtype='object')"
      ]
     },
     "execution_count": 27,
     "metadata": {},
     "output_type": "execute_result"
    }
   ],
   "source": [
    "df.columns"
   ]
  },
  {
   "cell_type": "code",
   "execution_count": 28,
   "id": "a8776dbd-283d-4000-a0e0-675b236e590e",
   "metadata": {},
   "outputs": [],
   "source": [
    "df['Personal Interests'] = df['Personal Interests'].str.replace(r'</p>|<p>|\\n', '',regex = True)"
   ]
  },
  {
   "cell_type": "code",
   "execution_count": 29,
   "id": "95430dd9-1402-4396-b0b5-34c8c41b5bb3",
   "metadata": {},
   "outputs": [],
   "source": [
    "df['Education'] = df['Education'].replace('Bachelor&#039;s Degree', 'Bachelors')"
   ]
  },
  {
   "cell_type": "code",
   "execution_count": 30,
   "id": "d3070672-b30a-4047-85b9-a4f927fc16c7",
   "metadata": {},
   "outputs": [],
   "source": [
    "df['Programme of Interest'] = df['Programme of Interest'].replace('Data Analytics', 'Data Science')"
   ]
  },
  {
   "cell_type": "code",
   "execution_count": 31,
   "id": "819dff2e-06e1-4a9f-890a-b7dd8c9c3084",
   "metadata": {},
   "outputs": [],
   "source": [
    "from datetime import date,datetime\n",
    "\n",
    "def age(born):\n",
    "    born = datetime.strptime(born, \"%d/%m/%Y\").date()\n",
    "    today = date.today()\n",
    "    return today.year - born.year - ((today.month, today.day) < (born.month, born.day))\n",
    "  \n",
    "df['Age'] = df['Date of Birth'].apply(age)\n",
    "  \n"
   ]
  },
  {
   "cell_type": "code",
   "execution_count": 32,
   "id": "bbe904ec-3504-4fe3-a51a-351a699d393d",
   "metadata": {},
   "outputs": [],
   "source": [
    "df['Prospect_ID'] = [ 'DS1', 'DS2', 'DS3','DS4','DS5','DS6','DS7','DS8','DS9','DS10','DS11','DS12','DS13','DS14','DS15','DS16','DS17','DS18',\n",
    "                     'DS19','DS20','DS21','DS22','DS23','DS24','DS25','DS26']"
   ]
  },
  {
   "cell_type": "code",
   "execution_count": 90,
   "id": "594c7257-fa9f-4585-9c4a-395cf24b4adb",
   "metadata": {},
   "outputs": [],
   "source": [
    "df['Churn'] = df['Converted'].apply(lambda x: 1 if x == 'Yes' else 0)"
   ]
  },
  {
   "cell_type": "code",
   "execution_count": 91,
   "id": "120fa0e9-5f50-4fe7-acad-090d8a672263",
   "metadata": {},
   "outputs": [
    {
     "data": {
      "text/html": [
       "<div>\n",
       "<style scoped>\n",
       "    .dataframe tbody tr th:only-of-type {\n",
       "        vertical-align: middle;\n",
       "    }\n",
       "\n",
       "    .dataframe tbody tr th {\n",
       "        vertical-align: top;\n",
       "    }\n",
       "\n",
       "    .dataframe thead th {\n",
       "        text-align: right;\n",
       "    }\n",
       "</style>\n",
       "<table border=\"1\" class=\"dataframe\">\n",
       "  <thead>\n",
       "    <tr style=\"text-align: right;\">\n",
       "      <th></th>\n",
       "      <th>First Name</th>\n",
       "      <th>Last Name</th>\n",
       "      <th>Gender</th>\n",
       "      <th>Marital Status</th>\n",
       "      <th>Converted</th>\n",
       "      <th>Sponsored/Self Sponsored</th>\n",
       "      <th>Location</th>\n",
       "      <th>Employment Status</th>\n",
       "      <th>Personal Interests</th>\n",
       "      <th>Date of Birth</th>\n",
       "      <th>Education</th>\n",
       "      <th>Profession</th>\n",
       "      <th>Programme of Interest</th>\n",
       "      <th>Level of IT Experience</th>\n",
       "      <th>Employment Preferences</th>\n",
       "      <th>Age</th>\n",
       "      <th>Prospect_ID</th>\n",
       "      <th>Churn</th>\n",
       "    </tr>\n",
       "  </thead>\n",
       "  <tbody>\n",
       "    <tr>\n",
       "      <th>0</th>\n",
       "      <td>Miracle</td>\n",
       "      <td>Obiekwe</td>\n",
       "      <td>Male</td>\n",
       "      <td>Single</td>\n",
       "      <td>NO</td>\n",
       "      <td>NaN</td>\n",
       "      <td>Enugu State</td>\n",
       "      <td>Self employed / Business Owner</td>\n",
       "      <td>Data science</td>\n",
       "      <td>22/06/1995</td>\n",
       "      <td>Bachelors</td>\n",
       "      <td>Computer science</td>\n",
       "      <td>Data Science</td>\n",
       "      <td>Intermediate ( 2 - 5 years )</td>\n",
       "      <td>Foreign Employment</td>\n",
       "      <td>27</td>\n",
       "      <td>DS1</td>\n",
       "      <td>0</td>\n",
       "    </tr>\n",
       "    <tr>\n",
       "      <th>1</th>\n",
       "      <td>Ibilola</td>\n",
       "      <td>Shobanke</td>\n",
       "      <td>Female</td>\n",
       "      <td>Married</td>\n",
       "      <td>NO</td>\n",
       "      <td>NaN</td>\n",
       "      <td>Oyo State</td>\n",
       "      <td>Employed</td>\n",
       "      <td>Technology, Business</td>\n",
       "      <td>09/07/1984</td>\n",
       "      <td>Masters</td>\n",
       "      <td>Lecturing</td>\n",
       "      <td>Data Science</td>\n",
       "      <td>Beginner ( 0 - 2 years )</td>\n",
       "      <td>Foreign Employment</td>\n",
       "      <td>38</td>\n",
       "      <td>DS2</td>\n",
       "      <td>0</td>\n",
       "    </tr>\n",
       "    <tr>\n",
       "      <th>2</th>\n",
       "      <td>Damilola</td>\n",
       "      <td>Oseni</td>\n",
       "      <td>Female</td>\n",
       "      <td>Married</td>\n",
       "      <td>Yes</td>\n",
       "      <td>Sponsored</td>\n",
       "      <td>FCT</td>\n",
       "      <td>Employed</td>\n",
       "      <td>Business</td>\n",
       "      <td>21/08/1990</td>\n",
       "      <td>Bachelors</td>\n",
       "      <td>Biochemist</td>\n",
       "      <td>Data Science</td>\n",
       "      <td>Beginner ( 0 - 2 years )</td>\n",
       "      <td>Local Employment</td>\n",
       "      <td>32</td>\n",
       "      <td>DS3</td>\n",
       "      <td>1</td>\n",
       "    </tr>\n",
       "    <tr>\n",
       "      <th>3</th>\n",
       "      <td>Kabir</td>\n",
       "      <td>Salawudeen</td>\n",
       "      <td>Male</td>\n",
       "      <td>Married</td>\n",
       "      <td>NO</td>\n",
       "      <td>NaN</td>\n",
       "      <td>FCT</td>\n",
       "      <td>Employed</td>\n",
       "      <td>Technology</td>\n",
       "      <td>01/01/1990</td>\n",
       "      <td>HND</td>\n",
       "      <td>Computer Science</td>\n",
       "      <td>Full-Stack Software Development</td>\n",
       "      <td>Advanced ( 5 years and above )</td>\n",
       "      <td>Foreign Employment</td>\n",
       "      <td>32</td>\n",
       "      <td>DS4</td>\n",
       "      <td>0</td>\n",
       "    </tr>\n",
       "    <tr>\n",
       "      <th>4</th>\n",
       "      <td>Bashir</td>\n",
       "      <td>Hussain</td>\n",
       "      <td>Male</td>\n",
       "      <td>Married</td>\n",
       "      <td>NO</td>\n",
       "      <td>NaN</td>\n",
       "      <td>FCT</td>\n",
       "      <td>Employed</td>\n",
       "      <td>Technology, Sports and Travels</td>\n",
       "      <td>14/05/1980</td>\n",
       "      <td>Bachelors</td>\n",
       "      <td>Banking</td>\n",
       "      <td>Data Science</td>\n",
       "      <td>Advanced ( 5 years and above )</td>\n",
       "      <td>Foreign Employment</td>\n",
       "      <td>42</td>\n",
       "      <td>DS5</td>\n",
       "      <td>0</td>\n",
       "    </tr>\n",
       "  </tbody>\n",
       "</table>\n",
       "</div>"
      ],
      "text/plain": [
       "  First Name   Last Name  Gender Marital Status Converted  \\\n",
       "0    Miracle     Obiekwe    Male         Single        NO   \n",
       "1   Ibilola    Shobanke   Female        Married        NO   \n",
       "2   Damilola       Oseni  Female        Married       Yes   \n",
       "3      Kabir  Salawudeen    Male        Married        NO   \n",
       "4    Bashir      Hussain    Male        Married        NO   \n",
       "\n",
       "  Sponsored/Self Sponsored     Location               Employment Status  \\\n",
       "0                      NaN  Enugu State  Self employed / Business Owner   \n",
       "1                      NaN    Oyo State                        Employed   \n",
       "2                Sponsored          FCT                        Employed   \n",
       "3                      NaN          FCT                        Employed   \n",
       "4                      NaN          FCT                        Employed   \n",
       "\n",
       "               Personal Interests Date of Birth  Education        Profession  \\\n",
       "0                    Data science    22/06/1995  Bachelors  Computer science   \n",
       "1           Technology, Business     09/07/1984    Masters        Lecturing    \n",
       "2                        Business    21/08/1990  Bachelors        Biochemist   \n",
       "3                      Technology    01/01/1990        HND  Computer Science   \n",
       "4  Technology, Sports and Travels    14/05/1980  Bachelors          Banking    \n",
       "\n",
       "             Programme of Interest          Level of IT Experience  \\\n",
       "0                     Data Science    Intermediate ( 2 - 5 years )   \n",
       "1                     Data Science        Beginner ( 0 - 2 years )   \n",
       "2                     Data Science        Beginner ( 0 - 2 years )   \n",
       "3  Full-Stack Software Development  Advanced ( 5 years and above )   \n",
       "4                     Data Science  Advanced ( 5 years and above )   \n",
       "\n",
       "  Employment Preferences  Age Prospect_ID  Churn  \n",
       "0     Foreign Employment   27         DS1      0  \n",
       "1     Foreign Employment   38         DS2      0  \n",
       "2       Local Employment   32         DS3      1  \n",
       "3     Foreign Employment   32         DS4      0  \n",
       "4     Foreign Employment   42         DS5      0  "
      ]
     },
     "execution_count": 91,
     "metadata": {},
     "output_type": "execute_result"
    }
   ],
   "source": [
    "df.head()"
   ]
  },
  {
   "cell_type": "code",
   "execution_count": 35,
   "id": "ef18abca-d15a-4566-a4c2-0b76750eb4b1",
   "metadata": {},
   "outputs": [
    {
     "data": {
      "text/plain": [
       "Converted\n",
       "NO      8\n",
       "Yes    18\n",
       "Name: Prospect_ID, dtype: int64"
      ]
     },
     "execution_count": 35,
     "metadata": {},
     "output_type": "execute_result"
    }
   ],
   "source": [
    "# We can use the following code to get the total number of customers who have responded\n",
    "df.groupby('Converted').count()['Prospect_ID']"
   ]
  },
  {
   "cell_type": "code",
   "execution_count": 36,
   "id": "3b2ac933-ccd6-4c82-9db6-0086d7e157bf",
   "metadata": {
    "collapsed": true,
    "jupyter": {
     "outputs_hidden": true
    },
    "tags": []
   },
   "outputs": [
    {
     "data": {
      "image/png": "[encoded data removed]",
      "text/plain": [
       "<Figure size 720x504 with 1 Axes>"
      ]
     },
     "metadata": {
      "needs_background": "light"
     },
     "output_type": "display_data"
    }
   ],
   "source": [
    "# In order to visualize the above in a plot, you can use the following code:\n",
    "\n",
    "\n",
    "ax = df.groupby('Converted').count()['Prospect_ID'].plot(\n",
    "kind='bar',\n",
    "color='skyblue',\n",
    "grid=True,\n",
    "figsize=(10, 7),\n",
    "title='Prospect Engagment'\n",
    ")\n",
    "ax.set_xlabel('Engaged')\n",
    "ax.set_ylabel('Count')\n",
    "plt.show()\n"
   ]
  },
  {
   "cell_type": "code",
   "execution_count": 37,
   "id": "04bb41bf-2df1-4e5b-b484-089206b28994",
   "metadata": {},
   "outputs": [
    {
     "data": {
      "text/plain": [
       "Converted\n",
       "NO     30.769231\n",
       "Yes    69.230769\n",
       "Name: Prospect_ID, dtype: float64"
      ]
     },
     "execution_count": 37,
     "metadata": {},
     "output_type": "execute_result"
    }
   ],
   "source": [
    "# We can use the following code to get the percentage of customers who have responded\n",
    "df.groupby('Converted').count()['Prospect_ID']/df.shape[0]*100"
   ]
  },
  {
   "cell_type": "code",
   "execution_count": 40,
   "id": "823cc6c9-00d8-4c9d-95e4-a2f4a76e1eb0",
   "metadata": {},
   "outputs": [],
   "source": [
    "# we are going to look into what types of offers worked best for the engaged customers. Take a look at the following code:\n",
    "\n",
    "by_Programme_of_Interest_df = df.loc[df['Converted'] == 'Yes'].groupby(['Programme of Interest']).count()['Prospect_ID'] / df.groupby('Programme of Interest').count()['Prospect_ID']*100"
   ]
  },
  {
   "cell_type": "code",
   "execution_count": 41,
   "id": "aa2352f6-3b7d-4a91-9dfb-e91715aaab87",
   "metadata": {},
   "outputs": [
    {
     "data": {
      "text/plain": [
       "Programme of Interest\n",
       "Data Science                       75.0\n",
       "Full-Stack Software Development    50.0\n",
       "Name: Prospect_ID, dtype: float64"
      ]
     },
     "execution_count": 41,
     "metadata": {},
     "output_type": "execute_result"
    }
   ],
   "source": [
    "by_Programme_of_Interest_df"
   ]
  },
  {
   "cell_type": "code",
   "execution_count": 43,
   "id": "050bce66-a5c3-41d7-bf25-27a3ed2e26e0",
   "metadata": {},
   "outputs": [
    {
     "data": {
      "image/png": "[encoded data removed]",
      "text/plain": [
       "<Figure size 504x504 with 1 Axes>"
      ]
     },
     "metadata": {
      "needs_background": "light"
     },
     "output_type": "display_data"
    }
   ],
   "source": [
    "# We can visualize these results in a bar plot, using the following code:\n",
    "ax = (by_Programme_of_Interest_df).plot(\n",
    "kind='bar',\n",
    "figsize=(7, 7),\n",
    "color='skyblue',\n",
    "grid=True\n",
    ")\n",
    "ax.set_ylabel('Engagement Rate(%)')\n",
    "plt.show()"
   ]
  },
  {
   "cell_type": "code",
   "execution_count": 44,
   "id": "d579047f-431e-4791-bc3b-272215e738d5",
   "metadata": {},
   "outputs": [],
   "source": [
    "#We are going to look at the engagement rates by programme of interst and employment status using the following code\n",
    "\n",
    "by_employment_status_df = df.loc[df['Converted'] == 'Yes'].groupby(['Programme of Interest', 'Employment Status']).count()['Prospect_ID']/df.groupby('Programme of Interest').count()['Prospect_ID']*100"
   ]
  },
  {
   "cell_type": "code",
   "execution_count": 45,
   "id": "303708a4-e53f-4ea1-a246-0899879ead3e",
   "metadata": {},
   "outputs": [
    {
     "data": {
      "text/plain": [
       "Programme of Interest            Employment Status             \n",
       "Data Science                     Employed                          35.000000\n",
       "                                 Self employed / Business Owner    10.000000\n",
       "                                 Unemployed                        30.000000\n",
       "Full-Stack Software Development  Self employed / Business Owner    16.666667\n",
       "                                 Unemployed                        33.333333\n",
       "Name: Prospect_ID, dtype: float64"
      ]
     },
     "execution_count": 45,
     "metadata": {},
     "output_type": "execute_result"
    }
   ],
   "source": [
    "by_employment_status_df"
   ]
  },
  {
   "cell_type": "code",
   "execution_count": 46,
   "id": "8f61a668-bb50-41fa-9f74-9ec60599f2b8",
   "metadata": {},
   "outputs": [],
   "source": [
    "# To make this more readable, we can transform this data by using the followingcode\n",
    "by_employment_status_df = by_employment_status_df .unstack().fillna(0)"
   ]
  },
  {
   "cell_type": "code",
   "execution_count": 47,
   "id": "ea4dbb9a-583b-48aa-90d0-9ca4ba1eedc1",
   "metadata": {},
   "outputs": [
    {
     "data": {
      "text/html": [
       "<div>\n",
       "<style scoped>\n",
       "    .dataframe tbody tr th:only-of-type {\n",
       "        vertical-align: middle;\n",
       "    }\n",
       "\n",
       "    .dataframe tbody tr th {\n",
       "        vertical-align: top;\n",
       "    }\n",
       "\n",
       "    .dataframe thead th {\n",
       "        text-align: right;\n",
       "    }\n",
       "</style>\n",
       "<table border=\"1\" class=\"dataframe\">\n",
       "  <thead>\n",
       "    <tr style=\"text-align: right;\">\n",
       "      <th>Programme of Interest</th>\n",
       "      <th>Data Science</th>\n",
       "      <th>Full-Stack Software Development</th>\n",
       "    </tr>\n",
       "    <tr>\n",
       "      <th>Employment Status</th>\n",
       "      <th></th>\n",
       "      <th></th>\n",
       "    </tr>\n",
       "  </thead>\n",
       "  <tbody>\n",
       "    <tr>\n",
       "      <th>Employed</th>\n",
       "      <td>35.0</td>\n",
       "      <td>0.000000</td>\n",
       "    </tr>\n",
       "    <tr>\n",
       "      <th>Self employed / Business Owner</th>\n",
       "      <td>10.0</td>\n",
       "      <td>16.666667</td>\n",
       "    </tr>\n",
       "    <tr>\n",
       "      <th>Unemployed</th>\n",
       "      <td>30.0</td>\n",
       "      <td>33.333333</td>\n",
       "    </tr>\n",
       "  </tbody>\n",
       "</table>\n",
       "</div>"
      ],
      "text/plain": [
       "Programme of Interest           Data Science  Full-Stack Software Development\n",
       "Employment Status                                                            \n",
       "Employed                                35.0                         0.000000\n",
       "Self employed / Business Owner          10.0                        16.666667\n",
       "Unemployed                              30.0                        33.333333"
      ]
     },
     "execution_count": 47,
     "metadata": {},
     "output_type": "execute_result"
    }
   ],
   "source": [
    "by_employment_status_df.T"
   ]
  },
  {
   "cell_type": "code",
   "execution_count": 50,
   "id": "8e4a7cb6-023d-46d9-98cf-8c75c65a01dc",
   "metadata": {
    "tags": []
   },
   "outputs": [
    {
     "data": {
      "image/png": "[encoded data removed]",
      "text/plain": [
       "<Figure size 720x504 with 1 Axes>"
      ]
     },
     "metadata": {
      "needs_background": "light"
     },
     "output_type": "display_data"
    }
   ],
   "source": [
    "# We can visualize this data as a bar plot, using thefollowing code\n",
    "\n",
    "ax = (by_employment_status_df.T).plot(\n",
    "kind='bar',\n",
    "figsize=(10, 7),\n",
    "color=('darkorange', 'cornflowerblue'),\n",
    "grid=True\n",
    ")\n",
    "ax.set_ylabel('Engagement Rate (%)')\n",
    "plt.xticks(label = ['Employed', 'Self Employed', 'Unemployed'])\n",
    "plt.show()\n"
   ]
  },
  {
   "cell_type": "code",
   "execution_count": 73,
   "id": "c998eede-71ce-4718-914e-29683117f3ae",
   "metadata": {},
   "outputs": [
    {
     "data": {
      "text/plain": [
       "0                       Computer science\n",
       "1                             Lecturing \n",
       "2                             Biochemist\n",
       "3                       Computer Science\n",
       "4                               Banking \n",
       "5              Project Manager/ IT Audit\n",
       "6                           Engineering \n",
       "7                      Software engineer\n",
       "8                 Clinical Administrator\n",
       "9                                 Lawyer\n",
       "10    Administrative and Finance Officer\n",
       "11                         Administrator\n",
       "12               Self employed/ business\n",
       "13       Accountant/Financial Economist \n",
       "14                          Entrepreneur\n",
       "15                        Public officer\n",
       "16                          Data science\n",
       "17                    Mass communication\n",
       "18                                   NaN\n",
       "19                         Data science \n",
       "20                     Computer science \n",
       "21                     Computer Science \n",
       "22                  Industrial Chemistry\n",
       "23                     Computer science \n",
       "24                         Civil servant\n",
       "25                      Computer Science\n",
       "Name: Profession, dtype: object"
      ]
     },
     "execution_count": 73,
     "metadata": {},
     "output_type": "execute_result"
    }
   ],
   "source": [
    "df['Profession']"
   ]
  },
  {
   "cell_type": "code",
   "execution_count": 76,
   "id": "3b990042-fb98-4566-a8c6-39ed02f71f3c",
   "metadata": {
    "collapsed": true,
    "jupyter": {
     "outputs_hidden": true
    },
    "tags": []
   },
   "outputs": [
    {
     "data": {
      "text/plain": [
       "0     Foreign Employment\n",
       "1     Foreign Employment\n",
       "2       Local Employment\n",
       "3     Foreign Employment\n",
       "4     Foreign Employment\n",
       "5     Foreign Employment\n",
       "6     Foreign Employment\n",
       "7      Remote Employment\n",
       "8     Foreign Employment\n",
       "9      Remote Employment\n",
       "10    Foreign Employment\n",
       "11    Foreign Employment\n",
       "12    Foreign Employment\n",
       "13    Foreign Employment\n",
       "14                   NaN\n",
       "15                   NaN\n",
       "16     Remote Employment\n",
       "17     Remote Employment\n",
       "18     Remote Employment\n",
       "19     Remote Employment\n",
       "20    Foreign Employment\n",
       "21     Remote Employment\n",
       "22     Remote Employment\n",
       "23     Remote Employment\n",
       "24                   NaN\n",
       "25                   NaN\n",
       "Name: Employment Preferences, dtype: object"
      ]
     },
     "execution_count": 76,
     "metadata": {},
     "output_type": "execute_result"
    }
   ],
   "source": [
    "df['Employment Preferences']"
   ]
  },
  {
   "cell_type": "code",
   "execution_count": 86,
   "id": "7e8ed326-934f-4c5f-80b0-e67d0b8a254a",
   "metadata": {},
   "outputs": [
    {
     "data": {
      "text/plain": [
       "Employment Preferences\n",
       "Foreign Employment     50.000000\n",
       "Local Employment      100.000000\n",
       "Remote Employment      77.777778\n",
       "Name: Prospect_ID, dtype: float64"
      ]
     },
     "execution_count": 86,
     "metadata": {},
     "output_type": "execute_result"
    }
   ],
   "source": [
    "# We will analyze how engagement rates differ by different sales channels. Take a look at the following code:\n",
    "by_E_Preferences_df = df.loc[df['Converted'] == 'Yes'].groupby(['Employment Preferences']).count()['Prospect_ID']/df.groupby('Employment Preferences').count()['Prospect_ID']*100\n",
    "by_E_Preferences_df"
   ]
  },
  {
   "cell_type": "code",
   "execution_count": 87,
   "id": "a68aa176-6097-4c29-80a4-159e024b2589",
   "metadata": {},
   "outputs": [],
   "source": [
    "by_E_Preferences_df = pd.DataFrame(by_E_Preferences_df)"
   ]
  },
  {
   "cell_type": "code",
   "execution_count": 88,
   "id": "aa92307a-6c86-4ce6-8eda-31c5ad34e549",
   "metadata": {},
   "outputs": [
    {
     "data": {
      "text/plain": [
       "             Employment Preferences\n",
       "Prospect_ID  Foreign Employment         50.000000\n",
       "             Local Employment          100.000000\n",
       "             Remote Employment          77.777778\n",
       "dtype: float64"
      ]
     },
     "execution_count": 88,
     "metadata": {},
     "output_type": "execute_result"
    }
   ],
   "source": [
    "#we can unstack this data into a more visible format, using the following code:\n",
    "\n",
    "by_E_Preferences_df = by_E_Preferences_df.unstack().fillna(0)\n",
    "\n",
    "by_E_Preferences_df   #.set_index('Vehicle Size')"
   ]
  },
  {
   "cell_type": "code",
   "execution_count": 89,
   "id": "e755b3ac-4e5a-486d-befa-0d7bb6b5a5ad",
   "metadata": {},
   "outputs": [
    {
     "data": {
      "image/png": "[encoded data removed]",
      "text/plain": [
       "<Figure size 720x504 with 1 Axes>"
      ]
     },
     "metadata": {
      "needs_background": "light"
     },
     "output_type": "display_data"
    }
   ],
   "source": [
    "#We can visualize the above results into a bar chart, using the following code:\n",
    "def addlabels(x,y):\n",
    "    for i in range(len(x)):\n",
    "        plt.text(i,y[i],y[i])\n",
    "if __name__ == '__main__':\n",
    "    # creating data on which bar chart will be plot\n",
    "    x = [\"Foreign Employment\", \"Local Employment\", \"Remote Employment\",]\n",
    "    y = [50, 100, 78]\n",
    "addlabels(x, y)   \n",
    "\n",
    "ax = (by_E_Preferences_df).plot(\n",
    "kind='bar',\n",
    "figsize=(10, 7),\n",
    "grid=True\n",
    ")\n",
    "ax.set_ylabel('Engagement Rate (%)')\n",
    "plt.show()"
   ]
  },
  {
   "cell_type": "code",
   "execution_count": null,
   "id": "ece36823-c508-46f0-a597-dc511bbd2b1c",
   "metadata": {},
   "outputs": [],
   "source": []
  }
 ],
 "metadata": {
  "kernelspec": {
   "display_name": "Python 3",
   "language": "python",
   "name": "python3"
  },
  "language_info": {
   "codemirror_mode": {
    "name": "ipython",
    "version": 3
   },
   "file_extension": ".py",
   "mimetype": "text/x-python",
   "name": "python",
   "nbconvert_exporter": "python",
   "pygments_lexer": "ipython3",
   "version": "3.8.8"
  }
 },
 "nbformat": 4,
 "nbformat_minor": 5
}
