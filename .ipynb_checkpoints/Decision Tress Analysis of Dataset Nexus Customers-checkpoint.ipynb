{
 "cells": [
  {
   "cell_type": "markdown",
   "id": "a0bcab5f-d0aa-491f-8f98-26a002ecfba8",
   "metadata": {},
   "source": [
    "An analysis aimed at understanding drivers behind our education platform customer behaviours. a use of dicision tree algorithm to extract information about the relationship between attribute (or features) of individual customers and our target output variable."
   ]
  },
  {
   "cell_type": "code",
   "execution_count": 1,
   "id": "5a91d445-461d-4f9e-b784-08728343658b",
   "metadata": {},
   "outputs": [],
   "source": [
    "# importing neccesary packages\n",
    "%matplotlib inline\n",
    "import matplotlib.pyplot as plt\n",
    "import pandas as pd"
   ]
  },
  {
   "cell_type": "code",
   "execution_count": 2,
   "id": "ba54471a-0ac6-480c-a430-2343a44f9b1f",
   "metadata": {},
   "outputs": [],
   "source": [
    "# importing dataset\n",
    "df=pd.read_csv(r\"C:\\Users\\Zachary_B\\Desktop\\dataset\\DatasetNexusTech_ Customer Data.csv\")"
   ]
  },
  {
   "cell_type": "code",
   "execution_count": 3,
   "id": "8d1ef85e-16a0-4215-8a08-8625c11baf65",
   "metadata": {},
   "outputs": [
    {
     "data": {
      "text/plain": [
       "(26, 31)"
      ]
     },
     "execution_count": 3,
     "metadata": {},
     "output_type": "execute_result"
    }
   ],
   "source": [
    "# dimension of the dataframe(row,columns)\n",
    "df.shape"
   ]
  },
  {
   "cell_type": "code",
   "execution_count": 4,
   "id": "831d3c84-9e45-4805-bb6e-00f986df9533",
   "metadata": {},
   "outputs": [
    {
     "data": {
      "text/html": [
       "<div>\n",
       "<style scoped>\n",
       "    .dataframe tbody tr th:only-of-type {\n",
       "        vertical-align: middle;\n",
       "    }\n",
       "\n",
       "    .dataframe tbody tr th {\n",
       "        vertical-align: top;\n",
       "    }\n",
       "\n",
       "    .dataframe thead th {\n",
       "        text-align: right;\n",
       "    }\n",
       "</style>\n",
       "<table border=\"1\" class=\"dataframe\">\n",
       "  <thead>\n",
       "    <tr style=\"text-align: right;\">\n",
       "      <th></th>\n",
       "      <th>Submitted</th>\n",
       "      <th>First Name</th>\n",
       "      <th>Last Name</th>\n",
       "      <th>Email Address</th>\n",
       "      <th>Gender</th>\n",
       "      <th>Marital Status</th>\n",
       "      <th>Converted</th>\n",
       "      <th>Sponsored/Self Sponsored</th>\n",
       "      <th>Location</th>\n",
       "      <th>Postal Address</th>\n",
       "      <th>...</th>\n",
       "      <th>Programme of Interest</th>\n",
       "      <th>Level of IT Experience</th>\n",
       "      <th>What is your main motivation for enrolling in the programme?</th>\n",
       "      <th>What are the challenges you've experienced while trying to meet the above stated goal(s)?</th>\n",
       "      <th>What can we do to help you overcome these challenges?</th>\n",
       "      <th>Employment Preferences</th>\n",
       "      <th>Monthly Salary Expectations (in Naira)</th>\n",
       "      <th>What is your short term (2 years) career goal?</th>\n",
       "      <th>What is your mid-term (2 - 5 years) career goal?</th>\n",
       "      <th>What is your long term (5+ years) career goal?</th>\n",
       "    </tr>\n",
       "  </thead>\n",
       "  <tbody>\n",
       "    <tr>\n",
       "      <th>0</th>\n",
       "      <td>12/05/2022 15:06</td>\n",
       "      <td>Miracle</td>\n",
       "      <td>Obiekwe</td>\n",
       "      <td>miracleobiekwe@yahoo.com</td>\n",
       "      <td>Male</td>\n",
       "      <td>Single</td>\n",
       "      <td>NO</td>\n",
       "      <td>NaN</td>\n",
       "      <td>Enugu State</td>\n",
       "      <td>&lt;p&gt;Nigeria prisons barracks enugu state comman...</td>\n",
       "      <td>...</td>\n",
       "      <td>Data Science</td>\n",
       "      <td>Intermediate ( 2 - 5 years )</td>\n",
       "      <td>&lt;p&gt;That I can do all things through Christ tha...</td>\n",
       "      <td>&lt;p&gt;Coding is my challenge.. I have tried it be...</td>\n",
       "      <td>&lt;p&gt;I need maximum attention and guidance&lt;/p&gt;\\n</td>\n",
       "      <td>Foreign Employment</td>\n",
       "      <td>2.5million</td>\n",
       "      <td>&lt;p&gt;To be a consultant in the field of data sci...</td>\n",
       "      <td>&lt;p&gt;Empowering children from the street to stud...</td>\n",
       "      <td>&lt;p&gt;To be the best across the globe&lt;/p&gt;\\n</td>\n",
       "    </tr>\n",
       "    <tr>\n",
       "      <th>1</th>\n",
       "      <td>06/04/2022 20:41</td>\n",
       "      <td>Ibilola</td>\n",
       "      <td>Shobanke</td>\n",
       "      <td>lolashobanke@gmail.com</td>\n",
       "      <td>Female</td>\n",
       "      <td>Married</td>\n",
       "      <td>NO</td>\n",
       "      <td>NaN</td>\n",
       "      <td>Oyo State</td>\n",
       "      <td>&lt;p&gt;3 Fafunlayo Layout, Iwo Road, Ibadan &lt;/p&gt;\\n</td>\n",
       "      <td>...</td>\n",
       "      <td>Data Analytics</td>\n",
       "      <td>Beginner ( 0 - 2 years )</td>\n",
       "      <td>&lt;p&gt;For self development and to increase my cha...</td>\n",
       "      <td>&lt;p&gt;N/A&lt;/p&gt;\\n</td>\n",
       "      <td>&lt;p&gt;N/A&lt;/p&gt;\\n</td>\n",
       "      <td>Foreign Employment</td>\n",
       "      <td>N2,000,000</td>\n",
       "      <td>&lt;p&gt;Becoming a genius in data analytics and hav...</td>\n",
       "      <td>&lt;p&gt;To become diverse in the other aspects of t...</td>\n",
       "      <td>NaN</td>\n",
       "    </tr>\n",
       "    <tr>\n",
       "      <th>2</th>\n",
       "      <td>06/04/2022 12:22</td>\n",
       "      <td>Damilola</td>\n",
       "      <td>Oseni</td>\n",
       "      <td>dammygeorge5050@gmail.com</td>\n",
       "      <td>Female</td>\n",
       "      <td>Married</td>\n",
       "      <td>Yes</td>\n",
       "      <td>Sponsored</td>\n",
       "      <td>FCT</td>\n",
       "      <td>&lt;p&gt;1 EMMANUEL NTUK, GOSHEN VILLA ESTATE, LUGBE...</td>\n",
       "      <td>...</td>\n",
       "      <td>Data Analytics</td>\n",
       "      <td>Beginner ( 0 - 2 years )</td>\n",
       "      <td>&lt;p&gt;Knowledge &lt;/p&gt;\\n</td>\n",
       "      <td>&lt;p&gt;Fear of failing&lt;br /&gt;\\nBudget&lt;br /&gt;\\nLack o...</td>\n",
       "      <td>&lt;p&gt;Give Feedbacks on how I can improve&lt;/p&gt;\\n</td>\n",
       "      <td>Local Employment</td>\n",
       "      <td>100,000</td>\n",
       "      <td>&lt;p&gt;Successful implementation of what I have le...</td>\n",
       "      <td>&lt;p&gt;To work in an organization&lt;/p&gt;\\n</td>\n",
       "      <td>NaN</td>\n",
       "    </tr>\n",
       "    <tr>\n",
       "      <th>3</th>\n",
       "      <td>06/04/2022 09:30</td>\n",
       "      <td>Kabir</td>\n",
       "      <td>Salawudeen</td>\n",
       "      <td>salawudeenkabeer@gmail.com</td>\n",
       "      <td>Male</td>\n",
       "      <td>Married</td>\n",
       "      <td>NO</td>\n",
       "      <td>NaN</td>\n",
       "      <td>FCT</td>\n",
       "      <td>&lt;p&gt;23, Angwar Siyawa Abuja Nigeria&lt;/p&gt;\\n</td>\n",
       "      <td>...</td>\n",
       "      <td>Full-Stack Software Development</td>\n",
       "      <td>Advanced ( 5 years and above )</td>\n",
       "      <td>&lt;p&gt;One of your student got a good and well pay...</td>\n",
       "      <td>&lt;p&gt;Network challenges and at times work relate...</td>\n",
       "      <td>&lt;p&gt;If I can have a full knowledge in becoming ...</td>\n",
       "      <td>Foreign Employment</td>\n",
       "      <td>300,000.00</td>\n",
       "      <td>&lt;p&gt;1.Earn a new certificate or degree.&lt;br /&gt;\\n...</td>\n",
       "      <td>&lt;p&gt;Start a personal project.&lt;/p&gt;\\n</td>\n",
       "      <td>&lt;p&gt;1. Get familiar with new technology.&lt;br /&gt;\\...</td>\n",
       "    </tr>\n",
       "    <tr>\n",
       "      <th>4</th>\n",
       "      <td>05/04/2022 14:40</td>\n",
       "      <td>Bashir</td>\n",
       "      <td>Hussain</td>\n",
       "      <td>uniquebash@gmail.com</td>\n",
       "      <td>Male</td>\n",
       "      <td>Married</td>\n",
       "      <td>NO</td>\n",
       "      <td>NaN</td>\n",
       "      <td>FCT</td>\n",
       "      <td>&lt;p&gt;Plot 785 Herbert Macaulay Way, CBD Abuja&lt;/p&gt;\\n</td>\n",
       "      <td>...</td>\n",
       "      <td>Data Analytics</td>\n",
       "      <td>Advanced ( 5 years and above )</td>\n",
       "      <td>&lt;p&gt;To start a career path on technology &lt;/p&gt;\\n</td>\n",
       "      <td>&lt;p&gt;Interest &lt;/p&gt;\\n</td>\n",
       "      <td>&lt;p&gt;Enrolment &lt;/p&gt;\\n</td>\n",
       "      <td>Foreign Employment</td>\n",
       "      <td>500,000.00</td>\n",
       "      <td>&lt;p&gt;To obtain basic certification on technology...</td>\n",
       "      <td>&lt;p&gt;To obtain multiple certifications on techno...</td>\n",
       "      <td>&lt;p&gt;To be a reference point in technology &lt;/p&gt;\\n</td>\n",
       "    </tr>\n",
       "  </tbody>\n",
       "</table>\n",
       "<p>5 rows × 31 columns</p>\n",
       "</div>"
      ],
      "text/plain": [
       "          Submitted First Name   Last Name               Email Address  \\\n",
       "0  12/05/2022 15:06    Miracle     Obiekwe    miracleobiekwe@yahoo.com   \n",
       "1  06/04/2022 20:41   Ibilola    Shobanke       lolashobanke@gmail.com   \n",
       "2  06/04/2022 12:22   Damilola       Oseni   dammygeorge5050@gmail.com   \n",
       "3  06/04/2022 09:30      Kabir  Salawudeen  salawudeenkabeer@gmail.com   \n",
       "4  05/04/2022 14:40    Bashir      Hussain        uniquebash@gmail.com   \n",
       "\n",
       "   Gender Marital Status Converted Sponsored/Self Sponsored     Location  \\\n",
       "0    Male         Single        NO                      NaN  Enugu State   \n",
       "1  Female        Married        NO                      NaN    Oyo State   \n",
       "2  Female        Married       Yes                Sponsored          FCT   \n",
       "3    Male        Married        NO                      NaN          FCT   \n",
       "4    Male        Married        NO                      NaN          FCT   \n",
       "\n",
       "                                      Postal Address  ...  \\\n",
       "0  <p>Nigeria prisons barracks enugu state comman...  ...   \n",
       "1     <p>3 Fafunlayo Layout, Iwo Road, Ibadan </p>\\n  ...   \n",
       "2  <p>1 EMMANUEL NTUK, GOSHEN VILLA ESTATE, LUGBE...  ...   \n",
       "3           <p>23, Angwar Siyawa Abuja Nigeria</p>\\n  ...   \n",
       "4  <p>Plot 785 Herbert Macaulay Way, CBD Abuja</p>\\n  ...   \n",
       "\n",
       "             Programme of Interest          Level of IT Experience  \\\n",
       "0                     Data Science    Intermediate ( 2 - 5 years )   \n",
       "1                   Data Analytics        Beginner ( 0 - 2 years )   \n",
       "2                   Data Analytics        Beginner ( 0 - 2 years )   \n",
       "3  Full-Stack Software Development  Advanced ( 5 years and above )   \n",
       "4                   Data Analytics  Advanced ( 5 years and above )   \n",
       "\n",
       "  What is your main motivation for enrolling in the programme?  \\\n",
       "0  <p>That I can do all things through Christ tha...             \n",
       "1  <p>For self development and to increase my cha...             \n",
       "2                                <p>Knowledge </p>\\n             \n",
       "3  <p>One of your student got a good and well pay...             \n",
       "4     <p>To start a career path on technology </p>\\n             \n",
       "\n",
       "  What are the challenges you've experienced while trying to meet the above stated goal(s)?  \\\n",
       "0  <p>Coding is my challenge.. I have tried it be...                                          \n",
       "1                                       <p>N/A</p>\\n                                          \n",
       "2  <p>Fear of failing<br />\\nBudget<br />\\nLack o...                                          \n",
       "3  <p>Network challenges and at times work relate...                                          \n",
       "4                                 <p>Interest </p>\\n                                          \n",
       "\n",
       "  What can we do to help you overcome these challenges?  \\\n",
       "0     <p>I need maximum attention and guidance</p>\\n      \n",
       "1                                       <p>N/A</p>\\n      \n",
       "2       <p>Give Feedbacks on how I can improve</p>\\n      \n",
       "3  <p>If I can have a full knowledge in becoming ...      \n",
       "4                                <p>Enrolment </p>\\n      \n",
       "\n",
       "  Employment Preferences Monthly Salary Expectations (in Naira)  \\\n",
       "0     Foreign Employment                             2.5million   \n",
       "1     Foreign Employment                             N2,000,000   \n",
       "2       Local Employment                                100,000   \n",
       "3     Foreign Employment                             300,000.00   \n",
       "4     Foreign Employment                             500,000.00   \n",
       "\n",
       "      What is your short term (2 years) career goal?  \\\n",
       "0  <p>To be a consultant in the field of data sci...   \n",
       "1  <p>Becoming a genius in data analytics and hav...   \n",
       "2  <p>Successful implementation of what I have le...   \n",
       "3  <p>1.Earn a new certificate or degree.<br />\\n...   \n",
       "4  <p>To obtain basic certification on technology...   \n",
       "\n",
       "    What is your mid-term (2 - 5 years) career goal?  \\\n",
       "0  <p>Empowering children from the street to stud...   \n",
       "1  <p>To become diverse in the other aspects of t...   \n",
       "2                <p>To work in an organization</p>\\n   \n",
       "3                 <p>Start a personal project.</p>\\n   \n",
       "4  <p>To obtain multiple certifications on techno...   \n",
       "\n",
       "      What is your long term (5+ years) career goal?  \n",
       "0           <p>To be the best across the globe</p>\\n  \n",
       "1                                                NaN  \n",
       "2                                                NaN  \n",
       "3  <p>1. Get familiar with new technology.<br />\\...  \n",
       "4    <p>To be a reference point in technology </p>\\n  \n",
       "\n",
       "[5 rows x 31 columns]"
      ]
     },
     "execution_count": 4,
     "metadata": {},
     "output_type": "execute_result"
    }
   ],
   "source": [
    "# returns the first five rows by default\n",
    "df.head()"
   ]
  },
  {
   "cell_type": "markdown",
   "id": "96419b45-3a6d-4b08-a3b3-73ffd38c33f3",
   "metadata": {},
   "source": [
    "### Data Cleaning"
   ]
  },
  {
   "cell_type": "code",
   "execution_count": 5,
   "id": "c4e0a127-af7b-41f4-ab29-89322c211bdb",
   "metadata": {},
   "outputs": [
    {
     "name": "stdout",
     "output_type": "stream",
     "text": [
      "<class 'pandas.core.frame.DataFrame'>\n",
      "RangeIndex: 26 entries, 0 to 25\n",
      "Data columns (total 31 columns):\n",
      " #   Column                                                                                     Non-Null Count  Dtype  \n",
      "---  ------                                                                                     --------------  -----  \n",
      " 0   Submitted                                                                                  26 non-null     object \n",
      " 1   First Name                                                                                 26 non-null     object \n",
      " 2   Last Name                                                                                  26 non-null     object \n",
      " 3   Email Address                                                                              26 non-null     object \n",
      " 4   Gender                                                                                     26 non-null     object \n",
      " 5   Marital Status                                                                             26 non-null     object \n",
      " 6   Converted                                                                                  26 non-null     object \n",
      " 7   Sponsored/Self Sponsored                                                                   18 non-null     object \n",
      " 8   Location                                                                                   26 non-null     object \n",
      " 9   Postal Address                                                                             15 non-null     object \n",
      " 10  Employment Status                                                                          26 non-null     object \n",
      " 11  Personal Interests                                                                         26 non-null     object \n",
      " 12  What Social Media do you use?                                                              26 non-null     object \n",
      " 13  What is your primary objective/goal for enrolling in this programme?                       26 non-null     object \n",
      " 14  What is your secondary objective/goal for enrolling in this programme?                     22 non-null     object \n",
      " 15  What can we do to help you achieve the above stated goal(s)?                               26 non-null     object \n",
      " 16  How you determine the achievement of above stated goal(s)?                                 26 non-null     object \n",
      " 17  Phone Number                                                                               26 non-null     float64\n",
      " 18  Date of Birth                                                                              26 non-null     object \n",
      " 19  Education                                                                                  26 non-null     object \n",
      " 20  Profession                                                                                 25 non-null     object \n",
      " 21  Programme of Interest                                                                      26 non-null     object \n",
      " 22  Level of IT Experience                                                                     26 non-null     object \n",
      " 23  What is your main motivation for enrolling in the programme?                               24 non-null     object \n",
      " 24  What are the challenges you've experienced while trying to meet the above stated goal(s)?  24 non-null     object \n",
      " 25  What can we do to help you overcome these challenges?                                      24 non-null     object \n",
      " 26  Employment Preferences                                                                     22 non-null     object \n",
      " 27  Monthly Salary Expectations (in Naira)                                                     22 non-null     object \n",
      " 28  What is your short term (2 years) career goal?                                             22 non-null     object \n",
      " 29  What is your mid-term (2 - 5 years) career goal?                                           22 non-null     object \n",
      " 30  What is your long term (5+ years) career goal?                                             19 non-null     object \n",
      "dtypes: float64(1), object(30)\n",
      "memory usage: 6.4+ KB\n"
     ]
    }
   ],
   "source": [
    "df.info()"
   ]
  },
  {
   "cell_type": "code",
   "execution_count": 6,
   "id": "90abf0b6-0693-4593-9917-783aa183dc2e",
   "metadata": {},
   "outputs": [],
   "source": [
    "# Use df.columns command to drop columns via indexing\n",
    "df = df.drop(df.columns[[0,3,9,12,13,14,15,16,17,23,24,25,27,28,29,30]], axis=1)"
   ]
  },
  {
   "cell_type": "code",
   "execution_count": 7,
   "id": "2b9971d9-7a40-4951-93bd-80eca851476a",
   "metadata": {},
   "outputs": [
    {
     "data": {
      "text/plain": [
       "First Name                  0\n",
       "Last Name                   0\n",
       "Gender                      0\n",
       "Marital Status              0\n",
       "Converted                   0\n",
       "Sponsored/Self Sponsored    8\n",
       "Location                    0\n",
       "Employment Status           0\n",
       "Personal Interests          0\n",
       "Date of Birth               0\n",
       "Education                   0\n",
       "Profession                  1\n",
       "Programme of Interest       0\n",
       "Level of IT Experience      0\n",
       "Employment Preferences      4\n",
       "dtype: int64"
      ]
     },
     "execution_count": 7,
     "metadata": {},
     "output_type": "execute_result"
    }
   ],
   "source": [
    "df.isnull().sum()"
   ]
  },
  {
   "cell_type": "code",
   "execution_count": 8,
   "id": "da590775-2ca7-4f3d-a6a5-3027a90981c9",
   "metadata": {},
   "outputs": [
    {
     "data": {
      "text/plain": [
       "Index(['First Name', 'Last Name', 'Gender', 'Marital Status', 'Converted',\n",
       "       'Sponsored/Self Sponsored', 'Location', 'Employment Status',\n",
       "       'Personal Interests', 'Date of Birth', 'Education', 'Profession',\n",
       "       'Programme of Interest', 'Level of IT Experience',\n",
       "       'Employment Preferences'],\n",
       "      dtype='object')"
      ]
     },
     "execution_count": 8,
     "metadata": {},
     "output_type": "execute_result"
    }
   ],
   "source": [
    "df.columns"
   ]
  },
  {
   "cell_type": "code",
   "execution_count": 9,
   "id": "46e085a9-95f8-4604-856c-75882ff12cf8",
   "metadata": {},
   "outputs": [],
   "source": [
    "df['Personal Interests'] = df['Personal Interests'].str.replace(r'</p>|<p>|\\n', '',regex = True)"
   ]
  },
  {
   "cell_type": "code",
   "execution_count": 10,
   "id": "3668f05e-dc78-46df-9791-c5fcfbcaa18f",
   "metadata": {},
   "outputs": [],
   "source": [
    "df['Education'] = df['Education'].replace('Bachelor&#039;s Degree', 'Bachelors')"
   ]
  },
  {
   "cell_type": "code",
   "execution_count": 11,
   "id": "24abbff7-49eb-4817-b2f5-030e2eb0ebd0",
   "metadata": {},
   "outputs": [],
   "source": [
    "df['Programme of Interest'] = df['Programme of Interest'].replace('Data Analytics', 'Data Science')"
   ]
  },
  {
   "cell_type": "code",
   "execution_count": 12,
   "id": "1b6dcf47-b744-4498-ba8a-cee40d54fc2a",
   "metadata": {},
   "outputs": [],
   "source": [
    "from datetime import date,datetime\n",
    "\n",
    "def age(born):\n",
    "    born = datetime.strptime(born, \"%d/%m/%Y\").date()\n",
    "    today = date.today()\n",
    "    return today.year - born.year - ((today.month, today.day) < (born.month, born.day))\n",
    "  \n",
    "df['Age'] = df['Date of Birth'].apply(age)\n",
    "  \n"
   ]
  },
  {
   "cell_type": "code",
   "execution_count": 13,
   "id": "23d11fdb-f983-4368-9780-283e22587fe1",
   "metadata": {},
   "outputs": [
    {
     "data": {
      "text/html": [
       "<div>\n",
       "<style scoped>\n",
       "    .dataframe tbody tr th:only-of-type {\n",
       "        vertical-align: middle;\n",
       "    }\n",
       "\n",
       "    .dataframe tbody tr th {\n",
       "        vertical-align: top;\n",
       "    }\n",
       "\n",
       "    .dataframe thead th {\n",
       "        text-align: right;\n",
       "    }\n",
       "</style>\n",
       "<table border=\"1\" class=\"dataframe\">\n",
       "  <thead>\n",
       "    <tr style=\"text-align: right;\">\n",
       "      <th></th>\n",
       "      <th>First Name</th>\n",
       "      <th>Last Name</th>\n",
       "      <th>Gender</th>\n",
       "      <th>Marital Status</th>\n",
       "      <th>Converted</th>\n",
       "      <th>Sponsored/Self Sponsored</th>\n",
       "      <th>Location</th>\n",
       "      <th>Employment Status</th>\n",
       "      <th>Personal Interests</th>\n",
       "      <th>Date of Birth</th>\n",
       "      <th>Education</th>\n",
       "      <th>Profession</th>\n",
       "      <th>Programme of Interest</th>\n",
       "      <th>Level of IT Experience</th>\n",
       "      <th>Employment Preferences</th>\n",
       "      <th>Age</th>\n",
       "    </tr>\n",
       "  </thead>\n",
       "  <tbody>\n",
       "    <tr>\n",
       "      <th>0</th>\n",
       "      <td>Miracle</td>\n",
       "      <td>Obiekwe</td>\n",
       "      <td>Male</td>\n",
       "      <td>Single</td>\n",
       "      <td>NO</td>\n",
       "      <td>NaN</td>\n",
       "      <td>Enugu State</td>\n",
       "      <td>Self employed / Business Owner</td>\n",
       "      <td>Data science</td>\n",
       "      <td>22/06/1995</td>\n",
       "      <td>Bachelors</td>\n",
       "      <td>Computer science</td>\n",
       "      <td>Data Science</td>\n",
       "      <td>Intermediate ( 2 - 5 years )</td>\n",
       "      <td>Foreign Employment</td>\n",
       "      <td>27</td>\n",
       "    </tr>\n",
       "    <tr>\n",
       "      <th>1</th>\n",
       "      <td>Ibilola</td>\n",
       "      <td>Shobanke</td>\n",
       "      <td>Female</td>\n",
       "      <td>Married</td>\n",
       "      <td>NO</td>\n",
       "      <td>NaN</td>\n",
       "      <td>Oyo State</td>\n",
       "      <td>Employed</td>\n",
       "      <td>Technology, Business</td>\n",
       "      <td>09/07/1984</td>\n",
       "      <td>Masters</td>\n",
       "      <td>Lecturing</td>\n",
       "      <td>Data Science</td>\n",
       "      <td>Beginner ( 0 - 2 years )</td>\n",
       "      <td>Foreign Employment</td>\n",
       "      <td>38</td>\n",
       "    </tr>\n",
       "    <tr>\n",
       "      <th>2</th>\n",
       "      <td>Damilola</td>\n",
       "      <td>Oseni</td>\n",
       "      <td>Female</td>\n",
       "      <td>Married</td>\n",
       "      <td>Yes</td>\n",
       "      <td>Sponsored</td>\n",
       "      <td>FCT</td>\n",
       "      <td>Employed</td>\n",
       "      <td>Business</td>\n",
       "      <td>21/08/1990</td>\n",
       "      <td>Bachelors</td>\n",
       "      <td>Biochemist</td>\n",
       "      <td>Data Science</td>\n",
       "      <td>Beginner ( 0 - 2 years )</td>\n",
       "      <td>Local Employment</td>\n",
       "      <td>31</td>\n",
       "    </tr>\n",
       "    <tr>\n",
       "      <th>3</th>\n",
       "      <td>Kabir</td>\n",
       "      <td>Salawudeen</td>\n",
       "      <td>Male</td>\n",
       "      <td>Married</td>\n",
       "      <td>NO</td>\n",
       "      <td>NaN</td>\n",
       "      <td>FCT</td>\n",
       "      <td>Employed</td>\n",
       "      <td>Technology</td>\n",
       "      <td>01/01/1990</td>\n",
       "      <td>HND</td>\n",
       "      <td>Computer Science</td>\n",
       "      <td>Full-Stack Software Development</td>\n",
       "      <td>Advanced ( 5 years and above )</td>\n",
       "      <td>Foreign Employment</td>\n",
       "      <td>32</td>\n",
       "    </tr>\n",
       "    <tr>\n",
       "      <th>4</th>\n",
       "      <td>Bashir</td>\n",
       "      <td>Hussain</td>\n",
       "      <td>Male</td>\n",
       "      <td>Married</td>\n",
       "      <td>NO</td>\n",
       "      <td>NaN</td>\n",
       "      <td>FCT</td>\n",
       "      <td>Employed</td>\n",
       "      <td>Technology, Sports and Travels</td>\n",
       "      <td>14/05/1980</td>\n",
       "      <td>Bachelors</td>\n",
       "      <td>Banking</td>\n",
       "      <td>Data Science</td>\n",
       "      <td>Advanced ( 5 years and above )</td>\n",
       "      <td>Foreign Employment</td>\n",
       "      <td>42</td>\n",
       "    </tr>\n",
       "  </tbody>\n",
       "</table>\n",
       "</div>"
      ],
      "text/plain": [
       "  First Name   Last Name  Gender Marital Status Converted  \\\n",
       "0    Miracle     Obiekwe    Male         Single        NO   \n",
       "1   Ibilola    Shobanke   Female        Married        NO   \n",
       "2   Damilola       Oseni  Female        Married       Yes   \n",
       "3      Kabir  Salawudeen    Male        Married        NO   \n",
       "4    Bashir      Hussain    Male        Married        NO   \n",
       "\n",
       "  Sponsored/Self Sponsored     Location               Employment Status  \\\n",
       "0                      NaN  Enugu State  Self employed / Business Owner   \n",
       "1                      NaN    Oyo State                        Employed   \n",
       "2                Sponsored          FCT                        Employed   \n",
       "3                      NaN          FCT                        Employed   \n",
       "4                      NaN          FCT                        Employed   \n",
       "\n",
       "               Personal Interests Date of Birth  Education        Profession  \\\n",
       "0                    Data science    22/06/1995  Bachelors  Computer science   \n",
       "1           Technology, Business     09/07/1984    Masters        Lecturing    \n",
       "2                        Business    21/08/1990  Bachelors        Biochemist   \n",
       "3                      Technology    01/01/1990        HND  Computer Science   \n",
       "4  Technology, Sports and Travels    14/05/1980  Bachelors          Banking    \n",
       "\n",
       "             Programme of Interest          Level of IT Experience  \\\n",
       "0                     Data Science    Intermediate ( 2 - 5 years )   \n",
       "1                     Data Science        Beginner ( 0 - 2 years )   \n",
       "2                     Data Science        Beginner ( 0 - 2 years )   \n",
       "3  Full-Stack Software Development  Advanced ( 5 years and above )   \n",
       "4                     Data Science  Advanced ( 5 years and above )   \n",
       "\n",
       "  Employment Preferences  Age  \n",
       "0     Foreign Employment   27  \n",
       "1     Foreign Employment   38  \n",
       "2       Local Employment   31  \n",
       "3     Foreign Employment   32  \n",
       "4     Foreign Employment   42  "
      ]
     },
     "execution_count": 13,
     "metadata": {},
     "output_type": "execute_result"
    }
   ],
   "source": [
    "df.head()"
   ]
  },
  {
   "cell_type": "markdown",
   "id": "889de60b-9590-4553-a726-613298346262",
   "metadata": {},
   "source": [
    "#### Data analysis and visualization"
   ]
  },
  {
   "cell_type": "code",
   "execution_count": 14,
   "id": "676fa6be-cd7f-417f-b1e5-9db4c25e6e5b",
   "metadata": {},
   "outputs": [
    {
     "data": {
      "text/plain": [
       "array(['Enugu State', 'Oyo State', 'FCT', 'Lagos State', 'Ondo State'],\n",
       "      dtype=object)"
      ]
     },
     "execution_count": 14,
     "metadata": {},
     "output_type": "execute_result"
    }
   ],
   "source": [
    "df['Location'].unique()"
   ]
  },
  {
   "cell_type": "code",
   "execution_count": 15,
   "id": "13a3d0c5-587c-42b4-806c-0b87706a7123",
   "metadata": {},
   "outputs": [
    {
     "data": {
      "text/plain": [
       "<AxesSubplot:xlabel='Location'>"
      ]
     },
     "execution_count": 15,
     "metadata": {},
     "output_type": "execute_result"
    },
    {
     "data": {
      "image/png": "[encoded data removed]",
      "text/plain": [
       "<Figure size 432x288 with 1 Axes>"
      ]
     },
     "metadata": {
      "needs_background": "light"
     },
     "output_type": "display_data"
    }
   ],
   "source": [
    "df.groupby('Location')['Converted'].count().plot(kind='bar')"
   ]
  },
  {
   "cell_type": "markdown",
   "id": "ee5be7d6-d116-4f4c-8098-9c555957d641",
   "metadata": {},
   "source": [
    "From the above chart we can see that our client comes from 5 major state, Enugu, FCT, Lagos, Ondo and Oyo State. Abuja  has the highest number of clints so i would suggest that Dataset Nexus Tech focus on getting more clients from thia state."
   ]
  },
  {
   "cell_type": "code",
   "execution_count": 16,
   "id": "22d0e6b5-79f8-42df-90ab-ccbd387669bd",
   "metadata": {},
   "outputs": [],
   "source": [
    "df['Conversion'] = df['Converted'].apply(lambda x: 1 if x == 'Yes' else 0)"
   ]
  },
  {
   "cell_type": "code",
   "execution_count": 17,
   "id": "e6cf332d-476a-4b74-aa5c-2a34103ef23b",
   "metadata": {},
   "outputs": [],
   "source": [
    "# We are counting the number of customers in each group and dividing it by the total number of customers in the dataset. \n",
    "Conversion_rate_df = pd.DataFrame(\n",
    "df.groupby('Conversion').count()['Converted'] / df.shape[0] * 100.0\n",
    ")"
   ]
  },
  {
   "cell_type": "code",
   "execution_count": 18,
   "id": "d4137300-3ed6-499c-bc46-659151ed2472",
   "metadata": {
    "tags": []
   },
   "outputs": [
    {
     "data": {
      "text/html": [
       "<div>\n",
       "<style scoped>\n",
       "    .dataframe tbody tr th:only-of-type {\n",
       "        vertical-align: middle;\n",
       "    }\n",
       "\n",
       "    .dataframe tbody tr th {\n",
       "        vertical-align: top;\n",
       "    }\n",
       "\n",
       "    .dataframe thead th {\n",
       "        text-align: right;\n",
       "    }\n",
       "</style>\n",
       "<table border=\"1\" class=\"dataframe\">\n",
       "  <thead>\n",
       "    <tr style=\"text-align: right;\">\n",
       "      <th></th>\n",
       "      <th>Converted</th>\n",
       "    </tr>\n",
       "    <tr>\n",
       "      <th>Conversion</th>\n",
       "      <th></th>\n",
       "    </tr>\n",
       "  </thead>\n",
       "  <tbody>\n",
       "    <tr>\n",
       "      <th>0</th>\n",
       "      <td>30.769231</td>\n",
       "    </tr>\n",
       "    <tr>\n",
       "      <th>1</th>\n",
       "      <td>69.230769</td>\n",
       "    </tr>\n",
       "  </tbody>\n",
       "</table>\n",
       "</div>"
      ],
      "text/plain": [
       "            Converted\n",
       "Conversion           \n",
       "0           30.769231\n",
       "1           69.230769"
      ]
     },
     "execution_count": 18,
     "metadata": {},
     "output_type": "execute_result"
    }
   ],
   "source": [
    "Conversion_rate_df"
   ]
  },
  {
   "cell_type": "code",
   "execution_count": 19,
   "id": "0a7451fb-e811-47ff-b954-adb6c345b6ff",
   "metadata": {
    "tags": []
   },
   "outputs": [
    {
     "data": {
      "text/html": [
       "<div>\n",
       "<style scoped>\n",
       "    .dataframe tbody tr th:only-of-type {\n",
       "        vertical-align: middle;\n",
       "    }\n",
       "\n",
       "    .dataframe tbody tr th {\n",
       "        vertical-align: top;\n",
       "    }\n",
       "\n",
       "    .dataframe thead th {\n",
       "        text-align: right;\n",
       "    }\n",
       "</style>\n",
       "<table border=\"1\" class=\"dataframe\">\n",
       "  <thead>\n",
       "    <tr style=\"text-align: right;\">\n",
       "      <th>Conversion</th>\n",
       "      <th>0</th>\n",
       "      <th>1</th>\n",
       "    </tr>\n",
       "  </thead>\n",
       "  <tbody>\n",
       "    <tr>\n",
       "      <th>Converted</th>\n",
       "      <td>30.769231</td>\n",
       "      <td>69.230769</td>\n",
       "    </tr>\n",
       "  </tbody>\n",
       "</table>\n",
       "</div>"
      ],
      "text/plain": [
       "Conversion          0          1\n",
       "Converted   30.769231  69.230769"
      ]
     },
     "execution_count": 19,
     "metadata": {},
     "output_type": "execute_result"
    }
   ],
   "source": [
    "#transposing for better presentation\n",
    "Conversion_rate_df.T"
   ]
  },
  {
   "cell_type": "code",
   "execution_count": 20,
   "id": "59d79a4f-d849-4ad9-9b68-597ad02c86fc",
   "metadata": {},
   "outputs": [
    {
     "data": {
      "image/png": "[encoded data removed]",
      "text/plain": [
       "<Figure size 720x504 with 1 Axes>"
      ]
     },
     "metadata": {
      "needs_background": "light"
     },
     "output_type": "display_data"
    }
   ],
   "source": [
    "# We can build a horizontal bar chart by using the following code\n",
    "ax = Conversion_rate_df.plot(\n",
    "kind='bar',\n",
    "color='skyblue',\n",
    "grid=True,\n",
    "figsize=(10, 7),\n",
    "title='Conversion_rate_df'\n",
    ")\n",
    "ax.set_xlabel('conversion rate (%)')\n",
    "ax.set_ylabel('count')\n",
    "plt.show()"
   ]
  },
  {
   "cell_type": "markdown",
   "id": "40f9730e-c28d-479c-abfd-0d1eaaa501b6",
   "metadata": {},
   "source": [
    "The above bar chart shows the number of converstion rate of our client and we have 69% converstion rate and 31% non converted"
   ]
  },
  {
   "cell_type": "markdown",
   "id": "2a9c13bf-fefe-49b3-941a-93fbe65fa904",
   "metadata": {},
   "source": [
    "### Conversion rates by Employment Status"
   ]
  },
  {
   "cell_type": "code",
   "execution_count": 21,
   "id": "4c9576e2-2861-4a77-bf7c-95ccbe87da76",
   "metadata": {},
   "outputs": [],
   "source": [
    "df['Prospect_ID'] = [ 'DS1', 'DS2', 'DS3','DS4','DS5','DS6','DS7','DS8','DS9','DS10','DS11','DS12','DS13','DS14','DS15','DS16','DS17','DS18',\n",
    "                     'DS19','DS20','DS21','DS22','DS23','DS24','DS25','DS26']"
   ]
  },
  {
   "cell_type": "code",
   "execution_count": 22,
   "id": "bbf9bbea-9b2e-4056-9897-d4df40a6ced7",
   "metadata": {},
   "outputs": [
    {
     "data": {
      "text/html": [
       "<div>\n",
       "<style scoped>\n",
       "    .dataframe tbody tr th:only-of-type {\n",
       "        vertical-align: middle;\n",
       "    }\n",
       "\n",
       "    .dataframe tbody tr th {\n",
       "        vertical-align: top;\n",
       "    }\n",
       "\n",
       "    .dataframe thead th {\n",
       "        text-align: right;\n",
       "    }\n",
       "</style>\n",
       "<table border=\"1\" class=\"dataframe\">\n",
       "  <thead>\n",
       "    <tr style=\"text-align: right;\">\n",
       "      <th></th>\n",
       "      <th>First Name</th>\n",
       "      <th>Last Name</th>\n",
       "      <th>Gender</th>\n",
       "      <th>Marital Status</th>\n",
       "      <th>Converted</th>\n",
       "      <th>Sponsored/Self Sponsored</th>\n",
       "      <th>Location</th>\n",
       "      <th>Employment Status</th>\n",
       "      <th>Personal Interests</th>\n",
       "      <th>Date of Birth</th>\n",
       "      <th>Education</th>\n",
       "      <th>Profession</th>\n",
       "      <th>Programme of Interest</th>\n",
       "      <th>Level of IT Experience</th>\n",
       "      <th>Employment Preferences</th>\n",
       "      <th>Age</th>\n",
       "      <th>Conversion</th>\n",
       "      <th>Prospect_ID</th>\n",
       "    </tr>\n",
       "  </thead>\n",
       "  <tbody>\n",
       "    <tr>\n",
       "      <th>0</th>\n",
       "      <td>Miracle</td>\n",
       "      <td>Obiekwe</td>\n",
       "      <td>Male</td>\n",
       "      <td>Single</td>\n",
       "      <td>NO</td>\n",
       "      <td>NaN</td>\n",
       "      <td>Enugu State</td>\n",
       "      <td>Self employed / Business Owner</td>\n",
       "      <td>Data science</td>\n",
       "      <td>22/06/1995</td>\n",
       "      <td>Bachelors</td>\n",
       "      <td>Computer science</td>\n",
       "      <td>Data Science</td>\n",
       "      <td>Intermediate ( 2 - 5 years )</td>\n",
       "      <td>Foreign Employment</td>\n",
       "      <td>27</td>\n",
       "      <td>0</td>\n",
       "      <td>DS1</td>\n",
       "    </tr>\n",
       "    <tr>\n",
       "      <th>1</th>\n",
       "      <td>Ibilola</td>\n",
       "      <td>Shobanke</td>\n",
       "      <td>Female</td>\n",
       "      <td>Married</td>\n",
       "      <td>NO</td>\n",
       "      <td>NaN</td>\n",
       "      <td>Oyo State</td>\n",
       "      <td>Employed</td>\n",
       "      <td>Technology, Business</td>\n",
       "      <td>09/07/1984</td>\n",
       "      <td>Masters</td>\n",
       "      <td>Lecturing</td>\n",
       "      <td>Data Science</td>\n",
       "      <td>Beginner ( 0 - 2 years )</td>\n",
       "      <td>Foreign Employment</td>\n",
       "      <td>38</td>\n",
       "      <td>0</td>\n",
       "      <td>DS2</td>\n",
       "    </tr>\n",
       "    <tr>\n",
       "      <th>2</th>\n",
       "      <td>Damilola</td>\n",
       "      <td>Oseni</td>\n",
       "      <td>Female</td>\n",
       "      <td>Married</td>\n",
       "      <td>Yes</td>\n",
       "      <td>Sponsored</td>\n",
       "      <td>FCT</td>\n",
       "      <td>Employed</td>\n",
       "      <td>Business</td>\n",
       "      <td>21/08/1990</td>\n",
       "      <td>Bachelors</td>\n",
       "      <td>Biochemist</td>\n",
       "      <td>Data Science</td>\n",
       "      <td>Beginner ( 0 - 2 years )</td>\n",
       "      <td>Local Employment</td>\n",
       "      <td>31</td>\n",
       "      <td>1</td>\n",
       "      <td>DS3</td>\n",
       "    </tr>\n",
       "    <tr>\n",
       "      <th>3</th>\n",
       "      <td>Kabir</td>\n",
       "      <td>Salawudeen</td>\n",
       "      <td>Male</td>\n",
       "      <td>Married</td>\n",
       "      <td>NO</td>\n",
       "      <td>NaN</td>\n",
       "      <td>FCT</td>\n",
       "      <td>Employed</td>\n",
       "      <td>Technology</td>\n",
       "      <td>01/01/1990</td>\n",
       "      <td>HND</td>\n",
       "      <td>Computer Science</td>\n",
       "      <td>Full-Stack Software Development</td>\n",
       "      <td>Advanced ( 5 years and above )</td>\n",
       "      <td>Foreign Employment</td>\n",
       "      <td>32</td>\n",
       "      <td>0</td>\n",
       "      <td>DS4</td>\n",
       "    </tr>\n",
       "    <tr>\n",
       "      <th>4</th>\n",
       "      <td>Bashir</td>\n",
       "      <td>Hussain</td>\n",
       "      <td>Male</td>\n",
       "      <td>Married</td>\n",
       "      <td>NO</td>\n",
       "      <td>NaN</td>\n",
       "      <td>FCT</td>\n",
       "      <td>Employed</td>\n",
       "      <td>Technology, Sports and Travels</td>\n",
       "      <td>14/05/1980</td>\n",
       "      <td>Bachelors</td>\n",
       "      <td>Banking</td>\n",
       "      <td>Data Science</td>\n",
       "      <td>Advanced ( 5 years and above )</td>\n",
       "      <td>Foreign Employment</td>\n",
       "      <td>42</td>\n",
       "      <td>0</td>\n",
       "      <td>DS5</td>\n",
       "    </tr>\n",
       "  </tbody>\n",
       "</table>\n",
       "</div>"
      ],
      "text/plain": [
       "  First Name   Last Name  Gender Marital Status Converted  \\\n",
       "0    Miracle     Obiekwe    Male         Single        NO   \n",
       "1   Ibilola    Shobanke   Female        Married        NO   \n",
       "2   Damilola       Oseni  Female        Married       Yes   \n",
       "3      Kabir  Salawudeen    Male        Married        NO   \n",
       "4    Bashir      Hussain    Male        Married        NO   \n",
       "\n",
       "  Sponsored/Self Sponsored     Location               Employment Status  \\\n",
       "0                      NaN  Enugu State  Self employed / Business Owner   \n",
       "1                      NaN    Oyo State                        Employed   \n",
       "2                Sponsored          FCT                        Employed   \n",
       "3                      NaN          FCT                        Employed   \n",
       "4                      NaN          FCT                        Employed   \n",
       "\n",
       "               Personal Interests Date of Birth  Education        Profession  \\\n",
       "0                    Data science    22/06/1995  Bachelors  Computer science   \n",
       "1           Technology, Business     09/07/1984    Masters        Lecturing    \n",
       "2                        Business    21/08/1990  Bachelors        Biochemist   \n",
       "3                      Technology    01/01/1990        HND  Computer Science   \n",
       "4  Technology, Sports and Travels    14/05/1980  Bachelors          Banking    \n",
       "\n",
       "             Programme of Interest          Level of IT Experience  \\\n",
       "0                     Data Science    Intermediate ( 2 - 5 years )   \n",
       "1                     Data Science        Beginner ( 0 - 2 years )   \n",
       "2                     Data Science        Beginner ( 0 - 2 years )   \n",
       "3  Full-Stack Software Development  Advanced ( 5 years and above )   \n",
       "4                     Data Science  Advanced ( 5 years and above )   \n",
       "\n",
       "  Employment Preferences  Age  Conversion Prospect_ID  \n",
       "0     Foreign Employment   27           0         DS1  \n",
       "1     Foreign Employment   38           0         DS2  \n",
       "2       Local Employment   31           1         DS3  \n",
       "3     Foreign Employment   32           0         DS4  \n",
       "4     Foreign Employment   42           0         DS5  "
      ]
     },
     "execution_count": 22,
     "metadata": {},
     "output_type": "execute_result"
    }
   ],
   "source": [
    "df.head()"
   ]
  },
  {
   "cell_type": "code",
   "execution_count": 23,
   "id": "e74472bf-31b3-4d57-8434-97378493f09e",
   "metadata": {},
   "outputs": [],
   "source": [
    "# Let's take a look at the conversion rates across different Employment Status. \n",
    "Conversion_rate_by_Employment_Status = df.groupby(by='Employment Status')['Conversion'].sum()/ df.groupby(by='Employment Status')['Conversion'].count() * 100 "
   ]
  },
  {
   "cell_type": "code",
   "execution_count": 24,
   "id": "d07f30fa-f242-413e-93ea-77efa6be14ed",
   "metadata": {},
   "outputs": [
    {
     "data": {
      "text/plain": [
       "Employment Status\n",
       "Employed                          58.333333\n",
       "Self employed / Business Owner    60.000000\n",
       "Unemployed                        88.888889\n",
       "Name: Conversion, dtype: float64"
      ]
     },
     "execution_count": 24,
     "metadata": {},
     "output_type": "execute_result"
    }
   ],
   "source": [
    "Conversion_rate_by_Employment_Status"
   ]
  },
  {
   "cell_type": "code",
   "execution_count": 25,
   "id": "04bb3cc8-3bd8-442f-b5d9-bc2a865943f6",
   "metadata": {},
   "outputs": [
    {
     "data": {
      "image/png": "[encoded data removed]",
      "text/plain": [
       "<Figure size 1080x504 with 1 Axes>"
      ]
     },
     "metadata": {},
     "output_type": "display_data"
    }
   ],
   "source": [
    "Conversion_rate_by_Employment_Status.plot(\n",
    "kind='pie',\n",
    "figsize=(15, 7),\n",
    "startangle=90,\n",
    "subplots=True,\n",
    "autopct=lambda x: '%0.1f%%' % x\n",
    ")\n",
    "plt.show()"
   ]
  },
  {
   "cell_type": "markdown",
   "id": "30670a14-7019-4797-8605-e2f0c498af39",
   "metadata": {},
   "source": [
    "The pie chart shows the employment status of the client that converted and we can see that majority of the client that bought into our programme are unemployed with 43%, then self employed and business owners with 29% and lastly employed takes 28%. i will suggest to focus our marketing strategy towards the employed."
   ]
  },
  {
   "cell_type": "code",
   "execution_count": 26,
   "id": "a76e2bc9-7ac0-416b-ab4b-a6df39e3629a",
   "metadata": {},
   "outputs": [
    {
     "data": {
      "image/png": "[encoded data removed]",
      "text/plain": [
       "<Figure size 720x504 with 1 Axes>"
      ]
     },
     "metadata": {
      "needs_background": "light"
     },
     "output_type": "display_data"
    }
   ],
   "source": [
    "# We can build a horizontal bar chart by using the following code\n",
    "ax = Conversion_rate_by_Employment_Status.plot(\n",
    "kind='bar',\n",
    "color='skyblue',\n",
    "grid=True,\n",
    "figsize=(10, 7),\n",
    "title='Conversion Rates by Employment Status'\n",
    ")\n",
    "ax.set_xlabel('Employment Status')\n",
    "ax.set_ylabel('Conversion rate (%)')\n",
    "plt.show()"
   ]
  },
  {
   "cell_type": "markdown",
   "id": "6a388247-2b97-49fa-bbe8-8c18f361e244",
   "metadata": {},
   "source": [
    "## Programme of Interest rates by conversions"
   ]
  },
  {
   "cell_type": "code",
   "execution_count": 27,
   "id": "a881cfaf-a0f2-4085-9054-d00c6fb2d036",
   "metadata": {},
   "outputs": [],
   "source": [
    "# We are going to use the pivot_table function in the pandas library to analyze the default rates by conversions.\n",
    "Programme_of_Interest_by_conversion_df = pd.pivot_table(\n",
    "df,\n",
    "values='Converted',\n",
    "index='Programme of Interest',\n",
    "columns='Conversion',\n",
    "aggfunc=len\n",
    ")"
   ]
  },
  {
   "cell_type": "code",
   "execution_count": 28,
   "id": "dffacbb4-d03c-4957-92b8-c401589f6dd8",
   "metadata": {},
   "outputs": [
    {
     "data": {
      "text/html": [
       "<div>\n",
       "<style scoped>\n",
       "    .dataframe tbody tr th:only-of-type {\n",
       "        vertical-align: middle;\n",
       "    }\n",
       "\n",
       "    .dataframe tbody tr th {\n",
       "        vertical-align: top;\n",
       "    }\n",
       "\n",
       "    .dataframe thead th {\n",
       "        text-align: right;\n",
       "    }\n",
       "</style>\n",
       "<table border=\"1\" class=\"dataframe\">\n",
       "  <thead>\n",
       "    <tr style=\"text-align: right;\">\n",
       "      <th>Conversion</th>\n",
       "      <th>0</th>\n",
       "      <th>1</th>\n",
       "    </tr>\n",
       "    <tr>\n",
       "      <th>Programme of Interest</th>\n",
       "      <th></th>\n",
       "      <th></th>\n",
       "    </tr>\n",
       "  </thead>\n",
       "  <tbody>\n",
       "    <tr>\n",
       "      <th>Data Science</th>\n",
       "      <td>5</td>\n",
       "      <td>15</td>\n",
       "    </tr>\n",
       "    <tr>\n",
       "      <th>Full-Stack Software Development</th>\n",
       "      <td>3</td>\n",
       "      <td>3</td>\n",
       "    </tr>\n",
       "  </tbody>\n",
       "</table>\n",
       "</div>"
      ],
      "text/plain": [
       "Conversion                       0   1\n",
       "Programme of Interest                 \n",
       "Data Science                     5  15\n",
       "Full-Stack Software Development  3   3"
      ]
     },
     "execution_count": 28,
     "metadata": {},
     "output_type": "execute_result"
    }
   ],
   "source": [
    "Programme_of_Interest_by_conversion_df"
   ]
  },
  {
   "cell_type": "code",
   "execution_count": 29,
   "id": "523af52f-7da5-413a-bc04-f4a8f5f118a8",
   "metadata": {},
   "outputs": [
    {
     "data": {
      "image/png": "[encoded data removed]",
      "text/plain": [
       "<Figure size 1080x504 with 2 Axes>"
      ]
     },
     "metadata": {},
     "output_type": "display_data"
    }
   ],
   "source": [
    "# One way to visualize the data above is through a pie chart.\n",
    "Programme_of_Interest_by_conversion_df.plot(\n",
    "kind='pie',\n",
    "figsize=(15, 7),\n",
    "startangle=90,\n",
    "subplots=True,\n",
    "autopct=lambda x: '%0.1f%%' % x\n",
    ")\n",
    "plt.show()"
   ]
  },
  {
   "cell_type": "markdown",
   "id": "dee4ab32-f666-4c7c-8780-1bbba2ec80cb",
   "metadata": {},
   "source": [
    "We also looked at the converstion rates by programme of intrest and from the chart we can see that we have more clients that bought into our data science programme."
   ]
  },
  {
   "cell_type": "markdown",
   "id": "5090ab9e-1d68-4b3b-bd34-f2893b7407d1",
   "metadata": {},
   "source": [
    "### Conversion rates by Gender"
   ]
  },
  {
   "cell_type": "markdown",
   "id": "df84b23e-708d-4daa-8ee0-ce700c0c63aa",
   "metadata": {},
   "source": [
    "Lastly, we will look at how the conversion rates vary in diffrent age group. Typically, in marketing, a higher number of marketing touches can\n",
    "result in marketing fatigue, where the conversion rates drop as you reach out to your customers more frequently. Let's see whether there is any marketing\n",
    "fatigue in our data."
   ]
  },
  {
   "cell_type": "code",
   "execution_count": 30,
   "id": "a259de79-c49b-4c94-87f5-9f93f0f549d0",
   "metadata": {},
   "outputs": [],
   "source": [
    "Conversions_by_gender = df.groupby(by='Gender')['Conversion'].sum() / df.groupby(by='Gender')['Conversion'].count() * 100.0"
   ]
  },
  {
   "cell_type": "code",
   "execution_count": 31,
   "id": "a250274e-4dc3-4d1c-a690-5d3e3d96aa1c",
   "metadata": {},
   "outputs": [
    {
     "data": {
      "text/plain": [
       "Gender\n",
       "Female    11\n",
       "Male       7\n",
       "Name: Conversion, dtype: int64"
      ]
     },
     "execution_count": 31,
     "metadata": {},
     "output_type": "execute_result"
    }
   ],
   "source": [
    "df.groupby(by='Gender')['Conversion'].sum()"
   ]
  },
  {
   "cell_type": "code",
   "execution_count": 32,
   "id": "5d3b9e39-3302-45b0-a173-f57621439973",
   "metadata": {},
   "outputs": [
    {
     "data": {
      "text/plain": [
       "Gender\n",
       "Female    14\n",
       "Male      12\n",
       "Name: Conversion, dtype: int64"
      ]
     },
     "execution_count": 32,
     "metadata": {},
     "output_type": "execute_result"
    }
   ],
   "source": [
    "df.groupby(by='Gender')['Conversion'].count()"
   ]
  },
  {
   "cell_type": "code",
   "execution_count": 33,
   "id": "4cedfd3a-efaa-4371-ab6e-0d4912a00b54",
   "metadata": {},
   "outputs": [
    {
     "data": {
      "text/html": [
       "<div>\n",
       "<style scoped>\n",
       "    .dataframe tbody tr th:only-of-type {\n",
       "        vertical-align: middle;\n",
       "    }\n",
       "\n",
       "    .dataframe tbody tr th {\n",
       "        vertical-align: top;\n",
       "    }\n",
       "\n",
       "    .dataframe thead th {\n",
       "        text-align: right;\n",
       "    }\n",
       "</style>\n",
       "<table border=\"1\" class=\"dataframe\">\n",
       "  <thead>\n",
       "    <tr style=\"text-align: right;\">\n",
       "      <th></th>\n",
       "      <th>Conversion</th>\n",
       "    </tr>\n",
       "    <tr>\n",
       "      <th>Gender</th>\n",
       "      <th></th>\n",
       "    </tr>\n",
       "  </thead>\n",
       "  <tbody>\n",
       "    <tr>\n",
       "      <th>Female</th>\n",
       "      <td>78.571429</td>\n",
       "    </tr>\n",
       "    <tr>\n",
       "      <th>Male</th>\n",
       "      <td>58.333333</td>\n",
       "    </tr>\n",
       "  </tbody>\n",
       "</table>\n",
       "</div>"
      ],
      "text/plain": [
       "        Conversion\n",
       "Gender            \n",
       "Female   78.571429\n",
       "Male     58.333333"
      ]
     },
     "execution_count": 33,
     "metadata": {},
     "output_type": "execute_result"
    }
   ],
   "source": [
    "pd.DataFrame(Conversions_by_gender)"
   ]
  },
  {
   "cell_type": "code",
   "execution_count": 34,
   "id": "8bb5b870-2541-48f8-b776-2d78858ce281",
   "metadata": {},
   "outputs": [
    {
     "data": {
      "image/png": "[encoded data removed]",
      "text/plain": [
       "<Figure size 720x504 with 1 Axes>"
      ]
     },
     "metadata": {
      "needs_background": "light"
     },
     "output_type": "display_data"
    }
   ],
   "source": [
    "ax = Conversions_by_gender.plot(\n",
    "kind='bar',\n",
    "figsize=(10, 7),\n",
    "title='Conversion Rates by Gender',\n",
    "grid=True,\n",
    "color='skyblue'\n",
    ")\n",
    "ax.set_xlabel('Gender')\n",
    "ax.set_ylabel('Conversion Rate (%)')\n",
    "plt.show()"
   ]
  },
  {
   "cell_type": "markdown",
   "id": "5adde14c-3a79-4e87-8109-12420c0bfe58",
   "metadata": {},
   "source": [
    "This bar plot shows the conversion rates by gender and it shows that we have more female that converted compare to the male. we can see that we have 78% conversion rate for the female and 58% conversion rate for the male which shows that the conversion rate in women is higher "
   ]
  },
  {
   "cell_type": "markdown",
   "id": "9b8c8188-b118-48bc-a6c6-6977ec78c496",
   "metadata": {},
   "source": [
    "### Encoding variables"
   ]
  },
  {
   "cell_type": "code",
   "execution_count": 35,
   "id": "7f4d3bac-6ffe-4cf2-8233-6322e65468ad",
   "metadata": {},
   "outputs": [],
   "source": [
    "# In Python, there are multiple ways to handle categorical variables`\n",
    "# when using the pandas package. Let's first look at factorizing categorical\n",
    "# variables, as shown in the following code\n",
    "\n",
    "gender_values, gender_labels = df['Gender'].factorize()"
   ]
  },
  {
   "cell_type": "code",
   "execution_count": 36,
   "id": "94dfc28c-f590-4d92-b3dc-c5dad1b3ad3d",
   "metadata": {},
   "outputs": [
    {
     "data": {
      "text/plain": [
       "array([0, 1, 1, 0, 0, 0, 0, 1, 0, 1, 1, 1, 1, 1, 0, 0, 1, 1, 1, 1, 1, 0,\n",
       "       0, 0, 1, 0], dtype=int64)"
      ]
     },
     "execution_count": 36,
     "metadata": {},
     "output_type": "execute_result"
    }
   ],
   "source": [
    "gender_values"
   ]
  },
  {
   "cell_type": "code",
   "execution_count": 37,
   "id": "24242434-616b-41a5-b1a6-311d1a1e49f7",
   "metadata": {},
   "outputs": [
    {
     "data": {
      "text/plain": [
       "Index(['Male', 'Female'], dtype='object')"
      ]
     },
     "execution_count": 37,
     "metadata": {},
     "output_type": "execute_result"
    }
   ],
   "source": [
    "gender_labels"
   ]
  },
  {
   "cell_type": "code",
   "execution_count": 38,
   "id": "b4d341d1-dee2-4908-9c7a-ad694da5e386",
   "metadata": {},
   "outputs": [],
   "source": [
    "# We will now add these encoded variables to the pandas DataFrame, df, as\n",
    "# shown in the following code\n",
    "\n",
    "df['GenderFactorized'] = gender_values\n",
    "# df2['EducationFactorized'] = categories2.codes\n",
    "# df2['Employment_StatusFactorized'] = categories.codes\n",
    "# df2['MaritalFactorized'] = marital_values"
   ]
  },
  {
   "cell_type": "code",
   "execution_count": 39,
   "id": "691f6cd6-383e-4fc7-9fd4-7ee90bcf1ebd",
   "metadata": {},
   "outputs": [
    {
     "data": {
      "text/plain": [
       "array(['Self employed / Business Owner', 'Employed', 'Unemployed'],\n",
       "      dtype=object)"
      ]
     },
     "execution_count": 39,
     "metadata": {},
     "output_type": "execute_result"
    }
   ],
   "source": [
    "# We will first look at the unique values in this column.\n",
    "df['Employment Status'].unique()"
   ]
  },
  {
   "cell_type": "code",
   "execution_count": 40,
   "id": "bcdeb85b-f965-4596-adde-613634e3acd6",
   "metadata": {},
   "outputs": [],
   "source": [
    "# We are going to create dummy variables for each of the job categories\n",
    "# A dummy variable is a variable that is encoded with 1 if a given record belongs to thecategory, and 0 if not.\n",
    "employment_encoded_df = pd.get_dummies(df['Employment Status'])\n",
    "employment_encoded_df.columns = ['Employment Status_%s' % x for x in employment_encoded_df.columns]"
   ]
  },
  {
   "cell_type": "code",
   "execution_count": 41,
   "id": "f69a34e9-5472-4fca-9a03-a74dd93cdc1b",
   "metadata": {},
   "outputs": [
    {
     "data": {
      "text/html": [
       "<div>\n",
       "<style scoped>\n",
       "    .dataframe tbody tr th:only-of-type {\n",
       "        vertical-align: middle;\n",
       "    }\n",
       "\n",
       "    .dataframe tbody tr th {\n",
       "        vertical-align: top;\n",
       "    }\n",
       "\n",
       "    .dataframe thead th {\n",
       "        text-align: right;\n",
       "    }\n",
       "</style>\n",
       "<table border=\"1\" class=\"dataframe\">\n",
       "  <thead>\n",
       "    <tr style=\"text-align: right;\">\n",
       "      <th></th>\n",
       "      <th>Employment Status_Employed</th>\n",
       "      <th>Employment Status_Self employed / Business Owner</th>\n",
       "      <th>Employment Status_Unemployed</th>\n",
       "    </tr>\n",
       "  </thead>\n",
       "  <tbody>\n",
       "    <tr>\n",
       "      <th>0</th>\n",
       "      <td>0</td>\n",
       "      <td>1</td>\n",
       "      <td>0</td>\n",
       "    </tr>\n",
       "    <tr>\n",
       "      <th>1</th>\n",
       "      <td>1</td>\n",
       "      <td>0</td>\n",
       "      <td>0</td>\n",
       "    </tr>\n",
       "    <tr>\n",
       "      <th>2</th>\n",
       "      <td>1</td>\n",
       "      <td>0</td>\n",
       "      <td>0</td>\n",
       "    </tr>\n",
       "    <tr>\n",
       "      <th>3</th>\n",
       "      <td>1</td>\n",
       "      <td>0</td>\n",
       "      <td>0</td>\n",
       "    </tr>\n",
       "    <tr>\n",
       "      <th>4</th>\n",
       "      <td>1</td>\n",
       "      <td>0</td>\n",
       "      <td>0</td>\n",
       "    </tr>\n",
       "  </tbody>\n",
       "</table>\n",
       "</div>"
      ],
      "text/plain": [
       "   Employment Status_Employed  \\\n",
       "0                           0   \n",
       "1                           1   \n",
       "2                           1   \n",
       "3                           1   \n",
       "4                           1   \n",
       "\n",
       "   Employment Status_Self employed / Business Owner  \\\n",
       "0                                                 1   \n",
       "1                                                 0   \n",
       "2                                                 0   \n",
       "3                                                 0   \n",
       "4                                                 0   \n",
       "\n",
       "   Employment Status_Unemployed  \n",
       "0                             0  \n",
       "1                             0  \n",
       "2                             0  \n",
       "3                             0  \n",
       "4                             0  "
      ]
     },
     "execution_count": 41,
     "metadata": {},
     "output_type": "execute_result"
    }
   ],
   "source": [
    "employment_encoded_df.head()"
   ]
  },
  {
   "cell_type": "code",
   "execution_count": 42,
   "id": "18c3dea8-a3f9-44df-accd-19d35dd16c7e",
   "metadata": {},
   "outputs": [
    {
     "data": {
      "text/html": [
       "<div>\n",
       "<style scoped>\n",
       "    .dataframe tbody tr th:only-of-type {\n",
       "        vertical-align: middle;\n",
       "    }\n",
       "\n",
       "    .dataframe tbody tr th {\n",
       "        vertical-align: top;\n",
       "    }\n",
       "\n",
       "    .dataframe thead th {\n",
       "        text-align: right;\n",
       "    }\n",
       "</style>\n",
       "<table border=\"1\" class=\"dataframe\">\n",
       "  <thead>\n",
       "    <tr style=\"text-align: right;\">\n",
       "      <th></th>\n",
       "      <th>First Name</th>\n",
       "      <th>Last Name</th>\n",
       "      <th>Gender</th>\n",
       "      <th>Marital Status</th>\n",
       "      <th>Converted</th>\n",
       "      <th>Sponsored/Self Sponsored</th>\n",
       "      <th>Location</th>\n",
       "      <th>Employment Status</th>\n",
       "      <th>Personal Interests</th>\n",
       "      <th>Date of Birth</th>\n",
       "      <th>...</th>\n",
       "      <th>Programme of Interest</th>\n",
       "      <th>Level of IT Experience</th>\n",
       "      <th>Employment Preferences</th>\n",
       "      <th>Age</th>\n",
       "      <th>Conversion</th>\n",
       "      <th>Prospect_ID</th>\n",
       "      <th>GenderFactorized</th>\n",
       "      <th>Employment Status_Employed</th>\n",
       "      <th>Employment Status_Self employed / Business Owner</th>\n",
       "      <th>Employment Status_Unemployed</th>\n",
       "    </tr>\n",
       "  </thead>\n",
       "  <tbody>\n",
       "    <tr>\n",
       "      <th>0</th>\n",
       "      <td>Miracle</td>\n",
       "      <td>Obiekwe</td>\n",
       "      <td>Male</td>\n",
       "      <td>Single</td>\n",
       "      <td>NO</td>\n",
       "      <td>NaN</td>\n",
       "      <td>Enugu State</td>\n",
       "      <td>Self employed / Business Owner</td>\n",
       "      <td>Data science</td>\n",
       "      <td>22/06/1995</td>\n",
       "      <td>...</td>\n",
       "      <td>Data Science</td>\n",
       "      <td>Intermediate ( 2 - 5 years )</td>\n",
       "      <td>Foreign Employment</td>\n",
       "      <td>27</td>\n",
       "      <td>0</td>\n",
       "      <td>DS1</td>\n",
       "      <td>0</td>\n",
       "      <td>0</td>\n",
       "      <td>1</td>\n",
       "      <td>0</td>\n",
       "    </tr>\n",
       "    <tr>\n",
       "      <th>1</th>\n",
       "      <td>Ibilola</td>\n",
       "      <td>Shobanke</td>\n",
       "      <td>Female</td>\n",
       "      <td>Married</td>\n",
       "      <td>NO</td>\n",
       "      <td>NaN</td>\n",
       "      <td>Oyo State</td>\n",
       "      <td>Employed</td>\n",
       "      <td>Technology, Business</td>\n",
       "      <td>09/07/1984</td>\n",
       "      <td>...</td>\n",
       "      <td>Data Science</td>\n",
       "      <td>Beginner ( 0 - 2 years )</td>\n",
       "      <td>Foreign Employment</td>\n",
       "      <td>38</td>\n",
       "      <td>0</td>\n",
       "      <td>DS2</td>\n",
       "      <td>1</td>\n",
       "      <td>1</td>\n",
       "      <td>0</td>\n",
       "      <td>0</td>\n",
       "    </tr>\n",
       "    <tr>\n",
       "      <th>2</th>\n",
       "      <td>Damilola</td>\n",
       "      <td>Oseni</td>\n",
       "      <td>Female</td>\n",
       "      <td>Married</td>\n",
       "      <td>Yes</td>\n",
       "      <td>Sponsored</td>\n",
       "      <td>FCT</td>\n",
       "      <td>Employed</td>\n",
       "      <td>Business</td>\n",
       "      <td>21/08/1990</td>\n",
       "      <td>...</td>\n",
       "      <td>Data Science</td>\n",
       "      <td>Beginner ( 0 - 2 years )</td>\n",
       "      <td>Local Employment</td>\n",
       "      <td>31</td>\n",
       "      <td>1</td>\n",
       "      <td>DS3</td>\n",
       "      <td>1</td>\n",
       "      <td>1</td>\n",
       "      <td>0</td>\n",
       "      <td>0</td>\n",
       "    </tr>\n",
       "    <tr>\n",
       "      <th>3</th>\n",
       "      <td>Kabir</td>\n",
       "      <td>Salawudeen</td>\n",
       "      <td>Male</td>\n",
       "      <td>Married</td>\n",
       "      <td>NO</td>\n",
       "      <td>NaN</td>\n",
       "      <td>FCT</td>\n",
       "      <td>Employed</td>\n",
       "      <td>Technology</td>\n",
       "      <td>01/01/1990</td>\n",
       "      <td>...</td>\n",
       "      <td>Full-Stack Software Development</td>\n",
       "      <td>Advanced ( 5 years and above )</td>\n",
       "      <td>Foreign Employment</td>\n",
       "      <td>32</td>\n",
       "      <td>0</td>\n",
       "      <td>DS4</td>\n",
       "      <td>0</td>\n",
       "      <td>1</td>\n",
       "      <td>0</td>\n",
       "      <td>0</td>\n",
       "    </tr>\n",
       "    <tr>\n",
       "      <th>4</th>\n",
       "      <td>Bashir</td>\n",
       "      <td>Hussain</td>\n",
       "      <td>Male</td>\n",
       "      <td>Married</td>\n",
       "      <td>NO</td>\n",
       "      <td>NaN</td>\n",
       "      <td>FCT</td>\n",
       "      <td>Employed</td>\n",
       "      <td>Technology, Sports and Travels</td>\n",
       "      <td>14/05/1980</td>\n",
       "      <td>...</td>\n",
       "      <td>Data Science</td>\n",
       "      <td>Advanced ( 5 years and above )</td>\n",
       "      <td>Foreign Employment</td>\n",
       "      <td>42</td>\n",
       "      <td>0</td>\n",
       "      <td>DS5</td>\n",
       "      <td>0</td>\n",
       "      <td>1</td>\n",
       "      <td>0</td>\n",
       "      <td>0</td>\n",
       "    </tr>\n",
       "  </tbody>\n",
       "</table>\n",
       "<p>5 rows × 22 columns</p>\n",
       "</div>"
      ],
      "text/plain": [
       "  First Name   Last Name  Gender Marital Status Converted  \\\n",
       "0    Miracle     Obiekwe    Male         Single        NO   \n",
       "1   Ibilola    Shobanke   Female        Married        NO   \n",
       "2   Damilola       Oseni  Female        Married       Yes   \n",
       "3      Kabir  Salawudeen    Male        Married        NO   \n",
       "4    Bashir      Hussain    Male        Married        NO   \n",
       "\n",
       "  Sponsored/Self Sponsored     Location               Employment Status  \\\n",
       "0                      NaN  Enugu State  Self employed / Business Owner   \n",
       "1                      NaN    Oyo State                        Employed   \n",
       "2                Sponsored          FCT                        Employed   \n",
       "3                      NaN          FCT                        Employed   \n",
       "4                      NaN          FCT                        Employed   \n",
       "\n",
       "               Personal Interests Date of Birth  ...  \\\n",
       "0                    Data science    22/06/1995  ...   \n",
       "1           Technology, Business     09/07/1984  ...   \n",
       "2                        Business    21/08/1990  ...   \n",
       "3                      Technology    01/01/1990  ...   \n",
       "4  Technology, Sports and Travels    14/05/1980  ...   \n",
       "\n",
       "             Programme of Interest          Level of IT Experience  \\\n",
       "0                     Data Science    Intermediate ( 2 - 5 years )   \n",
       "1                     Data Science        Beginner ( 0 - 2 years )   \n",
       "2                     Data Science        Beginner ( 0 - 2 years )   \n",
       "3  Full-Stack Software Development  Advanced ( 5 years and above )   \n",
       "4                     Data Science  Advanced ( 5 years and above )   \n",
       "\n",
       "  Employment Preferences Age Conversion  Prospect_ID  GenderFactorized  \\\n",
       "0     Foreign Employment  27          0          DS1                 0   \n",
       "1     Foreign Employment  38          0          DS2                 1   \n",
       "2       Local Employment  31          1          DS3                 1   \n",
       "3     Foreign Employment  32          0          DS4                 0   \n",
       "4     Foreign Employment  42          0          DS5                 0   \n",
       "\n",
       "  Employment Status_Employed  \\\n",
       "0                          0   \n",
       "1                          1   \n",
       "2                          1   \n",
       "3                          1   \n",
       "4                          1   \n",
       "\n",
       "   Employment Status_Self employed / Business Owner  \\\n",
       "0                                                 1   \n",
       "1                                                 0   \n",
       "2                                                 0   \n",
       "3                                                 0   \n",
       "4                                                 0   \n",
       "\n",
       "   Employment Status_Unemployed  \n",
       "0                             0  \n",
       "1                             0  \n",
       "2                             0  \n",
       "3                             0  \n",
       "4                             0  \n",
       "\n",
       "[5 rows x 22 columns]"
      ]
     },
     "execution_count": 42,
     "metadata": {},
     "output_type": "execute_result"
    }
   ],
   "source": [
    "# We need to append this data to the existing DataFrame.\n",
    "df = pd.concat([df, employment_encoded_df], axis=1)\n",
    "df.head()"
   ]
  },
  {
   "cell_type": "code",
   "execution_count": 43,
   "id": "1cb36f1e-f190-4f49-8955-a6ef28b9ae5f",
   "metadata": {},
   "outputs": [],
   "source": [
    "# we are going to create dummy variables for each category of the marital variable.\n",
    "marital_encoded_df = pd.get_dummies(df['Marital Status'])\n",
    "marital_encoded_df.columns = ['Marital Status_%s' % x for x in marital_encoded_df.columns]"
   ]
  },
  {
   "cell_type": "code",
   "execution_count": 44,
   "id": "01b07705-70b2-4efa-87fe-db093830a023",
   "metadata": {},
   "outputs": [
    {
     "data": {
      "text/html": [
       "<div>\n",
       "<style scoped>\n",
       "    .dataframe tbody tr th:only-of-type {\n",
       "        vertical-align: middle;\n",
       "    }\n",
       "\n",
       "    .dataframe tbody tr th {\n",
       "        vertical-align: top;\n",
       "    }\n",
       "\n",
       "    .dataframe thead th {\n",
       "        text-align: right;\n",
       "    }\n",
       "</style>\n",
       "<table border=\"1\" class=\"dataframe\">\n",
       "  <thead>\n",
       "    <tr style=\"text-align: right;\">\n",
       "      <th></th>\n",
       "      <th>Marital Status_Married</th>\n",
       "      <th>Marital Status_Single</th>\n",
       "    </tr>\n",
       "  </thead>\n",
       "  <tbody>\n",
       "    <tr>\n",
       "      <th>0</th>\n",
       "      <td>0</td>\n",
       "      <td>1</td>\n",
       "    </tr>\n",
       "    <tr>\n",
       "      <th>1</th>\n",
       "      <td>1</td>\n",
       "      <td>0</td>\n",
       "    </tr>\n",
       "    <tr>\n",
       "      <th>2</th>\n",
       "      <td>1</td>\n",
       "      <td>0</td>\n",
       "    </tr>\n",
       "    <tr>\n",
       "      <th>3</th>\n",
       "      <td>1</td>\n",
       "      <td>0</td>\n",
       "    </tr>\n",
       "    <tr>\n",
       "      <th>4</th>\n",
       "      <td>1</td>\n",
       "      <td>0</td>\n",
       "    </tr>\n",
       "  </tbody>\n",
       "</table>\n",
       "</div>"
      ],
      "text/plain": [
       "   Marital Status_Married  Marital Status_Single\n",
       "0                       0                      1\n",
       "1                       1                      0\n",
       "2                       1                      0\n",
       "3                       1                      0\n",
       "4                       1                      0"
      ]
     },
     "execution_count": 44,
     "metadata": {},
     "output_type": "execute_result"
    }
   ],
   "source": [
    "marital_encoded_df.head()"
   ]
  },
  {
   "cell_type": "code",
   "execution_count": 45,
   "id": "8fca312d-9e08-4c02-9038-7c7430aa97ea",
   "metadata": {},
   "outputs": [],
   "source": [
    " # We need to append this data to the existing DataFrame.\n",
    "\n",
    "df=pd.concat([df, marital_encoded_df], axis=1)"
   ]
  },
  {
   "cell_type": "code",
   "execution_count": 46,
   "id": "ddd2d42a-cbba-421b-9f78-75b2a3dac97f",
   "metadata": {},
   "outputs": [
    {
     "data": {
      "text/html": [
       "<div>\n",
       "<style scoped>\n",
       "    .dataframe tbody tr th:only-of-type {\n",
       "        vertical-align: middle;\n",
       "    }\n",
       "\n",
       "    .dataframe tbody tr th {\n",
       "        vertical-align: top;\n",
       "    }\n",
       "\n",
       "    .dataframe thead th {\n",
       "        text-align: right;\n",
       "    }\n",
       "</style>\n",
       "<table border=\"1\" class=\"dataframe\">\n",
       "  <thead>\n",
       "    <tr style=\"text-align: right;\">\n",
       "      <th></th>\n",
       "      <th>First Name</th>\n",
       "      <th>Last Name</th>\n",
       "      <th>Gender</th>\n",
       "      <th>Marital Status</th>\n",
       "      <th>Converted</th>\n",
       "      <th>Sponsored/Self Sponsored</th>\n",
       "      <th>Location</th>\n",
       "      <th>Employment Status</th>\n",
       "      <th>Personal Interests</th>\n",
       "      <th>Date of Birth</th>\n",
       "      <th>...</th>\n",
       "      <th>Employment Preferences</th>\n",
       "      <th>Age</th>\n",
       "      <th>Conversion</th>\n",
       "      <th>Prospect_ID</th>\n",
       "      <th>GenderFactorized</th>\n",
       "      <th>Employment Status_Employed</th>\n",
       "      <th>Employment Status_Self employed / Business Owner</th>\n",
       "      <th>Employment Status_Unemployed</th>\n",
       "      <th>Marital Status_Married</th>\n",
       "      <th>Marital Status_Single</th>\n",
       "    </tr>\n",
       "  </thead>\n",
       "  <tbody>\n",
       "    <tr>\n",
       "      <th>0</th>\n",
       "      <td>Miracle</td>\n",
       "      <td>Obiekwe</td>\n",
       "      <td>Male</td>\n",
       "      <td>Single</td>\n",
       "      <td>NO</td>\n",
       "      <td>NaN</td>\n",
       "      <td>Enugu State</td>\n",
       "      <td>Self employed / Business Owner</td>\n",
       "      <td>Data science</td>\n",
       "      <td>22/06/1995</td>\n",
       "      <td>...</td>\n",
       "      <td>Foreign Employment</td>\n",
       "      <td>27</td>\n",
       "      <td>0</td>\n",
       "      <td>DS1</td>\n",
       "      <td>0</td>\n",
       "      <td>0</td>\n",
       "      <td>1</td>\n",
       "      <td>0</td>\n",
       "      <td>0</td>\n",
       "      <td>1</td>\n",
       "    </tr>\n",
       "    <tr>\n",
       "      <th>1</th>\n",
       "      <td>Ibilola</td>\n",
       "      <td>Shobanke</td>\n",
       "      <td>Female</td>\n",
       "      <td>Married</td>\n",
       "      <td>NO</td>\n",
       "      <td>NaN</td>\n",
       "      <td>Oyo State</td>\n",
       "      <td>Employed</td>\n",
       "      <td>Technology, Business</td>\n",
       "      <td>09/07/1984</td>\n",
       "      <td>...</td>\n",
       "      <td>Foreign Employment</td>\n",
       "      <td>38</td>\n",
       "      <td>0</td>\n",
       "      <td>DS2</td>\n",
       "      <td>1</td>\n",
       "      <td>1</td>\n",
       "      <td>0</td>\n",
       "      <td>0</td>\n",
       "      <td>1</td>\n",
       "      <td>0</td>\n",
       "    </tr>\n",
       "    <tr>\n",
       "      <th>2</th>\n",
       "      <td>Damilola</td>\n",
       "      <td>Oseni</td>\n",
       "      <td>Female</td>\n",
       "      <td>Married</td>\n",
       "      <td>Yes</td>\n",
       "      <td>Sponsored</td>\n",
       "      <td>FCT</td>\n",
       "      <td>Employed</td>\n",
       "      <td>Business</td>\n",
       "      <td>21/08/1990</td>\n",
       "      <td>...</td>\n",
       "      <td>Local Employment</td>\n",
       "      <td>31</td>\n",
       "      <td>1</td>\n",
       "      <td>DS3</td>\n",
       "      <td>1</td>\n",
       "      <td>1</td>\n",
       "      <td>0</td>\n",
       "      <td>0</td>\n",
       "      <td>1</td>\n",
       "      <td>0</td>\n",
       "    </tr>\n",
       "    <tr>\n",
       "      <th>3</th>\n",
       "      <td>Kabir</td>\n",
       "      <td>Salawudeen</td>\n",
       "      <td>Male</td>\n",
       "      <td>Married</td>\n",
       "      <td>NO</td>\n",
       "      <td>NaN</td>\n",
       "      <td>FCT</td>\n",
       "      <td>Employed</td>\n",
       "      <td>Technology</td>\n",
       "      <td>01/01/1990</td>\n",
       "      <td>...</td>\n",
       "      <td>Foreign Employment</td>\n",
       "      <td>32</td>\n",
       "      <td>0</td>\n",
       "      <td>DS4</td>\n",
       "      <td>0</td>\n",
       "      <td>1</td>\n",
       "      <td>0</td>\n",
       "      <td>0</td>\n",
       "      <td>1</td>\n",
       "      <td>0</td>\n",
       "    </tr>\n",
       "    <tr>\n",
       "      <th>4</th>\n",
       "      <td>Bashir</td>\n",
       "      <td>Hussain</td>\n",
       "      <td>Male</td>\n",
       "      <td>Married</td>\n",
       "      <td>NO</td>\n",
       "      <td>NaN</td>\n",
       "      <td>FCT</td>\n",
       "      <td>Employed</td>\n",
       "      <td>Technology, Sports and Travels</td>\n",
       "      <td>14/05/1980</td>\n",
       "      <td>...</td>\n",
       "      <td>Foreign Employment</td>\n",
       "      <td>42</td>\n",
       "      <td>0</td>\n",
       "      <td>DS5</td>\n",
       "      <td>0</td>\n",
       "      <td>1</td>\n",
       "      <td>0</td>\n",
       "      <td>0</td>\n",
       "      <td>1</td>\n",
       "      <td>0</td>\n",
       "    </tr>\n",
       "  </tbody>\n",
       "</table>\n",
       "<p>5 rows × 24 columns</p>\n",
       "</div>"
      ],
      "text/plain": [
       "  First Name   Last Name  Gender Marital Status Converted  \\\n",
       "0    Miracle     Obiekwe    Male         Single        NO   \n",
       "1   Ibilola    Shobanke   Female        Married        NO   \n",
       "2   Damilola       Oseni  Female        Married       Yes   \n",
       "3      Kabir  Salawudeen    Male        Married        NO   \n",
       "4    Bashir      Hussain    Male        Married        NO   \n",
       "\n",
       "  Sponsored/Self Sponsored     Location               Employment Status  \\\n",
       "0                      NaN  Enugu State  Self employed / Business Owner   \n",
       "1                      NaN    Oyo State                        Employed   \n",
       "2                Sponsored          FCT                        Employed   \n",
       "3                      NaN          FCT                        Employed   \n",
       "4                      NaN          FCT                        Employed   \n",
       "\n",
       "               Personal Interests Date of Birth  ... Employment Preferences  \\\n",
       "0                    Data science    22/06/1995  ...     Foreign Employment   \n",
       "1           Technology, Business     09/07/1984  ...     Foreign Employment   \n",
       "2                        Business    21/08/1990  ...       Local Employment   \n",
       "3                      Technology    01/01/1990  ...     Foreign Employment   \n",
       "4  Technology, Sports and Travels    14/05/1980  ...     Foreign Employment   \n",
       "\n",
       "  Age Conversion Prospect_ID GenderFactorized  Employment Status_Employed  \\\n",
       "0  27          0         DS1                0                           0   \n",
       "1  38          0         DS2                1                           1   \n",
       "2  31          1         DS3                1                           1   \n",
       "3  32          0         DS4                0                           1   \n",
       "4  42          0         DS5                0                           1   \n",
       "\n",
       "   Employment Status_Self employed / Business Owner  \\\n",
       "0                                                 1   \n",
       "1                                                 0   \n",
       "2                                                 0   \n",
       "3                                                 0   \n",
       "4                                                 0   \n",
       "\n",
       "  Employment Status_Unemployed  Marital Status_Married  Marital Status_Single  \n",
       "0                            0                       0                      1  \n",
       "1                            0                       1                      0  \n",
       "2                            0                       1                      0  \n",
       "3                            0                       1                      0  \n",
       "4                            0                       1                      0  \n",
       "\n",
       "[5 rows x 24 columns]"
      ]
     },
     "execution_count": 46,
     "metadata": {},
     "output_type": "execute_result"
    }
   ],
   "source": [
    "df.head()"
   ]
  },
  {
   "cell_type": "code",
   "execution_count": 47,
   "id": "d71addec-215b-4c68-8d92-000fe4d9bac3",
   "metadata": {},
   "outputs": [],
   "source": [
    "# we are going to create dummy variables for each category of the marital variable.\n",
    "education_encoded_df = pd.get_dummies(df['Education'])\n",
    "education_encoded_df.columns = ['Education_%s' % x for x in education_encoded_df.columns]"
   ]
  },
  {
   "cell_type": "code",
   "execution_count": 48,
   "id": "ac1b2327-8524-4978-8ed9-353d9af602ff",
   "metadata": {},
   "outputs": [
    {
     "data": {
      "text/html": [
       "<div>\n",
       "<style scoped>\n",
       "    .dataframe tbody tr th:only-of-type {\n",
       "        vertical-align: middle;\n",
       "    }\n",
       "\n",
       "    .dataframe tbody tr th {\n",
       "        vertical-align: top;\n",
       "    }\n",
       "\n",
       "    .dataframe thead th {\n",
       "        text-align: right;\n",
       "    }\n",
       "</style>\n",
       "<table border=\"1\" class=\"dataframe\">\n",
       "  <thead>\n",
       "    <tr style=\"text-align: right;\">\n",
       "      <th></th>\n",
       "      <th>Education_Bachelors</th>\n",
       "      <th>Education_HND</th>\n",
       "      <th>Education_Masters</th>\n",
       "      <th>Education_NCE</th>\n",
       "      <th>Education_Ph.D</th>\n",
       "      <th>Education_SSCE</th>\n",
       "    </tr>\n",
       "  </thead>\n",
       "  <tbody>\n",
       "    <tr>\n",
       "      <th>0</th>\n",
       "      <td>1</td>\n",
       "      <td>0</td>\n",
       "      <td>0</td>\n",
       "      <td>0</td>\n",
       "      <td>0</td>\n",
       "      <td>0</td>\n",
       "    </tr>\n",
       "    <tr>\n",
       "      <th>1</th>\n",
       "      <td>0</td>\n",
       "      <td>0</td>\n",
       "      <td>1</td>\n",
       "      <td>0</td>\n",
       "      <td>0</td>\n",
       "      <td>0</td>\n",
       "    </tr>\n",
       "    <tr>\n",
       "      <th>2</th>\n",
       "      <td>1</td>\n",
       "      <td>0</td>\n",
       "      <td>0</td>\n",
       "      <td>0</td>\n",
       "      <td>0</td>\n",
       "      <td>0</td>\n",
       "    </tr>\n",
       "    <tr>\n",
       "      <th>3</th>\n",
       "      <td>0</td>\n",
       "      <td>1</td>\n",
       "      <td>0</td>\n",
       "      <td>0</td>\n",
       "      <td>0</td>\n",
       "      <td>0</td>\n",
       "    </tr>\n",
       "    <tr>\n",
       "      <th>4</th>\n",
       "      <td>1</td>\n",
       "      <td>0</td>\n",
       "      <td>0</td>\n",
       "      <td>0</td>\n",
       "      <td>0</td>\n",
       "      <td>0</td>\n",
       "    </tr>\n",
       "  </tbody>\n",
       "</table>\n",
       "</div>"
      ],
      "text/plain": [
       "   Education_Bachelors  Education_HND  Education_Masters  Education_NCE  \\\n",
       "0                    1              0                  0              0   \n",
       "1                    0              0                  1              0   \n",
       "2                    1              0                  0              0   \n",
       "3                    0              1                  0              0   \n",
       "4                    1              0                  0              0   \n",
       "\n",
       "   Education_Ph.D  Education_SSCE  \n",
       "0               0               0  \n",
       "1               0               0  \n",
       "2               0               0  \n",
       "3               0               0  \n",
       "4               0               0  "
      ]
     },
     "execution_count": 48,
     "metadata": {},
     "output_type": "execute_result"
    }
   ],
   "source": [
    "education_encoded_df.head()"
   ]
  },
  {
   "cell_type": "code",
   "execution_count": 49,
   "id": "ab518bd8-87b3-4dcb-b9b4-dbb8b39cc7df",
   "metadata": {},
   "outputs": [],
   "source": [
    "# We need to append this data to the existing DataFrame.\n",
    "\n",
    "df=pd.concat([df, education_encoded_df], axis=1)"
   ]
  },
  {
   "cell_type": "code",
   "execution_count": 50,
   "id": "fa6f52c5-2853-4708-937c-9d83dda5c269",
   "metadata": {},
   "outputs": [
    {
     "data": {
      "text/html": [
       "<div>\n",
       "<style scoped>\n",
       "    .dataframe tbody tr th:only-of-type {\n",
       "        vertical-align: middle;\n",
       "    }\n",
       "\n",
       "    .dataframe tbody tr th {\n",
       "        vertical-align: top;\n",
       "    }\n",
       "\n",
       "    .dataframe thead th {\n",
       "        text-align: right;\n",
       "    }\n",
       "</style>\n",
       "<table border=\"1\" class=\"dataframe\">\n",
       "  <thead>\n",
       "    <tr style=\"text-align: right;\">\n",
       "      <th></th>\n",
       "      <th>First Name</th>\n",
       "      <th>Last Name</th>\n",
       "      <th>Gender</th>\n",
       "      <th>Marital Status</th>\n",
       "      <th>Converted</th>\n",
       "      <th>Sponsored/Self Sponsored</th>\n",
       "      <th>Location</th>\n",
       "      <th>Employment Status</th>\n",
       "      <th>Personal Interests</th>\n",
       "      <th>Date of Birth</th>\n",
       "      <th>...</th>\n",
       "      <th>Employment Status_Self employed / Business Owner</th>\n",
       "      <th>Employment Status_Unemployed</th>\n",
       "      <th>Marital Status_Married</th>\n",
       "      <th>Marital Status_Single</th>\n",
       "      <th>Education_Bachelors</th>\n",
       "      <th>Education_HND</th>\n",
       "      <th>Education_Masters</th>\n",
       "      <th>Education_NCE</th>\n",
       "      <th>Education_Ph.D</th>\n",
       "      <th>Education_SSCE</th>\n",
       "    </tr>\n",
       "  </thead>\n",
       "  <tbody>\n",
       "    <tr>\n",
       "      <th>0</th>\n",
       "      <td>Miracle</td>\n",
       "      <td>Obiekwe</td>\n",
       "      <td>Male</td>\n",
       "      <td>Single</td>\n",
       "      <td>NO</td>\n",
       "      <td>NaN</td>\n",
       "      <td>Enugu State</td>\n",
       "      <td>Self employed / Business Owner</td>\n",
       "      <td>Data science</td>\n",
       "      <td>22/06/1995</td>\n",
       "      <td>...</td>\n",
       "      <td>1</td>\n",
       "      <td>0</td>\n",
       "      <td>0</td>\n",
       "      <td>1</td>\n",
       "      <td>1</td>\n",
       "      <td>0</td>\n",
       "      <td>0</td>\n",
       "      <td>0</td>\n",
       "      <td>0</td>\n",
       "      <td>0</td>\n",
       "    </tr>\n",
       "    <tr>\n",
       "      <th>1</th>\n",
       "      <td>Ibilola</td>\n",
       "      <td>Shobanke</td>\n",
       "      <td>Female</td>\n",
       "      <td>Married</td>\n",
       "      <td>NO</td>\n",
       "      <td>NaN</td>\n",
       "      <td>Oyo State</td>\n",
       "      <td>Employed</td>\n",
       "      <td>Technology, Business</td>\n",
       "      <td>09/07/1984</td>\n",
       "      <td>...</td>\n",
       "      <td>0</td>\n",
       "      <td>0</td>\n",
       "      <td>1</td>\n",
       "      <td>0</td>\n",
       "      <td>0</td>\n",
       "      <td>0</td>\n",
       "      <td>1</td>\n",
       "      <td>0</td>\n",
       "      <td>0</td>\n",
       "      <td>0</td>\n",
       "    </tr>\n",
       "    <tr>\n",
       "      <th>2</th>\n",
       "      <td>Damilola</td>\n",
       "      <td>Oseni</td>\n",
       "      <td>Female</td>\n",
       "      <td>Married</td>\n",
       "      <td>Yes</td>\n",
       "      <td>Sponsored</td>\n",
       "      <td>FCT</td>\n",
       "      <td>Employed</td>\n",
       "      <td>Business</td>\n",
       "      <td>21/08/1990</td>\n",
       "      <td>...</td>\n",
       "      <td>0</td>\n",
       "      <td>0</td>\n",
       "      <td>1</td>\n",
       "      <td>0</td>\n",
       "      <td>1</td>\n",
       "      <td>0</td>\n",
       "      <td>0</td>\n",
       "      <td>0</td>\n",
       "      <td>0</td>\n",
       "      <td>0</td>\n",
       "    </tr>\n",
       "    <tr>\n",
       "      <th>3</th>\n",
       "      <td>Kabir</td>\n",
       "      <td>Salawudeen</td>\n",
       "      <td>Male</td>\n",
       "      <td>Married</td>\n",
       "      <td>NO</td>\n",
       "      <td>NaN</td>\n",
       "      <td>FCT</td>\n",
       "      <td>Employed</td>\n",
       "      <td>Technology</td>\n",
       "      <td>01/01/1990</td>\n",
       "      <td>...</td>\n",
       "      <td>0</td>\n",
       "      <td>0</td>\n",
       "      <td>1</td>\n",
       "      <td>0</td>\n",
       "      <td>0</td>\n",
       "      <td>1</td>\n",
       "      <td>0</td>\n",
       "      <td>0</td>\n",
       "      <td>0</td>\n",
       "      <td>0</td>\n",
       "    </tr>\n",
       "    <tr>\n",
       "      <th>4</th>\n",
       "      <td>Bashir</td>\n",
       "      <td>Hussain</td>\n",
       "      <td>Male</td>\n",
       "      <td>Married</td>\n",
       "      <td>NO</td>\n",
       "      <td>NaN</td>\n",
       "      <td>FCT</td>\n",
       "      <td>Employed</td>\n",
       "      <td>Technology, Sports and Travels</td>\n",
       "      <td>14/05/1980</td>\n",
       "      <td>...</td>\n",
       "      <td>0</td>\n",
       "      <td>0</td>\n",
       "      <td>1</td>\n",
       "      <td>0</td>\n",
       "      <td>1</td>\n",
       "      <td>0</td>\n",
       "      <td>0</td>\n",
       "      <td>0</td>\n",
       "      <td>0</td>\n",
       "      <td>0</td>\n",
       "    </tr>\n",
       "  </tbody>\n",
       "</table>\n",
       "<p>5 rows × 30 columns</p>\n",
       "</div>"
      ],
      "text/plain": [
       "  First Name   Last Name  Gender Marital Status Converted  \\\n",
       "0    Miracle     Obiekwe    Male         Single        NO   \n",
       "1   Ibilola    Shobanke   Female        Married        NO   \n",
       "2   Damilola       Oseni  Female        Married       Yes   \n",
       "3      Kabir  Salawudeen    Male        Married        NO   \n",
       "4    Bashir      Hussain    Male        Married        NO   \n",
       "\n",
       "  Sponsored/Self Sponsored     Location               Employment Status  \\\n",
       "0                      NaN  Enugu State  Self employed / Business Owner   \n",
       "1                      NaN    Oyo State                        Employed   \n",
       "2                Sponsored          FCT                        Employed   \n",
       "3                      NaN          FCT                        Employed   \n",
       "4                      NaN          FCT                        Employed   \n",
       "\n",
       "               Personal Interests Date of Birth  ...  \\\n",
       "0                    Data science    22/06/1995  ...   \n",
       "1           Technology, Business     09/07/1984  ...   \n",
       "2                        Business    21/08/1990  ...   \n",
       "3                      Technology    01/01/1990  ...   \n",
       "4  Technology, Sports and Travels    14/05/1980  ...   \n",
       "\n",
       "  Employment Status_Self employed / Business Owner  \\\n",
       "0                                                1   \n",
       "1                                                0   \n",
       "2                                                0   \n",
       "3                                                0   \n",
       "4                                                0   \n",
       "\n",
       "  Employment Status_Unemployed Marital Status_Married Marital Status_Single  \\\n",
       "0                            0                      0                     1   \n",
       "1                            0                      1                     0   \n",
       "2                            0                      1                     0   \n",
       "3                            0                      1                     0   \n",
       "4                            0                      1                     0   \n",
       "\n",
       "  Education_Bachelors  Education_HND  Education_Masters Education_NCE  \\\n",
       "0                   1              0                  0             0   \n",
       "1                   0              0                  1             0   \n",
       "2                   1              0                  0             0   \n",
       "3                   0              1                  0             0   \n",
       "4                   1              0                  0             0   \n",
       "\n",
       "   Education_Ph.D  Education_SSCE  \n",
       "0               0               0  \n",
       "1               0               0  \n",
       "2               0               0  \n",
       "3               0               0  \n",
       "4               0               0  \n",
       "\n",
       "[5 rows x 30 columns]"
      ]
     },
     "execution_count": 50,
     "metadata": {},
     "output_type": "execute_result"
    }
   ],
   "source": [
    "df.head()"
   ]
  },
  {
   "cell_type": "code",
   "execution_count": 51,
   "id": "1f935b45-840e-4604-9004-853d50ca2261",
   "metadata": {},
   "outputs": [],
   "source": [
    "features = [\n",
    "    'Age',\n",
    "    'GenderFactorized',\n",
    "] + list(employment_encoded_df.columns) + list(marital_encoded_df.columns) + list(education_encoded_df.columns)\n",
    "\n",
    "response_var = 'Conversion'"
   ]
  },
  {
   "cell_type": "code",
   "execution_count": 52,
   "id": "2245c2c4-8a8d-4bb3-b296-ae179a4e485c",
   "metadata": {},
   "outputs": [
    {
     "data": {
      "text/plain": [
       "['Age',\n",
       " 'GenderFactorized',\n",
       " 'Employment Status_Employed',\n",
       " 'Employment Status_Self employed / Business Owner',\n",
       " 'Employment Status_Unemployed',\n",
       " 'Marital Status_Married',\n",
       " 'Marital Status_Single',\n",
       " 'Education_Bachelors',\n",
       " 'Education_HND',\n",
       " 'Education_Masters',\n",
       " 'Education_NCE',\n",
       " 'Education_Ph.D',\n",
       " 'Education_SSCE']"
      ]
     },
     "execution_count": 52,
     "metadata": {},
     "output_type": "execute_result"
    }
   ],
   "source": [
    "features"
   ]
  },
  {
   "cell_type": "code",
   "execution_count": 53,
   "id": "c1f51864-6912-4148-9078-d6819867ee3e",
   "metadata": {},
   "outputs": [],
   "source": [
    "# Import the tree module in the sklearn package\n",
    "from sklearn import tree"
   ]
  },
  {
   "cell_type": "code",
   "execution_count": 54,
   "id": "7a8d379c-d9ec-40d4-8a80-8be399e684bd",
   "metadata": {
    "tags": []
   },
   "outputs": [],
   "source": [
    "# initializing the decision tree classifier\n",
    "dt_model = tree.DecisionTreeClassifier(\n",
    "max_depth=4\n",
    ")"
   ]
  },
  {
   "cell_type": "code",
   "execution_count": 55,
   "id": "810c1c10-9256-4807-9f68-5fbe08936f2d",
   "metadata": {},
   "outputs": [
    {
     "data": {
      "text/plain": [
       "DecisionTreeClassifier(max_depth=4)"
      ]
     },
     "execution_count": 55,
     "metadata": {},
     "output_type": "execute_result"
    }
   ],
   "source": [
    "# To train this decision tree model\n",
    "dt_model.fit(df[features], df[response_var])"
   ]
  },
  {
   "cell_type": "code",
   "execution_count": 56,
   "id": "05b41642-fa80-4f8a-a04c-ed82ad54bbfa",
   "metadata": {},
   "outputs": [],
   "source": [
    "import graphviz"
   ]
  },
  {
   "cell_type": "code",
   "execution_count": 57,
   "id": "0e938bbb-5527-4f14-a909-79201508ea2a",
   "metadata": {},
   "outputs": [
    {
     "data": {
      "text/plain": [
       "array([0, 1], dtype=int64)"
      ]
     },
     "execution_count": 57,
     "metadata": {},
     "output_type": "execute_result"
    }
   ],
   "source": [
    "dt_model.classes_"
   ]
  },
  {
   "cell_type": "code",
   "execution_count": 58,
   "id": "10273651-dedf-4f0e-8f5d-854a11114a0b",
   "metadata": {},
   "outputs": [],
   "source": [
    "dot_data = tree.export_graphviz(\n",
    "    dt_model, \n",
    "    out_file=None, \n",
    "    feature_names=features,  \n",
    "    class_names=['0', '1'],  \n",
    "    filled=True, \n",
    "    rounded=True,  \n",
    "    special_characters=True\n",
    ") \n",
    "graph = graphviz.Source(dot_data)\n"
   ]
  },
  {
   "cell_type": "code",
   "execution_count": 59,
   "id": "bf581a22-6807-41bc-9cb0-f53a95d9374f",
   "metadata": {},
   "outputs": [
    {
     "data": {
      "image/svg+xml": [
       "<?xml version=\"1.0\" encoding=\"UTF-8\" standalone=\"no\"?>\r\n",
       "<!DOCTYPE svg PUBLIC \"-//W3C//DTD SVG 1.1//EN\"\r\n",
       " \"http://www.w3.org/Graphics/SVG/1.1/DTD/svg11.dtd\">\r\n",
       "<!-- Generated by graphviz version 2.38.0 (20140413.2041)\r\n",
       " -->\r\n",
       "<!-- Title: Tree Pages: 1 -->\r\n",
       "<svg width=\"664pt\" height=\"552pt\"\r\n",
       " viewBox=\"0.00 0.00 664.00 552.00\" xmlns=\"http://www.w3.org/2000/svg\" xmlns:xlink=\"http://www.w3.org/1999/xlink\">\r\n",
       "<g id=\"graph0\" class=\"graph\" transform=\"scale(1 1) rotate(0) translate(4 548)\">\r\n",
       "<title>Tree</title>\r\n",
       "<polygon fill=\"white\" stroke=\"none\" points=\"-4,4 -4,-548 660,-548 660,4 -4,4\"/>\r\n",
       "<!-- 0 -->\r\n",
       "<g id=\"node1\" class=\"node\"><title>0</title>\r\n",
       "<path fill=\"#91c9f1\" stroke=\"black\" d=\"M347.5,-544C347.5,-544 266.5,-544 266.5,-544 260.5,-544 254.5,-538 254.5,-532 254.5,-532 254.5,-473 254.5,-473 254.5,-467 260.5,-461 266.5,-461 266.5,-461 347.5,-461 347.5,-461 353.5,-461 359.5,-467 359.5,-473 359.5,-473 359.5,-532 359.5,-532 359.5,-538 353.5,-544 347.5,-544\"/>\r\n",
       "<text text-anchor=\"start\" x=\"272\" y=\"-528.8\" font-family=\"Helvetica,sans-Serif\" font-size=\"14.00\">Age ≤ 23.5</text>\r\n",
       "<text text-anchor=\"start\" x=\"269.5\" y=\"-513.8\" font-family=\"Helvetica,sans-Serif\" font-size=\"14.00\">gini = 0.426</text>\r\n",
       "<text text-anchor=\"start\" x=\"263.5\" y=\"-498.8\" font-family=\"Helvetica,sans-Serif\" font-size=\"14.00\">samples = 26</text>\r\n",
       "<text text-anchor=\"start\" x=\"262.5\" y=\"-483.8\" font-family=\"Helvetica,sans-Serif\" font-size=\"14.00\">value = [8, 18]</text>\r\n",
       "<text text-anchor=\"start\" x=\"278\" y=\"-468.8\" font-family=\"Helvetica,sans-Serif\" font-size=\"14.00\">class = 1</text>\r\n",
       "</g>\r\n",
       "<!-- 1 -->\r\n",
       "<g id=\"node2\" class=\"node\"><title>1</title>\r\n",
       "<path fill=\"#399de5\" stroke=\"black\" d=\"M284.5,-417.5C284.5,-417.5 211.5,-417.5 211.5,-417.5 205.5,-417.5 199.5,-411.5 199.5,-405.5 199.5,-405.5 199.5,-361.5 199.5,-361.5 199.5,-355.5 205.5,-349.5 211.5,-349.5 211.5,-349.5 284.5,-349.5 284.5,-349.5 290.5,-349.5 296.5,-355.5 296.5,-361.5 296.5,-361.5 296.5,-405.5 296.5,-405.5 296.5,-411.5 290.5,-417.5 284.5,-417.5\"/>\r\n",
       "<text text-anchor=\"start\" x=\"219\" y=\"-402.3\" font-family=\"Helvetica,sans-Serif\" font-size=\"14.00\">gini = 0.0</text>\r\n",
       "<text text-anchor=\"start\" x=\"208.5\" y=\"-387.3\" font-family=\"Helvetica,sans-Serif\" font-size=\"14.00\">samples = 6</text>\r\n",
       "<text text-anchor=\"start\" x=\"207.5\" y=\"-372.3\" font-family=\"Helvetica,sans-Serif\" font-size=\"14.00\">value = [0, 6]</text>\r\n",
       "<text text-anchor=\"start\" x=\"219\" y=\"-357.3\" font-family=\"Helvetica,sans-Serif\" font-size=\"14.00\">class = 1</text>\r\n",
       "</g>\r\n",
       "<!-- 0&#45;&gt;1 -->\r\n",
       "<g id=\"edge1\" class=\"edge\"><title>0&#45;&gt;1</title>\r\n",
       "<path fill=\"none\" stroke=\"black\" d=\"M286.53,-460.907C280.966,-449.873 274.927,-437.898 269.317,-426.773\"/>\r\n",
       "<polygon fill=\"black\" stroke=\"black\" points=\"272.353,-425.02 264.725,-417.667 266.103,-428.172 272.353,-425.02\"/>\r\n",
       "<text text-anchor=\"middle\" x=\"256.901\" y=\"-437.711\" font-family=\"Helvetica,sans-Serif\" font-size=\"14.00\">True</text>\r\n",
       "</g>\r\n",
       "<!-- 2 -->\r\n",
       "<g id=\"node3\" class=\"node\"><title>2</title>\r\n",
       "<path fill=\"#bddef6\" stroke=\"black\" d=\"M407.5,-425C407.5,-425 326.5,-425 326.5,-425 320.5,-425 314.5,-419 314.5,-413 314.5,-413 314.5,-354 314.5,-354 314.5,-348 320.5,-342 326.5,-342 326.5,-342 407.5,-342 407.5,-342 413.5,-342 419.5,-348 419.5,-354 419.5,-354 419.5,-413 419.5,-413 419.5,-419 413.5,-425 407.5,-425\"/>\r\n",
       "<text text-anchor=\"start\" x=\"332\" y=\"-409.8\" font-family=\"Helvetica,sans-Serif\" font-size=\"14.00\">Age ≤ 43.0</text>\r\n",
       "<text text-anchor=\"start\" x=\"333.5\" y=\"-394.8\" font-family=\"Helvetica,sans-Serif\" font-size=\"14.00\">gini = 0.48</text>\r\n",
       "<text text-anchor=\"start\" x=\"323.5\" y=\"-379.8\" font-family=\"Helvetica,sans-Serif\" font-size=\"14.00\">samples = 20</text>\r\n",
       "<text text-anchor=\"start\" x=\"322.5\" y=\"-364.8\" font-family=\"Helvetica,sans-Serif\" font-size=\"14.00\">value = [8, 12]</text>\r\n",
       "<text text-anchor=\"start\" x=\"338\" y=\"-349.8\" font-family=\"Helvetica,sans-Serif\" font-size=\"14.00\">class = 1</text>\r\n",
       "</g>\r\n",
       "<!-- 0&#45;&gt;2 -->\r\n",
       "<g id=\"edge2\" class=\"edge\"><title>0&#45;&gt;2</title>\r\n",
       "<path fill=\"none\" stroke=\"black\" d=\"M327.817,-460.907C332.238,-452.286 336.954,-443.09 341.526,-434.175\"/>\r\n",
       "<polygon fill=\"black\" stroke=\"black\" points=\"344.771,-435.516 346.22,-425.021 338.543,-432.322 344.771,-435.516\"/>\r\n",
       "<text text-anchor=\"middle\" x=\"353.883\" y=\"-445.117\" font-family=\"Helvetica,sans-Serif\" font-size=\"14.00\">False</text>\r\n",
       "</g>\r\n",
       "<!-- 3 -->\r\n",
       "<g id=\"node4\" class=\"node\"><title>3</title>\r\n",
       "<path fill=\"#f8e0ce\" stroke=\"black\" d=\"M363.5,-306C363.5,-306 220.5,-306 220.5,-306 214.5,-306 208.5,-300 208.5,-294 208.5,-294 208.5,-235 208.5,-235 208.5,-229 214.5,-223 220.5,-223 220.5,-223 363.5,-223 363.5,-223 369.5,-223 375.5,-229 375.5,-235 375.5,-235 375.5,-294 375.5,-294 375.5,-300 369.5,-306 363.5,-306\"/>\r\n",
       "<text text-anchor=\"start\" x=\"216.5\" y=\"-290.8\" font-family=\"Helvetica,sans-Serif\" font-size=\"14.00\">GenderFactorized ≤ 0.5</text>\r\n",
       "<text text-anchor=\"start\" x=\"258.5\" y=\"-275.8\" font-family=\"Helvetica,sans-Serif\" font-size=\"14.00\">gini = 0.49</text>\r\n",
       "<text text-anchor=\"start\" x=\"248.5\" y=\"-260.8\" font-family=\"Helvetica,sans-Serif\" font-size=\"14.00\">samples = 14</text>\r\n",
       "<text text-anchor=\"start\" x=\"251.5\" y=\"-245.8\" font-family=\"Helvetica,sans-Serif\" font-size=\"14.00\">value = [8, 6]</text>\r\n",
       "<text text-anchor=\"start\" x=\"263\" y=\"-230.8\" font-family=\"Helvetica,sans-Serif\" font-size=\"14.00\">class = 0</text>\r\n",
       "</g>\r\n",
       "<!-- 2&#45;&gt;3 -->\r\n",
       "<g id=\"edge3\" class=\"edge\"><title>2&#45;&gt;3</title>\r\n",
       "<path fill=\"none\" stroke=\"black\" d=\"M340.979,-341.907C335.336,-333.105 329.31,-323.703 323.482,-314.612\"/>\r\n",
       "<polygon fill=\"black\" stroke=\"black\" points=\"326.318,-312.551 317.975,-306.021 320.425,-316.328 326.318,-312.551\"/>\r\n",
       "</g>\r\n",
       "<!-- 10 -->\r\n",
       "<g id=\"node11\" class=\"node\"><title>10</title>\r\n",
       "<path fill=\"#399de5\" stroke=\"black\" d=\"M478.5,-298.5C478.5,-298.5 405.5,-298.5 405.5,-298.5 399.5,-298.5 393.5,-292.5 393.5,-286.5 393.5,-286.5 393.5,-242.5 393.5,-242.5 393.5,-236.5 399.5,-230.5 405.5,-230.5 405.5,-230.5 478.5,-230.5 478.5,-230.5 484.5,-230.5 490.5,-236.5 490.5,-242.5 490.5,-242.5 490.5,-286.5 490.5,-286.5 490.5,-292.5 484.5,-298.5 478.5,-298.5\"/>\r\n",
       "<text text-anchor=\"start\" x=\"413\" y=\"-283.3\" font-family=\"Helvetica,sans-Serif\" font-size=\"14.00\">gini = 0.0</text>\r\n",
       "<text text-anchor=\"start\" x=\"402.5\" y=\"-268.3\" font-family=\"Helvetica,sans-Serif\" font-size=\"14.00\">samples = 6</text>\r\n",
       "<text text-anchor=\"start\" x=\"401.5\" y=\"-253.3\" font-family=\"Helvetica,sans-Serif\" font-size=\"14.00\">value = [0, 6]</text>\r\n",
       "<text text-anchor=\"start\" x=\"413\" y=\"-238.3\" font-family=\"Helvetica,sans-Serif\" font-size=\"14.00\">class = 1</text>\r\n",
       "</g>\r\n",
       "<!-- 2&#45;&gt;10 -->\r\n",
       "<g id=\"edge10\" class=\"edge\"><title>2&#45;&gt;10</title>\r\n",
       "<path fill=\"none\" stroke=\"black\" d=\"M393.021,-341.907C400.236,-330.652 408.078,-318.418 415.329,-307.106\"/>\r\n",
       "<polygon fill=\"black\" stroke=\"black\" points=\"418.289,-308.975 420.739,-298.667 412.396,-305.197 418.289,-308.975\"/>\r\n",
       "</g>\r\n",
       "<!-- 4 -->\r\n",
       "<g id=\"node5\" class=\"node\"><title>4</title>\r\n",
       "<path fill=\"#efb388\" stroke=\"black\" d=\"M236,-187C236,-187 12,-187 12,-187 6,-187 0,-181 0,-175 0,-175 0,-116 0,-116 0,-110 6,-104 12,-104 12,-104 236,-104 236,-104 242,-104 248,-110 248,-116 248,-116 248,-175 248,-175 248,-181 242,-187 236,-187\"/>\r\n",
       "<text text-anchor=\"start\" x=\"8\" y=\"-171.8\" font-family=\"Helvetica,sans-Serif\" font-size=\"14.00\">Employment Status_Employed ≤ 0.5</text>\r\n",
       "<text text-anchor=\"start\" x=\"86.5\" y=\"-156.8\" font-family=\"Helvetica,sans-Serif\" font-size=\"14.00\">gini = 0.408</text>\r\n",
       "<text text-anchor=\"start\" x=\"84.5\" y=\"-141.8\" font-family=\"Helvetica,sans-Serif\" font-size=\"14.00\">samples = 7</text>\r\n",
       "<text text-anchor=\"start\" x=\"83.5\" y=\"-126.8\" font-family=\"Helvetica,sans-Serif\" font-size=\"14.00\">value = [5, 2]</text>\r\n",
       "<text text-anchor=\"start\" x=\"95\" y=\"-111.8\" font-family=\"Helvetica,sans-Serif\" font-size=\"14.00\">class = 0</text>\r\n",
       "</g>\r\n",
       "<!-- 3&#45;&gt;4 -->\r\n",
       "<g id=\"edge4\" class=\"edge\"><title>3&#45;&gt;4</title>\r\n",
       "<path fill=\"none\" stroke=\"black\" d=\"M233.713,-222.907C219.77,-213.197 204.781,-202.758 190.498,-192.811\"/>\r\n",
       "<polygon fill=\"black\" stroke=\"black\" points=\"192.39,-189.864 182.184,-187.021 188.39,-195.608 192.39,-189.864\"/>\r\n",
       "</g>\r\n",
       "<!-- 7 -->\r\n",
       "<g id=\"node8\" class=\"node\"><title>7</title>\r\n",
       "<path fill=\"#cee6f8\" stroke=\"black\" d=\"M644,-187C644,-187 278,-187 278,-187 272,-187 266,-181 266,-175 266,-175 266,-116 266,-116 266,-110 272,-104 278,-104 278,-104 644,-104 644,-104 650,-104 656,-110 656,-116 656,-116 656,-175 656,-175 656,-181 650,-187 644,-187\"/>\r\n",
       "<text text-anchor=\"start\" x=\"274\" y=\"-171.8\" font-family=\"Helvetica,sans-Serif\" font-size=\"14.00\">Employment Status_Self employed / Business Owner ≤ 0.5</text>\r\n",
       "<text text-anchor=\"start\" x=\"427.5\" y=\"-156.8\" font-family=\"Helvetica,sans-Serif\" font-size=\"14.00\">gini = 0.49</text>\r\n",
       "<text text-anchor=\"start\" x=\"421.5\" y=\"-141.8\" font-family=\"Helvetica,sans-Serif\" font-size=\"14.00\">samples = 7</text>\r\n",
       "<text text-anchor=\"start\" x=\"420.5\" y=\"-126.8\" font-family=\"Helvetica,sans-Serif\" font-size=\"14.00\">value = [3, 4]</text>\r\n",
       "<text text-anchor=\"start\" x=\"432\" y=\"-111.8\" font-family=\"Helvetica,sans-Serif\" font-size=\"14.00\">class = 1</text>\r\n",
       "</g>\r\n",
       "<!-- 3&#45;&gt;7 -->\r\n",
       "<g id=\"edge7\" class=\"edge\"><title>3&#45;&gt;7</title>\r\n",
       "<path fill=\"none\" stroke=\"black\" d=\"M350.634,-222.907C364.66,-213.197 379.738,-202.758 394.106,-192.811\"/>\r\n",
       "<polygon fill=\"black\" stroke=\"black\" points=\"396.24,-195.591 402.47,-187.021 392.256,-189.835 396.24,-195.591\"/>\r\n",
       "</g>\r\n",
       "<!-- 5 -->\r\n",
       "<g id=\"node6\" class=\"node\"><title>5</title>\r\n",
       "<path fill=\"#ffffff\" stroke=\"black\" d=\"M156.5,-68C156.5,-68 83.5,-68 83.5,-68 77.5,-68 71.5,-62 71.5,-56 71.5,-56 71.5,-12 71.5,-12 71.5,-6 77.5,-0 83.5,-0 83.5,-0 156.5,-0 156.5,-0 162.5,-0 168.5,-6 168.5,-12 168.5,-12 168.5,-56 168.5,-56 168.5,-62 162.5,-68 156.5,-68\"/>\r\n",
       "<text text-anchor=\"start\" x=\"91\" y=\"-52.8\" font-family=\"Helvetica,sans-Serif\" font-size=\"14.00\">gini = 0.5</text>\r\n",
       "<text text-anchor=\"start\" x=\"80.5\" y=\"-37.8\" font-family=\"Helvetica,sans-Serif\" font-size=\"14.00\">samples = 4</text>\r\n",
       "<text text-anchor=\"start\" x=\"79.5\" y=\"-22.8\" font-family=\"Helvetica,sans-Serif\" font-size=\"14.00\">value = [2, 2]</text>\r\n",
       "<text text-anchor=\"start\" x=\"91\" y=\"-7.8\" font-family=\"Helvetica,sans-Serif\" font-size=\"14.00\">class = 0</text>\r\n",
       "</g>\r\n",
       "<!-- 4&#45;&gt;5 -->\r\n",
       "<g id=\"edge5\" class=\"edge\"><title>4&#45;&gt;5</title>\r\n",
       "<path fill=\"none\" stroke=\"black\" d=\"M122.511,-103.726C122.211,-95.5175 121.894,-86.8595 121.591,-78.56\"/>\r\n",
       "<polygon fill=\"black\" stroke=\"black\" points=\"125.079,-78.1651 121.216,-68.2996 118.084,-78.4207 125.079,-78.1651\"/>\r\n",
       "</g>\r\n",
       "<!-- 6 -->\r\n",
       "<g id=\"node7\" class=\"node\"><title>6</title>\r\n",
       "<path fill=\"#e58139\" stroke=\"black\" d=\"M271.5,-68C271.5,-68 198.5,-68 198.5,-68 192.5,-68 186.5,-62 186.5,-56 186.5,-56 186.5,-12 186.5,-12 186.5,-6 192.5,-0 198.5,-0 198.5,-0 271.5,-0 271.5,-0 277.5,-0 283.5,-6 283.5,-12 283.5,-12 283.5,-56 283.5,-56 283.5,-62 277.5,-68 271.5,-68\"/>\r\n",
       "<text text-anchor=\"start\" x=\"206\" y=\"-52.8\" font-family=\"Helvetica,sans-Serif\" font-size=\"14.00\">gini = 0.0</text>\r\n",
       "<text text-anchor=\"start\" x=\"195.5\" y=\"-37.8\" font-family=\"Helvetica,sans-Serif\" font-size=\"14.00\">samples = 3</text>\r\n",
       "<text text-anchor=\"start\" x=\"194.5\" y=\"-22.8\" font-family=\"Helvetica,sans-Serif\" font-size=\"14.00\">value = [3, 0]</text>\r\n",
       "<text text-anchor=\"start\" x=\"206\" y=\"-7.8\" font-family=\"Helvetica,sans-Serif\" font-size=\"14.00\">class = 0</text>\r\n",
       "</g>\r\n",
       "<!-- 4&#45;&gt;6 -->\r\n",
       "<g id=\"edge6\" class=\"edge\"><title>4&#45;&gt;6</title>\r\n",
       "<path fill=\"none\" stroke=\"black\" d=\"M165.332,-103.726C174.671,-94.5142 184.582,-84.7364 193.91,-75.5343\"/>\r\n",
       "<polygon fill=\"black\" stroke=\"black\" points=\"196.583,-77.8141 201.244,-68.2996 191.667,-72.8308 196.583,-77.8141\"/>\r\n",
       "</g>\r\n",
       "<!-- 8 -->\r\n",
       "<g id=\"node9\" class=\"node\"><title>8</title>\r\n",
       "<path fill=\"#9ccef2\" stroke=\"black\" d=\"M441.5,-68C441.5,-68 368.5,-68 368.5,-68 362.5,-68 356.5,-62 356.5,-56 356.5,-56 356.5,-12 356.5,-12 356.5,-6 362.5,-0 368.5,-0 368.5,-0 441.5,-0 441.5,-0 447.5,-0 453.5,-6 453.5,-12 453.5,-12 453.5,-56 453.5,-56 453.5,-62 447.5,-68 441.5,-68\"/>\r\n",
       "<text text-anchor=\"start\" x=\"367.5\" y=\"-52.8\" font-family=\"Helvetica,sans-Serif\" font-size=\"14.00\">gini = 0.444</text>\r\n",
       "<text text-anchor=\"start\" x=\"365.5\" y=\"-37.8\" font-family=\"Helvetica,sans-Serif\" font-size=\"14.00\">samples = 6</text>\r\n",
       "<text text-anchor=\"start\" x=\"364.5\" y=\"-22.8\" font-family=\"Helvetica,sans-Serif\" font-size=\"14.00\">value = [2, 4]</text>\r\n",
       "<text text-anchor=\"start\" x=\"376\" y=\"-7.8\" font-family=\"Helvetica,sans-Serif\" font-size=\"14.00\">class = 1</text>\r\n",
       "</g>\r\n",
       "<!-- 7&#45;&gt;8 -->\r\n",
       "<g id=\"edge8\" class=\"edge\"><title>7&#45;&gt;8</title>\r\n",
       "<path fill=\"none\" stroke=\"black\" d=\"M440.148,-103.726C435.763,-95.1527 431.128,-86.0891 426.712,-77.4555\"/>\r\n",
       "<polygon fill=\"black\" stroke=\"black\" points=\"429.699,-75.6092 422.03,-68.2996 423.467,-78.7965 429.699,-75.6092\"/>\r\n",
       "</g>\r\n",
       "<!-- 9 -->\r\n",
       "<g id=\"node10\" class=\"node\"><title>9</title>\r\n",
       "<path fill=\"#e58139\" stroke=\"black\" d=\"M556.5,-68C556.5,-68 483.5,-68 483.5,-68 477.5,-68 471.5,-62 471.5,-56 471.5,-56 471.5,-12 471.5,-12 471.5,-6 477.5,-0 483.5,-0 483.5,-0 556.5,-0 556.5,-0 562.5,-0 568.5,-6 568.5,-12 568.5,-12 568.5,-56 568.5,-56 568.5,-62 562.5,-68 556.5,-68\"/>\r\n",
       "<text text-anchor=\"start\" x=\"491\" y=\"-52.8\" font-family=\"Helvetica,sans-Serif\" font-size=\"14.00\">gini = 0.0</text>\r\n",
       "<text text-anchor=\"start\" x=\"480.5\" y=\"-37.8\" font-family=\"Helvetica,sans-Serif\" font-size=\"14.00\">samples = 1</text>\r\n",
       "<text text-anchor=\"start\" x=\"479.5\" y=\"-22.8\" font-family=\"Helvetica,sans-Serif\" font-size=\"14.00\">value = [1, 0]</text>\r\n",
       "<text text-anchor=\"start\" x=\"491\" y=\"-7.8\" font-family=\"Helvetica,sans-Serif\" font-size=\"14.00\">class = 0</text>\r\n",
       "</g>\r\n",
       "<!-- 7&#45;&gt;9 -->\r\n",
       "<g id=\"edge9\" class=\"edge\"><title>7&#45;&gt;9</title>\r\n",
       "<path fill=\"none\" stroke=\"black\" d=\"M482.969,-103.726C487.638,-95.0615 492.576,-85.8962 497.273,-77.1802\"/>\r\n",
       "<polygon fill=\"black\" stroke=\"black\" points=\"500.396,-78.7632 502.058,-68.2996 494.233,-75.4428 500.396,-78.7632\"/>\r\n",
       "</g>\r\n",
       "</g>\r\n",
       "</svg>\r\n"
      ],
      "text/plain": [
       "<graphviz.files.Source at 0x27445a3e970>"
      ]
     },
     "execution_count": 59,
     "metadata": {},
     "output_type": "execute_result"
    }
   ],
   "source": [
    "graph"
   ]
  },
  {
   "cell_type": "markdown",
   "id": "b2862681-d666-43d4-ae9e-f626f0499379",
   "metadata": {
    "jupyter": {
     "source_hidden": true
    },
    "tags": []
   },
   "source": [
    "As we can see each node contains five lines that describes the information of the nodes. The first line tells us the critaria on which the node was splits. The root node, (Age) is split into its child nodes based on the value of the Age variable. If the value of this Age variable is less than or equal to 0.5, then it goes to the left child, And if the value grater than 0.5, then it goes to the right. \n",
    "\n",
    "The second line (which is the Gini impurity is an important measure that is use when building a decision trees. Gini impurity is a function that determines how well a decision tree was split). Gini impurity ranges values from 0 to 0.5. tells us the value of the quality measure for the split. Here,we selected the gini impurity measure for the criteria, so we can see the changes in the impurity measures in each node's second line. \n",
    "\n",
    "The third line (samples) tells us the total number of records that belong to a given node. in our case , there are 26 samples in the root node, and there are 20 samples in the right child of the root node.\n",
    "\n",
    "\n",
    "The fourth line(value) tells us the composition of the records in two different classes. The first element is for the number of records in the non-conversion group, and the second element is for the number of records in the conversion group. And in our root node, there are 8 in the non-conversion group and 18 in the conversion group. \n",
    "\n",
    "\n",
    "Lastly, we have class which is the fifth line in each node, this tells us what the prediction will be for the given node. in our tree if a sample belongs to the leftmost leaf, the prediction by this decision tree model will be 0, meaning non-conversion. On the other hand, if a sample belongs to the eighth leaf from the left, the classification by this decision tree model will be 1, meaning conversion.\n"
   ]
  },
  {
   "cell_type": "markdown",
   "id": "850f9c45-8984-4e87-9b31-6988337752f2",
   "metadata": {},
   "source": [
    "## Insight\n",
    "\n",
    "let's discuss how we can draw insights from this tree graph we need to understand the customers that belong to each leaf node, we need to follow through the tree. lets take a look at the fist node on the left with a value of 1 for the group. These are customers less than or equal age 23, and are unemployed and all the 6 of them converted. this means that customers less than age 23 weither male or female, unemployed are highly to convert. which means this group of people should be our main focus.\n",
    "\n",
    "\n",
    "another instance are those customers that belong to the four leaf node from the right are those with a 1 value for the age variable, age less than or equal to 43, a gender variable with a value of 0 , and a employment status_ self employed/ business owner variable with a value of 1. this means that those customers who are older 23 but less than 43 years old, female, and self-employed or business owner belong to  this node, and have a high chance of converting.\n"
   ]
  },
  {
   "cell_type": "code",
   "execution_count": null,
   "id": "3eef22a3-6f65-45e2-9671-a07116de041f",
   "metadata": {},
   "outputs": [],
   "source": []
  }
 ],
 "metadata": {
  "kernelspec": {
   "display_name": "Python 3",
   "language": "python",
   "name": "python3"
  },
  "language_info": {
   "codemirror_mode": {
    "name": "ipython",
    "version": 3
   },
   "file_extension": ".py",
   "mimetype": "text/x-python",
   "name": "python",
   "nbconvert_exporter": "python",
   "pygments_lexer": "ipython3",
   "version": "3.8.8"
  }
 },
 "nbformat": 4,
 "nbformat_minor": 5
}
