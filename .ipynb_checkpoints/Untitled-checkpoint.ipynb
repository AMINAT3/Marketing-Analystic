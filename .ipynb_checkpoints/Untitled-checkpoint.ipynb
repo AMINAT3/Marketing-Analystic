{
 "cells": [
  {
   "cell_type": "code",
   "execution_count": 1,
   "id": "f2a9b5a5-2ce8-43be-8c56-10c78c1d0e56",
   "metadata": {},
   "outputs": [],
   "source": [
    "# importing neccessary packages\n",
    "import pandas as pd\n",
    "import numpy as np\n",
    "from datetime import date,datetime\n",
    "import matplotlib.pyplot as plt"
   ]
  },
  {
   "cell_type": "code",
   "execution_count": 36,
   "id": "7dc17b8a-c94c-4194-b667-8d9fb45d0f99",
   "metadata": {},
   "outputs": [],
   "source": [
    "# importing dataset\n",
    "df=pd.read_csv(r\"C:\\Users\\Zachary_B\\Desktop\\Dataset\\Datasetnexustech Education_ Customer_Data_Details .csv\")"
   ]
  },
  {
   "cell_type": "code",
   "execution_count": 37,
   "id": "c6ca2184-e06d-457d-b5ae-71fee522df01",
   "metadata": {},
   "outputs": [
    {
     "data": {
      "text/html": [
       "<div>\n",
       "<style scoped>\n",
       "    .dataframe tbody tr th:only-of-type {\n",
       "        vertical-align: middle;\n",
       "    }\n",
       "\n",
       "    .dataframe tbody tr th {\n",
       "        vertical-align: top;\n",
       "    }\n",
       "\n",
       "    .dataframe thead th {\n",
       "        text-align: right;\n",
       "    }\n",
       "</style>\n",
       "<table border=\"1\" class=\"dataframe\">\n",
       "  <thead>\n",
       "    <tr style=\"text-align: right;\">\n",
       "      <th></th>\n",
       "      <th>Submitted</th>\n",
       "      <th>First Name</th>\n",
       "      <th>Last Name</th>\n",
       "      <th>Email Address</th>\n",
       "      <th>Gender</th>\n",
       "      <th>Marital Status</th>\n",
       "      <th>Converted</th>\n",
       "      <th>Location</th>\n",
       "      <th>Postal Address</th>\n",
       "      <th>Employment Status</th>\n",
       "      <th>...</th>\n",
       "      <th>Programme of Interest</th>\n",
       "      <th>Level of IT Experience</th>\n",
       "      <th>What is your main motivation for enrolling in the programme?</th>\n",
       "      <th>What are the challenges you've experienced while trying to meet the above stated goal(s)?</th>\n",
       "      <th>What can we do to help you overcome these challenges?</th>\n",
       "      <th>Employment Preferences</th>\n",
       "      <th>Monthly Salary Expectations (in Naira)</th>\n",
       "      <th>What is your short term (2 years) career goal?</th>\n",
       "      <th>What is your mid-term (2 - 5 years) career goal?</th>\n",
       "      <th>What is your long term (5+ years) career goal?</th>\n",
       "    </tr>\n",
       "  </thead>\n",
       "  <tbody>\n",
       "    <tr>\n",
       "      <th>0</th>\n",
       "      <td>12/05/2022 15:06</td>\n",
       "      <td>Miracle</td>\n",
       "      <td>Obiekwe</td>\n",
       "      <td>miracleobiekwe@yahoo.com</td>\n",
       "      <td>Male</td>\n",
       "      <td>Single</td>\n",
       "      <td>NO</td>\n",
       "      <td>Enugu State</td>\n",
       "      <td>&lt;p&gt;Nigeria prisons barracks enugu state comman...</td>\n",
       "      <td>Self employed / Business Owner</td>\n",
       "      <td>...</td>\n",
       "      <td>Data Science</td>\n",
       "      <td>Intermediate ( 2 - 5 years )</td>\n",
       "      <td>&lt;p&gt;That I can do all things through Christ tha...</td>\n",
       "      <td>&lt;p&gt;Coding is my challenge.. I have tried it be...</td>\n",
       "      <td>&lt;p&gt;I need maximum attention and guidance&lt;/p&gt;\\n</td>\n",
       "      <td>Foreign Employment</td>\n",
       "      <td>2.5million</td>\n",
       "      <td>&lt;p&gt;To be a consultant in the field of data sci...</td>\n",
       "      <td>&lt;p&gt;Empowering children from the street to stud...</td>\n",
       "      <td>&lt;p&gt;To be the best across the globe&lt;/p&gt;\\n</td>\n",
       "    </tr>\n",
       "    <tr>\n",
       "      <th>1</th>\n",
       "      <td>06/04/2022 20:41</td>\n",
       "      <td>Ibilola</td>\n",
       "      <td>Shobanke</td>\n",
       "      <td>lolashobanke@gmail.com</td>\n",
       "      <td>Female</td>\n",
       "      <td>Married</td>\n",
       "      <td>NO</td>\n",
       "      <td>Oyo State</td>\n",
       "      <td>&lt;p&gt;3 Fafunlayo Layout, Iwo Road, Ibadan &lt;/p&gt;\\n</td>\n",
       "      <td>Employed</td>\n",
       "      <td>...</td>\n",
       "      <td>Data Analytics</td>\n",
       "      <td>Beginner ( 0 - 2 years )</td>\n",
       "      <td>&lt;p&gt;For self development and to increase my cha...</td>\n",
       "      <td>&lt;p&gt;N/A&lt;/p&gt;\\n</td>\n",
       "      <td>&lt;p&gt;N/A&lt;/p&gt;\\n</td>\n",
       "      <td>Foreign Employment</td>\n",
       "      <td>N2,000,000</td>\n",
       "      <td>&lt;p&gt;Becoming a genius in data analytics and hav...</td>\n",
       "      <td>&lt;p&gt;To become diverse in the other aspects of t...</td>\n",
       "      <td>NaN</td>\n",
       "    </tr>\n",
       "    <tr>\n",
       "      <th>2</th>\n",
       "      <td>06/04/2022 12:22</td>\n",
       "      <td>Damilola</td>\n",
       "      <td>Oseni</td>\n",
       "      <td>dammygeorge5050@gmail.com</td>\n",
       "      <td>Female</td>\n",
       "      <td>Married</td>\n",
       "      <td>YES</td>\n",
       "      <td>FCT</td>\n",
       "      <td>&lt;p&gt;1 EMMANUEL NTUK, GOSHEN VILLA ESTATE, LUGBE...</td>\n",
       "      <td>Employed</td>\n",
       "      <td>...</td>\n",
       "      <td>Data Analytics</td>\n",
       "      <td>Beginner ( 0 - 2 years )</td>\n",
       "      <td>&lt;p&gt;Knowledge &lt;/p&gt;\\n</td>\n",
       "      <td>&lt;p&gt;Fear of failing&lt;br /&gt;\\nBudget&lt;br /&gt;\\nLack o...</td>\n",
       "      <td>&lt;p&gt;Give Feedbacks on how I can improve&lt;/p&gt;\\n</td>\n",
       "      <td>Local Employment</td>\n",
       "      <td>100,000</td>\n",
       "      <td>&lt;p&gt;Successful implementation of what I have le...</td>\n",
       "      <td>&lt;p&gt;To work in an organization&lt;/p&gt;\\n</td>\n",
       "      <td>NaN</td>\n",
       "    </tr>\n",
       "    <tr>\n",
       "      <th>3</th>\n",
       "      <td>06/04/2022 09:30</td>\n",
       "      <td>Kabir</td>\n",
       "      <td>Salawudeen</td>\n",
       "      <td>salawudeenkabeer@gmail.com</td>\n",
       "      <td>Male</td>\n",
       "      <td>Married</td>\n",
       "      <td>NO</td>\n",
       "      <td>FCT</td>\n",
       "      <td>&lt;p&gt;23, Angwar Siyawa Abuja Nigeria&lt;/p&gt;\\n</td>\n",
       "      <td>Employed</td>\n",
       "      <td>...</td>\n",
       "      <td>Full-Stack Software Development</td>\n",
       "      <td>Advanced ( 5 years and above )</td>\n",
       "      <td>&lt;p&gt;One of your student got a good and well pay...</td>\n",
       "      <td>&lt;p&gt;Network challenges and at times work relate...</td>\n",
       "      <td>&lt;p&gt;If I can have a full knowledge in becoming ...</td>\n",
       "      <td>Foreign Employment</td>\n",
       "      <td>300,000.00</td>\n",
       "      <td>&lt;p&gt;1.Earn a new certificate or degree.&lt;br /&gt;\\n...</td>\n",
       "      <td>&lt;p&gt;Start a personal project.&lt;/p&gt;\\n</td>\n",
       "      <td>&lt;p&gt;1. Get familiar with new technology.&lt;br /&gt;\\...</td>\n",
       "    </tr>\n",
       "    <tr>\n",
       "      <th>4</th>\n",
       "      <td>05/04/2022 14:40</td>\n",
       "      <td>Bashir</td>\n",
       "      <td>Hussain</td>\n",
       "      <td>uniquebash@gmail.com</td>\n",
       "      <td>Male</td>\n",
       "      <td>Married</td>\n",
       "      <td>NO</td>\n",
       "      <td>FCT</td>\n",
       "      <td>&lt;p&gt;Plot 785 Herbert Macaulay Way, CBD Abuja&lt;/p&gt;\\n</td>\n",
       "      <td>Employed</td>\n",
       "      <td>...</td>\n",
       "      <td>Data Analytics</td>\n",
       "      <td>Advanced ( 5 years and above )</td>\n",
       "      <td>&lt;p&gt;To start a career path on technology &lt;/p&gt;\\n</td>\n",
       "      <td>&lt;p&gt;Interest &lt;/p&gt;\\n</td>\n",
       "      <td>&lt;p&gt;Enrolment &lt;/p&gt;\\n</td>\n",
       "      <td>Foreign Employment</td>\n",
       "      <td>500,000.00</td>\n",
       "      <td>&lt;p&gt;To obtain basic certification on technology...</td>\n",
       "      <td>&lt;p&gt;To obtain multiple certifications on techno...</td>\n",
       "      <td>&lt;p&gt;To be a reference point in technology &lt;/p&gt;\\n</td>\n",
       "    </tr>\n",
       "  </tbody>\n",
       "</table>\n",
       "<p>5 rows × 30 columns</p>\n",
       "</div>"
      ],
      "text/plain": [
       "          Submitted First Name   Last Name               Email Address  \\\n",
       "0  12/05/2022 15:06    Miracle     Obiekwe    miracleobiekwe@yahoo.com   \n",
       "1  06/04/2022 20:41   Ibilola    Shobanke       lolashobanke@gmail.com   \n",
       "2  06/04/2022 12:22   Damilola       Oseni   dammygeorge5050@gmail.com   \n",
       "3  06/04/2022 09:30      Kabir  Salawudeen  salawudeenkabeer@gmail.com   \n",
       "4  05/04/2022 14:40    Bashir      Hussain        uniquebash@gmail.com   \n",
       "\n",
       "   Gender Marital Status Converted     Location  \\\n",
       "0    Male         Single        NO  Enugu State   \n",
       "1  Female        Married        NO    Oyo State   \n",
       "2  Female        Married       YES          FCT   \n",
       "3    Male        Married        NO          FCT   \n",
       "4    Male        Married        NO          FCT   \n",
       "\n",
       "                                      Postal Address  \\\n",
       "0  <p>Nigeria prisons barracks enugu state comman...   \n",
       "1     <p>3 Fafunlayo Layout, Iwo Road, Ibadan </p>\\n   \n",
       "2  <p>1 EMMANUEL NTUK, GOSHEN VILLA ESTATE, LUGBE...   \n",
       "3           <p>23, Angwar Siyawa Abuja Nigeria</p>\\n   \n",
       "4  <p>Plot 785 Herbert Macaulay Way, CBD Abuja</p>\\n   \n",
       "\n",
       "                Employment Status  ...            Programme of Interest  \\\n",
       "0  Self employed / Business Owner  ...                     Data Science   \n",
       "1                        Employed  ...                   Data Analytics   \n",
       "2                        Employed  ...                   Data Analytics   \n",
       "3                        Employed  ...  Full-Stack Software Development   \n",
       "4                        Employed  ...                   Data Analytics   \n",
       "\n",
       "           Level of IT Experience  \\\n",
       "0    Intermediate ( 2 - 5 years )   \n",
       "1        Beginner ( 0 - 2 years )   \n",
       "2        Beginner ( 0 - 2 years )   \n",
       "3  Advanced ( 5 years and above )   \n",
       "4  Advanced ( 5 years and above )   \n",
       "\n",
       "  What is your main motivation for enrolling in the programme?  \\\n",
       "0  <p>That I can do all things through Christ tha...             \n",
       "1  <p>For self development and to increase my cha...             \n",
       "2                                <p>Knowledge </p>\\n             \n",
       "3  <p>One of your student got a good and well pay...             \n",
       "4     <p>To start a career path on technology </p>\\n             \n",
       "\n",
       "  What are the challenges you've experienced while trying to meet the above stated goal(s)?  \\\n",
       "0  <p>Coding is my challenge.. I have tried it be...                                          \n",
       "1                                       <p>N/A</p>\\n                                          \n",
       "2  <p>Fear of failing<br />\\nBudget<br />\\nLack o...                                          \n",
       "3  <p>Network challenges and at times work relate...                                          \n",
       "4                                 <p>Interest </p>\\n                                          \n",
       "\n",
       "  What can we do to help you overcome these challenges?  \\\n",
       "0     <p>I need maximum attention and guidance</p>\\n      \n",
       "1                                       <p>N/A</p>\\n      \n",
       "2       <p>Give Feedbacks on how I can improve</p>\\n      \n",
       "3  <p>If I can have a full knowledge in becoming ...      \n",
       "4                                <p>Enrolment </p>\\n      \n",
       "\n",
       "  Employment Preferences  Monthly Salary Expectations (in Naira)  \\\n",
       "0     Foreign Employment                              2.5million   \n",
       "1     Foreign Employment                              N2,000,000   \n",
       "2       Local Employment                                 100,000   \n",
       "3     Foreign Employment                              300,000.00   \n",
       "4     Foreign Employment                              500,000.00   \n",
       "\n",
       "      What is your short term (2 years) career goal?  \\\n",
       "0  <p>To be a consultant in the field of data sci...   \n",
       "1  <p>Becoming a genius in data analytics and hav...   \n",
       "2  <p>Successful implementation of what I have le...   \n",
       "3  <p>1.Earn a new certificate or degree.<br />\\n...   \n",
       "4  <p>To obtain basic certification on technology...   \n",
       "\n",
       "    What is your mid-term (2 - 5 years) career goal?  \\\n",
       "0  <p>Empowering children from the street to stud...   \n",
       "1  <p>To become diverse in the other aspects of t...   \n",
       "2                <p>To work in an organization</p>\\n   \n",
       "3                 <p>Start a personal project.</p>\\n   \n",
       "4  <p>To obtain multiple certifications on techno...   \n",
       "\n",
       "      What is your long term (5+ years) career goal?  \n",
       "0           <p>To be the best across the globe</p>\\n  \n",
       "1                                                NaN  \n",
       "2                                                NaN  \n",
       "3  <p>1. Get familiar with new technology.<br />\\...  \n",
       "4    <p>To be a reference point in technology </p>\\n  \n",
       "\n",
       "[5 rows x 30 columns]"
      ]
     },
     "execution_count": 37,
     "metadata": {},
     "output_type": "execute_result"
    }
   ],
   "source": [
    "# Return the first five number of rows.\n",
    "df.head()"
   ]
  },
  {
   "cell_type": "code",
   "execution_count": 38,
   "id": "912e53bf-beda-478c-a516-21fd72553f50",
   "metadata": {},
   "outputs": [
    {
     "data": {
      "text/plain": [
       "(49, 30)"
      ]
     },
     "execution_count": 38,
     "metadata": {},
     "output_type": "execute_result"
    }
   ],
   "source": [
    "df.shape"
   ]
  },
  {
   "cell_type": "code",
   "execution_count": 39,
   "id": "3cc5e2ca-26d8-47b5-8f4d-4d88b78211d7",
   "metadata": {},
   "outputs": [
    {
     "data": {
      "text/plain": [
       "Submitted                                                                                     0\n",
       "First Name                                                                                    0\n",
       "Last Name                                                                                     0\n",
       "Email Address                                                                                 0\n",
       "Gender                                                                                        0\n",
       "Marital Status                                                                               11\n",
       "Converted                                                                                    15\n",
       "Location                                                                                      0\n",
       "Postal Address                                                                               10\n",
       "Employment Status                                                                             0\n",
       "Personal Interests                                                                            0\n",
       "What Social Media do you use?                                                                 0\n",
       "What is your primary objective/goal for enrolling in this programme?                          0\n",
       "What is your secondary objective/goal for enrolling in this programme?                        7\n",
       "What can we do to help you achieve the above stated goal(s)?                                  0\n",
       "How you determine the achievement of above stated goal(s)?                                    0\n",
       "Phone Number                                                                                  0\n",
       "Date of Birth                                                                                 0\n",
       "Education                                                                                     0\n",
       "Profession                                                                                   26\n",
       "Programme of Interest                                                                         0\n",
       "Level of IT Experience                                                                        2\n",
       "What is your main motivation for enrolling in the programme?                                  0\n",
       "What are the challenges you've experienced while trying to meet the above stated goal(s)?    25\n",
       "What can we do to help you overcome these challenges?                                        25\n",
       "Employment Preferences                                                                       27\n",
       "Monthly Salary Expectations (in Naira)                                                       16\n",
       "What is your short term (2 years) career goal?                                               27\n",
       "What is your mid-term (2 - 5 years) career goal?                                             27\n",
       "What is your long term (5+ years) career goal?                                               30\n",
       "dtype: int64"
      ]
     },
     "execution_count": 39,
     "metadata": {},
     "output_type": "execute_result"
    }
   ],
   "source": [
    "df.isnull().sum()"
   ]
  },
  {
   "cell_type": "code",
   "execution_count": 40,
   "id": "1a51bd58-1662-414e-9994-a251ae16f663",
   "metadata": {},
   "outputs": [],
   "source": [
    "# Use df.columns command to drop columns via indexing\n",
    "df = df.drop(df.columns[[0,3,8,11,12,13,14,15,16,22,23,24,26,27,28,29]], axis=1)"
   ]
  },
  {
   "cell_type": "code",
   "execution_count": 41,
   "id": "69eff9ea-a0ad-42fd-824d-e249a32b7d7d",
   "metadata": {},
   "outputs": [
    {
     "data": {
      "text/plain": [
       "First Name                 0\n",
       "Last Name                  0\n",
       "Gender                     0\n",
       "Marital Status            11\n",
       "Converted                 15\n",
       "Location                   0\n",
       "Employment Status          0\n",
       "Personal Interests         0\n",
       "Date of Birth              0\n",
       "Education                  0\n",
       "Profession                26\n",
       "Programme of Interest      0\n",
       "Level of IT Experience     2\n",
       "Employment Preferences    27\n",
       "dtype: int64"
      ]
     },
     "execution_count": 41,
     "metadata": {},
     "output_type": "execute_result"
    }
   ],
   "source": [
    "df.isnull().sum()"
   ]
  },
  {
   "cell_type": "code",
   "execution_count": 42,
   "id": "9e349033-6a84-4aae-9bbf-171a67cfdbc0",
   "metadata": {},
   "outputs": [
    {
     "data": {
      "text/plain": [
       "Index(['First Name', 'Last Name', 'Gender', 'Marital Status', 'Converted',\n",
       "       'Location', 'Employment Status', 'Personal Interests', 'Date of Birth',\n",
       "       'Education', 'Profession', 'Programme of Interest',\n",
       "       'Level of IT Experience', 'Employment Preferences'],\n",
       "      dtype='object')"
      ]
     },
     "execution_count": 42,
     "metadata": {},
     "output_type": "execute_result"
    }
   ],
   "source": [
    "df.columns"
   ]
  },
  {
   "cell_type": "code",
   "execution_count": 43,
   "id": "8d16077e-9b79-498f-bd91-dc615615bab1",
   "metadata": {},
   "outputs": [],
   "source": [
    "df['Personal Interests'] = df['Personal Interests'].str.replace(r'</p>|<p>|\\n', '',regex = True)"
   ]
  },
  {
   "cell_type": "code",
   "execution_count": 44,
   "id": "b8ac39dd-64d5-4fae-b581-409fc9ea5ee7",
   "metadata": {},
   "outputs": [],
   "source": [
    "df['Education'] = df['Education'].replace('Bachelor&#039;s Degree', 'Bachelors')"
   ]
  },
  {
   "cell_type": "code",
   "execution_count": 45,
   "id": "3e5ae461-ce8d-41ff-a4cb-17fe943291db",
   "metadata": {},
   "outputs": [],
   "source": [
    "df['Programme of Interest'] = df['Programme of Interest'].replace('Data Analytics', 'Data Science')"
   ]
  },
  {
   "cell_type": "code",
   "execution_count": 46,
   "id": "05f191c7-9669-4a17-8c36-6d1c40a44f50",
   "metadata": {},
   "outputs": [
    {
     "data": {
      "text/plain": [
       "0     22/06/1995\n",
       "1     09/07/1984\n",
       "2     21/08/1990\n",
       "3     01/01/1990\n",
       "4     14/05/1980\n",
       "5     01/05/1978\n",
       "6     07/07/1997\n",
       "7     21/10/1995\n",
       "8     02/02/1983\n",
       "9     01/02/1996\n",
       "10    17/11/1982\n",
       "11    18/06/1975\n",
       "12    26/08/1973\n",
       "13    28/11/1976\n",
       "14    18/09/1982\n",
       "15    24/09/1971\n",
       "16    20/03/2007\n",
       "17    12/12/1995\n",
       "18    11/11/2004\n",
       "19    15/07/2003\n",
       "20    19/02/2005\n",
       "21    13/12/1999\n",
       "22    23/10/1994\n",
       "23    03/03/2000\n",
       "24    29/09/2001\n",
       "25    17/01/2006\n",
       "26    04/03/2006\n",
       "27    08/06/2002\n",
       "28    11/06/2007\n",
       "29    23/09/2001\n",
       "30    05/06/1998\n",
       "31    09/07/1984\n",
       "32    12/04/2007\n",
       "33    02/08/2004\n",
       "34    09/11/1993\n",
       "35    22/02/1967\n",
       "36    22/06/1995\n",
       "37    01/01/1990\n",
       "38    14/05/1980\n",
       "39    01/05/1978\n",
       "40    07/07/1997\n",
       "41    21/10/1995\n",
       "42    02/02/1983\n",
       "43    01/02/1996\n",
       "44    17/11/1982\n",
       "45    18/06/1975\n",
       "46    26/08/1973\n",
       "47    18/09/1982\n",
       "48    24/09/1971\n",
       "Name: Date of Birth, dtype: object"
      ]
     },
     "execution_count": 46,
     "metadata": {},
     "output_type": "execute_result"
    }
   ],
   "source": [
    "df['Date of Birth']"
   ]
  },
  {
   "cell_type": "code",
   "execution_count": 47,
   "id": "6cf88905-b71d-438e-a516-567aee860f0c",
   "metadata": {},
   "outputs": [],
   "source": [
    "from datetime import date,datetime\n",
    "\n",
    "def age(born):\n",
    "    born = datetime.strptime(born, \"%d/%m/%Y\").date()\n",
    "    today = date.today()\n",
    "    return today.year - born.year - ((today.month, today.day) < (born.month, born.day))\n",
    "  \n",
    "df['Age'] = df['Date of Birth'].apply(age)"
   ]
  },
  {
   "cell_type": "code",
   "execution_count": 48,
   "id": "3903340d-184f-451b-a427-012aec377992",
   "metadata": {},
   "outputs": [
    {
     "ename": "ValueError",
     "evalue": "Length of values (26) does not match length of index (49)",
     "output_type": "error",
     "traceback": [
      "\u001b[1;31m---------------------------------------------------------------------------\u001b[0m",
      "\u001b[1;31mValueError\u001b[0m                                Traceback (most recent call last)",
      "\u001b[1;32m<ipython-input-48-3e6bf3bc98d7>\u001b[0m in \u001b[0;36m<module>\u001b[1;34m\u001b[0m\n\u001b[1;32m----> 1\u001b[1;33m df['Prospect_ID'] = [ 'DS1', 'DS2', 'DS3','DS4','DS5','DS6','DS7','DS8','DS9','DS10','DS11','DS12','DS13','DS14','DS15','DS16','DS17','DS18',\n\u001b[0m\u001b[0;32m      2\u001b[0m                      'DS19','DS20','DS21','DS22','DS23','DS24','DS25','DS26']\n",
      "\u001b[1;32m~\\anaconda3\\lib\\site-packages\\pandas\\core\\frame.py\u001b[0m in \u001b[0;36m__setitem__\u001b[1;34m(self, key, value)\u001b[0m\n\u001b[0;32m   3161\u001b[0m         \u001b[1;32melse\u001b[0m\u001b[1;33m:\u001b[0m\u001b[1;33m\u001b[0m\u001b[1;33m\u001b[0m\u001b[0m\n\u001b[0;32m   3162\u001b[0m             \u001b[1;31m# set column\u001b[0m\u001b[1;33m\u001b[0m\u001b[1;33m\u001b[0m\u001b[1;33m\u001b[0m\u001b[0m\n\u001b[1;32m-> 3163\u001b[1;33m             \u001b[0mself\u001b[0m\u001b[1;33m.\u001b[0m\u001b[0m_set_item\u001b[0m\u001b[1;33m(\u001b[0m\u001b[0mkey\u001b[0m\u001b[1;33m,\u001b[0m \u001b[0mvalue\u001b[0m\u001b[1;33m)\u001b[0m\u001b[1;33m\u001b[0m\u001b[1;33m\u001b[0m\u001b[0m\n\u001b[0m\u001b[0;32m   3164\u001b[0m \u001b[1;33m\u001b[0m\u001b[0m\n\u001b[0;32m   3165\u001b[0m     \u001b[1;32mdef\u001b[0m \u001b[0m_setitem_slice\u001b[0m\u001b[1;33m(\u001b[0m\u001b[0mself\u001b[0m\u001b[1;33m,\u001b[0m \u001b[0mkey\u001b[0m\u001b[1;33m:\u001b[0m \u001b[0mslice\u001b[0m\u001b[1;33m,\u001b[0m \u001b[0mvalue\u001b[0m\u001b[1;33m)\u001b[0m\u001b[1;33m:\u001b[0m\u001b[1;33m\u001b[0m\u001b[1;33m\u001b[0m\u001b[0m\n",
      "\u001b[1;32m~\\anaconda3\\lib\\site-packages\\pandas\\core\\frame.py\u001b[0m in \u001b[0;36m_set_item\u001b[1;34m(self, key, value)\u001b[0m\n\u001b[0;32m   3240\u001b[0m         \"\"\"\n\u001b[0;32m   3241\u001b[0m         \u001b[0mself\u001b[0m\u001b[1;33m.\u001b[0m\u001b[0m_ensure_valid_index\u001b[0m\u001b[1;33m(\u001b[0m\u001b[0mvalue\u001b[0m\u001b[1;33m)\u001b[0m\u001b[1;33m\u001b[0m\u001b[1;33m\u001b[0m\u001b[0m\n\u001b[1;32m-> 3242\u001b[1;33m         \u001b[0mvalue\u001b[0m \u001b[1;33m=\u001b[0m \u001b[0mself\u001b[0m\u001b[1;33m.\u001b[0m\u001b[0m_sanitize_column\u001b[0m\u001b[1;33m(\u001b[0m\u001b[0mkey\u001b[0m\u001b[1;33m,\u001b[0m \u001b[0mvalue\u001b[0m\u001b[1;33m)\u001b[0m\u001b[1;33m\u001b[0m\u001b[1;33m\u001b[0m\u001b[0m\n\u001b[0m\u001b[0;32m   3243\u001b[0m         \u001b[0mNDFrame\u001b[0m\u001b[1;33m.\u001b[0m\u001b[0m_set_item\u001b[0m\u001b[1;33m(\u001b[0m\u001b[0mself\u001b[0m\u001b[1;33m,\u001b[0m \u001b[0mkey\u001b[0m\u001b[1;33m,\u001b[0m \u001b[0mvalue\u001b[0m\u001b[1;33m)\u001b[0m\u001b[1;33m\u001b[0m\u001b[1;33m\u001b[0m\u001b[0m\n\u001b[0;32m   3244\u001b[0m \u001b[1;33m\u001b[0m\u001b[0m\n",
      "\u001b[1;32m~\\anaconda3\\lib\\site-packages\\pandas\\core\\frame.py\u001b[0m in \u001b[0;36m_sanitize_column\u001b[1;34m(self, key, value, broadcast)\u001b[0m\n\u001b[0;32m   3897\u001b[0m \u001b[1;33m\u001b[0m\u001b[0m\n\u001b[0;32m   3898\u001b[0m             \u001b[1;31m# turn me into an ndarray\u001b[0m\u001b[1;33m\u001b[0m\u001b[1;33m\u001b[0m\u001b[1;33m\u001b[0m\u001b[0m\n\u001b[1;32m-> 3899\u001b[1;33m             \u001b[0mvalue\u001b[0m \u001b[1;33m=\u001b[0m \u001b[0msanitize_index\u001b[0m\u001b[1;33m(\u001b[0m\u001b[0mvalue\u001b[0m\u001b[1;33m,\u001b[0m \u001b[0mself\u001b[0m\u001b[1;33m.\u001b[0m\u001b[0mindex\u001b[0m\u001b[1;33m)\u001b[0m\u001b[1;33m\u001b[0m\u001b[1;33m\u001b[0m\u001b[0m\n\u001b[0m\u001b[0;32m   3900\u001b[0m             \u001b[1;32mif\u001b[0m \u001b[1;32mnot\u001b[0m \u001b[0misinstance\u001b[0m\u001b[1;33m(\u001b[0m\u001b[0mvalue\u001b[0m\u001b[1;33m,\u001b[0m \u001b[1;33m(\u001b[0m\u001b[0mnp\u001b[0m\u001b[1;33m.\u001b[0m\u001b[0mndarray\u001b[0m\u001b[1;33m,\u001b[0m \u001b[0mIndex\u001b[0m\u001b[1;33m)\u001b[0m\u001b[1;33m)\u001b[0m\u001b[1;33m:\u001b[0m\u001b[1;33m\u001b[0m\u001b[1;33m\u001b[0m\u001b[0m\n\u001b[0;32m   3901\u001b[0m                 \u001b[1;32mif\u001b[0m \u001b[0misinstance\u001b[0m\u001b[1;33m(\u001b[0m\u001b[0mvalue\u001b[0m\u001b[1;33m,\u001b[0m \u001b[0mlist\u001b[0m\u001b[1;33m)\u001b[0m \u001b[1;32mand\u001b[0m \u001b[0mlen\u001b[0m\u001b[1;33m(\u001b[0m\u001b[0mvalue\u001b[0m\u001b[1;33m)\u001b[0m \u001b[1;33m>\u001b[0m \u001b[1;36m0\u001b[0m\u001b[1;33m:\u001b[0m\u001b[1;33m\u001b[0m\u001b[1;33m\u001b[0m\u001b[0m\n",
      "\u001b[1;32m~\\anaconda3\\lib\\site-packages\\pandas\\core\\internals\\construction.py\u001b[0m in \u001b[0;36msanitize_index\u001b[1;34m(data, index)\u001b[0m\n\u001b[0;32m    749\u001b[0m     \"\"\"\n\u001b[0;32m    750\u001b[0m     \u001b[1;32mif\u001b[0m \u001b[0mlen\u001b[0m\u001b[1;33m(\u001b[0m\u001b[0mdata\u001b[0m\u001b[1;33m)\u001b[0m \u001b[1;33m!=\u001b[0m \u001b[0mlen\u001b[0m\u001b[1;33m(\u001b[0m\u001b[0mindex\u001b[0m\u001b[1;33m)\u001b[0m\u001b[1;33m:\u001b[0m\u001b[1;33m\u001b[0m\u001b[1;33m\u001b[0m\u001b[0m\n\u001b[1;32m--> 751\u001b[1;33m         raise ValueError(\n\u001b[0m\u001b[0;32m    752\u001b[0m             \u001b[1;34m\"Length of values \"\u001b[0m\u001b[1;33m\u001b[0m\u001b[1;33m\u001b[0m\u001b[0m\n\u001b[0;32m    753\u001b[0m             \u001b[1;34mf\"({len(data)}) \"\u001b[0m\u001b[1;33m\u001b[0m\u001b[1;33m\u001b[0m\u001b[0m\n",
      "\u001b[1;31mValueError\u001b[0m: Length of values (26) does not match length of index (49)"
     ]
    }
   ],
   "source": [
    "df['Prospect_ID'] = [ 'DS1', 'DS2', 'DS3','DS4','DS5','DS6','DS7','DS8','DS9','DS10','DS11','DS12','DS13','DS14','DS15','DS16','DS17','DS18',\n"
   ]
  },
  {
   "cell_type": "code",
   "execution_count": null,
   "id": "08b731a8-f2c7-4d29-98ee-7e54e030503e",
   "metadata": {},
   "outputs": [],
   "source": []
  }
 ],
 "metadata": {
  "kernelspec": {
   "display_name": "Python 3",
   "language": "python",
   "name": "python3"
  },
  "language_info": {
   "codemirror_mode": {
    "name": "ipython",
    "version": 3
   },
   "file_extension": ".py",
   "mimetype": "text/x-python",
   "name": "python",
   "nbconvert_exporter": "python",
   "pygments_lexer": "ipython3",
   "version": "3.8.8"
  }
 },
 "nbformat": 4,
 "nbformat_minor": 5
}
