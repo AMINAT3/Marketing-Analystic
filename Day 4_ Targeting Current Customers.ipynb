{
 "cells": [
  {
   "cell_type": "code",
   "execution_count": 1,
   "id": "85ec6deb-9bd3-4f3e-acba-35616425f335",
   "metadata": {},
   "outputs": [],
   "source": [
    "# prepare for Python version 3x features and functions\n",
    "from __future__ import division, print_function\n",
    "\n",
    "# import packages for text processing and machine learning\n",
    "import pandas as pd  # DataFrame structure and operations\n",
    "import numpy as np  # arrays and numerical processing\n",
    "import matplotlib.pyplot as plt  # 2D plotting\n",
    "import statsmodels.api as sm  # logistic regression\n",
    "import statsmodels.formula.api as smf  # R-like model specification\n",
    "import patsy  # translate model specification into design matrices\n"
   ]
  },
  {
   "cell_type": "code",
   "execution_count": 2,
   "id": "3976bcb8-3c30-432d-b723-a33fadaced9f",
   "metadata": {},
   "outputs": [],
   "source": [
    "# import user-defined module\n",
    "import evaluate_classifier as eval"
   ]
  },
  {
   "cell_type": "code",
   "execution_count": 4,
   "id": "fb6665e3-244e-4080-8b08-6f0148e87fa0",
   "metadata": {},
   "outputs": [
    {
     "name": "stdout",
     "output_type": "stream",
     "text": [
      "          Submitted  First Name  Last Name              Email Address  \\\n",
      "0  19/10/2022 11:15   Ikeoluwa     Adesuyi  adepojuikeoluwa@gmail.com   \n",
      "1  13/10/2022 15:48  Oluwaseun    Onitiri     Coleonitiri67@gmail.com   \n",
      "2  06/10/2022 20:54    IREBAMI   OLASOGBA   irebamiolasogba@gmail.com   \n",
      "3  05/10/2022 21:38    Temilade  Olasogba       temilade775@gmail.com   \n",
      "4  02/10/2022 19:57     Isaiah   Chukunda   josephchukunda5@gmail.com   \n",
      "\n",
      "   Phone Number Date of Birth  Gender Marital Status  \\\n",
      "0  7.061368e+09    19/01/1993  Female        Married   \n",
      "1  8.189806e+09    26/07/2000    Male         Single   \n",
      "2  8.179189e+09    23/06/2002  Female         Single   \n",
      "3  9.163363e+09    17/09/1996  Female         Single   \n",
      "4  9.133480e+09    21/02/2007    Male         Single   \n",
      "\n",
      "                Employment Status Highest Educational Qualification  ...  \\\n",
      "0                        Employed            Bachelor&#039;s Degree  ...   \n",
      "1                      Unemployed            Bachelor&#039;s Degree  ...   \n",
      "2                        Employed            Bachelor&#039;s Degree  ...   \n",
      "3  Self employed / Business Owner                           Masters  ...   \n",
      "4                      Unemployed                              SSCE  ...   \n",
      "\n",
      "  What is your primary objective/goal for enrolling in this programme?  \\\n",
      "0  <p>Switching to Tech and to a good paying job ...                     \n",
      "1  <p>To be capable of developing front  end soft...                     \n",
      "2  <p>To gain absolute knowledge about Data scien...                     \n",
      "3  <p>New career path with the aim of getting a j...                     \n",
      "4               <p>To get the basic knowledge </p>\\n                     \n",
      "\n",
      "  What is your secondary objective/goal for enrolling in this programme?  \\\n",
      "0                                                NaN                       \n",
      "1         <p>To learn how to create a website </p>\\n                       \n",
      "2             <p>To successfully switch career</p>\\n                       \n",
      "3                                                NaN                       \n",
      "4                         <p>To earn a living </p>\\n                       \n",
      "\n",
      "  What can we do to help you achieve the above stated goal(s)?  \\\n",
      "0    <p>Teach and guide me to achieve my goal </p>\\n             \n",
      "1  <p>Provision of knowledge to help develop fron...             \n",
      "2             <p>Proper tutoring and guidance </p>\\n             \n",
      "3  <p>One on one learning method<br />\\nMentorshi...             \n",
      "4                             <p>Good tuition </p>\\n             \n",
      "\n",
      "  How you determine the achievement of above stated goal(s)?  \\\n",
      "0                    <p>When I get a good job </p>\\n           \n",
      "1  <p>Being capable of developing front end softw...           \n",
      "2  <p>1. Get a satisfactory role as a data scient...           \n",
      "3  <p>Being knowledgeable in the data science fie...           \n",
      "4                          <p>Proper learning </p>\\n           \n",
      "\n",
      "  What is your monthly salary expectations (in Naira)?  \\\n",
      "0                                          1000000.0     \n",
      "1                                           100000.0     \n",
      "2                                           700000.0     \n",
      "3                                          2000000.0     \n",
      "4                                          1000000.0     \n",
      "\n",
      "         Level of IT Experience  \\\n",
      "0      Beginner ( 0 - 2 years )   \n",
      "1      Beginner ( 0 - 2 years )   \n",
      "2      Beginner ( 0 - 2 years )   \n",
      "3      Beginner ( 0 - 2 years )   \n",
      "4  Intermediate ( 2 - 5 years )   \n",
      "\n",
      "                                      Postal Address      Location  \\\n",
      "0      <p>Road 6, House 2b Ikota Villa Estate </p>\\n   Lagos State   \n",
      "1  <p>No 5b Isaac Boro Street Old GRA PortHarcour...           FCT   \n",
      "2    <p>Lekky County homes estate, Ikota,Lekki</p>\\n   Lagos State   \n",
      "3                                    <p>100266</p>\\n   Lagos State   \n",
      "4  <p>No.7 Clinton avenue, rukpokwu port Harcourt...  Rivers State   \n",
      "\n",
      "            Personal Interests  \\\n",
      "0     <p>Sports, Travel </p>\\n   \n",
      "1  <p>Sports,Technology </p>\\n   \n",
      "2              <p>Travel</p>\\n   \n",
      "3            <p>Business</p>\\n   \n",
      "4              <p>Sports</p>\\n   \n",
      "\n",
      "                       What Social Media do you use?  \n",
      "0  WhatsApp (WhatsApp), Facebook (Facebook), Inst...  \n",
      "1  WhatsApp (WhatsApp), Facebook (Facebook), Inst...  \n",
      "2  WhatsApp (WhatsApp), Facebook (Facebook), Inst...  \n",
      "3         WhatsApp (WhatsApp), Instagram (Instagram)  \n",
      "4                                WhatsApp (WhatsApp)  \n",
      "\n",
      "[5 rows x 24 columns]\n"
     ]
    }
   ],
   "source": [
    "bank = pd.read_csv(r\"C:\\Users\\Zachary_B\\Desktop\\Dataset\\2Prospective-Student-Enrolment-Form.csv\")\n",
    "print(bank.head())"
   ]
  },
  {
   "cell_type": "code",
   "execution_count": 4,
   "id": "d5449611-f1d7-4807-907e-4ff27122fd89",
   "metadata": {},
   "outputs": [],
   "source": [
    "job_to_jobtype = {'admin.':'White Collar',\\\n",
    "    'entrepreneur':'White Collar',\\\n",
    "    'management':'White Collar',\\\n",
    "    'self-employed':'White Collar',\\\n",
    "    'blue-collar':'Blue Collar',\\\n",
    "    'services':'Blue Collar',\\\n",
    "    'technician':'Blue Collar'}\n",
    "bank['jobtype'] = bank['job'].map(job_to_jobtype)\n",
    "bank['jobtype'] = bank['jobtype'].fillna('Other/Unknown')"
   ]
  },
  {
   "cell_type": "code",
   "execution_count": 5,
   "id": "38c86e24-d561-4311-8f35-3a696469c9d2",
   "metadata": {},
   "outputs": [],
   "source": [
    "# set marital variable\n",
    "marital_to_label = {'divorced':'Divorced',\\\n",
    "    'married':'Married',\\\n",
    "    'single':'Single'}\n",
    "bank['marital'] = bank['marital'].map(marital_to_label)\n",
    "bank['marital'] = bank['marital'].fillna('Unknown')"
   ]
  },
  {
   "cell_type": "code",
   "execution_count": 6,
   "id": "1dbf0779-10e9-4ced-bebe-3d8f38023747",
   "metadata": {},
   "outputs": [],
   "source": [
    "# set education variable\n",
    "education_to_label = {'primary':'Primary',\\\n",
    "    'secondary':'Secondary',\\\n",
    "    'tertiary':'Tertiary'}\n",
    "bank['education'] = bank['education'].map(education_to_label)\n",
    "bank['education'] = bank['education'].fillna('Unknown')"
   ]
  },
  {
   "cell_type": "code",
   "execution_count": 7,
   "id": "d50b1ba8-056e-4260-8c15-3ac014935730",
   "metadata": {},
   "outputs": [],
   "source": [
    "# set no/yes variable labels\n",
    "noyes_to_label = {'no':'No', 'yes':'Yes'}\n",
    "bank['default'] = bank['default'].map(noyes_to_label)\n",
    "bank['default'] = bank['default'].fillna('No')"
   ]
  },
  {
   "cell_type": "code",
   "execution_count": 8,
   "id": "0e8d3f34-43d9-4665-af4a-16dba4aaac28",
   "metadata": {},
   "outputs": [],
   "source": [
    "bank['housing'] = bank['housing'].map(noyes_to_label)\n",
    "bank['housing'] = bank['housing'].fillna('No')"
   ]
  },
  {
   "cell_type": "code",
   "execution_count": 9,
   "id": "e0eb1aee-1118-4d01-806f-bb936c43a559",
   "metadata": {},
   "outputs": [],
   "source": [
    "bank['loan'] = bank['loan'].map(noyes_to_label)\n",
    "bank['loan'] = bank['loan'].fillna('No')"
   ]
  },
  {
   "cell_type": "code",
   "execution_count": 10,
   "id": "001c9ed7-78fb-4cf1-aa62-d4d7bc64e824",
   "metadata": {},
   "outputs": [],
   "source": [
    "# code response as binary variable\n",
    "noyes_to_binary = {'no':0, 'yes':1}\n",
    "bank['response'] = bank['response'].map(noyes_to_binary)\n",
    "bank['response'] = bank['response'].fillna('No')"
   ]
  },
  {
   "cell_type": "code",
   "execution_count": 11,
   "id": "a5cd36f2-4ff0-450f-acc3-6287ddadb49a",
   "metadata": {},
   "outputs": [],
   "source": [
    "# work only with bank clients who are being approached for the first time  \n",
    "filter = bank['pdays'].map(lambda d: d == -1)"
   ]
  },
  {
   "cell_type": "code",
   "execution_count": 12,
   "id": "7f3a63f5-302e-4eed-a287-cd5482e5e7ff",
   "metadata": {},
   "outputs": [
    {
     "name": "stdout",
     "output_type": "stream",
     "text": [
      "   response  age        jobtype  education  marital default  balance housing  \\\n",
      "0         0   30  Other/Unknown    Primary  Married      No     1787      No   \n",
      "3         0   30   White Collar   Tertiary  Married      No     1476     Yes   \n",
      "4         0   59    Blue Collar  Secondary  Married      No        0     Yes   \n",
      "7         0   39    Blue Collar  Secondary  Married      No      147     Yes   \n",
      "8         0   41   White Collar   Tertiary  Married      No      221     Yes   \n",
      "\n",
      "  loan  \n",
      "0   No  \n",
      "3  Yes  \n",
      "4   No  \n",
      "7   No  \n",
      "8   No  \n",
      "(3705, 9)\n"
     ]
    }
   ],
   "source": [
    "# apply the filter and select columns needed for targeting model\n",
    "bankwork = pd.DataFrame(bank[filter], columns = ['response','age','jobtype',\\\n",
    "    'education',  'marital', 'default', 'balance', 'housing', 'loan'])\n",
    "print(bankwork.head()) \n",
    "print(bankwork.shape) "
   ]
  },
  {
   "cell_type": "code",
   "execution_count": 13,
   "id": "235ebf3e-0dc6-488c-bb11-550d77d80b43",
   "metadata": {},
   "outputs": [
    {
     "name": "stdout",
     "output_type": "stream",
     "text": [
      "          response          age       balance\n",
      "count  3705.000000  3705.000000   3705.000000\n",
      "mean      0.090958    41.083671   1374.862078\n",
      "std       0.287588    10.373818   3008.524207\n",
      "min       0.000000    19.000000  -3313.000000\n",
      "25%       0.000000    33.000000     60.000000\n",
      "50%       0.000000    39.000000    415.000000\n",
      "75%       0.000000    49.000000   1412.000000\n",
      "max       1.000000    87.000000  71188.000000\n",
      "\n",
      "jobtype:\n",
      " Blue Collar      1776\n",
      "White Collar     1453\n",
      "Other/Unknown     476\n",
      "Name: jobtype, dtype: int64\n",
      "\n",
      "marital:\n",
      " Married     2305\n",
      "Single       957\n",
      "Divorced     443\n",
      "Name: marital, dtype: int64\n",
      "\n",
      "education:\n",
      " Secondary    1891\n",
      "Tertiary     1084\n",
      "Primary       580\n",
      "Unknown       150\n",
      "Name: education, dtype: int64\n",
      "\n",
      "default:\n",
      " No     3634\n",
      "Yes      71\n",
      "Name: default, dtype: int64\n",
      "\n",
      "housing:\n",
      " Yes    2043\n",
      "No     1662\n",
      "Name: housing, dtype: int64\n",
      "\n",
      "loan:\n",
      " No     3113\n",
      "Yes     592\n",
      "Name: loan, dtype: int64\n"
     ]
    }
   ],
   "source": [
    "# examine descriptive statistics and frequency tables for variables in model\n",
    "print(bankwork.describe())\n",
    "print('\\njobtype:\\n',bankwork['jobtype'].value_counts())\n",
    "print('\\nmarital:\\n',bankwork['marital'].value_counts())\n",
    "print('\\neducation:\\n',bankwork['education'].value_counts())\n",
    "print('\\ndefault:\\n',bankwork['default'].value_counts())\n",
    "print('\\nhousing:\\n',bankwork['housing'].value_counts())\n",
    "print('\\nloan:\\n',bankwork['loan'].value_counts())"
   ]
  },
  {
   "cell_type": "code",
   "execution_count": 14,
   "id": "c82d2de4-00f8-4c1b-95ad-5065ad91c73e",
   "metadata": {},
   "outputs": [
    {
     "name": "stdout",
     "output_type": "stream",
     "text": [
      "                age\n",
      "response           \n",
      "0         40.983076\n",
      "1         42.089021\n",
      "              balance\n",
      "response             \n",
      "0         1359.654097\n",
      "1         1526.851632\n"
     ]
    }
   ],
   "source": [
    "# examine means of continuous explanatory variables by response\n",
    "print(bankwork.pivot_table(['age'], index = ['response']))\n",
    "print(bankwork.pivot_table(['balance'], index = ['response']))"
   ]
  },
  {
   "cell_type": "code",
   "execution_count": 15,
   "id": "4943da05-d022-4a35-8466-da921316567f",
   "metadata": {},
   "outputs": [
    {
     "name": "stdout",
     "output_type": "stream",
     "text": [
      "\n",
      "Baseline proportion of clients responding to offer:  0.09096 \n",
      "\n"
     ]
    }
   ],
   "source": [
    "# baseline response rate computed (will be used later)\n",
    "filter_took_offer = bankwork['response'].map(lambda d: d == 1)\n",
    "baseline_response_rate = len(bankwork[filter_took_offer]) / len(bankwork)\n",
    "print('\\nBaseline proportion of clients responding to offer: ',\\\n",
    "    round(baseline_response_rate,5), '\\n')"
   ]
  },
  {
   "cell_type": "code",
   "execution_count": 16,
   "id": "966e4bea-6e9c-460b-b514-346d2aa52ce0",
   "metadata": {},
   "outputs": [
    {
     "name": "stdout",
     "output_type": "stream",
     "text": [
      "               response\n",
      "jobtype                \n",
      "Blue Collar    0.072072\n",
      "Other/Unknown  0.144958\n",
      "White Collar   0.096352\n",
      "           response\n",
      "education          \n",
      "Primary    0.082759\n",
      "Secondary  0.082496\n",
      "Tertiary   0.112546\n",
      "Unknown    0.073333\n",
      "          response\n",
      "marital           \n",
      "Divorced  0.126411\n",
      "Married   0.073753\n",
      "Single    0.115987\n",
      "         response\n",
      "default          \n",
      "No       0.090534\n",
      "Yes      0.112676\n",
      "         response\n",
      "housing          \n",
      "No       0.116727\n",
      "Yes      0.069995\n",
      "      response\n",
      "loan          \n",
      "No    0.098619\n",
      "Yes   0.050676\n"
     ]
    }
   ],
   "source": [
    "# examine proportion responding across levels \n",
    "# of categorical variables\n",
    "print(bankwork.pivot_table(['response'], index = ['jobtype']))\n",
    "print(bankwork.pivot_table(['response'], index = ['education']))\n",
    "print(bankwork.pivot_table(['response'], index = ['marital']))\n",
    "print(bankwork.pivot_table(['response'], index = ['default']))\n",
    "print(bankwork.pivot_table(['response'], index = ['housing']))\n",
    "print(bankwork.pivot_table(['response'], index = ['loan']))"
   ]
  },
  {
   "cell_type": "code",
   "execution_count": 17,
   "id": "2caabe98-39e4-46f7-bc56-563a28020b9d",
   "metadata": {},
   "outputs": [],
   "source": [
    "# specify model for logisitc regression\n",
    "bank_spec = 'response ~ age + jobtype + education + marital +\\\n",
    "    default + balance + housing + loan'"
   ]
  },
  {
   "cell_type": "code",
   "execution_count": 18,
   "id": "2e806395-4100-4c06-a7a4-e5c59d4107ec",
   "metadata": {},
   "outputs": [],
   "source": [
    "# ----------------------------------\n",
    "# fit logistic regression model \n",
    "# ----------------------------------\n",
    "# convert R-like formula into design matrix needed for statsmodels        \n",
    "y,x = patsy.dmatrices(bank_spec, bankwork, return_type = 'dataframe')  "
   ]
  },
  {
   "cell_type": "code",
   "execution_count": 19,
   "id": "a347ed13-a74c-4e58-9466-1da34c8ce02f",
   "metadata": {},
   "outputs": [
    {
     "name": "stdout",
     "output_type": "stream",
     "text": [
      "Optimization terminated successfully.\n",
      "         Current function value: 0.293877\n",
      "         Iterations 7\n",
      "                           Logit Regression Results                           \n",
      "==============================================================================\n",
      "Dep. Variable:               response   No. Observations:                 3705\n",
      "Model:                          Logit   Df Residuals:                     3692\n",
      "Method:                           MLE   Df Model:                           12\n",
      "Date:                Fri, 30 Sep 2022   Pseudo R-squ.:                 0.03568\n",
      "Time:                        19:17:46   Log-Likelihood:                -1088.8\n",
      "converged:                       True   LL-Null:                       -1129.1\n",
      "Covariance Type:            nonrobust   LLR p-value:                 3.223e-12\n",
      "============================================================================================\n",
      "                               coef    std err          z      P>|z|      [0.025      0.975]\n",
      "--------------------------------------------------------------------------------------------\n",
      "Intercept                   -2.3937      0.390     -6.132      0.000      -3.159      -1.629\n",
      "jobtype[T.Other/Unknown]     0.5574      0.173      3.223      0.001       0.218       0.896\n",
      "jobtype[T.White Collar]      0.1435      0.145      0.992      0.321      -0.140       0.427\n",
      "education[T.Secondary]       0.1036      0.182      0.569      0.569      -0.253       0.460\n",
      "education[T.Tertiary]        0.3025      0.204      1.481      0.139      -0.098       0.703\n",
      "education[T.Unknown]        -0.3338      0.353     -0.946      0.344      -1.025       0.358\n",
      "marital[T.Married]          -0.5717      0.167     -3.428      0.001      -0.899      -0.245\n",
      "marital[T.Single]           -0.0351      0.194     -0.181      0.856      -0.415       0.345\n",
      "default[T.Yes]               0.3461      0.388      0.893      0.372      -0.414       1.106\n",
      "housing[T.Yes]              -0.4058      0.122     -3.324      0.001      -0.645      -0.167\n",
      "loan[T.Yes]                 -0.6961      0.200     -3.485      0.000      -1.088      -0.305\n",
      "age                          0.0100      0.006      1.591      0.112      -0.002       0.022\n",
      "balance                   4.783e-06   1.74e-05      0.276      0.783   -2.92e-05    3.88e-05\n",
      "============================================================================================\n"
     ]
    }
   ],
   "source": [
    "my_logit_model = sm.Logit(y,x)\n",
    "# fit the model to the full data set\n",
    "my_logit_model_fit = my_logit_model.fit()\n",
    "print(my_logit_model_fit.summary())"
   ]
  },
  {
   "cell_type": "code",
   "execution_count": 20,
   "id": "8013099d-b3c8-4606-80d6-6fff04de0dfe",
   "metadata": {},
   "outputs": [],
   "source": [
    "# predicted probability of reponding to the offer\n",
    "bankwork['pred_logit_prob'] = my_logit_model_fit.predict(linear = False)"
   ]
  },
  {
   "cell_type": "code",
   "execution_count": 21,
   "id": "477d06f9-3cc4-45cf-8de4-28d603817e17",
   "metadata": {},
   "outputs": [],
   "source": [
    "# map target from probability cutoff specified\n",
    "def prob_to_pred(x, cutoff):\n",
    "    if(x > cutoff):\n",
    "        return(1)\n",
    "    else:\n",
    "        return(0)"
   ]
  },
  {
   "cell_type": "code",
   "execution_count": 22,
   "id": "07e0ee17-317e-4a39-a1ba-e8b5be3c8d9e",
   "metadata": {},
   "outputs": [
    {
     "name": "stdout",
     "output_type": "stream",
     "text": [
      "\n",
      "Confusion matrix for 0.50 cutoff\n",
      " response          0    1   All\n",
      "pred_logit_50                 \n",
      "0              3368  337  3705\n",
      "All            3368  337  3705\n"
     ]
    }
   ],
   "source": [
    "# try cutoff set at 0.50\n",
    "bankwork['pred_logit_50'] =\\\n",
    "    bankwork['pred_logit_prob'].\\\n",
    "    apply(lambda d: prob_to_pred(d, cutoff = 0.50))    \n",
    "print('\\nConfusion matrix for 0.50 cutoff\\n',\\\n",
    "    pd.crosstab(bankwork.pred_logit_50, bankwork.response, margins = True))    \n",
    "# cutoff 0.50 does not work for targeting... all predictions 0 or No"
   ]
  },
  {
   "cell_type": "code",
   "execution_count": 23,
   "id": "2e0a823f-83e3-4444-9514-28f46b0ef0b1",
   "metadata": {},
   "outputs": [
    {
     "name": "stdout",
     "output_type": "stream",
     "text": [
      "\n",
      "Confusion matrix for 0.10 cutoff\n",
      " response          0    1   All\n",
      "pred_logit_10                 \n",
      "0              2262  159  2421\n",
      "1              1106  178  1284\n",
      "All            3368  337  3705\n"
     ]
    }
   ],
   "source": [
    "# try cutoff set at 0.10\n",
    "bankwork['pred_logit_10'] =\\\n",
    "    bankwork['pred_logit_prob'].\\\n",
    "    apply(lambda d: prob_to_pred(d, cutoff = 0.10))    \n",
    "print('\\nConfusion matrix for 0.10 cutoff\\n',\\\n",
    "    pd.crosstab(bankwork.pred_logit_10, bankwork.response, margins = True)) "
   ]
  },
  {
   "cell_type": "code",
   "execution_count": 24,
   "id": "fd485dce-f257-4709-9cdf-af13e0c81e40",
   "metadata": {},
   "outputs": [
    {
     "name": "stdout",
     "output_type": "stream",
     "text": [
      "\n",
      " Logistic Regression Performance (0.10 cutoff)\n",
      " Percentage of Targets Correctly Classified: 65.9 \n",
      "\n"
     ]
    }
   ],
   "source": [
    "print('\\n Logistic Regression Performance (0.10 cutoff)\\n',\\\n",
    "    'Percentage of Targets Correctly Classified:',\\\n",
    "    100 * round(eval.evaluate_classifier(bankwork['pred_logit_10'],\\\n",
    "    bankwork['response'])[4], 3),'\\n')"
   ]
  },
  {
   "cell_type": "code",
   "execution_count": 27,
   "id": "87b3e3c2-74f5-4366-8d9b-fad5f917e575",
   "metadata": {},
   "outputs": [
    {
     "name": "stdout",
     "output_type": "stream",
     "text": [
      "pred_logit_prob\n",
      "Decile_10    0.043127\n",
      "Decile_9     0.048649\n",
      "Decile_8     0.053908\n",
      "Decile_7     0.072973\n",
      "Decile_6     0.078167\n",
      "Decile_5     0.078378\n",
      "Decile_4     0.110811\n",
      "Decile_3     0.118598\n",
      "Decile_2     0.102703\n",
      "Decile_1     0.202156\n",
      "Name: response, dtype: float64\n",
      "\n",
      "Lift Chart Values by Decile:\n",
      " pred_logit_prob\n",
      "Decile_10    0.474138\n",
      "Decile_9     0.534846\n",
      "Decile_8     0.592672\n",
      "Decile_7     0.802270\n",
      "Decile_6     0.859374\n",
      "Decile_5     0.861697\n",
      "Decile_4     1.218261\n",
      "Decile_3     1.303878\n",
      "Decile_2     1.129120\n",
      "Decile_1     2.222520\n",
      "Name: response, dtype: float64 \n",
      "\n"
     ]
    }
   ],
   "source": [
    "# direct calculation of lift \n",
    "# decile labels from highest to lowest \n",
    "decile_label = []\n",
    "for i in range(10):\n",
    "    decile_label.append('Decile_'+str(10 - i))\n",
    "# draws on baseline response rate computed earlier    \n",
    "def lift(x):\n",
    "    return(x / baseline_response_rate)\n",
    "prediction_deciles = pd.qcut(bankwork.pred_logit_prob, 10, labels = decile_label)\n",
    "decile_groups = bankwork.response.groupby(prediction_deciles)\n",
    "print(decile_groups.mean())\n",
    "lift_values = decile_groups.mean() / baseline_response_rate\n",
    "print('\\nLift Chart Values by Decile:\\n', lift_values, '\\n')"
   ]
  },
  {
   "cell_type": "code",
   "execution_count": null,
   "id": "009bfead-d925-4885-a776-5cfde7fa1bbf",
   "metadata": {},
   "outputs": [],
   "source": []
  }
 ],
 "metadata": {
  "kernelspec": {
   "display_name": "Python 3",
   "language": "python",
   "name": "python3"
  },
  "language_info": {
   "codemirror_mode": {
    "name": "ipython",
    "version": 3
   },
   "file_extension": ".py",
   "mimetype": "text/x-python",
   "name": "python",
   "nbconvert_exporter": "python",
   "pygments_lexer": "ipython3",
   "version": "3.8.8"
  }
 },
 "nbformat": 4,
 "nbformat_minor": 5
}
